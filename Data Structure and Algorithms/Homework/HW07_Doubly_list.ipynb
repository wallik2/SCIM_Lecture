{
  "nbformat": 4,
  "nbformat_minor": 0,
  "metadata": {
    "colab": {
      "name": "Assignment 7 : Doubly list",
      "provenance": [],
      "authorship_tag": "ABX9TyPjNcSmHI8Ol4IB3ciRwTRU",
      "include_colab_link": true
    },
    "kernelspec": {
      "name": "python3",
      "display_name": "Python 3"
    }
  },
  "cells": [
    {
      "cell_type": "markdown",
      "metadata": {
        "id": "view-in-github",
        "colab_type": "text"
      },
      "source": [
        "<a href=\"https://colab.research.google.com/github/wallik2/University-stuff/blob/main/Data%20Structure%20and%20Algorithms/Homework/HW07_Doubly_list.ipynb\" target=\"_parent\"><img src=\"https://colab.research.google.com/assets/colab-badge.svg\" alt=\"Open In Colab\"/></a>"
      ]
    },
    {
      "cell_type": "markdown",
      "metadata": {
        "id": "gKZNVYjFrsAD"
      },
      "source": [
        "### Doubly linked list"
      ]
    },
    {
      "cell_type": "code",
      "metadata": {
        "id": "FzEa3ZGCi8ri"
      },
      "source": [
        "class Node:\r\n",
        "   def __init__(self, element):\r\n",
        "      self.element = element\r\n",
        "      self.next = None\r\n",
        "      self.prev = None"
      ],
      "execution_count": 2,
      "outputs": []
    },
    {
      "cell_type": "code",
      "metadata": {
        "id": "6aQqXxNzi2C3"
      },
      "source": [
        "class doubly_linked_list:\r\n",
        "   def __init__(self):\r\n",
        "      self.head = None\r\n",
        "\r\n",
        "   # Adding element elements at the front of the list\r\n",
        "   def add_first(self, NewVal):\r\n",
        "      NewNode = Node(NewVal)\r\n",
        "      NewNode.next = self.head\r\n",
        "      if self.head is not None:\r\n",
        "         self.head.prev = NewNode\r\n",
        "      self.head = NewNode\r\n",
        "\r\n",
        "   # Define the insert method to insert the element\r\n",
        "   def insert(self, prev_node, NewVal):\r\n",
        "      if prev_node is None:\r\n",
        "         return\r\n",
        "      NewNode = Node(NewVal)\r\n",
        "      NewNode.next = prev_node.next\r\n",
        "      prev_node.next = NewNode\r\n",
        "      NewNode.prev = prev_node\r\n",
        "      if NewNode.next is not None:\r\n",
        "         NewNode.next.prev = NewNode\r\n",
        "\r\n",
        "   # Define the add_last method to add elements at the end\r\n",
        "   def add_last(self, NewVal):\r\n",
        "\r\n",
        "      NewNode = Node(NewVal)\r\n",
        "      NewNode.next = None\r\n",
        "      if self.head is None:\r\n",
        "         NewNode.prev = None\r\n",
        "         self.head = NewNode\r\n",
        "         return\r\n",
        "      last = self.head\r\n",
        "      while (last.next is not None):\r\n",
        "         last = last.next\r\n",
        "      last.next = NewNode\r\n",
        "      NewNode.prev = last\r\n",
        "      return\r\n",
        "\r\n",
        "   # Print the Doubly Linked list\r\n",
        "   def listprint(self):\r\n",
        "      current = self.head\r\n",
        "      if current is None:\r\n",
        "         print(\"List is empty.\")\r\n",
        "         return\r\n",
        "\r\n",
        "      while (current is not None):\r\n",
        "         print(current.element)\r\n",
        "         current = current.next"
      ],
      "execution_count": 3,
      "outputs": []
    },
    {
      "cell_type": "markdown",
      "metadata": {
        "id": "rO-QKwRIrmmK"
      },
      "source": [
        "#### handout"
      ]
    },
    {
      "cell_type": "code",
      "metadata": {
        "colab": {
          "base_uri": "https://localhost:8080/"
        },
        "id": "MlUTOi5_jjlg",
        "outputId": "f2dd2743-054d-41b0-8be8-a57f79ad8655"
      },
      "source": [
        "dllist = doubly_linked_list()\r\n",
        "dllist.listprint()\r\n",
        "print('===================')\r\n",
        "dllist.add_first(11)\r\n",
        "dllist.add_last(12)\r\n",
        "dllist.add_first(13)\r\n",
        "dllist.add_first(14)\r\n",
        "dllist.add_last(15)\r\n",
        "dllist.listprint()\r\n",
        "print('===================')\r\n",
        "dllist.insert(dllist.head.next, 99)\r\n",
        "dllist.listprint()\r\n",
        "print('===================')"
      ],
      "execution_count": 4,
      "outputs": [
        {
          "output_type": "stream",
          "text": [
            "List is empty.\n",
            "===================\n",
            "14\n",
            "13\n",
            "11\n",
            "12\n",
            "15\n",
            "===================\n",
            "14\n",
            "13\n",
            "99\n",
            "11\n",
            "12\n",
            "15\n",
            "===================\n"
          ],
          "name": "stdout"
        }
      ]
    },
    {
      "cell_type": "code",
      "metadata": {
        "colab": {
          "base_uri": "https://localhost:8080/"
        },
        "id": "RaQmsu3nstwb",
        "outputId": "aae4fc65-daae-414d-c352-347c3fea74ed"
      },
      "source": [
        "dllist.listprint()"
      ],
      "execution_count": 7,
      "outputs": [
        {
          "output_type": "stream",
          "text": [
            "14\n",
            "13\n",
            "99\n",
            "11\n",
            "12\n",
            "15\n"
          ],
          "name": "stdout"
        }
      ]
    },
    {
      "cell_type": "code",
      "metadata": {
        "colab": {
          "base_uri": "https://localhost:8080/"
        },
        "id": "bUh-WxLetAxa",
        "outputId": "4a299a9e-6e1a-478b-e7f5-f73d4318f774"
      },
      "source": [
        "dllist.head.element"
      ],
      "execution_count": 11,
      "outputs": [
        {
          "output_type": "execute_result",
          "data": {
            "text/plain": [
              "14"
            ]
          },
          "metadata": {
            "tags": []
          },
          "execution_count": 11
        }
      ]
    },
    {
      "cell_type": "markdown",
      "metadata": {
        "id": "ZT-gQD8hrlyB"
      },
      "source": [
        "\r\n",
        "\r\n",
        "---\r\n",
        "\r\n"
      ]
    },
    {
      "cell_type": "markdown",
      "metadata": {
        "id": "N83r37perbYa"
      },
      "source": [
        "### 1) create the sequence 11,12,...,19,20 using doubly_linked_list"
      ]
    },
    {
      "cell_type": "code",
      "metadata": {
        "id": "mfLiZ9D_lRli"
      },
      "source": [
        "doubly_list = doubly_linked_list()\r\n",
        "\r\n",
        "element = [i for i in range(11,21)]\r\n",
        "\r\n",
        "for e in element:\r\n",
        "  doubly_list.add_last(e)\r\n"
      ],
      "execution_count": 12,
      "outputs": []
    },
    {
      "cell_type": "code",
      "metadata": {
        "colab": {
          "base_uri": "https://localhost:8080/"
        },
        "id": "OXH7iW-BvCbL",
        "outputId": "a0706053-e331-42bf-f72d-866d88d1ce0f"
      },
      "source": [
        "doubly_list.listprint()"
      ],
      "execution_count": 13,
      "outputs": [
        {
          "output_type": "stream",
          "text": [
            "11\n",
            "12\n",
            "13\n",
            "14\n",
            "15\n",
            "16\n",
            "17\n",
            "18\n",
            "19\n",
            "20\n"
          ],
          "name": "stdout"
        }
      ]
    },
    {
      "cell_type": "markdown",
      "metadata": {
        "id": "zE8ADAXuvHLz"
      },
      "source": [
        "\r\n",
        "\r\n",
        "---\r\n",
        "\r\n"
      ]
    },
    {
      "cell_type": "markdown",
      "metadata": {
        "id": "O5kJGgEuveAi"
      },
      "source": [
        "### 2) Write a python function to delete\r\n",
        "\r\n",
        "- the element 19 & 20"
      ]
    },
    {
      "cell_type": "markdown",
      "metadata": {
        "id": "givr1Bz63pos"
      },
      "source": [
        "- We are going to modify the class doubly_linked_list by adding more method called 'delete'"
      ]
    },
    {
      "cell_type": "code",
      "metadata": {
        "id": "EwZFMk1-vaA6"
      },
      "source": [
        "class Node:\r\n",
        "   def __init__(self, element):\r\n",
        "      self.element = element\r\n",
        "      self.next = None\r\n",
        "      self.prev = None"
      ],
      "execution_count": 178,
      "outputs": []
    },
    {
      "cell_type": "code",
      "metadata": {
        "id": "QUw6iLS8vZMa"
      },
      "source": [
        "class doubly_linked_list:\r\n",
        "   def __init__(self):\r\n",
        "      self.head = None\r\n",
        "\r\n",
        "   # Adding element elements at the front of the list\r\n",
        "   def add_first(self, NewVal):\r\n",
        "      NewNode = Node(NewVal)\r\n",
        "      NewNode.next = self.head\r\n",
        "      if self.head is not None:\r\n",
        "         self.head.prev = NewNode\r\n",
        "      self.head = NewNode\r\n",
        "\r\n",
        "   # Define the insert method to insert the element\r\n",
        "   def insert(self, prev_node, NewVal):\r\n",
        "      if prev_node is None:\r\n",
        "         return\r\n",
        "      NewNode = Node(NewVal)\r\n",
        "      NewNode.next = prev_node.next\r\n",
        "      prev_node.next = NewNode\r\n",
        "      NewNode.prev = prev_node\r\n",
        "      if NewNode.next is not None:\r\n",
        "         NewNode.next.prev = NewNode\r\n",
        "\r\n",
        "   # Define the add_last method to add elements at the end\r\n",
        "   def add_last(self, NewVal):\r\n",
        "\r\n",
        "      NewNode = Node(NewVal)\r\n",
        "      NewNode.next = None\r\n",
        "      if self.head is None:\r\n",
        "         NewNode.prev = None\r\n",
        "         self.head = NewNode\r\n",
        "         return\r\n",
        "      last = self.head\r\n",
        "      while (last.next is not None):\r\n",
        "         last = last.next\r\n",
        "      last.next = NewNode\r\n",
        "      NewNode.prev = last\r\n",
        "      return\r\n",
        "\r\n",
        "   # Print the Doubly Linked list\r\n",
        "   def listprint(self):\r\n",
        "      current = self.head\r\n",
        "      if current is None:\r\n",
        "         print(\"List is empty.\")\r\n",
        "         return\r\n",
        "\r\n",
        "      while (current is not None):\r\n",
        "         print(current.element)\r\n",
        "         current = current.next\r\n",
        "   \r\n",
        "   \r\n",
        "   # Delete the element\r\n",
        "   def delete(self, DelVal):\r\n",
        "\r\n",
        "     current = self.head\r\n",
        "\r\n",
        "     if current is None:\r\n",
        "       print(\"List is empty.\")\r\n",
        "       return\r\n",
        "    \r\n",
        "     while (current.element != DelVal):       \r\n",
        "        current = current.next\r\n",
        "     \r\n",
        "    # Case1: remove the first element of the list\r\n",
        "     if current.next is None:\r\n",
        "       current = current.prev\r\n",
        "\r\n",
        "       current.next = None\r\n",
        "       \r\n",
        "     # Case2: remove the last element to the last\r\n",
        "     elif current.prev is None:\r\n",
        "       self.head = self.head.next\r\n",
        "\r\n",
        "       current = current.next\r\n",
        "       current.prev = None\r\n",
        "\r\n",
        "     # Case3: remove the mid of the list (not the first and last)\r\n",
        "     else:\r\n",
        "       current_next = current.next \r\n",
        "       current_prev = current.prev\r\n",
        "    \r\n",
        "       current_prev.next = current.next\r\n",
        "       current_next.prev = current.prev   \r\n",
        "\r\n"
      ],
      "execution_count": 179,
      "outputs": []
    },
    {
      "cell_type": "code",
      "metadata": {
        "id": "Fdeb5nsW2HbT"
      },
      "source": [
        "doubly_list = doubly_linked_list()\r\n",
        "\r\n",
        "element = [i for i in range(11,21)]\r\n",
        "\r\n",
        "for e in element:\r\n",
        "  doubly_list.add_last(e)"
      ],
      "execution_count": 180,
      "outputs": []
    },
    {
      "cell_type": "code",
      "metadata": {
        "colab": {
          "base_uri": "https://localhost:8080/"
        },
        "id": "7boXf-GX1-00",
        "outputId": "f9ad5005-99da-4412-f20e-df239b39388f"
      },
      "source": [
        "doubly_list.listprint()"
      ],
      "execution_count": 181,
      "outputs": [
        {
          "output_type": "stream",
          "text": [
            "11\n",
            "12\n",
            "13\n",
            "14\n",
            "15\n",
            "16\n",
            "17\n",
            "18\n",
            "19\n",
            "20\n"
          ],
          "name": "stdout"
        }
      ]
    },
    {
      "cell_type": "code",
      "metadata": {
        "id": "wrX-LqKA2Cob"
      },
      "source": [
        "doubly_list.delete(19)\r\n",
        "doubly_list.delete(20)"
      ],
      "execution_count": 182,
      "outputs": []
    },
    {
      "cell_type": "code",
      "metadata": {
        "colab": {
          "base_uri": "https://localhost:8080/"
        },
        "id": "MfGvo9QE3o28",
        "outputId": "41ea87d7-d7e3-45ff-fe02-9a6b102ca85a"
      },
      "source": [
        "doubly_list.listprint()"
      ],
      "execution_count": 183,
      "outputs": [
        {
          "output_type": "stream",
          "text": [
            "11\n",
            "12\n",
            "13\n",
            "14\n",
            "15\n",
            "16\n",
            "17\n",
            "18\n"
          ],
          "name": "stdout"
        }
      ]
    },
    {
      "cell_type": "markdown",
      "metadata": {
        "id": "8XHSS4UP-zYe"
      },
      "source": [
        "\r\n",
        "\r\n",
        "---\r\n",
        "\r\n"
      ]
    }
  ]
}