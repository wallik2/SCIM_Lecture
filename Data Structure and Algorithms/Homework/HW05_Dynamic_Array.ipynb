{
  "nbformat": 4,
  "nbformat_minor": 0,
  "metadata": {
    "kernelspec": {
      "display_name": "Python 3",
      "language": "python",
      "name": "python3"
    },
    "language_info": {
      "codemirror_mode": {
        "name": "ipython",
        "version": 3
      },
      "file_extension": ".py",
      "mimetype": "text/x-python",
      "name": "python",
      "nbconvert_exporter": "python",
      "pygments_lexer": "ipython3",
      "version": "3.7.6"
    },
    "colab": {
      "name": "HW05_Dynamic_Array.ipynb",
      "provenance": [],
      "include_colab_link": true
    }
  },
  "cells": [
    {
      "cell_type": "markdown",
      "metadata": {
        "id": "view-in-github",
        "colab_type": "text"
      },
      "source": [
        "<a href=\"https://colab.research.google.com/github/wallik2/University-stuff/blob/main/Data%20Structure%20and%20Algorithms/Homework/HW05_Dynamic_Array.ipynb\" target=\"_parent\"><img src=\"https://colab.research.google.com/assets/colab-badge.svg\" alt=\"Open In Colab\"/></a>"
      ]
    },
    {
      "cell_type": "markdown",
      "metadata": {
        "id": "h1FEfuOPy6WD"
      },
      "source": [
        "# 1) <u>Creating DynamicArray class</u>\r\n",
        "\r\n"
      ]
    },
    {
      "cell_type": "code",
      "metadata": {
        "id": "REj6pfIxyymy"
      },
      "source": [
        "import ctypes  \r\n",
        "\r\n",
        "# provides low-level arrays"
      ],
      "execution_count": null,
      "outputs": []
    },
    {
      "cell_type": "code",
      "metadata": {
        "id": "KKouWzEsrW-B"
      },
      "source": [
        "class DynamicArray_A:\n",
        "  \"\"\"A dynamic array class akin to a simplified Python list.\"\"\"\n",
        "\n",
        "  def __init__(self):\n",
        "    \"\"\"Create an empty array.\"\"\"\n",
        "    self._n = 0                                    # count actual elements\n",
        "    self._capacity = 8                     # default array capacity\n",
        "    self._A = self._make_array(self._capacity)     # low-level array\n",
        "    \n",
        "  def __len__(self):\n",
        "    \"\"\"Return number of elements stored in the array.\"\"\"\n",
        "    return self._n\n",
        "    \n",
        "  def __getitem__(self, k):\n",
        "    \"\"\"Return element at index k.\"\"\"\n",
        "    if not 0 <= k < self._n:\n",
        "      raise IndexError('invalid index')\n",
        "    return self._A[k]                              # retrieve from array\n",
        "  \n",
        "  def append(self, obj):\n",
        "    \"\"\"Add object to end of the array.\"\"\"\n",
        "    if self._n == self._capacity:                  # not enough room\n",
        "      self._resize(2 * self._capacity)             # so double capacity\n",
        "    self._A[self._n] = obj\n",
        "    self._n += 1\n",
        "\n",
        "  def _resize(self, c):                            # nonpublic utitity\n",
        "    \"\"\"Resize internal array to capacity c.\"\"\"\n",
        "    B = self._make_array(c)                        # new (bigger) array\n",
        "    for k in range(self._n):                       # for each existing value\n",
        "      B[k] = self._A[k]\n",
        "    self._A = B                                    # use the bigger array\n",
        "    self._capacity = c\n",
        "\n",
        "  def _make_array(self, c):                        # nonpublic utitity\n",
        "     \"\"\"Return new array with capacity c.\"\"\"   \n",
        "     return (c * ctypes.py_object)()               # see ctypes documentation\n",
        "\n",
        "  def insert(self, k, value):\n",
        "    \"\"\"Insert value at index k, shifting subsequent values rightward.\"\"\"\n",
        "    # (for simplicity, we assume 0 <= k <= n in this verion)\n",
        "    if self._n == self._capacity:                  # not enough room\n",
        "      self._resize(2 * self._capacity)             # so double capacity\n",
        "    for j in range(self._n, k, -1):                # shift rightmost first\n",
        "      self._A[j] = self._A[j-1]\n",
        "    self._A[k] = value                             # store newest element\n",
        "    self._n += 1\n",
        "\n",
        "  def remove(self, value):\n",
        "    \"\"\"Remove first occurrence of value (or raise ValueError).\"\"\"\n",
        "    # note: we do not consider shrinking the dynamic array in this version\n",
        "    for k in range(self._n):\n",
        "      if self._A[k] == value:              # found a match!\n",
        "        for j in range(k, self._n - 1):    # shift others to fill gap\n",
        "          self._A[j] = self._A[j+1]\n",
        "        self._A[self._n - 1] = None        # help garbage collection\n",
        "        self._n -= 1                       # we have one less item\n",
        "        return                             # exit immediately\n",
        "    raise ValueError('value not found')    # only reached if no match\n",
        "    \n",
        "  def member(self):\n",
        "    return [i for i in A]\n"
      ],
      "execution_count": null,
      "outputs": []
    },
    {
      "cell_type": "code",
      "metadata": {
        "id": "uN8Lq1ST3N5q"
      },
      "source": [
        "class DynamicArray_B:\r\n",
        "  \"\"\"A dynamic array class akin to a simplified Python list.\"\"\"\r\n",
        "\r\n",
        "  def __init__(self):\r\n",
        "    \"\"\"Create an empty array.\"\"\"\r\n",
        "    self._n = 0                                    # count actual elements\r\n",
        "    self._capacity = 6                     # default array capacity\r\n",
        "    self._B = self._make_array(self._capacity)     # low-level array\r\n",
        "    \r\n",
        "  def __len__(self):\r\n",
        "    \"\"\"Return number of elements stored in the array.\"\"\"\r\n",
        "    return self._n\r\n",
        "    \r\n",
        "  def __getitem__(self, k):\r\n",
        "    \"\"\"Return element at index k.\"\"\"\r\n",
        "    if not 0 <= k < self._n:\r\n",
        "      raise IndexError('invalid index')\r\n",
        "    return self._B[k]                              # retrieve from array\r\n",
        "  \r\n",
        "  def append(self, obj):\r\n",
        "    \"\"\"Add object to end of the array.\"\"\"\r\n",
        "    if self._n == self._capacity:                  # not enough room\r\n",
        "      self._resize(2 * self._capacity)             # so double capacity\r\n",
        "    self._B[self._n] = obj\r\n",
        "    self._n += 1\r\n",
        "\r\n",
        "  def _resize(self, c):                            # nonpublic utitity\r\n",
        "    \"\"\"Resize internal array to capacity c.\"\"\"\r\n",
        "    B = self._make_array(c)                        # new (bigger) array\r\n",
        "    for k in range(self._n):                       # for each existing value\r\n",
        "      B[k] = self._B[k]\r\n",
        "    self._B = B                                    # use the bigger array\r\n",
        "    self._capacity = c\r\n",
        "\r\n",
        "  def _make_array(self, c):                        # nonpublic utitity\r\n",
        "     \"\"\"Return new array with capacity c.\"\"\"   \r\n",
        "     return (c * ctypes.py_object)()               # see ctypes documentation\r\n",
        "\r\n",
        "  def insert(self, k, value):\r\n",
        "    \"\"\"Insert value at index k, shifting subsequent values rightward.\"\"\"\r\n",
        "    # (for simplicity, we assume 0 <= k <= n in this verion)\r\n",
        "    if self._n == self._capacity:                  # not enough room\r\n",
        "      self._resize(2 * self._capacity)             # so double capacity\r\n",
        "    for j in range(self._n, k, -1):                # shift rightmost first\r\n",
        "      self._B[j] = self._B[j-1]\r\n",
        "    self._B[k] = value                             # store newest element\r\n",
        "    self._n += 1\r\n",
        "\r\n",
        "  def remove(self, value):\r\n",
        "    \"\"\"Remove first occurrence of value (or raise ValueError).\"\"\"\r\n",
        "    # note: we do not consider shrinking the dynamic array in this version\r\n",
        "    for k in range(self._n):\r\n",
        "      if self._B[k] == value:              # found a match!\r\n",
        "        for j in range(k, self._n - 1):    # shift others to fill gap\r\n",
        "          self._B[j] = self._B[j+1]\r\n",
        "        self._B[self._n - 1] = None        # help garbage collection\r\n",
        "        self._n -= 1                       # we have one less item\r\n",
        "        return                             # exit immediately\r\n",
        "    raise ValueError('value not found')    # only reached if no match\r\n",
        "    \r\n",
        "  def member(self):\r\n",
        "    return [i for i in B]"
      ],
      "execution_count": null,
      "outputs": []
    },
    {
      "cell_type": "markdown",
      "metadata": {
        "id": "bahrRIQVyk-Z"
      },
      "source": [
        "\r\n",
        "\r\n",
        "---\r\n",
        "\r\n",
        "\r\n",
        "## 2 ) <u>Declare Array A and B</u>"
      ]
    },
    {
      "cell_type": "code",
      "metadata": {
        "id": "yQ1AFniqrW-G"
      },
      "source": [
        "A = DynamicArray_A()"
      ],
      "execution_count": null,
      "outputs": []
    },
    {
      "cell_type": "code",
      "metadata": {
        "id": "QfSbse6S3GPi"
      },
      "source": [
        "B = DynamicArray_B()"
      ],
      "execution_count": null,
      "outputs": []
    },
    {
      "cell_type": "code",
      "metadata": {
        "colab": {
          "base_uri": "https://localhost:8080/"
        },
        "id": "aepmLU_ErW-H",
        "outputId": "997b0dc5-ea9e-4892-afe4-9542c1894b13"
      },
      "source": [
        "A_element = [7,5,2,11,3]\n",
        "\n",
        "for _ in A_element:\n",
        "  A.append(_)\n",
        "\n",
        "len(A)\n",
        "\n",
        "A.member()"
      ],
      "execution_count": null,
      "outputs": [
        {
          "output_type": "execute_result",
          "data": {
            "text/plain": [
              "[7, 5, 2, 11, 3]"
            ]
          },
          "metadata": {
            "tags": []
          },
          "execution_count": 111
        }
      ]
    },
    {
      "cell_type": "code",
      "metadata": {
        "colab": {
          "base_uri": "https://localhost:8080/"
        },
        "id": "nHeFTn0D0GGh",
        "outputId": "ad85b85c-3df6-4467-a6df-5e26fe710488"
      },
      "source": [
        "B_element = [7,5,2,11,3]\r\n",
        "\r\n",
        "for _ in B_element:\r\n",
        "  B.append(_)\r\n",
        "\r\n",
        "len(B)\r\n",
        "\r\n",
        "B.member()"
      ],
      "execution_count": null,
      "outputs": [
        {
          "output_type": "execute_result",
          "data": {
            "text/plain": [
              "[7, 5, 2, 11, 3]"
            ]
          },
          "metadata": {
            "tags": []
          },
          "execution_count": 112
        }
      ]
    },
    {
      "cell_type": "code",
      "metadata": {
        "colab": {
          "base_uri": "https://localhost:8080/"
        },
        "id": "Vf6A49kkrW-I",
        "outputId": "ad8f69e6-4bf5-4c0e-ad8d-268ac6da3193"
      },
      "source": [
        "print('The Array of A : ',A.member() ,'\\nThe Array of B : ', B.member())"
      ],
      "execution_count": null,
      "outputs": [
        {
          "output_type": "stream",
          "text": [
            "The Array of A :  [7, 5, 2, 11, 3] \n",
            "The Array of B :  [7, 5, 2, 11, 3]\n"
          ],
          "name": "stdout"
        }
      ]
    },
    {
      "cell_type": "markdown",
      "metadata": {
        "id": "NREwzTPTvJBB"
      },
      "source": [
        "\r\n",
        "\r\n",
        "---\r\n",
        "\r\n",
        "\r\n",
        "## Find the array size of in bytes "
      ]
    },
    {
      "cell_type": "code",
      "metadata": {
        "id": "a88HStpNrW-K"
      },
      "source": [
        "import sys\r\n",
        "data = []\r\n",
        "n = len(A)+1"
      ],
      "execution_count": null,
      "outputs": []
    },
    {
      "cell_type": "code",
      "metadata": {
        "colab": {
          "base_uri": "https://localhost:8080/"
        },
        "id": "BRmrwIORw2wR",
        "outputId": "53c757cb-3914-4648-ff9a-a4387f896bc0"
      },
      "source": [
        "try:\r\n",
        "  for k in range(n):\r\n",
        "    a =  len(data)\r\n",
        "    b = sys.getsizeof(data)\r\n",
        "    print('data = {}'.format(data))\r\n",
        "    print('Length: {0:3d}; Size in bytes:{1:3d}\\n'.format(a, b)) \r\n",
        "    data.append(A.member()[k])\r\n",
        "\r\n",
        "except:\r\n",
        "      data.append(21)\r\n",
        "\r\n",
        "      a =  len(data)\r\n",
        "      b = sys.getsizeof(data)\r\n",
        "      print('data = {}'.format(data))\r\n",
        "      print('Length: {0:3d}; Size in bytes:{1:3d}\\n'.format(a, b))\r\n",
        "\r\n",
        "      data.append(22)\r\n",
        "      a =  len(data)\r\n",
        "      b = sys.getsizeof(data)\r\n",
        "      print('data = {}'.format(data))\r\n",
        "      print('Length: {0:3d}; Size in bytes:{1:3d}\\n'.format(a, b))\r\n",
        "\r\n",
        "      data.insert(1,21)\r\n",
        "      a =  len(data)\r\n",
        "      b = sys.getsizeof(data)\r\n",
        "      print('data = {}'.format(data))\r\n",
        "      print('Length: {0:3d}; Size in bytes:{1:3d}\\n'.format(a, b))\r\n",
        "\r\n",
        "      data.remove(7)\r\n",
        "      a =  len(data)\r\n",
        "      b = sys.getsizeof(data)\r\n",
        "      print('data = {}'.format(data))\r\n",
        "      print('Length: {0:3d}; Size in bytes:{1:3d}\\n'.format(a, b))"
      ],
      "execution_count": null,
      "outputs": [
        {
          "output_type": "stream",
          "text": [
            "data = []\n",
            "Length:   0; Size in bytes: 64\n",
            "\n",
            "data = [7]\n",
            "Length:   1; Size in bytes: 96\n",
            "\n",
            "data = [7, 5]\n",
            "Length:   2; Size in bytes: 96\n",
            "\n",
            "data = [7, 5, 2]\n",
            "Length:   3; Size in bytes: 96\n",
            "\n",
            "data = [7, 5, 2, 11]\n",
            "Length:   4; Size in bytes: 96\n",
            "\n",
            "data = [7, 5, 2, 11, 3]\n",
            "Length:   5; Size in bytes:128\n",
            "\n",
            "data = [7, 5, 2, 11, 3, 21]\n",
            "Length:   6; Size in bytes:128\n",
            "\n",
            "data = [7, 5, 2, 11, 3, 21, 22]\n",
            "Length:   7; Size in bytes:128\n",
            "\n",
            "data = [7, 21, 5, 2, 11, 3, 21, 22]\n",
            "Length:   8; Size in bytes:128\n",
            "\n",
            "data = [21, 5, 2, 11, 3, 21, 22]\n",
            "Length:   7; Size in bytes:128\n",
            "\n"
          ],
          "name": "stdout"
        }
      ]
    },
    {
      "cell_type": "code",
      "metadata": {
        "id": "LOIoPOD3BJ5c"
      },
      "source": [
        "data = []\r\n",
        "n = len(B)+1"
      ],
      "execution_count": null,
      "outputs": []
    },
    {
      "cell_type": "code",
      "metadata": {
        "colab": {
          "base_uri": "https://localhost:8080/"
        },
        "id": "k5ZqKSwG-vvb",
        "outputId": "2dd7838b-fa52-40c1-d27b-57ca517b9e94"
      },
      "source": [
        "try:\r\n",
        "  for k in range(n):\r\n",
        "    a =  len(data)\r\n",
        "    b = sys.getsizeof(data)\r\n",
        "    print('data = {}'.format(data))\r\n",
        "    print('Length: {0:3d}; Size in bytes:{1:3d}\\n'.format(a, b)) \r\n",
        "    data.append(B.member()[k])\r\n",
        "\r\n",
        "except:\r\n",
        "      data.append(21)\r\n",
        "\r\n",
        "      a =  len(data)\r\n",
        "      b = sys.getsizeof(data)\r\n",
        "      print('data = {}'.format(data))\r\n",
        "      print('Length: {0:3d}; Size in bytes:{1:3d}\\n'.format(a, b))\r\n",
        "\r\n",
        "      data.append(22)\r\n",
        "      a =  len(data)\r\n",
        "      b = sys.getsizeof(data)\r\n",
        "      print('data = {}'.format(data))\r\n",
        "      print('Length: {0:3d}; Size in bytes:{1:3d}\\n'.format(a, b))\r\n",
        "\r\n",
        "      data.insert(3,21)\r\n",
        "      a =  len(data)\r\n",
        "      b = sys.getsizeof(data)\r\n",
        "      print('data = {}'.format(data))\r\n",
        "      print('Length: {0:3d}; Size in bytes:{1:3d}\\n'.format(a, b))\r\n",
        "\r\n",
        "      data.remove(11)\r\n",
        "      a =  len(data)\r\n",
        "      b = sys.getsizeof(data)\r\n",
        "      print('data = {}'.format(data))\r\n",
        "      print('Length: {0:3d}; Size in bytes:{1:3d}\\n'.format(a, b))"
      ],
      "execution_count": null,
      "outputs": [
        {
          "output_type": "stream",
          "text": [
            "data = []\n",
            "Length:   0; Size in bytes: 64\n",
            "\n",
            "data = [7]\n",
            "Length:   1; Size in bytes: 96\n",
            "\n",
            "data = [7, 5]\n",
            "Length:   2; Size in bytes: 96\n",
            "\n",
            "data = [7, 5, 2]\n",
            "Length:   3; Size in bytes: 96\n",
            "\n",
            "data = [7, 5, 2, 11]\n",
            "Length:   4; Size in bytes: 96\n",
            "\n",
            "data = [7, 5, 2, 11, 3]\n",
            "Length:   5; Size in bytes:128\n",
            "\n",
            "data = [7, 5, 2, 11, 3, 21]\n",
            "Length:   6; Size in bytes:128\n",
            "\n",
            "data = [7, 5, 2, 11, 3, 21, 22]\n",
            "Length:   7; Size in bytes:128\n",
            "\n",
            "data = [7, 5, 2, 21, 11, 3, 21, 22]\n",
            "Length:   8; Size in bytes:128\n",
            "\n",
            "data = [7, 5, 2, 21, 3, 21, 22]\n",
            "Length:   7; Size in bytes:128\n",
            "\n"
          ],
          "name": "stdout"
        }
      ]
    }
  ]
}