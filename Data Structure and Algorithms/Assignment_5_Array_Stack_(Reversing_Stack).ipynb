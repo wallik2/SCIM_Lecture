{
  "nbformat": 4,
  "nbformat_minor": 0,
  "metadata": {
    "colab": {
      "name": "Assignment 5: Array Stack (Reversing Stack)",
      "provenance": [],
      "authorship_tag": "ABX9TyOnOPVMXpP8vjDDd/amJjvU",
      "include_colab_link": true
    },
    "kernelspec": {
      "name": "python3",
      "display_name": "Python 3"
    }
  },
  "cells": [
    {
      "cell_type": "markdown",
      "metadata": {
        "id": "view-in-github",
        "colab_type": "text"
      },
      "source": [
        "<a href=\"https://colab.research.google.com/github/wallik2/University-stuff/blob/main/Data%20Structure%20and%20Algorithms/Assignment_5_Array_Stack_(Reversing_Stack).ipynb\" target=\"_parent\"><img src=\"https://colab.research.google.com/assets/colab-badge.svg\" alt=\"Open In Colab\"/></a>"
      ]
    },
    {
      "cell_type": "markdown",
      "metadata": {
        "id": "YvNcgjByP6Kp"
      },
      "source": [
        "# Problem 1\r\n",
        "\r\n",
        "<fieldset>\r\n",
        "<font size=\"3\">Implement a function that reverse a list of elements by pushing them onto a stack in one order, and writing them back to the list in reversed order!</font>"
      ]
    },
    {
      "cell_type": "markdown",
      "metadata": {
        "id": "6AyCXztIQOQf"
      },
      "source": [
        "\r\n",
        "\r\n",
        "---\r\n",
        "\r\n"
      ]
    },
    {
      "cell_type": "markdown",
      "metadata": {
        "id": "uz3SAUreQo8w"
      },
      "source": [
        "## Solution"
      ]
    },
    {
      "cell_type": "markdown",
      "metadata": {
        "id": "llHD4JuwQeq4"
      },
      "source": [
        "Step 1 : Making the ArrayStack class"
      ]
    },
    {
      "cell_type": "code",
      "metadata": {
        "id": "t-GEkTtCDiJe"
      },
      "source": [
        "class Empty(Exception) :\r\n",
        "  pass"
      ],
      "execution_count": 68,
      "outputs": []
    },
    {
      "cell_type": "code",
      "metadata": {
        "id": "vIa-XJokEilP"
      },
      "source": [
        "class ArrayStack :\r\n",
        "  def __init__(self):\r\n",
        "    self._data = []\r\n",
        "\r\n",
        "  def __len__(self):\r\n",
        "    return len(self._data)\r\n",
        "\r\n",
        "  def is_empty(self):\r\n",
        "    return len(self._data) == 0\r\n",
        "\r\n",
        "  def push(self,e):\r\n",
        "    self._data.append(e)\r\n",
        "\r\n",
        "  def pop(self):\r\n",
        "    if self.is_empty() :\r\n",
        "      raise Empty('Stack is empty!')  \r\n",
        "    return self._data.pop()\r\n",
        "\r\n",
        "  def get_reversed_list(self):                # Extra added method to reverse the list\r\n",
        "\r\n",
        "    len_of_array = len(self._data)\r\n",
        "\r\n",
        "    list_c = []\r\n",
        "     \r\n",
        "    i = 0\r\n",
        "\r\n",
        "    while i < len_of_array:\r\n",
        "      list_c.append(self._data[i])\r\n",
        "      i += 1\r\n",
        "    \r\n",
        "    return list_c\r\n",
        "\r\n",
        "  def top(self):\r\n",
        "    if self.is_empty():\r\n",
        "      raise Empty('Stack is empty')\r\n",
        "    return self._data[-1]\r\n"
      ],
      "execution_count": 69,
      "outputs": []
    },
    {
      "cell_type": "markdown",
      "metadata": {
        "id": "TQi1PA4SQviI"
      },
      "source": [
        "Step 2 : Making the function that reverse a stack "
      ]
    },
    {
      "cell_type": "code",
      "metadata": {
        "id": "OPx5eeHLGrLg"
      },
      "source": [
        "def reverse_file(list_a):\r\n",
        "\r\n",
        "  S = ArrayStack()\r\n",
        "  original = list_a\r\n",
        "\r\n",
        "  for line in original:\r\n",
        "    S.push(line)\r\n",
        "  \r\n",
        "  list_b = ArrayStack()\r\n",
        "  while not S.is_empty() :\r\n",
        "    list_b.push(S.pop())\r\n",
        "  return list_b\r\n",
        "  print(list_b)  \r\n"
      ],
      "execution_count": 70,
      "outputs": []
    },
    {
      "cell_type": "markdown",
      "metadata": {
        "id": "x0cHUeaLRbFh"
      },
      "source": [
        "\r\n",
        "\r\n",
        "---\r\n",
        "\r\n"
      ]
    },
    {
      "cell_type": "markdown",
      "metadata": {
        "id": "ux5fgh_iP28R"
      },
      "source": [
        "## End-User Zone\r\n",
        "\r\n",
        "Just assign the list that you want to reverse to *list_1*"
      ]
    },
    {
      "cell_type": "code",
      "metadata": {
        "id": "aanXgKs7Hnl3"
      },
      "source": [
        "list_1 = ['1','4','7','5','-6','a']      #Assign the list_1 in this line!"
      ],
      "execution_count": 71,
      "outputs": []
    },
    {
      "cell_type": "markdown",
      "metadata": {
        "id": "X_JfeDC2RVT4"
      },
      "source": [
        "Now, run this to get the reversed list of list_1"
      ]
    },
    {
      "cell_type": "code",
      "metadata": {
        "colab": {
          "base_uri": "https://localhost:8080/"
        },
        "id": "XR2yswGURSjZ",
        "outputId": "6ab0cbe1-b308-4b0f-dd7c-fada75d295e3"
      },
      "source": [
        "Array_1 = reverse_file(list_1)\r\n",
        "Array_1.get_reversed_list()"
      ],
      "execution_count": 72,
      "outputs": [
        {
          "output_type": "execute_result",
          "data": {
            "text/plain": [
              "['a', '-6', '5', '7', '4', '1']"
            ]
          },
          "metadata": {
            "tags": []
          },
          "execution_count": 72
        }
      ]
    }
  ]
}