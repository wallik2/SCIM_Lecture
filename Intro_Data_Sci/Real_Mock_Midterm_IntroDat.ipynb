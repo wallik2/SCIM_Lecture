{
  "nbformat": 4,
  "nbformat_minor": 0,
  "metadata": {
    "colab": {
      "name": "Real Mock_Midterm_IntroDat",
      "provenance": [],
      "include_colab_link": true
    },
    "kernelspec": {
      "name": "python3",
      "display_name": "Python 3"
    },
    "accelerator": "TPU"
  },
  "cells": [
    {
      "cell_type": "markdown",
      "metadata": {
        "id": "view-in-github",
        "colab_type": "text"
      },
      "source": [
        "<a href=\"https://colab.research.google.com/github/wallik2/University-stuff/blob/main/Intro_Data_Sci/Real_Mock_Midterm_IntroDat.ipynb\" target=\"_parent\"><img src=\"https://colab.research.google.com/assets/colab-badge.svg\" alt=\"Open In Colab\"/></a>"
      ]
    },
    {
      "cell_type": "markdown",
      "metadata": {
        "id": "Mr22cRQtVrhZ"
      },
      "source": [
        "## <u>**Storyline 1**</u>: School "
      ]
    },
    {
      "cell_type": "markdown",
      "metadata": {
        "id": "HSZWnF_FVvBI"
      },
      "source": [
        "Followed by this situation"
      ]
    },
    {
      "cell_type": "code",
      "metadata": {
        "id": "gHOvv6YNWr3o"
      },
      "source": [
        "# Basic Package Libraries\r\n",
        "\r\n",
        "import pandas as pd, numpy as np, matplotlib.pyplot as plt"
      ],
      "execution_count": null,
      "outputs": []
    },
    {
      "cell_type": "code",
      "metadata": {
        "id": "mD951fZ7V_Sg"
      },
      "source": [
        "Dataframe_1_data = {'English':[80,75,69],'Math':[45,59,90],'Science':[85,70,50]}"
      ],
      "execution_count": null,
      "outputs": []
    },
    {
      "cell_type": "code",
      "metadata": {
        "id": "q2bKFm9VUqGf"
      },
      "source": [
        "Dataframe_1 = pd.DataFrame(Dataframe_1_data)"
      ],
      "execution_count": null,
      "outputs": []
    },
    {
      "cell_type": "code",
      "metadata": {
        "colab": {
          "base_uri": "https://localhost:8080/",
          "height": 142
        },
        "id": "6_ywPGfzW-jg",
        "outputId": "32bb62b4-5313-408c-93ef-b17e33c58c9e"
      },
      "source": [
        "Dataframe_1"
      ],
      "execution_count": null,
      "outputs": [
        {
          "output_type": "execute_result",
          "data": {
            "text/html": [
              "<div>\n",
              "<style scoped>\n",
              "    .dataframe tbody tr th:only-of-type {\n",
              "        vertical-align: middle;\n",
              "    }\n",
              "\n",
              "    .dataframe tbody tr th {\n",
              "        vertical-align: top;\n",
              "    }\n",
              "\n",
              "    .dataframe thead th {\n",
              "        text-align: right;\n",
              "    }\n",
              "</style>\n",
              "<table border=\"1\" class=\"dataframe\">\n",
              "  <thead>\n",
              "    <tr style=\"text-align: right;\">\n",
              "      <th></th>\n",
              "      <th>English</th>\n",
              "      <th>Math</th>\n",
              "      <th>Science</th>\n",
              "    </tr>\n",
              "  </thead>\n",
              "  <tbody>\n",
              "    <tr>\n",
              "      <th>0</th>\n",
              "      <td>80</td>\n",
              "      <td>45</td>\n",
              "      <td>85</td>\n",
              "    </tr>\n",
              "    <tr>\n",
              "      <th>1</th>\n",
              "      <td>75</td>\n",
              "      <td>59</td>\n",
              "      <td>70</td>\n",
              "    </tr>\n",
              "    <tr>\n",
              "      <th>2</th>\n",
              "      <td>69</td>\n",
              "      <td>90</td>\n",
              "      <td>50</td>\n",
              "    </tr>\n",
              "  </tbody>\n",
              "</table>\n",
              "</div>"
            ],
            "text/plain": [
              "   English  Math  Science\n",
              "0       80    45       85\n",
              "1       75    59       70\n",
              "2       69    90       50"
            ]
          },
          "metadata": {
            "tags": []
          },
          "execution_count": 265
        }
      ]
    },
    {
      "cell_type": "markdown",
      "metadata": {
        "id": "bJb2M7zXXFLQ"
      },
      "source": [
        "<fieldset>\r\n",
        "\r\n",
        "<font size=\"6\"><font color='red'>Problem 1: </font></font>\r\n",
        "\r\n",
        "- The table doesn't make any sense as we don't whose scores are \r\n",
        "- so, could you please insert the new column named 'Name-Surname at the first column\r\n",
        "\r\n",
        "- The corresponding data of the new column : 1. Post Malone 2. Meechoke Kaedum 3.Thanapon Rabbur\r\n",
        "\r\n",
        "Result:\r\n",
        "\r\n",
        "![image.png](data:image/png;base64,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)"
      ]
    },
    {
      "cell_type": "markdown",
      "metadata": {
        "id": "JvpTE77happR"
      },
      "source": [
        "Solution 1:"
      ]
    },
    {
      "cell_type": "code",
      "metadata": {
        "id": "yHGMPzkaYrr5"
      },
      "source": [
        "student_name = ['Post Malone', 'Meechoke Kaedum', 'Thanapon Rabbur']"
      ],
      "execution_count": null,
      "outputs": []
    },
    {
      "cell_type": "code",
      "metadata": {
        "id": "YsiJTSUoZbRZ"
      },
      "source": [
        "student_Name = pd.DataFrame(data=student_name,columns=['Name-Surname'])\r\n",
        "\r\n",
        "#Don't forget: column='Name-Surname' is not working, It require the name to be inside of a list"
      ],
      "execution_count": null,
      "outputs": []
    },
    {
      "cell_type": "code",
      "metadata": {
        "id": "tt1pfAZoOxV7"
      },
      "source": [
        ""
      ],
      "execution_count": null,
      "outputs": []
    },
    {
      "cell_type": "code",
      "metadata": {
        "id": "eUGdNDHvZZCu"
      },
      "source": [
        "Dataframe_1 = pd.DataFrame.join(student_Name,Dataframe_1)\r\n",
        "\r\n",
        "#Don't forget: pd.join does not exist!\r\n",
        "#Don't Forget 2: the parameter is completely different to pd.concat() since it require only 1 parameter which is in form of list of dataframe"
      ],
      "execution_count": null,
      "outputs": []
    },
    {
      "cell_type": "code",
      "metadata": {
        "colab": {
          "base_uri": "https://localhost:8080/",
          "height": 142
        },
        "id": "WyYMqb7BbFzQ",
        "outputId": "e02d3a70-66c7-43c4-ce5a-55d354de7511"
      },
      "source": [
        "Dataframe_1"
      ],
      "execution_count": null,
      "outputs": [
        {
          "output_type": "execute_result",
          "data": {
            "text/html": [
              "<div>\n",
              "<style scoped>\n",
              "    .dataframe tbody tr th:only-of-type {\n",
              "        vertical-align: middle;\n",
              "    }\n",
              "\n",
              "    .dataframe tbody tr th {\n",
              "        vertical-align: top;\n",
              "    }\n",
              "\n",
              "    .dataframe thead th {\n",
              "        text-align: right;\n",
              "    }\n",
              "</style>\n",
              "<table border=\"1\" class=\"dataframe\">\n",
              "  <thead>\n",
              "    <tr style=\"text-align: right;\">\n",
              "      <th></th>\n",
              "      <th>Name-Surname</th>\n",
              "      <th>English</th>\n",
              "      <th>Math</th>\n",
              "      <th>Science</th>\n",
              "    </tr>\n",
              "  </thead>\n",
              "  <tbody>\n",
              "    <tr>\n",
              "      <th>0</th>\n",
              "      <td>Post Malone</td>\n",
              "      <td>80</td>\n",
              "      <td>45</td>\n",
              "      <td>85</td>\n",
              "    </tr>\n",
              "    <tr>\n",
              "      <th>1</th>\n",
              "      <td>Meechoke Kaedum</td>\n",
              "      <td>75</td>\n",
              "      <td>59</td>\n",
              "      <td>70</td>\n",
              "    </tr>\n",
              "    <tr>\n",
              "      <th>2</th>\n",
              "      <td>Thanapon Rabbur</td>\n",
              "      <td>69</td>\n",
              "      <td>90</td>\n",
              "      <td>50</td>\n",
              "    </tr>\n",
              "  </tbody>\n",
              "</table>\n",
              "</div>"
            ],
            "text/plain": [
              "      Name-Surname  English  Math  Science\n",
              "0      Post Malone       80    45       85\n",
              "1  Meechoke Kaedum       75    59       70\n",
              "2  Thanapon Rabbur       69    90       50"
            ]
          },
          "metadata": {
            "tags": []
          },
          "execution_count": 269
        }
      ]
    },
    {
      "cell_type": "markdown",
      "metadata": {
        "id": "p03U22Y-bovg"
      },
      "source": [
        "\r\n",
        "\r\n",
        "---\r\n",
        "\r\n"
      ]
    },
    {
      "cell_type": "markdown",
      "metadata": {
        "id": "Hthq7GgWar7o"
      },
      "source": [
        "Solution 2:"
      ]
    },
    {
      "cell_type": "code",
      "metadata": {
        "id": "cHJXXTvmdSVR"
      },
      "source": [
        "Dataframe_1_data = {'English':[80,75,69],'Math':[45,59,90],'Science':[85,70,50]}\r\n",
        "Dataframe_1 = pd.DataFrame(Dataframe_1_data)"
      ],
      "execution_count": null,
      "outputs": []
    },
    {
      "cell_type": "code",
      "metadata": {
        "id": "0ps_AH08c3ky"
      },
      "source": [
        "student_name = ['Post Malone', 'Meechoke Kaedum', 'Thanapon Rabbur']\r\n",
        "\r\n",
        "student_Name = pd.DataFrame(data=student_name,columns=['Name-Surname'])"
      ],
      "execution_count": null,
      "outputs": []
    },
    {
      "cell_type": "code",
      "metadata": {
        "id": "-EH94KySbDKJ"
      },
      "source": [
        "Dataframe_1.insert(0,'Name-Surname',student_Name)"
      ],
      "execution_count": null,
      "outputs": []
    },
    {
      "cell_type": "code",
      "metadata": {
        "colab": {
          "base_uri": "https://localhost:8080/",
          "height": 142
        },
        "id": "IwcFUgwydNNR",
        "outputId": "ade19ad8-57e0-466f-dc61-b99c50ad8899"
      },
      "source": [
        "Dataframe_1"
      ],
      "execution_count": null,
      "outputs": [
        {
          "output_type": "execute_result",
          "data": {
            "text/html": [
              "<div>\n",
              "<style scoped>\n",
              "    .dataframe tbody tr th:only-of-type {\n",
              "        vertical-align: middle;\n",
              "    }\n",
              "\n",
              "    .dataframe tbody tr th {\n",
              "        vertical-align: top;\n",
              "    }\n",
              "\n",
              "    .dataframe thead th {\n",
              "        text-align: right;\n",
              "    }\n",
              "</style>\n",
              "<table border=\"1\" class=\"dataframe\">\n",
              "  <thead>\n",
              "    <tr style=\"text-align: right;\">\n",
              "      <th></th>\n",
              "      <th>Name-Surname</th>\n",
              "      <th>English</th>\n",
              "      <th>Math</th>\n",
              "      <th>Science</th>\n",
              "    </tr>\n",
              "  </thead>\n",
              "  <tbody>\n",
              "    <tr>\n",
              "      <th>0</th>\n",
              "      <td>Post Malone</td>\n",
              "      <td>80</td>\n",
              "      <td>45</td>\n",
              "      <td>85</td>\n",
              "    </tr>\n",
              "    <tr>\n",
              "      <th>1</th>\n",
              "      <td>Meechoke Kaedum</td>\n",
              "      <td>75</td>\n",
              "      <td>59</td>\n",
              "      <td>70</td>\n",
              "    </tr>\n",
              "    <tr>\n",
              "      <th>2</th>\n",
              "      <td>Thanapon Rabbur</td>\n",
              "      <td>69</td>\n",
              "      <td>90</td>\n",
              "      <td>50</td>\n",
              "    </tr>\n",
              "  </tbody>\n",
              "</table>\n",
              "</div>"
            ],
            "text/plain": [
              "      Name-Surname  English  Math  Science\n",
              "0      Post Malone       80    45       85\n",
              "1  Meechoke Kaedum       75    59       70\n",
              "2  Thanapon Rabbur       69    90       50"
            ]
          },
          "metadata": {
            "tags": []
          },
          "execution_count": 273
        }
      ]
    },
    {
      "cell_type": "markdown",
      "metadata": {
        "id": "azaa4Upsar2I"
      },
      "source": [
        "\r\n",
        "\r\n",
        "---\r\n",
        "\r\n"
      ]
    },
    {
      "cell_type": "markdown",
      "metadata": {
        "id": "E8GKbS0LdlFO"
      },
      "source": [
        "<fieldset>\r\n",
        "\r\n",
        "<font size=\"6\"><font color='red'>Problem 2: </font></font>\r\n",
        "\r\n",
        "- There are 2 new subjects added, which including 'Computer' & 'Statistics', and It should be placed at between English & Science column\r\n",
        "\r\n",
        "- Sadly, Post Malone didn't take the exam of those subjects yet, so we may leave it blank\r\n",
        "\r\n",
        "- The corresponding data: {'Meechoke Kaedum':[80,100], 'Thanapon Rabbur' : [94,95]}\r\n",
        "\r\n",
        "result: ![image.png](data:image/png;base64,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)"
      ]
    },
    {
      "cell_type": "markdown",
      "metadata": {
        "id": "Y3Y9r82ThkLa"
      },
      "source": [
        "Solution 1:"
      ]
    },
    {
      "cell_type": "code",
      "metadata": {
        "id": "lOEBbsVndh4J"
      },
      "source": [
        "data = [[np.NaN,np.NaN],[80,100], [94,95]]"
      ],
      "execution_count": null,
      "outputs": []
    },
    {
      "cell_type": "code",
      "metadata": {
        "id": "0ZGs14oVfGyR"
      },
      "source": [
        "k_data = pd.DataFrame(data,columns=['Computer','Statistics'])"
      ],
      "execution_count": null,
      "outputs": []
    },
    {
      "cell_type": "code",
      "metadata": {
        "colab": {
          "base_uri": "https://localhost:8080/"
        },
        "id": "Ny1ABdlNhLl6",
        "outputId": "2d0af5bf-4ac7-4adf-bfde-45081a93690d"
      },
      "source": [
        "k_data['Computer']"
      ],
      "execution_count": null,
      "outputs": [
        {
          "output_type": "execute_result",
          "data": {
            "text/plain": [
              "0     NaN\n",
              "1    80.0\n",
              "2    94.0\n",
              "Name: Computer, dtype: float64"
            ]
          },
          "metadata": {
            "tags": []
          },
          "execution_count": 276
        }
      ]
    },
    {
      "cell_type": "code",
      "metadata": {
        "id": "W6wapcoefCVC"
      },
      "source": [
        "Dataframe_1.insert(2,'Computer',k_data['Computer'])\r\n",
        "\r\n",
        "Dataframe_1.insert(3,'Statistics',k_data['Statistics'])"
      ],
      "execution_count": null,
      "outputs": []
    },
    {
      "cell_type": "code",
      "metadata": {
        "colab": {
          "base_uri": "https://localhost:8080/",
          "height": 142
        },
        "id": "7O10lVY0hcOq",
        "outputId": "b9e12758-97af-4272-fd18-15430ff61849"
      },
      "source": [
        "Dataframe_1"
      ],
      "execution_count": null,
      "outputs": [
        {
          "output_type": "execute_result",
          "data": {
            "text/html": [
              "<div>\n",
              "<style scoped>\n",
              "    .dataframe tbody tr th:only-of-type {\n",
              "        vertical-align: middle;\n",
              "    }\n",
              "\n",
              "    .dataframe tbody tr th {\n",
              "        vertical-align: top;\n",
              "    }\n",
              "\n",
              "    .dataframe thead th {\n",
              "        text-align: right;\n",
              "    }\n",
              "</style>\n",
              "<table border=\"1\" class=\"dataframe\">\n",
              "  <thead>\n",
              "    <tr style=\"text-align: right;\">\n",
              "      <th></th>\n",
              "      <th>Name-Surname</th>\n",
              "      <th>English</th>\n",
              "      <th>Computer</th>\n",
              "      <th>Statistics</th>\n",
              "      <th>Math</th>\n",
              "      <th>Science</th>\n",
              "    </tr>\n",
              "  </thead>\n",
              "  <tbody>\n",
              "    <tr>\n",
              "      <th>0</th>\n",
              "      <td>Post Malone</td>\n",
              "      <td>80</td>\n",
              "      <td>NaN</td>\n",
              "      <td>NaN</td>\n",
              "      <td>45</td>\n",
              "      <td>85</td>\n",
              "    </tr>\n",
              "    <tr>\n",
              "      <th>1</th>\n",
              "      <td>Meechoke Kaedum</td>\n",
              "      <td>75</td>\n",
              "      <td>80.0</td>\n",
              "      <td>100.0</td>\n",
              "      <td>59</td>\n",
              "      <td>70</td>\n",
              "    </tr>\n",
              "    <tr>\n",
              "      <th>2</th>\n",
              "      <td>Thanapon Rabbur</td>\n",
              "      <td>69</td>\n",
              "      <td>94.0</td>\n",
              "      <td>95.0</td>\n",
              "      <td>90</td>\n",
              "      <td>50</td>\n",
              "    </tr>\n",
              "  </tbody>\n",
              "</table>\n",
              "</div>"
            ],
            "text/plain": [
              "      Name-Surname  English  Computer  Statistics  Math  Science\n",
              "0      Post Malone       80       NaN         NaN    45       85\n",
              "1  Meechoke Kaedum       75      80.0       100.0    59       70\n",
              "2  Thanapon Rabbur       69      94.0        95.0    90       50"
            ]
          },
          "metadata": {
            "tags": []
          },
          "execution_count": 278
        }
      ]
    },
    {
      "cell_type": "markdown",
      "metadata": {
        "id": "ZXGM6-8VhmTq"
      },
      "source": [
        "\r\n",
        "\r\n",
        "---\r\n",
        "\r\n"
      ]
    },
    {
      "cell_type": "markdown",
      "metadata": {
        "id": "vmCbGdhYjnsM"
      },
      "source": [
        "<fieldset>\r\n",
        "\r\n",
        "<font size=\"6\"><font color='red'>Problem 3: </font></font>\r\n",
        "\r\n",
        "- Post Malone took the Statistics exam yet, the score he got is 88\r\n",
        "\r\n",
        "![image.png](data:image/png;base64,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)"
      ]
    },
    {
      "cell_type": "code",
      "metadata": {
        "colab": {
          "base_uri": "https://localhost:8080/",
          "height": 142
        },
        "id": "CI8GFFE7hm2J",
        "outputId": "2241f89e-0f62-43b7-e53d-29af9034634e"
      },
      "source": [
        "Dataframe_1.loc[0,'Statistics'] = 88\r\n",
        "\r\n",
        "Dataframe_1"
      ],
      "execution_count": null,
      "outputs": [
        {
          "output_type": "execute_result",
          "data": {
            "text/html": [
              "<div>\n",
              "<style scoped>\n",
              "    .dataframe tbody tr th:only-of-type {\n",
              "        vertical-align: middle;\n",
              "    }\n",
              "\n",
              "    .dataframe tbody tr th {\n",
              "        vertical-align: top;\n",
              "    }\n",
              "\n",
              "    .dataframe thead th {\n",
              "        text-align: right;\n",
              "    }\n",
              "</style>\n",
              "<table border=\"1\" class=\"dataframe\">\n",
              "  <thead>\n",
              "    <tr style=\"text-align: right;\">\n",
              "      <th></th>\n",
              "      <th>Name-Surname</th>\n",
              "      <th>English</th>\n",
              "      <th>Computer</th>\n",
              "      <th>Statistics</th>\n",
              "      <th>Math</th>\n",
              "      <th>Science</th>\n",
              "    </tr>\n",
              "  </thead>\n",
              "  <tbody>\n",
              "    <tr>\n",
              "      <th>0</th>\n",
              "      <td>Post Malone</td>\n",
              "      <td>80</td>\n",
              "      <td>NaN</td>\n",
              "      <td>88.0</td>\n",
              "      <td>45</td>\n",
              "      <td>85</td>\n",
              "    </tr>\n",
              "    <tr>\n",
              "      <th>1</th>\n",
              "      <td>Meechoke Kaedum</td>\n",
              "      <td>75</td>\n",
              "      <td>80.0</td>\n",
              "      <td>100.0</td>\n",
              "      <td>59</td>\n",
              "      <td>70</td>\n",
              "    </tr>\n",
              "    <tr>\n",
              "      <th>2</th>\n",
              "      <td>Thanapon Rabbur</td>\n",
              "      <td>69</td>\n",
              "      <td>94.0</td>\n",
              "      <td>95.0</td>\n",
              "      <td>90</td>\n",
              "      <td>50</td>\n",
              "    </tr>\n",
              "  </tbody>\n",
              "</table>\n",
              "</div>"
            ],
            "text/plain": [
              "      Name-Surname  English  Computer  Statistics  Math  Science\n",
              "0      Post Malone       80       NaN        88.0    45       85\n",
              "1  Meechoke Kaedum       75      80.0       100.0    59       70\n",
              "2  Thanapon Rabbur       69      94.0        95.0    90       50"
            ]
          },
          "metadata": {
            "tags": []
          },
          "execution_count": 279
        }
      ]
    },
    {
      "cell_type": "markdown",
      "metadata": {
        "id": "3GKXY7LUkkVy"
      },
      "source": [
        "\r\n",
        "\r\n",
        "---\r\n",
        "\r\n"
      ]
    },
    {
      "cell_type": "markdown",
      "metadata": {
        "id": "y_6RR7KBkpWa"
      },
      "source": [
        "<fieldset>\r\n",
        "\r\n",
        "<font size=\"6\"><font color='red'>Problem 4: </font></font>\r\n",
        "\r\n",
        "- There are 5 new students and here's the score of them\r\n",
        "\r\n",
        "  ['Lady Gaga' : 'English':80 ,'Computer':85, 'Statistics':100,'Math': 74, 'Science': 68]\r\n",
        "\r\n",
        "  ['Kesha Rose' : 'English':82 ,'Computer':5, 'Statistics':50,'Math': 54, 'Science': 61]\r\n",
        "\r\n",
        "  ['Bebe Rexha' : 'English':51 ,'Computer':75, 'Statistics':80,'Math': 14, 'Science': 52]\r\n",
        "\r\n",
        "  ['Lady Lala' : 'English':74 ,'Computer':85, 'Statistics':100,'Math': 74, 'Science': 68]\r\n",
        "\r\n",
        "  ['Mackled more' : 'English':12 ,'Computer':34, 'Statistics':41,'Math': 47, 'Science': 68]\r\n",
        "\r\n",
        "- Could you plz append these students to the dataframe\r\n",
        "\r\n",
        "Result : ![image.png](data:image/png;base64,iVBORw0KGgoAAAANSUhEUgAAAgIAAAEeCAYAAAD4uX2xAAAgAElEQVR4Ae2dTXLrOg6F3y56CZlmIZndNXiQBbgqQ5cX4Iy8XnURJEgABPVjO4lEnsGr2JZEEQcfwEPZt/u/t7e3Cf9BAzAABsAAGAADYzLwHxI/ZuKRd+QdDIABMAAGAgMwAngigidCYAAMgAEwMDADMAIDJx+7AewGwAAYAANgAEYARgA7ATAABsAAGBiYARiBgZOPnQB2AmAADIABMAAjACOAnQAYAANgAAwMzACMwMDJx04AOwEwAAbAABiAEYARwE4ADIABMAAGBmYARmDg5GMngJ0AGAADYAAMwAjACGAnAAbAABgAAwMzACMwcPKxEyg7gY/zbbrf7/m/y6kcKzqdpks453aePjZwc7qEcS/TacM15Z7ePPDZIfX5OE+3wM/l9AOL7mNsHlHHPdcT9xG/f+y3boc3Apw42dz3A1oqbl6gfqSB7BdO3aQ+pvOtLNR50X6xJsyDX8icj22L+s/yxHNK2mw0KVrjV7LA+dqm1c/NJ8RmtKrYSccf0nBFvGwEHhh/nksZ2x70Zp1v0/kjzI21uU9+XTncnS5kym/nj8o0/Vw98bxTLVV8OPM05p7z5M37Z9lentvc/WEE8k6QoX2bfg60LclymtLpsr6QDKBzEBzjGDeTn210XMirG9YKnX+OJ4eRj/N0dp9mbGHvFef+Tr7Ws+toVdWTc86K/MY5/Gy8P8Hleu228pB0vKeFnw0Qv1+j6a8bASf3FR9bdTjO+TAC2QiUR3a2ccf3ZTfKiwR9frnEx8X323Q+RxerHwOXoqBd7FqXmYqn6SztcS42Hj8VUphrmX9ZROmz23k602PrGJu+l5k3P9qm+9ymyyU9Sr+c805dXs+NK+7ci8l6vPksNNoU/+WcHr/SU5QSb7ivnpO/g+ZzOMe6yTMDelx3bM7DG+t/mc6CNanVo5rEvM5p28hh2qHdLpf4qPou5pZ2q1EH8bl5pB3vXXSQc2EN81Mb74lW4pPPkXrH60NcnPPtX8dUmtp6MYtRnD/nt/yVebJx8TH7OcdUvgIweXCeCFRjMD9c16xh/svaC43oGH8uFyFzf67lpIGNneOqNDSatY+H+6V+GOIIuU59suS5NSf7OeeicM7svbSeFvjgWK1WOR7Ds6ehznGJh59U3c7ntJaEmOXxkEuri85ze2zJQfs1jAA1Z254UXwGjb7TVa6Qiy4mIZ4XrkmfhwLnBYl2ZSl5XPgrYYvQycTrpNNxO1Z6n5tPAvN2u8WnCPw+PWrLQKeGo2KmxUvcU44tX6cxQzHQ9WoRKY8B7dhcVNv+au2ra3leXEDpfS5IMddwbWtOXFC5wFXza8zBjG3nFu/VNpr2/HXvG3PJ8zXscSOhHMlr03ncsJN+rEP+yszEaPWL72XzkvcwDSiNxbmJ9yrX8vvAbni0zHPxc2LGzvHbzxfqia6zmokxPs7TRTym3hRvnlNjfKOtl/9lDVp6N+6Z5sRax0f4It485wc+o9q7TefTebqlzcblFOfBOT9dGv2F72sYkZr8TD0lnZpmintG4VTOKb9uzNvmT9dPuXdkPL1nM6hqt87H/Nj1+XmurDX+3we5yVymk1g4dJK0kLIB0GvRWAnyNA4ltCrwVKxsDEQivOS8pbHyDoMXuXCdmC9dy+cyPOne2RgwTM2F33OhHHsCM8y7ik+YIqFFXkDCXCsdeNwtf7nR8Q4h/uXGsqRHLJbSfOx71t8WFX8e//Icyjj0OWvdyKvlSTKkx9+iBzcPMxdmytE8xhYaWYqDWIjjFF7l4iuanuFrOaaGVp4JMyxzDpq55Ri3/uUY8q5axEdjCc4XxuY5FnPSjrfkuDH+Aj/h+vp+lhX//kvX8fHSJ+y4D7wnnQVn9AQixp5zqvR1dEmaeOcvs/fAnMN85vjgY9xf1fzF/dx5p9zI/qDqM8Wfx9Z6cI4Ka+J+/PuL5tjy3PZrPBFITwTC7p8Bu6hfeaek5OZRFkw6Xyx+BG0CJiSNE1gW8rSI5aRx8ZbFzQM/NII4N/GINN0nn29BdYEsIHCs/Ev2+F40xnS9mnuYt4gvLvDWCHh6xfh8kMucSsP0PmOtGgvfKj04PqcwU2Fzzvy5tueQ88Oc5KLm3JV5V1q3msrs5+25tBaOGJto0FuMwGYj2Zoff16YZ8aY5fkceGxs/yznK9diGEM3YM2jP+/CCR8vedbXz4+f5+Pw08qnHt+/f8l5SyO+ruSD86DHb13vfE61GGuN4iLO4n3y2K3+wszP9K+oVdE5vufadubDY274m/PBfNj+0hrLnfdST0zHc8/QHM7ncGnsdXrACAgjoB1hAI2LxIeOYCFQBOTVQlkekT9cWASdmYsFM73Pzt4FskAxW0x2LNkgq/iiNlYL9USgVTSbPjfx22tX6sGLTv0dXNRmfhFamAPNiQuzNKZZrW0cG97Hcct9JF9eHOX8FMcWI2D0XY6prZW9Vs47vPbmbs95/r03P92A5T2Kdi1OvPFKvcWx2uOXe9X8hGPLmvj3X75OzJHr3vyGoMxNnDvHKfUey2WcHxkBvk9j4aP7zfQvy4/Nzeb5urEYPas5N7Rw553GYlNR3S/lvKHHfA6Xxm7M08wBRkAagbzwB3csjAAnkGFIj+gJwDkjIBdQI/wirKfLlN1zuJbvzbCo9wxt+R6aH8erMcQcZospjc3XMoi0uKdjtBMi6K0RWNO01sGpNeIYiylTx82crV4lV/P35ljLTk+evzCHpK9tTLNai5yoeNZ8zgwwn+Ga/JsWu+jIZpPi2GAE/JhSs0/Nz5ore02Oz22WRef5HJTz8nhrtFqqJxqjnV+dQ16stclvxpvnZ3Pix+KOs6BZ+Sd6pj48RvJ87P3b8W/V2rKQ5xeYM7XK+VabB5439zsxZ50LfuJmjYeNbeH9Ih+szcJ9GnniGP2+ImszzNNwwlrIOhd6zI+9EHcaB0ZAGYHyfXb+5X9ucskc0PsIAwE5awTEAs6P/O53vcCLhNpii8CXR3Z5t5+uYQDCLvd2PsVf73PhNIDkeywVk7r35VR+DJignDMC4R7qeordNKiZuHmO+i8XotAjjMvxmubCzcYeL08EwjilqOv5xvvEwi2NX12fClPmgY/Lgl/SWse5rnDzNdwkmC/WI+jbPJa0pHNjbCWfUZM6pqJVvLfU5DKdRF3kuXFDc+Y2Nz4fkxqWMTfqIzirciy14vOMZmyGtZbph3DVP4eTmtRsMhv5b7o/x5s/r8aNMev5cz2Ze7LWctEwMc1zb/P8gN7EAs+Pr5fMmf4g+wvnQTwFibqUef1UPWl9Rf7ynOoexHx4OQzzlgxX4+cnLymHmcf0fmUOQ220x2b95/8ObwRe0WAwxjxkf69PKmBZWLxI5eLbewy/O7/Y2Erz/fsc/m78iBd6j8QAjEB2ewC/X/BnHDaMQPW/3BY4gBFAP+i3HyC3NrcwAjAC7kJgQTn8++rxqPfoDw2C8wwjABaYBfztnwUYARiBMYwA8ow8gwEwAAZcBmAEAIYLBnYB/e8CkGPkGAyAgcAAjACMAIwAGAADYAAMDMwAjMDAycduALsBMAAGwAAYgBGAEcBOAAyAATAABgZmAEZg4ORjJ4CdABgAA2AADMAIwAhgJwAGwAAYAAMDMwAjMHDysRPATgAMgAEwAAaaRuB///vfhP+gARgAA2AADICB/hiQBrBpBN7f3yf8Bw3AABgAA2AADPTHAIwATA5MHhgAA2AADAzMAIzAwMmHs+/P2SOnyCkYAANbGYARgBHATgAMgAEwAAYGZgBGYODkb3WNOB87DTAABsBAfwzACMAIYCcABsAAGAADAzMAIzBw8uHs+3P2yClyCgbAwFYGYARgBLATAANgAAyAgYEZgBEYOPlbXSPOx04DDIABMNAfAzACMALYCYABMAAGwMDADLzICPybvr7v0/2e/rt+DgfVv6/vEj/rEP5+f03/XgAYjd/U9XO63u/T99e/hu5Lx7XDpXu9aN4j7h40C9/T1z9H38zIdfp8AR/70Dn1AY+dz+t0v6+N9VXjaN33odGL5/Tva/rOLNU9YIlFq4k+f22+XhxTsx4iF7rPmbWHtNjbvF+rj86R7S+P6fECI+DduAbSAtfbe0qOs1B/Xl9jBlrjRx3TQv/9PV0/LXQlP7qA7HnlPd3La+bNAi3X9pbXzfHQgieK0y6A5n1fWs+wZuKe1/VV4/TOpTX48X3uAUss2no2OdobmzQfu+EJRmikXrWU0wf1eN4IsCPlZNj3FrZO3xOkjhF4Jz2EQ6VE8tMTsWAEXVi75PB54eYCoCcurLPSMTWAr6/p284hjPl9na7fxpypeYT5lDnWDSCOz098eF6hmce4v9QTIXk8n5N3LSZmFcfxG7evHcccFzitT9CWjx89/hjf9Rp2/yYms8hY1vX5G8bpjJ95g2T4oH6hdQ4bD+ZrnkUz1vvO2ZzrY7bndczEYk5DnT2gx/NGIC0oDN97AkouLJvgPmgS44LofCVCxZoWWdJKFK56b9z8u37fHJ/04nNDMZcFnRfh769PWqhzjtR9Q0OI1zNAGrZ4LF+bzuX3dO79Xp5EmLH1WO/TOx3Xc+yKDxO/jpfzJJuw14Dl8SO9Tgv45/tUPQmTeaeaEMxwz8gmd+U4B+0Vr+Pdr83Hngjsmc3AQ+ibda2E/vL9Lb+W7bi3BN5n+0vcmD2ix9NGgBcCXhiKERAL3gAFSzpUTiyCGxfYGuLQEKhh0nVeIZZFwB+fj5drw3m5EVCD9QvINqMyj7TLT02Z7psbdLqfaOr18TKXaDBqDuSuxc6ji/dpoauf4ARtetYjMh75ixzkviCY8XKsOXp8HG/svj9LPYaeuNVsqScvto5VX94xm4Ed6pF1D7WGkzgSTze7zH2zv9QGfK0eMAKqGHhh3f43Cs6P/MXfXHxygSzj03XJQKgxjKmQ59Vwi7EDJHxteE33rwuIxpBAhUYi55HmLQ1Cvi9dF503zSvHGOIyc8lfCQhN7Pd8L8pBnt8fjhdzKHYlysHvuNm+RDO5gJvdi2sEIiv8lVP5Ye3WcUo97YGBX5tDqt9i/KOebL7mWbSa7ZXNMC+up0YfU+yuOcfGfpz323Ia4lqnx9NGID6qKN9L8Y3x1YCFKxZpKdp4nBLLCzcDTU0zLpyqqO15fL5cfPNTgPSYiP4lgYFBGACej1zwaU4vMwLOLiXP22p09PdG5xRn0dZjwL/m1xaTl+YixsJMhRjyjk0ZgahDMACK72wo145zdF6em7+s08xL1tnnqrBo771PNsN8C09+TDl2UW/MlT127Pd+/O2cxhyH40t6PG8EeFHhIrbvX9poLLz7ee8u6Cr27UmUhT4/vi7icG78XQAvwvre3lgSpuq+nFuOJzcb/TVCLDI5F/l6P7n6uWagdeb7FG2940EjztPRNYrxlcYd4okMxO8t084u8GOYkszxZmJxHOZx0L9as8ROrk2PNflVpGXNO/+v2Yzs5CdG8ukibYricc2Jx6CN9ajvvRzJnD6ux/NGgH/oI5MknD43w97/eotrFTMVqWj66r1Nok76/Pjm2sqMOWOJRkxjN74ayI08/28UxHuxw6ybkZ5LHJsf7YUC1McrjQ7e1Kt4VY75cXnRo9bvqE0qzLvRhEmD8IRLGAF+HfLNxzOTK8c5OCtPs5/qvCyETm1WOov+Y/WjPOyZTd3Hgn5ksjM33sbkyPVUz32pvzyqxwuMQGkA2bk1H2HXgT1dDBbmP3pPCVoTNzc9Mk6mKNWx8p09acSLuyzsHKtdXG3B+O9lviRg9eIUx+fz2QSEebXOLc0pFaswivJYL/mXcUQty28ibLz6eGm8coxjvm4s4NywBbvUsJiJ0MiJfa6H9eMcU6cX9sHcFxJvpgdp1uRjdq9202ecF5Gvfehs+1jUUbG0uzm/MNep38/lNOTpET1eZAReH+w+wENcyAMYAANgAAz0zQCMQN5V951oFDLyCwbAABgAAx4DMAIwAo3/fwIUjFcw+AxcgAEw0BsDMAIwAjACYAAMgAEwMDADMAIDJ783V4t4sFMDA2AADGxnAEYARgA7ATAABsAAGBiYARiBgZMP57zdOUMzaAYGwEBvDMAIwAhgJwAGwAAYAAMDMwAjMHDye3O1iAc7NTAABsDAdgZgBGAEsBMAA2AADICBgRmAERg4+XDO250zNINmYAAM9MbAKiMgT8LrtwkaQAMwAAbAABjokYH/egwKMaFYwQAYAANgAAysYwBG4G2dUAAKOoEBMAAGwECPDMAIwAjgaw8wAAbAABgYmAEYgYGT36OzRUzYsYEBMAAGtjEAIwAjgJ0AGAADYAAMDMwAjMDAyYdr3uaaoRf0AgNgoEcGYARgBLATAANgAAyAgYEZgBEYOPk9OlvEhB0bGAADYGAbAzACMALYCYABMAAGwMDADDxvBE6X6X6/T7fzx0tAOl3u0/12nj4aSVk6/ion+HG+zc5j6T40z8vpBZqcpsv9Np0/jMP7OE+3+7xWS3OcO/66+Zt5N/I6N5d9H/uYzrc71UCoA/Vfzr93zmU69aQF85g0qPpB6hNRH4dnowXVX9azM61MrG2+IzeXk62h0BMKaz1qTf1HxHg3PVAdn1kv2tpaTff63usdKfe5v7xNz9bLU0ZAJqOCcTXsOgE05u023USQnMwc7C8kftdGIDXdV2nO+sq/lAcnB/IcvNbsZj1o0ROLXcjXLzCb7/9g7T1+fVyYCo/xfV7AiFehB+kzs7ib48/W4uNxNfL7K/qWBSDrSPeNn/etdeCnzUdcd8TxwEvX9WU4tP3lBfXyoBEokN5ut9c/Ebicp/NNJDoXwG26XOxOvcyFdhsVENo9383ils0Fuc/SrGLzuUwXsdsrxZcSQwlgZ16uDY1HL6Q8xxJT67510wrzF2PzzsvE8fbG9+D52Kc05rjVicclHS7TJTyZSfeoG7Fu9CHW2/kkdsZxvrFg43wq7X6lmZoC+pV7Rm1UvIGTKl9/Mbcfuqdd6BP/rIGuhTCHyKJe4Hhu8RhfG+vB1MCv5JHn8/t/c2+4XGjnr3QyTT/oQ+cnvrrQOvBk+1POue49kY85nn4/f3UPf+UcbH95Tb08YQTS4pQWQ124jwfOIAe4VQEkOE7qkX0tAl9fGshdjGPOt0Ul3nMx5jnQMbEgL7wv84j3lAsBjS1BF/etIZJNMEIgx5KFID+P8+f5mritUUkmQMe6zQjIR3cUu/y6aDa+x1mptfr7sarcpkbNhjk+Gi+GcI8xbJ+TbU7xfeSpZi+MX+rD5kxey8f8MbbPk8fb99+P8zl9bVRr4fH1luvL1+lwWp8uk64X7mMhb0ET+T585sfdIx91/mtGHtHjQSMgCokgtLtPcTw7uXWfZWjD4iR2UUGAYDaUEOHeckGlexVQ6FwxBoFBi15oxPPwqPvkcdlU+NfmuYtGR5+pOZb5SVDDeb6Z4vNjwuWCK6+vXlOcqWDW6KTmqBv1vBb6XJpHbkycc46B3/f6N+YoG6rEvmWA9Jx59FnlcmMN/c31sSbq3wDEz60mbm3mOrONPjLm10evLIW4ap5c3UxPO7rWVX1QPylM2HqKRqjVP3vio+bBN0bb62W/RoAWat45hWYSQSBI0qIVgSmPwmMTCu/juQSM+sEJnxvG9UQt0Mj7xMYqz5evzTXyEV26t2pgVLQ8D/1XnZebf7wXxXY5xZ2UWbRl49cxC81cHYROxjBR/OmzeS0aRkDNMcQQ7yXn2t3rygAVNnSsvpHU57Su3eHniemyAEVmI88wAo/nte4zsi7zuJ0ZgRxX7oG2x0Smcr9PfdHvnzusFxGXF2vzM7e/+L01rANb9NixEYjffVEwAXS5+DuvPfFoUTQLXDmvLrJyLH3vVi1m/ETAv1YWKd07XE9FKhZB+34Riniv8tjfvo+gZwPAcxb3qRdyXRyeTjKW+nodf3V9AJbnQfGF84UGizHr+cm87Pl1pcNMnOHcLYW657hrPt6m7h5Xz+Ty53Kj6yzcZ1StZT+q9fbNZn3eMfsKx+H3l5qRvr4aCIWXDED4XQA3TVUIrkMqyVbnVoU8vyurr5WC+9fKRFWv88Ioxylz5WTXf8P5ZhGluNmUhDGcc4QRKE3Zv18dq3bg9XEdg4yV5j+kEdCalDx6n/fVuGo+pBHQLEVd5uL3asvhu6pnn+2ShyMed9hxeh7pL59Eqs3P0bT28h8Z4jWgyqnsdd1y4bBAsXp6ba+XXT8RYGfDj/oDALrpRBHKblk3IP6OTQKkrrdFJYBS55HgJhF0rVigzXu9OMZreR40tvqO2IytYPaTGsfg+9vr4/ui2zqd8qNdiqX8WDAaCb5XysG9GBEda8pBNj4No6JiPGKTNnMW7NhGRfoIPWq2zFhH04ZiLzxUdWe1sXVn4zXHu9PLxtt8b+s6cGIbvzmnA62r/mh40P3G6W1NPQ9cZzavMkajzyP1snMjYBf++j03nfx9kVpg01MF+f24aMjZWIjjvBjWYpqCC4mgBPD3/GWhDONqWPnccg4dd+5rFxF3t08QpALgpwXVXOJ82Xxs0ul2ns7inw/meNJ8+Z8KslZurErnMJcSex3jgQuUC9IUo41R55t/+9JB3Bx/MgO5DtWulPn3a6WutWI243gd6sW6zf51eg6dHz9nrUuNJ56qXlA4O4rWNM/cH23v4N6XeFK9psRqa/DQ7xf6i9Zre708bwRmQe40KYj5Bf+LiWDj0I0JNYAaAAPdMAAjAJi7gRkLK8wVGAADYGA7AzACMAIwAmAADIABMDAwAzACAycfznm7c4Zm0AwMgIHeGIARgBHATgAMgAEwAAYGZgBGYODk9+ZqEQ92amAADICB7QzACMAIYCcABsAAGAADAzMAIzBw8uGctztnaAbNwAAY6I0BGAEYAewEwAAYAANgYGAGYAQGTn5vrhbxYKcGBsAAGNjOAIwAjAB2AmAADIABMDAwA00j8P7+PuE/aAAGwAAYAANgoD8G5JMTGAEYHhg+MAAGwAAYGIwBGIHBEg4335+bR06RUzAABp5hAEYARgDuHwyAATAABgZmAEZg4OQ/4yBxLXYgYAAMgIE+GIARgBHATgAMgAEwAAYGZgBGYODkw8334eaRR+QRDICBZxiAEYARwE4ADIABMAAGBmYARmDg5D/jIHEtdiBgAAyAgT4YgBGAEcBOAAyAATAABgZm4GVG4PN6n+53/u86ff60qJ9XcT++b/n7/fVvev/3NX3fv6evf324trb7/jd9fZfYSx7u0/37a/q3Ohef0/V+n66fDb2G0bMR/1odDZvEorhW1cqm/Dw5LzGHNksvuAdxUnhs8vQeubX62Ln9+/oWtf4LveW3dHrFfRa0VqxRf57vh3vUemlOS8ctT0d/v5TTR/R4iRGoJ7Z1AXq2+YQFzAF8mIUrNtS64SaDcP1c6fZhBJ5uEqkxl1xoTWOtiMUsmIaezECKvyzuLTbfJ25Y5VynD5CpKnrRNT3p9YwZWNQ6sFe0W2R7h1pHRkRvp5hFTDuc86LOz+T8fSGnD+rxAiMQG909A8fvRfKeCtxpDtV44Z7O/Qia7+l6FTsK00QqEyMWzXDs++uLdsm8yy4N/j09cSg7n7ucAwNLiUnniLEJFnlMXvuemuT1S+302w2z3WzfDRjvaRfG8YS/ZdyYu+tVPG2Renl6ipjqJp3GS08Ygp7Xr/CUJujh5KvK65rc7+sc4kloopuC1iMem8ndAfWoGXifiEHJUYgrsPR9na7fkj+by6hN4TMcb9T6AbXSbNjYl98vak0ar30iuEetvTm9T7Ev/5u4lw3Fx2xOPb3W1cvzRoAWh/t0z80vTqYYg2Wgny2IZnOo5hYbMYNDTVs2qLQw82JPx8WCFd1pcqNpbD6Xocy7O753Hj/pwjrRvcRiaN7He4nH9Oa41iyOXeYiNKfr2EGbObDhyDFGfWTulEYLMdWNKY7H84p68lzEHLtp4jpenaMQbzguck5xx5wwk/U1x9KJGGDGOa+KwRBPiDnosBS7p+fSNcfS65l8L2r9eZ2+v8UmqGJParVHrWOuuX+wVtRHiLE9zllq+gOvZ3P6uB7PGwEudv5LRS+NwQ+IwffKf4MAtsHyjl1/XiDy5qWFrM6lhVCPx3CGv2oh9M7NDdFvZvJ+aiyKU89N3pdNiC0Y/ryYNCdmNU/nHvK4fM3a55hM/M6cZXx6/s68ePxD/WUOo4781EXmhTTI5jDtltVTmYNrQYwIA5ufQAkDGJihRu7XQWGD9dSaBA17MU4lVh3jqs8XtKYekp/UMmut/rVPrasYUsyRn33OeVXuHuxrlR7Ufzmnj+vxWiNAk/rt3weEAvIF8H4s6C1GUdzyiJ8bd3WutxDSvcu1+omAaH4h8fn6MF/ZLGMToHmk3RS9lgtGug/PTcMWGyovPOqv3Z0lACm2/OPOOZDEXGn+rZhgBCKHgQWhUWpcJW8mV9dP8ajzgcXgwYai+XnxfbkP8FdAn+HrINYk8MSvYQSezsOs1nVeq56W+fF7aDj/r02X6lXfX9Nn+PFofiLAvavEuoc5P53XnJcSV2vMktPHc/g6I8BAqsVrOYhWcNs+9wUoC2+ZRxEtLVzUrLgxhXHKAi3PpfnkhTyMF8+V37GrxXt20dT34VifNQJlseHY/CIho8B5qmKy14i5zsYEI9AypBVHqsjjYihzxzx08zf0hsRb0KLEusYIyPND3S1dU2q9G/0ULwvxCa29+GWP0cdFnef77VPrwFA0J8eZs9Z6IYdZ/3XnlZw+rsdrjMCfmoAgVhDALmByB14ELU3Za8BayHJuul4umk7B1UbAzIl0CqbDLzB5PzUWgaHnpsHyYok/qlG7U08nGZP31EEel68Z1hwTjAAvUmWhi9zIvOq8+YxW57DWB/1b4o8MqydW/FTKfXLl1Umj1g+qzatzXbT2tJM/tCs9Mc7BO3+PWss+eJQ5W60ffe/FK3PqHV+XwxcYgZiYukDa4zcAACAASURBVLjNIvijhdoI1lm42oUSRQxxcCMv56bEyfHEAkiFRO/F1yJ0rvythEkSnS80Mu9fYQTyUwve/VcLPeeO55He5/OTJtykq5ji+fnRoRfDnJ4/ysSjxfbkdaQBP2Hihb7FlNG3Bz1kjYR4DBN64TM14cVv9Kzr4sl8efc8ymcLWpNW+WsYzoVg08a5Q61tvqkn5/5Ux2TP17wdn5XFnD6Yw+eNAN1YfEfODt/boVvwXvb+ESNQmjSbmOunbsyzRuCdd9wp9gAnaZEW1VSk6p8u8oLKcSvteDGOsNZAx0WXTYoGPM7bPWYX7+qecjFPOn7N/fPB6/Ql/wdeTEykWWLg++uT/vkjz6vSk3Xo7a/SuJiAmLPEGNeJbGq96DAbv2zGtRGoueevubjHzCxkvei3JY4FrePCwdot9Zh9ai17in7CKXol15M0Plt0PNC5czkNPUYfX1cvzxuBAwmoF0/ZkH7gtXXr0Gnl/6jRD+QC2kN7MAAGwECTARiBn4IDRqAJ3a8asp/KL8ZFfsEAGOiEARiBn0okjACaxE+xhXHBFhgAAy9kAEbghWJip4vH+mAADIABMHA0BmAEYATgrMEAGAADYGBgBmAEBk7+0Vwr5oudFhgAA2Dg9QzACMAIYCcABsAAGAADAzMAIzBw8uGsX++soSk0BQNg4GgMwAjACGAnAAbAABgAAwMzACMwcPKP5loxX+y0wAAYAAOvZwBGAEYAOwEwAAbAABgYmIFVRkCehNdvEzSABmAADIABMNAjA//1GBRiQrGCATAABsAAGFjHAIzA2zqhABR0AgNgAAyAgR4ZgBGAEcDXHmAADIABMDAwAzACAye/R2eLmLBjAwNgAAxsYwBGAEYAOwEwAAbAABgYmAEYgYGTD9e8zTVDL+gFBsBAjwzACMAIYCcABsAAGAADAzMAIzBw8nt0togJOzYwAAbAwDYGYARgBLATAANgAAyAgYEZeMIInKbL/T7d03+38wdA8kA6Xab77Tx9eMce+OzjfHtyvI/pfCt5i/m7TKcH5gLXXVw35SXXw206f5RjQSd9vEO9P87TLcd/n2w/OF0sc7VGkqfu9VpVb7FWLyfN0tvbQu8NPSfnYl7n/bHp9afEzuXkrDFRi1ojq9nB36ucLtXX9v7yoBHwk2WLXxb2sK/3ZARSs7Z5ik13uWEMm8Olpk1FKvSj96IYzXvS+4Xm8O/zEptx4co25/Be6LFKz3J+f3qtWZRKj9WLXPy8qTXV+AyLVvsjsGnrS8TABlNrtEbfA52T+naJUddX7N/P1ctjRoDdPzczStR9uruO7UCCC8Be1lyDNqyTO34peHbxpciDdjHp8dhtulz4iYBtCOXcAozU3ju/HA8Fpe7LOc07iwJa0IYLMMzrdj7T06Fy36WYyn1fprOr7e/cp16oQs64GXu6y+O/M8cf1dkuPomPzFM4PlsDUoMB9FpgNTb20E8vpq7epjeqS12LdH7qvVSXqg9HPUttHk3r2P8yS1K7oIWnkTyng9d1TmUOUy+WOad61Iws1f9jRsCKmxYNHzY96aUJdXc8aNNsgmnBFEmMTYAXEVMExoBVC9DcvbbAQfnkOYT8xXmw0YtzLKCxKYj5X4qpQx6sXvSe9Yna6drwFrsj62I4TbzkmE+X6Xa7rXxcPYJe87n+OJ/TV3W1FlXNh16cefO5ai8k9fhvb/4Yf9WX3Xhp/QlzDzXmxTCv71/F8th9l+Oz/bitWVuXp42AXgTaN3pMhA7GC0XaNAJOfLRgp0U4F3g5TyVZnmt3YZ5Z2zIPc31pJrFR5CYfzksGRX0mrzfz7JKFpAE9uVE6h0KWpirmMujp7nKkbod6HbngJ1fyNxK2UcWFq9YkcjGKXqWm2/VQLwKkpdg40LXEXlgUndrk36fYa4itvWtdx89aBR1i/bTP4XOP/ZdzFOOM9XWfql5La8XcbynmeXvaCESR0yRVA5y/8bGTsyG2lUaADZVspGrR50VBjScLP7xuNde0azD5iQ1a/IjLHOcFnuGLTwQYTKlBzL+F04upx7xHHfkJAO/QOBeeXvFxXjdGoDKCkYe5+IqxlByF1wPoxbW8+LeuK2LNLuq9GgFnI0T9I8Sbe1WtUV89JsZ3l7+xMfVGtZT14B8mi360yNnb9JAR4AWkFDrvBrj52eIe+L1auGsd8mLJiaQkRx1JZ/6ck2nGy41BFUd9n7iot+FQ90qgBQPAi3tp3F6j1sU4F1NfRRp0juyXWojaa72KjjF+/5qjaqPYkZzK5sWfp7+ZW/M5fw3F3PWo1/o867oK181r7XNVWLR9oR6/xfP6Odt7PP7en3eIUa4zXgyP3/Mv4py/Z4hPxhtjK9p48fsczN3nISNQdoppYckLR3uhmZtE18fMwq1jdZIsjED57q+AXTUCOv8ynfOjsnKuvtc8HHJcr0kX8OI4qlGn/MfPFmKqGn9rvkf53NfV6qWNgqPRgXWR7GTm8m6urY/WhPPtnd+XXlmjxZyHuI2JzLqyXskcpKcEhTs+7tRrvu+etXZiD/POa414kpl+0OzzxDoc9a+fv5JnTycvr/PxP2YE0i4oPzLmX5bbR1YZuPlJrC+MA46zaARkocek3rMDNAnlIlBPCeI55ZoZjdL1VcFQc7nn3zLYxk7vQ45TfuP7YvoIytywLJg2ppn5HZQXq0f1Hbhp3lbfw/OvjGDIb8w5c+brU/ip4u9dr9Wc21oK2pqeYH8sR7kQO0ij5WG0tnE0NfM06qzH2ByaeqP+K9aEqt6a2hWdHjQCBchsBmACnP+xC/6+uHav+QeElGQ+HgpYN1FuqlHnuPPP16YEb1tY2DjwPcNf0ThoTHPO5ZT+B3FK8+bFP8wr/vNBMcZiTAXAqjGtgHaP18TiK5qqJyb8SJcN88wj8z3GtmpOqTm1+oHWR7DC2ohGFu6nzy/crZrLQRmqY2stcvFz1poNV76+qr9Sb16v2KXWdvFr5rSlUYk569Ic4wDnqpzKzWOcu+zHdT9fju8JI7A8eBcJOAA8oZCrZvCr8w7FqJs7co/6AANgAAwcgwEYgV9dMH8CirB7/81F2D6abPyA6fC6/kSuMCYWBjAABvbHAIzAkRes9Ljo158G2MfA5rEuCn1/hY6cICdgAAy0GIAROLIRwNz932VAF+gCBsAAGFjNAIwAYFkNS8tN4nPsNMAAGAADx2UARgBGAEYADIABMAAGBmYARmDg5MPBH9fBI3fIHRgAA69iAEYARgA7ATAABsAAGBiYARiBgZP/KjeJcbAzAQNgAAwclwEYARgB7ATAABgAA2BgYAZgBAZOPhz8cR08cofcgQEw8CoGmkbg/f19wn/QAAyAATAABsBAfwxIEwEjAMMDwwcGwAAYAAODMQAjMFjC4eb7c/PIKXIKBsDAMwzACMAIwP2DATAABsDAwAzACAyc/GccJK7FDgQMgAEw0AcDMAIwAtgJgAEwAAbAwMAMwAgMnHy4+T7cPPKIPIIBMPAMAzACMALYCYABMAAGwMDADMAIDJz8ZxwkrsUOBAyAATDQBwMwAjAC2AmAATAABsDAwAy82Aj8m76+79P9fp+un304pW2O93O63r+nr38m9n9f0/f9Pt2/v6Z/z8BG4zjjPzjmv69vylXIl/7vdffYpp/R7cG4/vqeWtday8+r1Ps6fR40zkd11vEHLWqN5Nhaz/H0klpUrz+vpnbv0/fXv7Koq+PzOoex96j1el5C/x1g7VE5NfkWvYRyef0sLIhjlqOXGgEJEYxAWtSSCVDFOZMQmyD1/ieMgANKzCMartJ+bc6oSEXDpfdFS2pqwhCS1uL9Q/dcO7ddnBeaddFjMV6j33h6zZvjwFOz19p+YbSstDfH96H1el7YMDT12AX/8/mscmLnnNaTEqNvfmIPv093p79793idEUgT5J1lmeiTgVshdv0+JEUsAqxJlYzy5IT0MgsBAx21FE0zFfb1Knby5tp3KuZ1O06CpZpbyJcDlxpXxBjywXGmJwvW9GQo6bi5dtf53M5u3TwlE46upHXfmqjGE1ixzDYZiHWieZJ6bs+PmkvzvkcZN+jTZof6iKrvqKffm3eq9VpeQn+6Xrt/IlDn1LCae/F1uoYnjyr/5lzB/4uMQGxw4dH3V3rs6cPWnkgfBSqbVNKkSkRdcDK5diFR7znJecx4j9woabGWjaE1h5gHGjuPJXMTr8s5tOOq9+ZcYyLU/AN4dK0wNwLGLhhQ2qyIl3Iqcybz0OHrz+v0/S2MrDTOFQuWraBHXT9dcFPFvib3n9P1+zt+7ViZcF8n2Wu0bjvVehUvYe6hp3gxrNHxKOesiO/f1/SVvpZv57qO9yVGgG6YCjq+nnlc9RDw9cQ1xHs5HhIVmnpMmPvdZ1goqh0RX5e+o6uOp/icRWMp2XPHW0aAPs+Pb5cayhycJS6ZrzCnbF565IENW2jOrVymuOfyIzXr5bVmi41SywgNys/amkicZcOeFsJYW7Fuy7HYQ1o1H58C1nn461pdw0s4J8Y814v2skY8Mw+uhxjn0tP3Lb3leSNAO6DS2OnmI/xgwy1WkaDr50RamIUggi0f3fNrLkIxht0trTUCciEKi5G767c/DOJ5hL9yxx7nM9dQVEzyXnYeadcSAO7VCKxpXLyox1qRWj/TJI57bbthBfa4Lkp84fxe+WE2Hv6bn7j1YQQ8HRQvocfkHuv3Km+MY37Ga4PoGanH2v4c4lM6uetVqaknjUCEjZ2J/TtesaZE5cXQvl/Y8atkSW1T4inpujGqZIuFl8FQx9X4aS55ruW7fp03v7howZPXhrGTKcwLvTPfYxZgKZj5+cecaf38gqS8KMO19h79neeyRKx67Pkaz+elP82a8VLNhX7h69TuB8fRuvASYpT90Iuhp9yH+GS8MbZWTlufe+zACJjF0RNp/WdOotLiyAvz9u/IBdzOwiqTXQqkwC+P2zi883kxz/Pd3FCk2RFzf6nOJT4b09++X9N84zlLXxn8bRw/pW9bH2ueYvze+U6NDcFWnROq37wbTsdDv0mf1bUf9Sy1Lcfco9benKKxJl7ExmeMTaifvzrPMa+tz73e8qQRkCCJmw/91UDt2Khgs5OLyVSP6/PjPLmIJm3FsfjrfD2+TLZtDPG+C18N2F09P1LK8+WdvrgvzYnf28VeF2+cg3iU1fkPeqp4lVbp6YBt3gMtZL4+kg/TUyT//O/cB9ZPNfG0EJaF3dSi3TgYLdVYgUFznHL1x1pv48XE32NdmRzxv9gqDJT6kWtDlWujDYyAEWRJsPnjrd1KWvzz4hqBLS5WNkI+l7+z5wWXH92L97xo58XcXHv9TP8DIXL8AgoVWb62fM6/zFa/FSAAnTnlBsLHauNBQIrfB3jQzusq57b/17F5FT1yvDM7mHzOS3ncp1ZaH80zHTOLjz7fZ7knfjbFYpiqnqzM1O1RtNb517xorQYwAk6/bfWOPzUCOjH7bESYI/ICBsAAGAADYCAy8PInAhAWxQUGwAAYAANg4DgMwAgM8CgWBXmcgkSukCswAAZ+mwEYARiBVf+nFL8NJu6HZggGwAAY+B0GYARgBGAEwAAYAANgYGAGYAQGTj7c9u+4begMncEAGNgzAzACMALYCYABMAAGwMDADMAIDJz8PTtUzA07KDAABsDA7zAAIwAjgJ0AGAADYAAMDMwAjMDAyYfb/h23DZ2hMxgAA3tmAEYARgA7ATAABsAAGBiYgVVGQJ6E128TNIAGYAAMgAEw0CMD//UYFGJCsYIBMAAGwAAYWMcAjMDbOqEAFHQCA2AADICBHhmAEYARwNceYAAMgAEwMDADMAIDJ79HZ4uYsGMDA2AADGxjAEYARgA7ATAABsAAGBiYARiBgZMP17zNNUMv6AUGwECPDMAIwAhgJwAGwAAYAAMDMwAjMHDye3S2iAk7NjAABsDANgZgBGAEsBMAA2AADICBgRl43Ah8nKfb/T7d5X+38/QxlJgf0/lmNEh6XE5rHdlputzv0/rzF8Y9XXRORH5edY+P8226D5fred1PF8vBbTp/1NeQdpdTV02XYhKclZ5wmU6pH6zVh3dyeswyDh8f+q/pvbfzh+ZJ9QCfQ6nfrrUOscz2mhf3z52uX0v1o49vr5eHjYCGJzXB2YTVTVHCeMzX0QhUCywV4nIBxphfDHKrcDbNaT5XlPvhcj2nScjhcvHlmunMCNS1G5kuC9Q6ffI4xGrRE7xJ9jxtxUaCTILoPUbLrDEveOb4rrSmud1njQAvgFUP5vi6+DtfP6SB6MeP5PBhIxATIIDrQnBZcGteN4zAW0ic1iYvArRzksdiYV8uYicvkirNQt5pzS0koXiq60Msca6lOYfP4r3rcdPn8j5UlHHeEbTLdBFPQ/S49ZMSfXyNtgc6JzRfV/MUQ97BXaZLeHIgde2wbmxjelvSR2nQ4lTWzIHYULG9YN52oX97m4LeXF+kveKr1aPCXPaqNfel23S5zDx9DD3pcnntE9VX5+sV483WT1o/1BPo8Nm2ennQCNSN3l98XgD+K4T8sTEaRUaAlse/lUOjRZV3PAw9v4+FXfS0ifaKV+gcxnYXJXvdwriq4ehz2dRkF07xMHiJDdGM4vl8XMz1x/Lyy/c4Xabb7Sa+kjGxfpyncyrUulH/8lx/WnPFTYptSR81J81aNMKW3c40U/EvxRb14YWfzXysRV+nNnN71fo0ndPXHVXvzFqFuYee6cWwpOHBjm+qn7eJjPfvGIEoft5J8veD7gJ0MNEzaGvmnRY9jl/+zVoErczCoFy8A7JoplQIYlGlxkjHi3FQj/taRkAt1m/TmnGpgdzO09nsYuvidGKQOop41FzlOQd+TXrIrwaM1jLmdlNew9v+z/Hi26JPXNjm6mX/Gsh8/8xr2XekVvHzbNBTTbm1TseWetPfa133mjin8Hk0Qwu958B9hdnZVj9pI2nXjAUdHnsiQI1dfnfDYEoo/x4iFvLn/vqFFx1Z+t6OtZImIb0uIFvdCtzUWJ1r73LhkUmmRcj+cC281/dYN26ch71XXZxlvlJrfQ99f3lej6+9BTHE2fq8Dw18DrzY2jqEMWpWwvllFzxCb2nEmPpJWeyj5lEbvx9RvboLw/61rntN2vGqjZb4jYTshR2/btUPfd5aG2b0eMwIOAPGCYyWEL/wVMNf3A17xRiLOxR7K+Fec6XPqicCcSz7vfS6cdO1pjHXxVnmm2MP5oWLdVGDRtNzOGvGvbNzW813ne4H1YNMaONJlclPSx/9qJt1iHUGI5Ce5HFdsaZZd1+nNnO6bmNt+WP8Vd3VvSbMTxpFLwbmpt+/Xv1Qnh8wASG3jxkB3nVml+kvGH8Fz+/dNxZNcecFvJCUsuOfM0gOyGLhrAuh3MONszIC/J0Rzydev2ZcbiD0VzSf+loZQ3gtC5Xvbz7jJnb4v37jLPnX+WJN3dwdXAs/tm367PcHbDqPf5W/uvbeprdsBLyNQ7tHHUHrKt70RKT6Wvqu+9tf5ef1911TP/GcvPF6oI88ZgTsr8350XU2BvsomtcnxcbVKDKxkIc5EMzKqdmFU+ye0y95yw4+nit3Q1VxyMR7RiDPQRqShXFFc+FdGs+hvn8dTzFH8Zj9auLnc2Nz9XPvq/wq7fR9/cVSn3NMbfyG5fI/ow/Fbo7XvPWg14MxpIXQ1hfXZvVDMaNlxZY5vjetl+cje8+Dmsr+ucPXS/2FeorYqFU5XhHTg0YgCM4NPn0fPZwJCBokJ8ZGSPwthRrhpGS5x4OOt+l8nvnng9YFzyU9FHbjeJyD2Jm3xk2f5+YSQKKGEa+ti9MUI53Lv1MI18TjarwVcD4C9F9dE4tVxuw3pX6NgGHA5HdOn5onNs+s57qvG/4q979+X1u3tvdW9VdYPJrW3ny13vPc6XOLDkf7vFk/lgV3jVmO+wkjsDz40cTGfJFTMAAGwAAYGI0BGAGzcxkNAMSLpgcGwAAYGJsBGAEYAf2/Uw49oAcYAANgYCgGYAQA/FDAY+cz9s4H+Uf+wUDNAIwAjACMABgAA2AADAzMAIzAwMmHM66dMTSBJmAADIzGAIwAjAB2AmAADIABMDAwAzACAyd/NNeLeLHTAwNgAAzUDMAIwAhgJwAGwAAYAAMDMwAjMHDy4YxrZwxNoAkYAAOjMQAjACOAnQAYAANgAAwMzEDTCLy/v0/4DxqAATAABsAAGOiPAfnUA0YAhgeGDwyAATAABgZjAEZgsITDzffn5pFT5BQMgIFnGIARgBGA+wcDYAAMgIGBGYARGDj5zzhIXIsdCBgAA2CgDwZgBGAEsBMAA2AADICBgRmAERg4+XDzfbh55BF5BANg4BkGYARgBLATAANgAAyAgYEZgBEYOPnPOEhcix0IGAADYKAPBmAEYASwEwADYAAMgIGBGXiZEfi83qf7Pf13/QRUD0D17+t7ur9QO8rJI+N9Xqf799f074EY3t8/p+v9Pl0/+3DK23Y8/6avb1EHXA/hr5uHTrX69zV9i9i/v/6pfqB6BZ33PX39a/NCdZHHu06fD3HZHn9bjv9qnMhWXVeRIe69Vuv3UMtZu3mdgw770hr15LKpcnqfbM51fa2rl5cYAX3j2Ajt5NyAhizodiOBEWhrc1h+qGj9Bsx1Uzf3I+sQF6ZS/9bshPfrmhPlnPQr51ONPGxSj6prWRA1K/HzptZkyAR7RsuqpszxXWo9XD0ZZpPJLhzo+opGbnu9PG8EsvtPN+f3wxWrSdgDJmfRCLC2LYevjl+na3hKQztR2zDCXDVAqimEYpvNX2lMvNtoNqP3uXOf10zN+wHNf/b6qHHRRsQbNL5e+3t6QgyKxef9fQqGJ2sQjs+yJTRK7ORrKb9BUz3+z+ZQzuf3X8fGHurYYcUs3EEH2UPIaKonUbEWyyIi42n1iD1pPWA9mZ5W51TmMNaaevpI9ViMQatWnjcCBKModDPx1o3xuU6gLeJKn7TIlyJOCyw3VXs85YWhoAbB54YchePyvczb3DFe2EWDic2KG4Y0GGmOzXNrDaq45bwO9rrSPM8/aBSKU2rVixa2WZsYP6/T9/f3ysfV5lrSz1uwetGujuPf11f6KqTWwuWL6j6w5evUXkjq8d8bY/xVjbrxEhNh7r3Wk2TCy5E8zl/tlIW/rZm+7mkjQDcK3wlfxXdRrQUmN0I9ib8Ca2/3JS3Fork0P5lk+ZqvU0VPRoEXa7NLs3mZNQJO7tTYC7Cqc52x7FwO+76tQ8hV3OW2z+EcHvNvMoDO9//EqfxqgBauwqWON+hTHwtc66cEPXPEsdWskJa2X1B9FSNQNg5xHPcaqrG9a13Hz6z0X0+SgVAPUQt+GmtzrH4XYvlo9NOXGQGeVP4LM6B+IMXQzv1tFymDEP5qCHhXrxb9lGw9XmzOEZrwum6weW4rjQDds/qawi9Y/1wZV2ev887MxBUada4NX6uch0bR7vo4LUTyx6IxxrmF22M3xhiurTkN58+Nt2t9Hs5pzYqu78RZr0Zg1HpSvEQG7tJIm3qjWsr9pX5C0KqNp41Adh/ZefBk6wJuTQKfxyJ2CzuDwLqWJkjnp6R7zdSOl9+rxcgsVOF+C0aA7hUMAANHMHK+dcOaP9e5d4732Me8fMRHraxTiE9r1UMdSCZzPK0mnnKduaxy7+njP/LO96rGODZHJa5ai3mtfZ18Llss+mOUOf2etv687Yam1ugv5vpz9wzxyf4R9S/aePGvy+HzRiA5Ev4umr9XujsT/jmBfg/In4yh3RD9xVk2Avma51gASfpQrq7TV3403dBt1gg4MDaNwNK5jfsfvpl7Bfk+vXOt5Kco5Z8a9rLD9TiMm4XyuNrGGji1n0WGvSbmMHV4XtbUgcOUY7BkD6nqP33nXz1KJv32rLUTe5jzAPXEvVzWg81fybOnk5fXmrfnjUD6VXD+SoCbHO8WhyjSWlidwHXHZRFX19uip/diV253l3w8P6kJc4hQLJq0cG0zfxa2+L6MKY/L1+H+9tx1ulRa7J0pZYzmYrT6zJ17kGOpOZdmFWPkhZ4Yl482Ldc2t+a4azTsNV2+91ixTd6cYzk0WlZ1ZY7vRmsbRzO/Jv7meQepJW/+JkdshrjeyBSI3l3Vmzfm+/v0EiNQFpi0wxETqWBrTATn8fc5ZZeYzVVazCnJ0mgRFOJRUWrCdN331/SV//lgAX9VcdO4zjw4r+p4uL9s9qYYZ88t8+oq/xRz+eVuOzajVS+1ITkMvCozajkX/PI/f2POkh6xmTGPa3TtkasWK/Fz7hVsuDJzVf0VbbxesEutR68n2xdUTuXvcWJu1Tqx8sn8i4xAgSsDaCeP95t/PPgTWoZCr5oFcrOL3PxEvjEmehMYAANLDMAIDLUIhkeJege2BAiOo4mAATAABvpmAEZgFCOQHifhaUDfBY2GjfyCATCwlQEYgVGMAOLE438wAAbAABhwGIARcETZ6qZwPhw4GAADYAAMHJUBGAEYAThkMAAGwAAYGJgBGIGBk39U94p5Y+cFBsAAGHgdAzACMALYCYABMAAGwMDADMAIDJx8OOrXOWpoCS3BABg4KgMwAjAC2AmAATAABsDAwAzACAyc/KO6V8wbOy8wAAbAwOsYWGUE5El4/ab+DxqgB/QAA2AADICBXhj4r5dAEAeKEgyAATAABsDAdgZgBN62iwbQoBkYAANgAAz0wgCMAIwAvvYAA2AADICBgRmAERg4+b24WcSBnRkYAANg4HEGYARgBLATAANgAAyAgYEZgBEYOPlw0I87aGgH7cAAGOiFARgBGAHsBMAAGAADYGBgBmAEBk5+L24WcWBnBgbAABh4nAEYARgB7ATAABgAA2BgYAYeMgIf59t0v9+d/27T+eNxV7IPR3eaLvf7dDt/NApj6fj6+EnH23n6cACcO7asU5zj5bR+LstjYqxVGp0u093J6eki6+UynZycrxp/t9dF5rgv9tvk6QAABsFJREFUtNn7mM63ufqKnOke06Ner6mn2T7RYNFytm+tLS+aM+Yt/G337NdobXX71fchl2LNtbE+219eawQup8bieaREpIX+dpvqZhahfBV0c0U8d2wZQBiBZY1+gEkuVmMEqEjFZ8/l9gfm/bS5SDXD5vnjPN3u/qaAFx3byFS+SMey+Pen14tySDrfXeP51mBR6RzyvnOt1/ASzym8VDE+zfeL8vXoPFKey3qk+7uN/5F6ecgIWKHtROzxY71PIp/P080am5CQ22W62B0NF112bBrKqA/vCEuDtAmLri4et8fe3uK8sis0c1P3uFzoqUYBR4IcxrlN51No1mlOtEjJ8cscY+7kMe28w31v5zPdL8yN76nm01gUjsWF1NC+Zn1u0+VyM405HmNdip5WYzvmgd6bxeTtze7iUiyt+lEN0rs2aNiRXireR/McdGrzdr97x+y9dq71Gl6qRdLGePz3tC6Yfi97Z3WcNNFrkDzfe/28EUiJmHX4LwH/txLKjTsUiRYzLnon/WiTmqBsUmlR4MTZJine02KZdorzu0aeE2ugCzguumWu0VCURVknPs0v71DTe9FoNVjxeMmvfh/vLeN/m2RcdG8Rs54Lx3P0v6fpnHbDVewe+1QzWrOudHHjiwvX+UOzW8cd+dLGaemao/Ozff6Bs1CTNW9bWNyz1ut40b1qu441f3sbw8uRniMxcC/9v2ZCn+/F/LQRiItOmYR3k2N9VoQPgpaGtA7MEGuBc76BccJO9JsLrSEfC78foNdsLHhhya7Pu0eJoda+Plbmm4AJC3cyCnIeeSyxsNfHw/j1IhfuUczEMpj5XhzvQf7WetSxVnofJLblnES23K/OAjPEsMer1GhsfpY1DloFjWK/mONt7li8z461XsOLazglSz285hyFv/xU2dnkUU9Ox+1asaK/PGcEKBG9NfgoOBmAEB+LGl7T4thoZEkL/ehejOUkgwqVk8v3SefJIqaFg89Tf0Mz8O4R51hMjCyI+vxqkQ5QyScVZm5vFGujEVkdxHxhBJJJFO59XeOX+TvGa212AnNsdBv1k+sjnDuukVzDQ9CWa1v2CXvt3LF9G4F1vCzHd4xasXnT72O/vuf6eZti/y0MUK3lJ7xp4yjPz7XV1uMpI0CJEN8L6wDaN933eVH4WGihacWmFGKNC5lpZGLh4+IsTVCOVesR9fMXcwl5Ga8eg387wPeO2v61Eagb+b5z7un62GcybzZmyuPGArVjHOY97VDi4h/iLnya+qmalFczS9c8lqvDaCk1yjvlGPMcb3PHYuz71HodL6MwEXJU99OyJrwmh08YgZgI5VQksId9rYUNxXQ7h98FcDI0gFRsZsdckqTPtY1HFiq9FotEdUw4Pj2Odw8dgz6/Phbmq3br4omAnEceRzT5+ng9fr7usEysX2hqPcK1qVaaOVw//h61dGPOjEQe8pMy8YQoflVgY2/xzPVnzx/rPfUWqWF+zU9cih5uXlQN7lHrlbzQBmwEJmKOipGO+S1rjNdvvbwWLrwe8oQRSAnrrrkZYXnHn+PUIttio/ehONkc5IaYEiEA1tfGcfk6fSzOSS7W6ri5BzcLC08EwMSXftMgx6Z/UpTjtffW79U8UpOhz4Sp8Z9azIPpwXqEzzw9KB9Zzx7jtkxpRnTedP3oY0kbw7OnqXudWuR61LmOaU6buWNZv91r3eDFzDvH0yMDNta0JnF/t/2F8q76b82N1etxI1AtkMs3szff53vb1CyI/vu847mc4o/7RCJiYuofelSFKhLcOpbvYxYWeQ/+53wMitbZxhe/t24bgZDXeA3fW55bzTMVIpsRvsafSy/MlDgqPbhO8s6t5kDnp4x1qM9NnJIRHYetH+dfmfAPZLNm9W5Xj3lQzV6waFW8iTG9Y83Pdqt1zUvIvRdH10yQGWj3Dt1vtz8pedwICOC6TgDi7OB/JGrchQK1idyDATCwxACMABZ6LPRgAAyAATAwMAMwAgMnf8kl4jh2EmAADICB/hmAEYARwE4ADIABMAAGBmYARmDg5MPp9+/0kWPkGAyAgSUGYARgBLATAANgAAyAgYEZgBEYOPlLLhHHsZMAA2AADPTPAIwAjAB2AmAADIABMDAwAzACAycfTr9/p48cI8dgAAwsMQAjACOAnQAYAANgAAwMzACMwMDJX3KJOI6dBBgAA2CgfwZgBGAEsBMAA2AADICBgRmAERg4+XD6/Tt95Bg5BgNgYIkBGAEYAewEwAAYAANgYGAGYAQGTv6SS8Rx7CTAABgAA/0zACMAI4CdABgAA2AADAzMwP8BXMMBfGY5yNIAAAAASUVORK5CYII=)"
      ]
    },
    {
      "cell_type": "code",
      "metadata": {
        "id": "BtatCV4Nkk3r"
      },
      "source": [
        "New_student = {'Name-Surname':['Lady Gaga', 'Kesha Rose', 'Bebe Rexha', 'Lady Lala', 'Mackled more'],\r\n",
        "               'English':[80,82,51,74,12],\r\n",
        "               'Computer':[85,5,75,85,34],\r\n",
        "               'Statistics':[100,50,80,100,41],\r\n",
        "               'Math':[74,54,14,74,47],\r\n",
        "               'Science':[68,61,52,68,68]}\r\n",
        "\r\n",
        "New_student = pd.DataFrame(New_student)"
      ],
      "execution_count": null,
      "outputs": []
    },
    {
      "cell_type": "code",
      "metadata": {
        "colab": {
          "base_uri": "https://localhost:8080/",
          "height": 204
        },
        "id": "PdgFAij9m0EL",
        "outputId": "ac5d7dec-3bb3-46f5-dd4b-c55c56084013"
      },
      "source": [
        "New_student"
      ],
      "execution_count": null,
      "outputs": [
        {
          "output_type": "execute_result",
          "data": {
            "text/html": [
              "<div>\n",
              "<style scoped>\n",
              "    .dataframe tbody tr th:only-of-type {\n",
              "        vertical-align: middle;\n",
              "    }\n",
              "\n",
              "    .dataframe tbody tr th {\n",
              "        vertical-align: top;\n",
              "    }\n",
              "\n",
              "    .dataframe thead th {\n",
              "        text-align: right;\n",
              "    }\n",
              "</style>\n",
              "<table border=\"1\" class=\"dataframe\">\n",
              "  <thead>\n",
              "    <tr style=\"text-align: right;\">\n",
              "      <th></th>\n",
              "      <th>Name-Surname</th>\n",
              "      <th>English</th>\n",
              "      <th>Computer</th>\n",
              "      <th>Statistics</th>\n",
              "      <th>Math</th>\n",
              "      <th>Science</th>\n",
              "    </tr>\n",
              "  </thead>\n",
              "  <tbody>\n",
              "    <tr>\n",
              "      <th>0</th>\n",
              "      <td>Lady Gaga</td>\n",
              "      <td>80</td>\n",
              "      <td>85</td>\n",
              "      <td>100</td>\n",
              "      <td>74</td>\n",
              "      <td>68</td>\n",
              "    </tr>\n",
              "    <tr>\n",
              "      <th>1</th>\n",
              "      <td>Kesha Rose</td>\n",
              "      <td>82</td>\n",
              "      <td>5</td>\n",
              "      <td>50</td>\n",
              "      <td>54</td>\n",
              "      <td>61</td>\n",
              "    </tr>\n",
              "    <tr>\n",
              "      <th>2</th>\n",
              "      <td>Bebe Rexha</td>\n",
              "      <td>51</td>\n",
              "      <td>75</td>\n",
              "      <td>80</td>\n",
              "      <td>14</td>\n",
              "      <td>52</td>\n",
              "    </tr>\n",
              "    <tr>\n",
              "      <th>3</th>\n",
              "      <td>Lady Lala</td>\n",
              "      <td>74</td>\n",
              "      <td>85</td>\n",
              "      <td>100</td>\n",
              "      <td>74</td>\n",
              "      <td>68</td>\n",
              "    </tr>\n",
              "    <tr>\n",
              "      <th>4</th>\n",
              "      <td>Mackled more</td>\n",
              "      <td>12</td>\n",
              "      <td>34</td>\n",
              "      <td>41</td>\n",
              "      <td>47</td>\n",
              "      <td>68</td>\n",
              "    </tr>\n",
              "  </tbody>\n",
              "</table>\n",
              "</div>"
            ],
            "text/plain": [
              "   Name-Surname  English  Computer  Statistics  Math  Science\n",
              "0     Lady Gaga       80        85         100    74       68\n",
              "1    Kesha Rose       82         5          50    54       61\n",
              "2    Bebe Rexha       51        75          80    14       52\n",
              "3     Lady Lala       74        85         100    74       68\n",
              "4  Mackled more       12        34          41    47       68"
            ]
          },
          "metadata": {
            "tags": []
          },
          "execution_count": 281
        }
      ]
    },
    {
      "cell_type": "code",
      "metadata": {
        "id": "uMzRf8R2m5Hj"
      },
      "source": [
        "Dataframe_1 = pd.concat([Dataframe_1,New_student])\r\n",
        "\r\n",
        "Dataframe_1.reset_index(inplace=True)"
      ],
      "execution_count": null,
      "outputs": []
    },
    {
      "cell_type": "code",
      "metadata": {
        "colab": {
          "base_uri": "https://localhost:8080/",
          "height": 297
        },
        "id": "Rc5hBC_knUgF",
        "outputId": "daeaa2fa-a21d-4606-ecb2-634db0239704"
      },
      "source": [
        "Dataframe_1"
      ],
      "execution_count": null,
      "outputs": [
        {
          "output_type": "execute_result",
          "data": {
            "text/html": [
              "<div>\n",
              "<style scoped>\n",
              "    .dataframe tbody tr th:only-of-type {\n",
              "        vertical-align: middle;\n",
              "    }\n",
              "\n",
              "    .dataframe tbody tr th {\n",
              "        vertical-align: top;\n",
              "    }\n",
              "\n",
              "    .dataframe thead th {\n",
              "        text-align: right;\n",
              "    }\n",
              "</style>\n",
              "<table border=\"1\" class=\"dataframe\">\n",
              "  <thead>\n",
              "    <tr style=\"text-align: right;\">\n",
              "      <th></th>\n",
              "      <th>index</th>\n",
              "      <th>Name-Surname</th>\n",
              "      <th>English</th>\n",
              "      <th>Computer</th>\n",
              "      <th>Statistics</th>\n",
              "      <th>Math</th>\n",
              "      <th>Science</th>\n",
              "    </tr>\n",
              "  </thead>\n",
              "  <tbody>\n",
              "    <tr>\n",
              "      <th>0</th>\n",
              "      <td>0</td>\n",
              "      <td>Post Malone</td>\n",
              "      <td>80</td>\n",
              "      <td>NaN</td>\n",
              "      <td>88.0</td>\n",
              "      <td>45</td>\n",
              "      <td>85</td>\n",
              "    </tr>\n",
              "    <tr>\n",
              "      <th>1</th>\n",
              "      <td>1</td>\n",
              "      <td>Meechoke Kaedum</td>\n",
              "      <td>75</td>\n",
              "      <td>80.0</td>\n",
              "      <td>100.0</td>\n",
              "      <td>59</td>\n",
              "      <td>70</td>\n",
              "    </tr>\n",
              "    <tr>\n",
              "      <th>2</th>\n",
              "      <td>2</td>\n",
              "      <td>Thanapon Rabbur</td>\n",
              "      <td>69</td>\n",
              "      <td>94.0</td>\n",
              "      <td>95.0</td>\n",
              "      <td>90</td>\n",
              "      <td>50</td>\n",
              "    </tr>\n",
              "    <tr>\n",
              "      <th>3</th>\n",
              "      <td>0</td>\n",
              "      <td>Lady Gaga</td>\n",
              "      <td>80</td>\n",
              "      <td>85.0</td>\n",
              "      <td>100.0</td>\n",
              "      <td>74</td>\n",
              "      <td>68</td>\n",
              "    </tr>\n",
              "    <tr>\n",
              "      <th>4</th>\n",
              "      <td>1</td>\n",
              "      <td>Kesha Rose</td>\n",
              "      <td>82</td>\n",
              "      <td>5.0</td>\n",
              "      <td>50.0</td>\n",
              "      <td>54</td>\n",
              "      <td>61</td>\n",
              "    </tr>\n",
              "    <tr>\n",
              "      <th>5</th>\n",
              "      <td>2</td>\n",
              "      <td>Bebe Rexha</td>\n",
              "      <td>51</td>\n",
              "      <td>75.0</td>\n",
              "      <td>80.0</td>\n",
              "      <td>14</td>\n",
              "      <td>52</td>\n",
              "    </tr>\n",
              "    <tr>\n",
              "      <th>6</th>\n",
              "      <td>3</td>\n",
              "      <td>Lady Lala</td>\n",
              "      <td>74</td>\n",
              "      <td>85.0</td>\n",
              "      <td>100.0</td>\n",
              "      <td>74</td>\n",
              "      <td>68</td>\n",
              "    </tr>\n",
              "    <tr>\n",
              "      <th>7</th>\n",
              "      <td>4</td>\n",
              "      <td>Mackled more</td>\n",
              "      <td>12</td>\n",
              "      <td>34.0</td>\n",
              "      <td>41.0</td>\n",
              "      <td>47</td>\n",
              "      <td>68</td>\n",
              "    </tr>\n",
              "  </tbody>\n",
              "</table>\n",
              "</div>"
            ],
            "text/plain": [
              "   index     Name-Surname  English  Computer  Statistics  Math  Science\n",
              "0      0      Post Malone       80       NaN        88.0    45       85\n",
              "1      1  Meechoke Kaedum       75      80.0       100.0    59       70\n",
              "2      2  Thanapon Rabbur       69      94.0        95.0    90       50\n",
              "3      0        Lady Gaga       80      85.0       100.0    74       68\n",
              "4      1       Kesha Rose       82       5.0        50.0    54       61\n",
              "5      2       Bebe Rexha       51      75.0        80.0    14       52\n",
              "6      3        Lady Lala       74      85.0       100.0    74       68\n",
              "7      4     Mackled more       12      34.0        41.0    47       68"
            ]
          },
          "metadata": {
            "tags": []
          },
          "execution_count": 283
        }
      ]
    },
    {
      "cell_type": "code",
      "metadata": {
        "id": "hvanc2Gxn9VT"
      },
      "source": [
        "# Don't forget to drop column Name-Surname\r\n",
        "\r\n",
        "Dataframe_1.drop([['index'], axis=1, inplace=True)\r\n",
        "\r\n",
        "#Don't forget: .drop(axis=1) will remove the column ..... inplace=True to replace the dataframe"
      ],
      "execution_count": null,
      "outputs": []
    },
    {
      "cell_type": "code",
      "metadata": {
        "colab": {
          "base_uri": "https://localhost:8080/",
          "height": 297
        },
        "id": "U_n1hDGwo4b0",
        "outputId": "0d1d00d0-3633-4c30-c006-195ac4bfb79f"
      },
      "source": [
        "Dataframe_1"
      ],
      "execution_count": null,
      "outputs": [
        {
          "output_type": "execute_result",
          "data": {
            "text/html": [
              "<div>\n",
              "<style scoped>\n",
              "    .dataframe tbody tr th:only-of-type {\n",
              "        vertical-align: middle;\n",
              "    }\n",
              "\n",
              "    .dataframe tbody tr th {\n",
              "        vertical-align: top;\n",
              "    }\n",
              "\n",
              "    .dataframe thead th {\n",
              "        text-align: right;\n",
              "    }\n",
              "</style>\n",
              "<table border=\"1\" class=\"dataframe\">\n",
              "  <thead>\n",
              "    <tr style=\"text-align: right;\">\n",
              "      <th></th>\n",
              "      <th>Name-Surname</th>\n",
              "      <th>English</th>\n",
              "      <th>Computer</th>\n",
              "      <th>Statistics</th>\n",
              "      <th>Math</th>\n",
              "      <th>Science</th>\n",
              "    </tr>\n",
              "  </thead>\n",
              "  <tbody>\n",
              "    <tr>\n",
              "      <th>0</th>\n",
              "      <td>Post Malone</td>\n",
              "      <td>80</td>\n",
              "      <td>NaN</td>\n",
              "      <td>88.0</td>\n",
              "      <td>45</td>\n",
              "      <td>85</td>\n",
              "    </tr>\n",
              "    <tr>\n",
              "      <th>1</th>\n",
              "      <td>Meechoke Kaedum</td>\n",
              "      <td>75</td>\n",
              "      <td>80.0</td>\n",
              "      <td>100.0</td>\n",
              "      <td>59</td>\n",
              "      <td>70</td>\n",
              "    </tr>\n",
              "    <tr>\n",
              "      <th>2</th>\n",
              "      <td>Thanapon Rabbur</td>\n",
              "      <td>69</td>\n",
              "      <td>94.0</td>\n",
              "      <td>95.0</td>\n",
              "      <td>90</td>\n",
              "      <td>50</td>\n",
              "    </tr>\n",
              "    <tr>\n",
              "      <th>3</th>\n",
              "      <td>Lady Gaga</td>\n",
              "      <td>80</td>\n",
              "      <td>85.0</td>\n",
              "      <td>100.0</td>\n",
              "      <td>74</td>\n",
              "      <td>68</td>\n",
              "    </tr>\n",
              "    <tr>\n",
              "      <th>4</th>\n",
              "      <td>Kesha Rose</td>\n",
              "      <td>82</td>\n",
              "      <td>5.0</td>\n",
              "      <td>50.0</td>\n",
              "      <td>54</td>\n",
              "      <td>61</td>\n",
              "    </tr>\n",
              "    <tr>\n",
              "      <th>5</th>\n",
              "      <td>Bebe Rexha</td>\n",
              "      <td>51</td>\n",
              "      <td>75.0</td>\n",
              "      <td>80.0</td>\n",
              "      <td>14</td>\n",
              "      <td>52</td>\n",
              "    </tr>\n",
              "    <tr>\n",
              "      <th>6</th>\n",
              "      <td>Lady Lala</td>\n",
              "      <td>74</td>\n",
              "      <td>85.0</td>\n",
              "      <td>100.0</td>\n",
              "      <td>74</td>\n",
              "      <td>68</td>\n",
              "    </tr>\n",
              "    <tr>\n",
              "      <th>7</th>\n",
              "      <td>Mackled more</td>\n",
              "      <td>12</td>\n",
              "      <td>34.0</td>\n",
              "      <td>41.0</td>\n",
              "      <td>47</td>\n",
              "      <td>68</td>\n",
              "    </tr>\n",
              "  </tbody>\n",
              "</table>\n",
              "</div>"
            ],
            "text/plain": [
              "      Name-Surname  English  Computer  Statistics  Math  Science\n",
              "0      Post Malone       80       NaN        88.0    45       85\n",
              "1  Meechoke Kaedum       75      80.0       100.0    59       70\n",
              "2  Thanapon Rabbur       69      94.0        95.0    90       50\n",
              "3        Lady Gaga       80      85.0       100.0    74       68\n",
              "4       Kesha Rose       82       5.0        50.0    54       61\n",
              "5       Bebe Rexha       51      75.0        80.0    14       52\n",
              "6        Lady Lala       74      85.0       100.0    74       68\n",
              "7     Mackled more       12      34.0        41.0    47       68"
            ]
          },
          "metadata": {
            "tags": []
          },
          "execution_count": 285
        }
      ]
    },
    {
      "cell_type": "markdown",
      "metadata": {
        "id": "xqj9iiz5pCsz"
      },
      "source": [
        "\r\n",
        "\r\n",
        "---\r\n",
        "\r\n"
      ]
    },
    {
      "cell_type": "markdown",
      "metadata": {
        "id": "2DSv04EUpulD"
      },
      "source": [
        "<fieldset>\r\n",
        "\r\n",
        "<font size=\"6\"><font color='red'>Problem 5: </font></font>\r\n",
        "\r\n",
        "- Lady lala has kicked out, so can you remove her from the dataframe"
      ]
    },
    {
      "cell_type": "code",
      "metadata": {
        "id": "PUPgK_x3pDJT"
      },
      "source": [
        "Dataframe_1.drop(6, axis=0, inplace=True)"
      ],
      "execution_count": null,
      "outputs": []
    },
    {
      "cell_type": "code",
      "metadata": {
        "colab": {
          "base_uri": "https://localhost:8080/",
          "height": 266
        },
        "id": "te23fktAqg-k",
        "outputId": "113d841c-d6dc-4e02-fc9f-b18ac5062f4a"
      },
      "source": [
        "Dataframe_1"
      ],
      "execution_count": null,
      "outputs": [
        {
          "output_type": "execute_result",
          "data": {
            "text/html": [
              "<div>\n",
              "<style scoped>\n",
              "    .dataframe tbody tr th:only-of-type {\n",
              "        vertical-align: middle;\n",
              "    }\n",
              "\n",
              "    .dataframe tbody tr th {\n",
              "        vertical-align: top;\n",
              "    }\n",
              "\n",
              "    .dataframe thead th {\n",
              "        text-align: right;\n",
              "    }\n",
              "</style>\n",
              "<table border=\"1\" class=\"dataframe\">\n",
              "  <thead>\n",
              "    <tr style=\"text-align: right;\">\n",
              "      <th></th>\n",
              "      <th>Name-Surname</th>\n",
              "      <th>English</th>\n",
              "      <th>Computer</th>\n",
              "      <th>Statistics</th>\n",
              "      <th>Math</th>\n",
              "      <th>Science</th>\n",
              "    </tr>\n",
              "  </thead>\n",
              "  <tbody>\n",
              "    <tr>\n",
              "      <th>0</th>\n",
              "      <td>Post Malone</td>\n",
              "      <td>80</td>\n",
              "      <td>NaN</td>\n",
              "      <td>88.0</td>\n",
              "      <td>45</td>\n",
              "      <td>85</td>\n",
              "    </tr>\n",
              "    <tr>\n",
              "      <th>1</th>\n",
              "      <td>Meechoke Kaedum</td>\n",
              "      <td>75</td>\n",
              "      <td>80.0</td>\n",
              "      <td>100.0</td>\n",
              "      <td>59</td>\n",
              "      <td>70</td>\n",
              "    </tr>\n",
              "    <tr>\n",
              "      <th>2</th>\n",
              "      <td>Thanapon Rabbur</td>\n",
              "      <td>69</td>\n",
              "      <td>94.0</td>\n",
              "      <td>95.0</td>\n",
              "      <td>90</td>\n",
              "      <td>50</td>\n",
              "    </tr>\n",
              "    <tr>\n",
              "      <th>3</th>\n",
              "      <td>Lady Gaga</td>\n",
              "      <td>80</td>\n",
              "      <td>85.0</td>\n",
              "      <td>100.0</td>\n",
              "      <td>74</td>\n",
              "      <td>68</td>\n",
              "    </tr>\n",
              "    <tr>\n",
              "      <th>4</th>\n",
              "      <td>Kesha Rose</td>\n",
              "      <td>82</td>\n",
              "      <td>5.0</td>\n",
              "      <td>50.0</td>\n",
              "      <td>54</td>\n",
              "      <td>61</td>\n",
              "    </tr>\n",
              "    <tr>\n",
              "      <th>5</th>\n",
              "      <td>Bebe Rexha</td>\n",
              "      <td>51</td>\n",
              "      <td>75.0</td>\n",
              "      <td>80.0</td>\n",
              "      <td>14</td>\n",
              "      <td>52</td>\n",
              "    </tr>\n",
              "    <tr>\n",
              "      <th>7</th>\n",
              "      <td>Mackled more</td>\n",
              "      <td>12</td>\n",
              "      <td>34.0</td>\n",
              "      <td>41.0</td>\n",
              "      <td>47</td>\n",
              "      <td>68</td>\n",
              "    </tr>\n",
              "  </tbody>\n",
              "</table>\n",
              "</div>"
            ],
            "text/plain": [
              "      Name-Surname  English  Computer  Statistics  Math  Science\n",
              "0      Post Malone       80       NaN        88.0    45       85\n",
              "1  Meechoke Kaedum       75      80.0       100.0    59       70\n",
              "2  Thanapon Rabbur       69      94.0        95.0    90       50\n",
              "3        Lady Gaga       80      85.0       100.0    74       68\n",
              "4       Kesha Rose       82       5.0        50.0    54       61\n",
              "5       Bebe Rexha       51      75.0        80.0    14       52\n",
              "7     Mackled more       12      34.0        41.0    47       68"
            ]
          },
          "metadata": {
            "tags": []
          },
          "execution_count": 157
        }
      ]
    },
    {
      "cell_type": "code",
      "metadata": {
        "id": "ybXY7vnBsyR7"
      },
      "source": [
        "Dataframe_1.reset_index(inplace=True)\r\n",
        "\r\n",
        "Dataframe_1.drop(['index'], axis=1, inplace=True)"
      ],
      "execution_count": null,
      "outputs": []
    },
    {
      "cell_type": "code",
      "metadata": {
        "colab": {
          "base_uri": "https://localhost:8080/",
          "height": 266
        },
        "id": "0szuAkkxs8er",
        "outputId": "2e80fd47-74c6-4c0b-b667-774b2f3bd1db"
      },
      "source": [
        "Dataframe_1"
      ],
      "execution_count": null,
      "outputs": [
        {
          "output_type": "execute_result",
          "data": {
            "text/html": [
              "<div>\n",
              "<style scoped>\n",
              "    .dataframe tbody tr th:only-of-type {\n",
              "        vertical-align: middle;\n",
              "    }\n",
              "\n",
              "    .dataframe tbody tr th {\n",
              "        vertical-align: top;\n",
              "    }\n",
              "\n",
              "    .dataframe thead th {\n",
              "        text-align: right;\n",
              "    }\n",
              "</style>\n",
              "<table border=\"1\" class=\"dataframe\">\n",
              "  <thead>\n",
              "    <tr style=\"text-align: right;\">\n",
              "      <th></th>\n",
              "      <th>Name-Surname</th>\n",
              "      <th>English</th>\n",
              "      <th>Computer</th>\n",
              "      <th>Statistics</th>\n",
              "      <th>Math</th>\n",
              "      <th>Science</th>\n",
              "    </tr>\n",
              "  </thead>\n",
              "  <tbody>\n",
              "    <tr>\n",
              "      <th>0</th>\n",
              "      <td>Post Malone</td>\n",
              "      <td>80</td>\n",
              "      <td>NaN</td>\n",
              "      <td>88.0</td>\n",
              "      <td>45</td>\n",
              "      <td>85</td>\n",
              "    </tr>\n",
              "    <tr>\n",
              "      <th>1</th>\n",
              "      <td>Meechoke Kaedum</td>\n",
              "      <td>75</td>\n",
              "      <td>80.0</td>\n",
              "      <td>100.0</td>\n",
              "      <td>59</td>\n",
              "      <td>70</td>\n",
              "    </tr>\n",
              "    <tr>\n",
              "      <th>2</th>\n",
              "      <td>Thanapon Rabbur</td>\n",
              "      <td>69</td>\n",
              "      <td>94.0</td>\n",
              "      <td>95.0</td>\n",
              "      <td>90</td>\n",
              "      <td>50</td>\n",
              "    </tr>\n",
              "    <tr>\n",
              "      <th>3</th>\n",
              "      <td>Lady Gaga</td>\n",
              "      <td>80</td>\n",
              "      <td>85.0</td>\n",
              "      <td>100.0</td>\n",
              "      <td>74</td>\n",
              "      <td>68</td>\n",
              "    </tr>\n",
              "    <tr>\n",
              "      <th>4</th>\n",
              "      <td>Kesha Rose</td>\n",
              "      <td>82</td>\n",
              "      <td>5.0</td>\n",
              "      <td>50.0</td>\n",
              "      <td>54</td>\n",
              "      <td>61</td>\n",
              "    </tr>\n",
              "    <tr>\n",
              "      <th>5</th>\n",
              "      <td>Bebe Rexha</td>\n",
              "      <td>51</td>\n",
              "      <td>75.0</td>\n",
              "      <td>80.0</td>\n",
              "      <td>14</td>\n",
              "      <td>52</td>\n",
              "    </tr>\n",
              "    <tr>\n",
              "      <th>6</th>\n",
              "      <td>Mackled more</td>\n",
              "      <td>12</td>\n",
              "      <td>34.0</td>\n",
              "      <td>41.0</td>\n",
              "      <td>47</td>\n",
              "      <td>68</td>\n",
              "    </tr>\n",
              "  </tbody>\n",
              "</table>\n",
              "</div>"
            ],
            "text/plain": [
              "      Name-Surname  English  Computer  Statistics  Math  Science\n",
              "0      Post Malone       80       NaN        88.0    45       85\n",
              "1  Meechoke Kaedum       75      80.0       100.0    59       70\n",
              "2  Thanapon Rabbur       69      94.0        95.0    90       50\n",
              "3        Lady Gaga       80      85.0       100.0    74       68\n",
              "4       Kesha Rose       82       5.0        50.0    54       61\n",
              "5       Bebe Rexha       51      75.0        80.0    14       52\n",
              "6     Mackled more       12      34.0        41.0    47       68"
            ]
          },
          "metadata": {
            "tags": []
          },
          "execution_count": 159
        }
      ]
    },
    {
      "cell_type": "markdown",
      "metadata": {
        "id": "sUzZhqlKsB9c"
      },
      "source": [
        "\r\n",
        "\r\n",
        "---\r\n",
        "\r\n"
      ]
    },
    {
      "cell_type": "markdown",
      "metadata": {
        "id": "LnpHb4t0sEFD"
      },
      "source": [
        "<fieldset>\r\n",
        "\r\n",
        "<font size=\"6\"><font color='red'>Problem 6: </font></font>\r\n",
        "\r\n",
        "- Computer column name has been renamed to 'Intro to Data sci'\r\n",
        "\r\n",
        "![image.png](data:image/png;base64,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)"
      ]
    },
    {
      "cell_type": "code",
      "metadata": {
        "id": "OzbNqBhHsVJm"
      },
      "source": [
        "Dataframe_1.Computer.name = 'Intro to Data sci'"
      ],
      "execution_count": null,
      "outputs": []
    },
    {
      "cell_type": "code",
      "metadata": {
        "id": "EsKlysryuGlt"
      },
      "source": [
        "Dataframe_1.rename(columns = {'Computer':'Intro to Data sci'}, inplace = True)"
      ],
      "execution_count": null,
      "outputs": []
    },
    {
      "cell_type": "code",
      "metadata": {
        "colab": {
          "base_uri": "https://localhost:8080/",
          "height": 266
        },
        "id": "UCaipWv9txXU",
        "outputId": "d738c4c0-0f67-4ebb-f593-8c71d0c8d963"
      },
      "source": [
        "Dataframe_1"
      ],
      "execution_count": null,
      "outputs": [
        {
          "output_type": "execute_result",
          "data": {
            "text/html": [
              "<div>\n",
              "<style scoped>\n",
              "    .dataframe tbody tr th:only-of-type {\n",
              "        vertical-align: middle;\n",
              "    }\n",
              "\n",
              "    .dataframe tbody tr th {\n",
              "        vertical-align: top;\n",
              "    }\n",
              "\n",
              "    .dataframe thead th {\n",
              "        text-align: right;\n",
              "    }\n",
              "</style>\n",
              "<table border=\"1\" class=\"dataframe\">\n",
              "  <thead>\n",
              "    <tr style=\"text-align: right;\">\n",
              "      <th></th>\n",
              "      <th>Name-Surname</th>\n",
              "      <th>English</th>\n",
              "      <th>Intro to Data sci</th>\n",
              "      <th>Statistics</th>\n",
              "      <th>Math</th>\n",
              "      <th>Science</th>\n",
              "    </tr>\n",
              "  </thead>\n",
              "  <tbody>\n",
              "    <tr>\n",
              "      <th>0</th>\n",
              "      <td>Post Malone</td>\n",
              "      <td>80</td>\n",
              "      <td>NaN</td>\n",
              "      <td>88.0</td>\n",
              "      <td>45</td>\n",
              "      <td>85</td>\n",
              "    </tr>\n",
              "    <tr>\n",
              "      <th>1</th>\n",
              "      <td>Meechoke Kaedum</td>\n",
              "      <td>75</td>\n",
              "      <td>80.0</td>\n",
              "      <td>100.0</td>\n",
              "      <td>59</td>\n",
              "      <td>70</td>\n",
              "    </tr>\n",
              "    <tr>\n",
              "      <th>2</th>\n",
              "      <td>Thanapon Rabbur</td>\n",
              "      <td>69</td>\n",
              "      <td>94.0</td>\n",
              "      <td>95.0</td>\n",
              "      <td>90</td>\n",
              "      <td>50</td>\n",
              "    </tr>\n",
              "    <tr>\n",
              "      <th>3</th>\n",
              "      <td>Lady Gaga</td>\n",
              "      <td>80</td>\n",
              "      <td>85.0</td>\n",
              "      <td>100.0</td>\n",
              "      <td>74</td>\n",
              "      <td>68</td>\n",
              "    </tr>\n",
              "    <tr>\n",
              "      <th>4</th>\n",
              "      <td>Kesha Rose</td>\n",
              "      <td>82</td>\n",
              "      <td>5.0</td>\n",
              "      <td>50.0</td>\n",
              "      <td>54</td>\n",
              "      <td>61</td>\n",
              "    </tr>\n",
              "    <tr>\n",
              "      <th>5</th>\n",
              "      <td>Bebe Rexha</td>\n",
              "      <td>51</td>\n",
              "      <td>75.0</td>\n",
              "      <td>80.0</td>\n",
              "      <td>14</td>\n",
              "      <td>52</td>\n",
              "    </tr>\n",
              "    <tr>\n",
              "      <th>6</th>\n",
              "      <td>Mackled more</td>\n",
              "      <td>12</td>\n",
              "      <td>34.0</td>\n",
              "      <td>41.0</td>\n",
              "      <td>47</td>\n",
              "      <td>68</td>\n",
              "    </tr>\n",
              "  </tbody>\n",
              "</table>\n",
              "</div>"
            ],
            "text/plain": [
              "      Name-Surname  English  Intro to Data sci  Statistics  Math  Science\n",
              "0      Post Malone       80                NaN        88.0    45       85\n",
              "1  Meechoke Kaedum       75               80.0       100.0    59       70\n",
              "2  Thanapon Rabbur       69               94.0        95.0    90       50\n",
              "3        Lady Gaga       80               85.0       100.0    74       68\n",
              "4       Kesha Rose       82                5.0        50.0    54       61\n",
              "5       Bebe Rexha       51               75.0        80.0    14       52\n",
              "6     Mackled more       12               34.0        41.0    47       68"
            ]
          },
          "metadata": {
            "tags": []
          },
          "execution_count": 162
        }
      ]
    },
    {
      "cell_type": "markdown",
      "metadata": {
        "id": "0ypNa9m5udzk"
      },
      "source": [
        "\r\n",
        "\r\n",
        "---\r\n",
        "\r\n"
      ]
    },
    {
      "cell_type": "markdown",
      "metadata": {
        "id": "ne2Q6afFujIj"
      },
      "source": [
        "<fieldset>\r\n",
        "\r\n",
        "<font size=\"6\"><font color='red'>Problem 7: </font></font>\r\n",
        "\r\n",
        "- Suppose, they want to combine 'Statistics' and 'Math' into 'Statistics + Math' and then divided by 2\r\n",
        "\r\n",
        "![image.png](data:image/png;base64,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)"
      ]
    },
    {
      "cell_type": "code",
      "metadata": {
        "colab": {
          "base_uri": "https://localhost:8080/",
          "height": 266
        },
        "id": "a7kycfu6ueS8",
        "outputId": "506b8e30-2eea-4b21-a070-1ce81d84a5fb"
      },
      "source": [
        "Dataframe_1"
      ],
      "execution_count": null,
      "outputs": [
        {
          "output_type": "execute_result",
          "data": {
            "text/html": [
              "<div>\n",
              "<style scoped>\n",
              "    .dataframe tbody tr th:only-of-type {\n",
              "        vertical-align: middle;\n",
              "    }\n",
              "\n",
              "    .dataframe tbody tr th {\n",
              "        vertical-align: top;\n",
              "    }\n",
              "\n",
              "    .dataframe thead th {\n",
              "        text-align: right;\n",
              "    }\n",
              "</style>\n",
              "<table border=\"1\" class=\"dataframe\">\n",
              "  <thead>\n",
              "    <tr style=\"text-align: right;\">\n",
              "      <th></th>\n",
              "      <th>Name-Surname</th>\n",
              "      <th>English</th>\n",
              "      <th>Intro to Data sci</th>\n",
              "      <th>Statistics</th>\n",
              "      <th>Math</th>\n",
              "      <th>Science</th>\n",
              "    </tr>\n",
              "  </thead>\n",
              "  <tbody>\n",
              "    <tr>\n",
              "      <th>0</th>\n",
              "      <td>Post Malone</td>\n",
              "      <td>80</td>\n",
              "      <td>NaN</td>\n",
              "      <td>88.0</td>\n",
              "      <td>45</td>\n",
              "      <td>85</td>\n",
              "    </tr>\n",
              "    <tr>\n",
              "      <th>1</th>\n",
              "      <td>Meechoke Kaedum</td>\n",
              "      <td>75</td>\n",
              "      <td>80.0</td>\n",
              "      <td>100.0</td>\n",
              "      <td>59</td>\n",
              "      <td>70</td>\n",
              "    </tr>\n",
              "    <tr>\n",
              "      <th>2</th>\n",
              "      <td>Thanapon Rabbur</td>\n",
              "      <td>69</td>\n",
              "      <td>94.0</td>\n",
              "      <td>95.0</td>\n",
              "      <td>90</td>\n",
              "      <td>50</td>\n",
              "    </tr>\n",
              "    <tr>\n",
              "      <th>3</th>\n",
              "      <td>Lady Gaga</td>\n",
              "      <td>80</td>\n",
              "      <td>85.0</td>\n",
              "      <td>100.0</td>\n",
              "      <td>74</td>\n",
              "      <td>68</td>\n",
              "    </tr>\n",
              "    <tr>\n",
              "      <th>4</th>\n",
              "      <td>Kesha Rose</td>\n",
              "      <td>82</td>\n",
              "      <td>5.0</td>\n",
              "      <td>50.0</td>\n",
              "      <td>54</td>\n",
              "      <td>61</td>\n",
              "    </tr>\n",
              "    <tr>\n",
              "      <th>5</th>\n",
              "      <td>Bebe Rexha</td>\n",
              "      <td>51</td>\n",
              "      <td>75.0</td>\n",
              "      <td>80.0</td>\n",
              "      <td>14</td>\n",
              "      <td>52</td>\n",
              "    </tr>\n",
              "    <tr>\n",
              "      <th>6</th>\n",
              "      <td>Mackled more</td>\n",
              "      <td>12</td>\n",
              "      <td>34.0</td>\n",
              "      <td>41.0</td>\n",
              "      <td>47</td>\n",
              "      <td>68</td>\n",
              "    </tr>\n",
              "  </tbody>\n",
              "</table>\n",
              "</div>"
            ],
            "text/plain": [
              "      Name-Surname  English  Intro to Data sci  Statistics  Math  Science\n",
              "0      Post Malone       80                NaN        88.0    45       85\n",
              "1  Meechoke Kaedum       75               80.0       100.0    59       70\n",
              "2  Thanapon Rabbur       69               94.0        95.0    90       50\n",
              "3        Lady Gaga       80               85.0       100.0    74       68\n",
              "4       Kesha Rose       82                5.0        50.0    54       61\n",
              "5       Bebe Rexha       51               75.0        80.0    14       52\n",
              "6     Mackled more       12               34.0        41.0    47       68"
            ]
          },
          "metadata": {
            "tags": []
          },
          "execution_count": 163
        }
      ]
    },
    {
      "cell_type": "code",
      "metadata": {
        "id": "sWXkRsekvAYM"
      },
      "source": [
        "Dataframe_1['Statistics + Math'] = (Dataframe_1['Statistics'] + Dataframe_1['Math'])/2"
      ],
      "execution_count": null,
      "outputs": []
    },
    {
      "cell_type": "code",
      "metadata": {
        "colab": {
          "base_uri": "https://localhost:8080/",
          "height": 266
        },
        "id": "fJf4EIg1vrus",
        "outputId": "1e3e41e9-0b52-491a-d9e6-97d6a4640c5c"
      },
      "source": [
        "Dataframe_1"
      ],
      "execution_count": null,
      "outputs": [
        {
          "output_type": "execute_result",
          "data": {
            "text/html": [
              "<div>\n",
              "<style scoped>\n",
              "    .dataframe tbody tr th:only-of-type {\n",
              "        vertical-align: middle;\n",
              "    }\n",
              "\n",
              "    .dataframe tbody tr th {\n",
              "        vertical-align: top;\n",
              "    }\n",
              "\n",
              "    .dataframe thead th {\n",
              "        text-align: right;\n",
              "    }\n",
              "</style>\n",
              "<table border=\"1\" class=\"dataframe\">\n",
              "  <thead>\n",
              "    <tr style=\"text-align: right;\">\n",
              "      <th></th>\n",
              "      <th>Name-Surname</th>\n",
              "      <th>English</th>\n",
              "      <th>Intro to Data sci</th>\n",
              "      <th>Statistics</th>\n",
              "      <th>Math</th>\n",
              "      <th>Science</th>\n",
              "      <th>Statistics + Math</th>\n",
              "    </tr>\n",
              "  </thead>\n",
              "  <tbody>\n",
              "    <tr>\n",
              "      <th>0</th>\n",
              "      <td>Post Malone</td>\n",
              "      <td>80</td>\n",
              "      <td>NaN</td>\n",
              "      <td>88.0</td>\n",
              "      <td>45</td>\n",
              "      <td>85</td>\n",
              "      <td>66.5</td>\n",
              "    </tr>\n",
              "    <tr>\n",
              "      <th>1</th>\n",
              "      <td>Meechoke Kaedum</td>\n",
              "      <td>75</td>\n",
              "      <td>80.0</td>\n",
              "      <td>100.0</td>\n",
              "      <td>59</td>\n",
              "      <td>70</td>\n",
              "      <td>79.5</td>\n",
              "    </tr>\n",
              "    <tr>\n",
              "      <th>2</th>\n",
              "      <td>Thanapon Rabbur</td>\n",
              "      <td>69</td>\n",
              "      <td>94.0</td>\n",
              "      <td>95.0</td>\n",
              "      <td>90</td>\n",
              "      <td>50</td>\n",
              "      <td>92.5</td>\n",
              "    </tr>\n",
              "    <tr>\n",
              "      <th>3</th>\n",
              "      <td>Lady Gaga</td>\n",
              "      <td>80</td>\n",
              "      <td>85.0</td>\n",
              "      <td>100.0</td>\n",
              "      <td>74</td>\n",
              "      <td>68</td>\n",
              "      <td>87.0</td>\n",
              "    </tr>\n",
              "    <tr>\n",
              "      <th>4</th>\n",
              "      <td>Kesha Rose</td>\n",
              "      <td>82</td>\n",
              "      <td>5.0</td>\n",
              "      <td>50.0</td>\n",
              "      <td>54</td>\n",
              "      <td>61</td>\n",
              "      <td>52.0</td>\n",
              "    </tr>\n",
              "    <tr>\n",
              "      <th>5</th>\n",
              "      <td>Bebe Rexha</td>\n",
              "      <td>51</td>\n",
              "      <td>75.0</td>\n",
              "      <td>80.0</td>\n",
              "      <td>14</td>\n",
              "      <td>52</td>\n",
              "      <td>47.0</td>\n",
              "    </tr>\n",
              "    <tr>\n",
              "      <th>6</th>\n",
              "      <td>Mackled more</td>\n",
              "      <td>12</td>\n",
              "      <td>34.0</td>\n",
              "      <td>41.0</td>\n",
              "      <td>47</td>\n",
              "      <td>68</td>\n",
              "      <td>44.0</td>\n",
              "    </tr>\n",
              "  </tbody>\n",
              "</table>\n",
              "</div>"
            ],
            "text/plain": [
              "      Name-Surname  English  ...  Science  Statistics + Math\n",
              "0      Post Malone       80  ...       85               66.5\n",
              "1  Meechoke Kaedum       75  ...       70               79.5\n",
              "2  Thanapon Rabbur       69  ...       50               92.5\n",
              "3        Lady Gaga       80  ...       68               87.0\n",
              "4       Kesha Rose       82  ...       61               52.0\n",
              "5       Bebe Rexha       51  ...       52               47.0\n",
              "6     Mackled more       12  ...       68               44.0\n",
              "\n",
              "[7 rows x 7 columns]"
            ]
          },
          "metadata": {
            "tags": []
          },
          "execution_count": 165
        }
      ]
    },
    {
      "cell_type": "code",
      "metadata": {
        "id": "50kEhzoxwCos"
      },
      "source": [
        "Dataframe_1.drop(['Statistics','Math'],axis=1,inplace=True)"
      ],
      "execution_count": null,
      "outputs": []
    },
    {
      "cell_type": "code",
      "metadata": {
        "colab": {
          "base_uri": "https://localhost:8080/",
          "height": 266
        },
        "id": "GQWexOdww4fL",
        "outputId": "bbd49fc5-e5f3-46b0-8ee2-8d856119886b"
      },
      "source": [
        "Dataframe_1"
      ],
      "execution_count": null,
      "outputs": [
        {
          "output_type": "execute_result",
          "data": {
            "text/html": [
              "<div>\n",
              "<style scoped>\n",
              "    .dataframe tbody tr th:only-of-type {\n",
              "        vertical-align: middle;\n",
              "    }\n",
              "\n",
              "    .dataframe tbody tr th {\n",
              "        vertical-align: top;\n",
              "    }\n",
              "\n",
              "    .dataframe thead th {\n",
              "        text-align: right;\n",
              "    }\n",
              "</style>\n",
              "<table border=\"1\" class=\"dataframe\">\n",
              "  <thead>\n",
              "    <tr style=\"text-align: right;\">\n",
              "      <th></th>\n",
              "      <th>Name-Surname</th>\n",
              "      <th>English</th>\n",
              "      <th>Intro to Data sci</th>\n",
              "      <th>Science</th>\n",
              "      <th>Statistics + Math</th>\n",
              "    </tr>\n",
              "  </thead>\n",
              "  <tbody>\n",
              "    <tr>\n",
              "      <th>0</th>\n",
              "      <td>Post Malone</td>\n",
              "      <td>80</td>\n",
              "      <td>NaN</td>\n",
              "      <td>85</td>\n",
              "      <td>66.5</td>\n",
              "    </tr>\n",
              "    <tr>\n",
              "      <th>1</th>\n",
              "      <td>Meechoke Kaedum</td>\n",
              "      <td>75</td>\n",
              "      <td>80.0</td>\n",
              "      <td>70</td>\n",
              "      <td>79.5</td>\n",
              "    </tr>\n",
              "    <tr>\n",
              "      <th>2</th>\n",
              "      <td>Thanapon Rabbur</td>\n",
              "      <td>69</td>\n",
              "      <td>94.0</td>\n",
              "      <td>50</td>\n",
              "      <td>92.5</td>\n",
              "    </tr>\n",
              "    <tr>\n",
              "      <th>3</th>\n",
              "      <td>Lady Gaga</td>\n",
              "      <td>80</td>\n",
              "      <td>85.0</td>\n",
              "      <td>68</td>\n",
              "      <td>87.0</td>\n",
              "    </tr>\n",
              "    <tr>\n",
              "      <th>4</th>\n",
              "      <td>Kesha Rose</td>\n",
              "      <td>82</td>\n",
              "      <td>5.0</td>\n",
              "      <td>61</td>\n",
              "      <td>52.0</td>\n",
              "    </tr>\n",
              "    <tr>\n",
              "      <th>5</th>\n",
              "      <td>Bebe Rexha</td>\n",
              "      <td>51</td>\n",
              "      <td>75.0</td>\n",
              "      <td>52</td>\n",
              "      <td>47.0</td>\n",
              "    </tr>\n",
              "    <tr>\n",
              "      <th>6</th>\n",
              "      <td>Mackled more</td>\n",
              "      <td>12</td>\n",
              "      <td>34.0</td>\n",
              "      <td>68</td>\n",
              "      <td>44.0</td>\n",
              "    </tr>\n",
              "  </tbody>\n",
              "</table>\n",
              "</div>"
            ],
            "text/plain": [
              "      Name-Surname  English  Intro to Data sci  Science  Statistics + Math\n",
              "0      Post Malone       80                NaN       85               66.5\n",
              "1  Meechoke Kaedum       75               80.0       70               79.5\n",
              "2  Thanapon Rabbur       69               94.0       50               92.5\n",
              "3        Lady Gaga       80               85.0       68               87.0\n",
              "4       Kesha Rose       82                5.0       61               52.0\n",
              "5       Bebe Rexha       51               75.0       52               47.0\n",
              "6     Mackled more       12               34.0       68               44.0"
            ]
          },
          "metadata": {
            "tags": []
          },
          "execution_count": 167
        }
      ]
    },
    {
      "cell_type": "code",
      "metadata": {
        "id": "db3KC6Tj-7Ev"
      },
      "source": [
        "# Let swapping the column"
      ],
      "execution_count": null,
      "outputs": []
    },
    {
      "cell_type": "code",
      "metadata": {
        "id": "halfh8ky-bNH"
      },
      "source": [
        "#Dataframe_1['Science'], Dataframe_1['Statistics + Math'] = Dataframe_1['Statistics + Math'], Dataframe_1['Science']\r\n",
        "\r\n"
      ],
      "execution_count": null,
      "outputs": []
    },
    {
      "cell_type": "code",
      "metadata": {
        "id": "jlsKUqxfxX1M"
      },
      "source": [
        "#change column name\r\n",
        "\r\n",
        "#Dataframe_1.columns.values[[-2,-1]] = ['Statistics + Math','Science']"
      ],
      "execution_count": null,
      "outputs": []
    },
    {
      "cell_type": "code",
      "metadata": {
        "id": "bonSiOGo-DLn",
        "colab": {
          "base_uri": "https://localhost:8080/",
          "height": 266
        },
        "outputId": "df987c56-ba8f-4d4d-de82-679802cd7af9"
      },
      "source": [
        "Dataframe_1"
      ],
      "execution_count": null,
      "outputs": [
        {
          "output_type": "execute_result",
          "data": {
            "text/html": [
              "<div>\n",
              "<style scoped>\n",
              "    .dataframe tbody tr th:only-of-type {\n",
              "        vertical-align: middle;\n",
              "    }\n",
              "\n",
              "    .dataframe tbody tr th {\n",
              "        vertical-align: top;\n",
              "    }\n",
              "\n",
              "    .dataframe thead th {\n",
              "        text-align: right;\n",
              "    }\n",
              "</style>\n",
              "<table border=\"1\" class=\"dataframe\">\n",
              "  <thead>\n",
              "    <tr style=\"text-align: right;\">\n",
              "      <th></th>\n",
              "      <th>Name-Surname</th>\n",
              "      <th>English</th>\n",
              "      <th>Intro to Data sci</th>\n",
              "      <th>Science</th>\n",
              "      <th>Statistics + Math</th>\n",
              "    </tr>\n",
              "  </thead>\n",
              "  <tbody>\n",
              "    <tr>\n",
              "      <th>0</th>\n",
              "      <td>Post Malone</td>\n",
              "      <td>80</td>\n",
              "      <td>NaN</td>\n",
              "      <td>85</td>\n",
              "      <td>66.5</td>\n",
              "    </tr>\n",
              "    <tr>\n",
              "      <th>1</th>\n",
              "      <td>Meechoke Kaedum</td>\n",
              "      <td>75</td>\n",
              "      <td>80.0</td>\n",
              "      <td>70</td>\n",
              "      <td>79.5</td>\n",
              "    </tr>\n",
              "    <tr>\n",
              "      <th>2</th>\n",
              "      <td>Thanapon Rabbur</td>\n",
              "      <td>69</td>\n",
              "      <td>94.0</td>\n",
              "      <td>50</td>\n",
              "      <td>92.5</td>\n",
              "    </tr>\n",
              "    <tr>\n",
              "      <th>3</th>\n",
              "      <td>Lady Gaga</td>\n",
              "      <td>80</td>\n",
              "      <td>85.0</td>\n",
              "      <td>68</td>\n",
              "      <td>87.0</td>\n",
              "    </tr>\n",
              "    <tr>\n",
              "      <th>4</th>\n",
              "      <td>Kesha Rose</td>\n",
              "      <td>82</td>\n",
              "      <td>5.0</td>\n",
              "      <td>61</td>\n",
              "      <td>52.0</td>\n",
              "    </tr>\n",
              "    <tr>\n",
              "      <th>5</th>\n",
              "      <td>Bebe Rexha</td>\n",
              "      <td>51</td>\n",
              "      <td>75.0</td>\n",
              "      <td>52</td>\n",
              "      <td>47.0</td>\n",
              "    </tr>\n",
              "    <tr>\n",
              "      <th>6</th>\n",
              "      <td>Mackled more</td>\n",
              "      <td>12</td>\n",
              "      <td>34.0</td>\n",
              "      <td>68</td>\n",
              "      <td>44.0</td>\n",
              "    </tr>\n",
              "  </tbody>\n",
              "</table>\n",
              "</div>"
            ],
            "text/plain": [
              "      Name-Surname  English  Intro to Data sci  Science  Statistics + Math\n",
              "0      Post Malone       80                NaN       85               66.5\n",
              "1  Meechoke Kaedum       75               80.0       70               79.5\n",
              "2  Thanapon Rabbur       69               94.0       50               92.5\n",
              "3        Lady Gaga       80               85.0       68               87.0\n",
              "4       Kesha Rose       82                5.0       61               52.0\n",
              "5       Bebe Rexha       51               75.0       52               47.0\n",
              "6     Mackled more       12               34.0       68               44.0"
            ]
          },
          "metadata": {
            "tags": []
          },
          "execution_count": 171
        }
      ]
    },
    {
      "cell_type": "code",
      "metadata": {
        "id": "N8NR1b9uy20k",
        "colab": {
          "base_uri": "https://localhost:8080/",
          "height": 266
        },
        "outputId": "44b03271-72c4-48ed-bda1-7f9e1ecebff6"
      },
      "source": [
        "Dataframe_1[['Science','English']]\r\n",
        "\r\n",
        "#Don't Forget : When you want to slicing the 2 columns, don't forget to put [] inside as a parameter\r\n",
        "# Dataframe_1['Science','Statistics + Math'] is not working"
      ],
      "execution_count": null,
      "outputs": [
        {
          "output_type": "execute_result",
          "data": {
            "text/html": [
              "<div>\n",
              "<style scoped>\n",
              "    .dataframe tbody tr th:only-of-type {\n",
              "        vertical-align: middle;\n",
              "    }\n",
              "\n",
              "    .dataframe tbody tr th {\n",
              "        vertical-align: top;\n",
              "    }\n",
              "\n",
              "    .dataframe thead th {\n",
              "        text-align: right;\n",
              "    }\n",
              "</style>\n",
              "<table border=\"1\" class=\"dataframe\">\n",
              "  <thead>\n",
              "    <tr style=\"text-align: right;\">\n",
              "      <th></th>\n",
              "      <th>Science</th>\n",
              "      <th>English</th>\n",
              "    </tr>\n",
              "  </thead>\n",
              "  <tbody>\n",
              "    <tr>\n",
              "      <th>0</th>\n",
              "      <td>85</td>\n",
              "      <td>80</td>\n",
              "    </tr>\n",
              "    <tr>\n",
              "      <th>1</th>\n",
              "      <td>70</td>\n",
              "      <td>75</td>\n",
              "    </tr>\n",
              "    <tr>\n",
              "      <th>2</th>\n",
              "      <td>50</td>\n",
              "      <td>69</td>\n",
              "    </tr>\n",
              "    <tr>\n",
              "      <th>3</th>\n",
              "      <td>68</td>\n",
              "      <td>80</td>\n",
              "    </tr>\n",
              "    <tr>\n",
              "      <th>4</th>\n",
              "      <td>61</td>\n",
              "      <td>82</td>\n",
              "    </tr>\n",
              "    <tr>\n",
              "      <th>5</th>\n",
              "      <td>52</td>\n",
              "      <td>51</td>\n",
              "    </tr>\n",
              "    <tr>\n",
              "      <th>6</th>\n",
              "      <td>68</td>\n",
              "      <td>12</td>\n",
              "    </tr>\n",
              "  </tbody>\n",
              "</table>\n",
              "</div>"
            ],
            "text/plain": [
              "   Science  English\n",
              "0       85       80\n",
              "1       70       75\n",
              "2       50       69\n",
              "3       68       80\n",
              "4       61       82\n",
              "5       52       51\n",
              "6       68       12"
            ]
          },
          "metadata": {
            "tags": []
          },
          "execution_count": 172
        }
      ]
    },
    {
      "cell_type": "markdown",
      "metadata": {
        "id": "a0YneCjj3AZ9"
      },
      "source": [
        "\r\n",
        "\r\n",
        "---\r\n",
        "\r\n"
      ]
    },
    {
      "cell_type": "markdown",
      "metadata": {
        "id": "roIedzSD--9v"
      },
      "source": [
        "<fieldset>\r\n",
        "\r\n",
        "<font size=\"6\"><font color='red'>Problem 8: </font></font>\r\n",
        "\r\n",
        "- This school is perfectionist, let's remove the row that have NaN value\r\n",
        "\r\n",
        "![image.png](data:image/png;base64,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)"
      ]
    },
    {
      "cell_type": "code",
      "metadata": {
        "id": "6vaB73ao0Cm1"
      },
      "source": [
        "#Dataframe_1"
      ],
      "execution_count": null,
      "outputs": []
    },
    {
      "cell_type": "code",
      "metadata": {
        "id": "mvf46NBR_7Ow"
      },
      "source": [
        "Dataframe_1.dropna(inplace=True)"
      ],
      "execution_count": null,
      "outputs": []
    },
    {
      "cell_type": "code",
      "metadata": {
        "id": "Jl6qWeugADGn",
        "colab": {
          "base_uri": "https://localhost:8080/",
          "height": 235
        },
        "outputId": "98aef215-d71f-4971-bf3c-d4ec99b0c3ff"
      },
      "source": [
        "Dataframe_1"
      ],
      "execution_count": null,
      "outputs": [
        {
          "output_type": "execute_result",
          "data": {
            "text/html": [
              "<div>\n",
              "<style scoped>\n",
              "    .dataframe tbody tr th:only-of-type {\n",
              "        vertical-align: middle;\n",
              "    }\n",
              "\n",
              "    .dataframe tbody tr th {\n",
              "        vertical-align: top;\n",
              "    }\n",
              "\n",
              "    .dataframe thead th {\n",
              "        text-align: right;\n",
              "    }\n",
              "</style>\n",
              "<table border=\"1\" class=\"dataframe\">\n",
              "  <thead>\n",
              "    <tr style=\"text-align: right;\">\n",
              "      <th></th>\n",
              "      <th>Name-Surname</th>\n",
              "      <th>English</th>\n",
              "      <th>Intro to Data sci</th>\n",
              "      <th>Science</th>\n",
              "      <th>Statistics + Math</th>\n",
              "    </tr>\n",
              "  </thead>\n",
              "  <tbody>\n",
              "    <tr>\n",
              "      <th>1</th>\n",
              "      <td>Meechoke Kaedum</td>\n",
              "      <td>75</td>\n",
              "      <td>80.0</td>\n",
              "      <td>70</td>\n",
              "      <td>79.5</td>\n",
              "    </tr>\n",
              "    <tr>\n",
              "      <th>2</th>\n",
              "      <td>Thanapon Rabbur</td>\n",
              "      <td>69</td>\n",
              "      <td>94.0</td>\n",
              "      <td>50</td>\n",
              "      <td>92.5</td>\n",
              "    </tr>\n",
              "    <tr>\n",
              "      <th>3</th>\n",
              "      <td>Lady Gaga</td>\n",
              "      <td>80</td>\n",
              "      <td>85.0</td>\n",
              "      <td>68</td>\n",
              "      <td>87.0</td>\n",
              "    </tr>\n",
              "    <tr>\n",
              "      <th>4</th>\n",
              "      <td>Kesha Rose</td>\n",
              "      <td>82</td>\n",
              "      <td>5.0</td>\n",
              "      <td>61</td>\n",
              "      <td>52.0</td>\n",
              "    </tr>\n",
              "    <tr>\n",
              "      <th>5</th>\n",
              "      <td>Bebe Rexha</td>\n",
              "      <td>51</td>\n",
              "      <td>75.0</td>\n",
              "      <td>52</td>\n",
              "      <td>47.0</td>\n",
              "    </tr>\n",
              "    <tr>\n",
              "      <th>6</th>\n",
              "      <td>Mackled more</td>\n",
              "      <td>12</td>\n",
              "      <td>34.0</td>\n",
              "      <td>68</td>\n",
              "      <td>44.0</td>\n",
              "    </tr>\n",
              "  </tbody>\n",
              "</table>\n",
              "</div>"
            ],
            "text/plain": [
              "      Name-Surname  English  Intro to Data sci  Science  Statistics + Math\n",
              "1  Meechoke Kaedum       75               80.0       70               79.5\n",
              "2  Thanapon Rabbur       69               94.0       50               92.5\n",
              "3        Lady Gaga       80               85.0       68               87.0\n",
              "4       Kesha Rose       82                5.0       61               52.0\n",
              "5       Bebe Rexha       51               75.0       52               47.0\n",
              "6     Mackled more       12               34.0       68               44.0"
            ]
          },
          "metadata": {
            "tags": []
          },
          "execution_count": 175
        }
      ]
    },
    {
      "cell_type": "code",
      "metadata": {
        "id": "lyrQaTpPAGF_"
      },
      "source": [
        "# Post Malone was kicked for the reason of the perfectionist school"
      ],
      "execution_count": null,
      "outputs": []
    },
    {
      "cell_type": "code",
      "metadata": {
        "id": "13jWzYFmIYwo",
        "colab": {
          "base_uri": "https://localhost:8080/",
          "height": 235
        },
        "outputId": "e9ca1409-bef7-4025-9c1d-7249b1009a4f"
      },
      "source": [
        "Dataframe_1"
      ],
      "execution_count": null,
      "outputs": [
        {
          "output_type": "execute_result",
          "data": {
            "text/html": [
              "<div>\n",
              "<style scoped>\n",
              "    .dataframe tbody tr th:only-of-type {\n",
              "        vertical-align: middle;\n",
              "    }\n",
              "\n",
              "    .dataframe tbody tr th {\n",
              "        vertical-align: top;\n",
              "    }\n",
              "\n",
              "    .dataframe thead th {\n",
              "        text-align: right;\n",
              "    }\n",
              "</style>\n",
              "<table border=\"1\" class=\"dataframe\">\n",
              "  <thead>\n",
              "    <tr style=\"text-align: right;\">\n",
              "      <th></th>\n",
              "      <th>Name-Surname</th>\n",
              "      <th>English</th>\n",
              "      <th>Intro to Data sci</th>\n",
              "      <th>Science</th>\n",
              "      <th>Statistics + Math</th>\n",
              "    </tr>\n",
              "  </thead>\n",
              "  <tbody>\n",
              "    <tr>\n",
              "      <th>1</th>\n",
              "      <td>Meechoke Kaedum</td>\n",
              "      <td>75</td>\n",
              "      <td>80.0</td>\n",
              "      <td>70</td>\n",
              "      <td>79.5</td>\n",
              "    </tr>\n",
              "    <tr>\n",
              "      <th>2</th>\n",
              "      <td>Thanapon Rabbur</td>\n",
              "      <td>69</td>\n",
              "      <td>94.0</td>\n",
              "      <td>50</td>\n",
              "      <td>92.5</td>\n",
              "    </tr>\n",
              "    <tr>\n",
              "      <th>3</th>\n",
              "      <td>Lady Gaga</td>\n",
              "      <td>80</td>\n",
              "      <td>85.0</td>\n",
              "      <td>68</td>\n",
              "      <td>87.0</td>\n",
              "    </tr>\n",
              "    <tr>\n",
              "      <th>4</th>\n",
              "      <td>Kesha Rose</td>\n",
              "      <td>82</td>\n",
              "      <td>5.0</td>\n",
              "      <td>61</td>\n",
              "      <td>52.0</td>\n",
              "    </tr>\n",
              "    <tr>\n",
              "      <th>5</th>\n",
              "      <td>Bebe Rexha</td>\n",
              "      <td>51</td>\n",
              "      <td>75.0</td>\n",
              "      <td>52</td>\n",
              "      <td>47.0</td>\n",
              "    </tr>\n",
              "    <tr>\n",
              "      <th>6</th>\n",
              "      <td>Mackled more</td>\n",
              "      <td>12</td>\n",
              "      <td>34.0</td>\n",
              "      <td>68</td>\n",
              "      <td>44.0</td>\n",
              "    </tr>\n",
              "  </tbody>\n",
              "</table>\n",
              "</div>"
            ],
            "text/plain": [
              "      Name-Surname  English  Intro to Data sci  Science  Statistics + Math\n",
              "1  Meechoke Kaedum       75               80.0       70               79.5\n",
              "2  Thanapon Rabbur       69               94.0       50               92.5\n",
              "3        Lady Gaga       80               85.0       68               87.0\n",
              "4       Kesha Rose       82                5.0       61               52.0\n",
              "5       Bebe Rexha       51               75.0       52               47.0\n",
              "6     Mackled more       12               34.0       68               44.0"
            ]
          },
          "metadata": {
            "tags": []
          },
          "execution_count": 177
        }
      ]
    },
    {
      "cell_type": "code",
      "metadata": {
        "id": "NfKI1v88ILpQ",
        "colab": {
          "base_uri": "https://localhost:8080/",
          "height": 235
        },
        "outputId": "50c2ea61-9e65-4e4e-cdbb-7357bd7fb2ba"
      },
      "source": [
        "Dataframe_1.reset_index(inplace=True)\r\n",
        "\r\n",
        "Dataframe_1.drop('index',axis=1, inplace=True)\r\n",
        "\r\n",
        "Dataframe_1"
      ],
      "execution_count": null,
      "outputs": [
        {
          "output_type": "execute_result",
          "data": {
            "text/html": [
              "<div>\n",
              "<style scoped>\n",
              "    .dataframe tbody tr th:only-of-type {\n",
              "        vertical-align: middle;\n",
              "    }\n",
              "\n",
              "    .dataframe tbody tr th {\n",
              "        vertical-align: top;\n",
              "    }\n",
              "\n",
              "    .dataframe thead th {\n",
              "        text-align: right;\n",
              "    }\n",
              "</style>\n",
              "<table border=\"1\" class=\"dataframe\">\n",
              "  <thead>\n",
              "    <tr style=\"text-align: right;\">\n",
              "      <th></th>\n",
              "      <th>Name-Surname</th>\n",
              "      <th>English</th>\n",
              "      <th>Intro to Data sci</th>\n",
              "      <th>Science</th>\n",
              "      <th>Statistics + Math</th>\n",
              "    </tr>\n",
              "  </thead>\n",
              "  <tbody>\n",
              "    <tr>\n",
              "      <th>0</th>\n",
              "      <td>Meechoke Kaedum</td>\n",
              "      <td>75</td>\n",
              "      <td>80.0</td>\n",
              "      <td>70</td>\n",
              "      <td>79.5</td>\n",
              "    </tr>\n",
              "    <tr>\n",
              "      <th>1</th>\n",
              "      <td>Thanapon Rabbur</td>\n",
              "      <td>69</td>\n",
              "      <td>94.0</td>\n",
              "      <td>50</td>\n",
              "      <td>92.5</td>\n",
              "    </tr>\n",
              "    <tr>\n",
              "      <th>2</th>\n",
              "      <td>Lady Gaga</td>\n",
              "      <td>80</td>\n",
              "      <td>85.0</td>\n",
              "      <td>68</td>\n",
              "      <td>87.0</td>\n",
              "    </tr>\n",
              "    <tr>\n",
              "      <th>3</th>\n",
              "      <td>Kesha Rose</td>\n",
              "      <td>82</td>\n",
              "      <td>5.0</td>\n",
              "      <td>61</td>\n",
              "      <td>52.0</td>\n",
              "    </tr>\n",
              "    <tr>\n",
              "      <th>4</th>\n",
              "      <td>Bebe Rexha</td>\n",
              "      <td>51</td>\n",
              "      <td>75.0</td>\n",
              "      <td>52</td>\n",
              "      <td>47.0</td>\n",
              "    </tr>\n",
              "    <tr>\n",
              "      <th>5</th>\n",
              "      <td>Mackled more</td>\n",
              "      <td>12</td>\n",
              "      <td>34.0</td>\n",
              "      <td>68</td>\n",
              "      <td>44.0</td>\n",
              "    </tr>\n",
              "  </tbody>\n",
              "</table>\n",
              "</div>"
            ],
            "text/plain": [
              "      Name-Surname  English  Intro to Data sci  Science  Statistics + Math\n",
              "0  Meechoke Kaedum       75               80.0       70               79.5\n",
              "1  Thanapon Rabbur       69               94.0       50               92.5\n",
              "2        Lady Gaga       80               85.0       68               87.0\n",
              "3       Kesha Rose       82                5.0       61               52.0\n",
              "4       Bebe Rexha       51               75.0       52               47.0\n",
              "5     Mackled more       12               34.0       68               44.0"
            ]
          },
          "metadata": {
            "tags": []
          },
          "execution_count": 178
        }
      ]
    },
    {
      "cell_type": "markdown",
      "metadata": {
        "id": "DHTHbEbcAKgf"
      },
      "source": [
        "\r\n",
        "\r\n",
        "---\r\n",
        "\r\n"
      ]
    },
    {
      "cell_type": "markdown",
      "metadata": {
        "id": "UqSkQZqJAQdn"
      },
      "source": [
        "<fieldset>\r\n",
        "\r\n",
        "<font size=\"6\"><font color='red'>Problem 9: </font></font>\r\n",
        "\r\n",
        "- We are interesting at the student who has the score of English and Intro to Data sci more than or equal 80\r\n",
        "\r\n",
        "- Could you plz print out which student(s) has those condition\r\n",
        "\r\n",
        "![image.png](data:image/png;base64,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)"
      ]
    },
    {
      "cell_type": "code",
      "metadata": {
        "id": "T2XP13AbAK-3",
        "colab": {
          "base_uri": "https://localhost:8080/",
          "height": 80
        },
        "outputId": "b0f77da3-0e51-4b8f-b99c-de4c40733e50"
      },
      "source": [
        "Dataframe_1[(Dataframe_1['English'] >= 80) & (Dataframe_1['Intro to Data sci'] >= 80)]\r\n",
        "\r\n",
        "# Don't forget: the condition requires Tuple to wrap up\r\n",
        "\r\n",
        "# This doesn't work: Dataframe_1[Dataframe_1['English'] >= 80 & Dataframe_1['Intro to Data sci'] >= 80]\r\n"
      ],
      "execution_count": null,
      "outputs": [
        {
          "output_type": "execute_result",
          "data": {
            "text/html": [
              "<div>\n",
              "<style scoped>\n",
              "    .dataframe tbody tr th:only-of-type {\n",
              "        vertical-align: middle;\n",
              "    }\n",
              "\n",
              "    .dataframe tbody tr th {\n",
              "        vertical-align: top;\n",
              "    }\n",
              "\n",
              "    .dataframe thead th {\n",
              "        text-align: right;\n",
              "    }\n",
              "</style>\n",
              "<table border=\"1\" class=\"dataframe\">\n",
              "  <thead>\n",
              "    <tr style=\"text-align: right;\">\n",
              "      <th></th>\n",
              "      <th>Name-Surname</th>\n",
              "      <th>English</th>\n",
              "      <th>Intro to Data sci</th>\n",
              "      <th>Science</th>\n",
              "      <th>Statistics + Math</th>\n",
              "    </tr>\n",
              "  </thead>\n",
              "  <tbody>\n",
              "    <tr>\n",
              "      <th>2</th>\n",
              "      <td>Lady Gaga</td>\n",
              "      <td>80</td>\n",
              "      <td>85.0</td>\n",
              "      <td>68</td>\n",
              "      <td>87.0</td>\n",
              "    </tr>\n",
              "  </tbody>\n",
              "</table>\n",
              "</div>"
            ],
            "text/plain": [
              "  Name-Surname  English  Intro to Data sci  Science  Statistics + Math\n",
              "2    Lady Gaga       80               85.0       68               87.0"
            ]
          },
          "metadata": {
            "tags": []
          },
          "execution_count": 179
        }
      ]
    },
    {
      "cell_type": "code",
      "metadata": {
        "colab": {
          "base_uri": "https://localhost:8080/",
          "height": 153
        },
        "id": "zSblq4cP-nam",
        "outputId": "22a2104c-9a0d-43d3-9203-4b0379db6f7d"
      },
      "source": [
        "display(Dataframe_1.iloc[1])"
      ],
      "execution_count": null,
      "outputs": [
        {
          "output_type": "display_data",
          "data": {
            "text/plain": [
              "Name-Surname         Thanapon Rabbur\n",
              "English                           69\n",
              "Intro to Data sci                 94\n",
              "Science                           50\n",
              "Statistics + Math               92.5\n",
              "Weighted Total                 86.35\n",
              "Grade                              A\n",
              "Name: 1, dtype: object"
            ]
          },
          "metadata": {
            "tags": []
          }
        }
      ]
    },
    {
      "cell_type": "markdown",
      "metadata": {
        "id": "7_SwaGuVBekg"
      },
      "source": [
        "\r\n",
        "\r\n",
        "---\r\n",
        "\r\n"
      ]
    },
    {
      "cell_type": "markdown",
      "metadata": {
        "id": "Yj0qXULJBsXP"
      },
      "source": [
        "<fieldset>\r\n",
        "\r\n",
        "<font size=\"6\"><font color='red'>Problem 10: </font></font>\r\n",
        "\r\n",
        "- We want to punish the student who has any subject's score lower than 50\r\n",
        "\r\n",
        "- Could you plz print out which student(s) has those condition\r\n",
        "\r\n",
        "![image.png](data:image/png;base64,iVBORw0KGgoAAAANSUhEUgAAAf0AAAB0CAYAAACPBOssAAAdKUlEQVR4Ae1dPXLrOg/9dvGWkNZt9nC7VHcBKTyTNjOZuU3G6aPK69U3JAgSAH8kS7Ktn1NkLIkSBeAc4IC073v/e3l56fGHGIAD4AA4AA6AA/vnwP8A8v5BBsbAGBwAB8ABcMBxAKKPnQ7s9IAD4AA4AA4chAMQ/YMAjS4fXT44AA6AA+AARB+ijw4fHAAHwAFw4CAcgOgfBGh0+OjwwQFwABwAByD6EH10+OAAOAAOgAMH4QBE/yBAP7zDf//ur9dr+Pvu3wtxfv924+Wx3N4//efvtb/+fvZ/CnPl96Oj339Mts6JO9j/57P/vV77388/BxHxO8RwZn25ra49vk49X/RZHGIxDyB+vz+FtH8+f4VYXfvrk+x4bMF+77+jQLeF+la7KJ5lYb8tOZZP7gxrF4OReNOzv/3nn0ck7bK+U9wZZ/d5gx8hX7/fH+H30DuWjEuYS+SB9HEq3u3nptg/8MyqRZ9jzPWA6w6ft/Eux3IgHhMFnN4lcmRkXXD18ba61vb51no75v71iP712lOSBRBvCPIYR0fds6qC9kgyhOS7Q8wpecYldRuj+yT3y8u0ecsF6F6YTbOxFk9blOh8pPDvNEdsTGzspuI99Tn7/nS+LBfSvPfirpw32M61PjQoY3f7yrG8Qzx2ynHGeiWi/9v/uq1bLzoBRHksum9eibkk/f3+9ltZjjTffqtYbGsF4HiLecx2F5GKmw9J1pf+xRBBEdCPOWHjzpV9CV3f72f/Gexz9sQVhLExrrjc9d/v/tvFxN3/HbbK7W5IjMtcUW2Ivrfxt//8FNv1sTlIScxxVv69vPQUJ2Of8tuMyRh6/1iMOLlTXGK8JnbzlAQ8r/zagDn4SV8pSDuU7flKwPvrcIoFTXDS+hbxNFwT/pAYifcEzGscGsPzTODU6lBwOLzLzyn8kVjHr1uyuDBudd9U/MO7LH847/id7B/nqr8+Io5c8MqfzGPLxZT3/P74GXJA2eF9CHNk8QgYlp6z9ttnw3ibC+wDvYfjlPzV41JoMx9ifg9hl+rbuK/ciFu+nn2/+9pANbwWs8AhGw/mircz+CXq5dy6wPGIOSbysczZkv05lzR+KT/89ZpGuHcb/xO2dUwT7jmGKxH97/7dO+YCERwpES8478BIhYuI5ALhwXLPhQIVQRPPtYLxYouytMHMQcSQpHSNCwEtxxhoAooJKgWGQRFj4l1MCBIRmj9e82QUz2Xk5LmHPvNCnxXzUHikb3TM5E44yBjre7QdpbGEq743rshj0xRslhhN8r8Uv3Ct8S4Zh9zf3/73mzBO/tj33GK/fTbERol1Kg6R95V4JJs4xnVbMj8FN6Xf+rhib8GebH55z4h36VxgfyZ8hnexqNsYNu2MNudxHHoutz+f47bY0vNJGFwsGnhYDkVfxsUwt7/1HNn2/fnZ/3qR++0/391vEJIAJl9zm8uxDPc1cjXN2bJNjgUMVHPB47lddn6yk+siPWevyRykY14cmPkbOaBjb55r4Lge0WdifofVFRdzk4wuKaPo+3sCkd7DqvL3s3+338sH8DiRCYC0euLrETy1qgngmeArAoYxnWgEtgQ3T75EWC42Xmz9fELgnZ/eJpcchpBMTLtaaIAe/Yz3hDk55vF6LiTSb01kmsPGQN/DiVNOBGcX3a9XRWSvJXXDZmn/4LGd19lmr+XvknGQ8WT7a5yS8dHc0LGRc+b2yPjJgpnbqeeh5/L36ufYh8hJWZRNHqT5K1wein+Yz7/LcFgXtXJ8xtyTbCzPIceV7yIfanhnCwWXj6OeE1gov3UcMx5l3LQ+EZaSZ9kiSGESsPd1RHLJzivP5TOpjg6vsN1z7h0iv2Jdc/Nr3y0nyhiIubxfwTaBgcT3puOSDoRrOS4pPmSnFP2CXz7eosbHHzRrf+r8rmCguJRskn6vSPQLBT8EOBJYFBwfDA8sOe9A8MGOoj+WwOXAuCAReGE7Xrw7jYV3mDEZYG9nC9DSmJ9PEML5GZNjQVLH5G/MaXxTiaeSovzL+jwBUryHx+RWpU6GWGxnJ7ed19lnr+XxUXGIcWTOFLhnuXzTD36sPRTD3IbcTslFPtacfIk7Yz7PWng7P814ec6yvXxv8TPM6wu9x3TcHPWimHhWfJ/ALB8P7465WcPV2pjHP8dI21W3n21wOSD5ZN+p5+O8iDWzgZn2O9guxEiP2/fQed3+wv2xhoWdWlXX5O6tezb3sxxLe1+OwRg/WvfQe8s6UHqO7i+IfkWQdT5Kf+Sxjed0P1cl+kzYmPiqwIQAjFjp/+ECMlMQCIyQcKFoU4fHCTJH9A2gbLMjhj+uiT7HQRYCS4hbzxsEUhjo4ufjMxDjPAGSba0xn0xKKE28+KuYgfeXklJfs/M6++y1PD5ke45B7Xrkdkz8fE5tV4pTbk8YC9jEAm+wqs1XLDJB4LT9hudVATHxCnbEr4iaAiv91DEhW8RvYArzeF9iTOVcc46DHWJeHReeu2zvvJU+z02f+XtNrLOYkE2RE34892ccN7QtpWduir8Q/TQX2fb9bvwqcCiPhbPPPLdYXUi+U75wrg/HkuyUos8NTZnLxXwM3KO5Ss8Fv1VDmGxO8c2vrUz0WVR4i4wdoxWf/y5ojOg7ojNpfOfqntcglILCAfZNR2G7i8CRtswRfWMj/5DDge1tr4m+IHr0jb8PygEu+ZlfC0QW88V4hTjydpZKvCDKKV6Mm8BRzmmIrJ4LYzLGfjxcv0dy53iz/WMKiYlZaD5UfGxBtvG6pWExfNZ4ECddvPh6jnHiRj3G7h7pF/+AkwtegXuMj7RPctnGwJznGOg8teMsZpkPjme3xFPZoeuM5h3HTcYlvUvZZ7+a9O8oP1e339xf+jf3MtYR8/w5zQc7HuJsORnnY78X/GyKfqMeRqyMDx7vMbl6mw8KU1+/JP/dXMYO1TCnXLQ8yjAPfKXrzHvrT15LOQdiTRQ1No3VfX6+6EdA60a2ChjGnhW3QE5RaClZbII8yz68F7kBDoAD4IDlAEQfTcfE/whS6HaF6FPHCtG3SYZzFF5wABxYCwcg+hD9iaJvtuOK22BI9LUkOuwAF8EBcMBxAKIP0Z8u+ogdYgcOgAPgwKY4ANEHYTdFWKxWsFoBB8ABcGA6ByD6EH2IPjgADoAD4MBBOADRPwjQ6Iynd8aIHWIHDoADe+EARB+ijw4fHAAHwAFw4CAcgOgfBOi9dKnwAysucAAcAAemc6Aq+v/991+PP8QAHAAHwAFwABzYBwdcs1QV/dPp1OMPMQAHwAFwABwAB/bBAYg+Ghs0duAAOAAOgAMH4QBE/yBAo0vfR5cOHIEjOAAOzOEARB+ijw4fHAAHwAFw4CAcgOgfBOg5nSGexcoCHAAHwIF9cACiD9FHhw8OgAPgADhwEA5A9A8CNLr0fXTpwBE4ggPgwBwOzBf9t6++c/9L1e6rf3uCgL59dYV3n/vLLJve+q/u2ndfb/O6X46N/1/OXvtr/Oz6rzcQt0Xc80XE63JOONiYyrEn8K/lA8amcdzndMwVx4NLf65gK3lyOU97H3B6btxaeEt8r9d23ZT37o0LKkZFrSXNGuP3bNGPgS4acn8y5aJPzl9nicGSop8T1cfsSfHaQoHTmFIDRw0YHSdiy7H7c20LsduDjS4/RjXc50tqCORxpUHYQ2z26EMNb10HTj0JX6UBlPjL4z1wwfuTdMTrh9K3oHnXa59qY70ezhN9uep6kohZYiwjqPcV/ZOPWwJxj4k8xydLansu526NyftwXC8C64oN5d6Y4qWxH//cuvzdCi73svMG3Bp1c89ccL5Vm2DW4MvF726PyZsZok9gXbtuNdv79U4wbPeHLUMZGE8W3kqMjQv51n190dcEflx2mMF3fq62/Vgjqb3OwPn5dDNQto8SUI2pzu9eCfqYeXUjZ1f32gYfgx35DkFyeOscKMeEc5S/grPnmiflOXDP8+MyFu9TX18sWezt+ZZxbte/09u5P/uvigfuEzse00U/bjnQy57+nX60xwJsCCAF1z0Thf7UOwGhjoqeSd8lhvMgLl6UotCY+UVwayT1QhXfq8FSjUvVvrDVFedo2CDt2dKxx9N9n9sQgNAsySbu+UXM8g/nN2GiGmD6XUcZX+K8HEv5i5jfFPNn1oXReFN9lvU6+bhnLjh96Pqvc/jtnFsYxrovea51JMVG3kPHE0Wfgkzfm69A9MMKuesKAfGkkqt0Ie5BWGThoGDlIlpfUZL/xe2XAqHpx3zCHm+DOD8J8AbsU3a7e4tkyEFvEWINY7opyrEgGwPvYvO1PT/XEOvV2eA5Lxo9ex4Fas+F/kBctvja84A3LYYELyIPXKz2zAWrr+Rr/ps1oRsqNjmXJom+BsAalb/knoWFbOEfMBSEwJNI/BKct+RZLMw4CWkuNEr01TNd75qNuuhLopJ98l5vvxJrA556l/GTfYmfsnl4LA7LYWz8dwT2MZC+FXAeIPpy9m01rlu1O89FwtJet+db9ffoduc4ar0pxcc+Y89Lz2zl2ph66Hwp3FepiRNEnwKa/vmZFFRZmB8T1Ew0w+o6roILK/2aABC5nA85aZLo2zF7Lvz275aiz99LsXjXBS3aL4Cz9pXuqfm2nesF8irRp3HZOG3HN8ENgSvsb8WF8qvEdZeTiQf1+xDfVnzXNqZxTDWvbed+uaDj4bns6qFaKLrYFOpmpcZMEH0bfHpZboS97z7nmeif+J92sNhS0FJxSKKRPRuDaZ8J3yf53QEai9srXpBk8RF+lkQ/2scNkgZLkrxun/1Ov/V9l7CnQoK1FUXfYEVSy3jL4+35tbY4r9Eey3mZD5m9shmUxxvheebPAe1u4u0x5To+kO8Sf3m8g5jqGOXaRDzSOtLi1i5Fn7/jST8CC40Jb4Pz1v4piCVfjz8aywObVvq8Og87HJez/wFgbAIkySqiz11ZbJT8fbxjoknu35vZRwmgx7iJGEgOad9qj4O4s9+Ml4oTx6vwO47V+rUHbO7vAwk94yvzweWxPNf5W9oNaBU/jN0fyzExruGt6xvzgXdJj8UFFSOuh6rOPVT010GcMeTCPcAKHAAHwAFw4MgcWGClDwIdmUDwHfwHB8ABcGA7HIDoqy2S7QCHJANW4AA4AA6AA7dyAKIP0U//MxvEArEAB8ABcGDXHIDog+C7JvitXTDux8oJHAAH9swBiD5EH6IPDoAD4AA4cBAOQPQPAvSeO1f4hpUZOAAOgAPjOADRh+ijwwcHwAFwABw4CAcg+gcBGl3wuC4YcUKcwAFwYM8cgOhD9NHhgwPgADgADhyEA03Rf3197fGHGIAD4AA4AA6AA/vgAEQfjQ0aO3AAHAAHwIGDcACifxCg0aXvo0sHjsARHAAH5nAAog/RR4cPDoAD4AA4cBAOQPQPAvSczhDPYmUBDoAD4MA+OADRh+ijwwcHwAFwABw4CAcg+gcBGl36Prp04AgcwQFwYA4Hpov+x09/vV7V38/Hg8H4+6/vjA3Opu7f3xFd69/+Xzf23oZfFRuu167/97fx3GCzsZB9g++ZY+O9nv3ofwyuOaYUn4dzbpPxvBdO0+b9+69TdYPrCGOcj//0H5W4f/ykGgQuTMNjjoAs+6yueTkPCGvmiX33frnQqIdWf34+BrVvsugTIHOFbSZJvcPGhhCE4QKgCWYJNPq8ZMPra+8J2P3r/1aK1fD8C9k3+f0zsZnzXh/TeqF/faXYOLEYxvmJfsyJwZGe9QuIhLfLnVphV3kjn5PHR4rdjnxlka9i38JYjsnjPcSnWg+pGUg1kM6r8QuxmCj6XHRToqpkfFSgi4I7VizH3jcgGkUbXvvX2vXRsVnIvtHvG/DzkfO4pK01TD6u1/768+N3AxLhV2T/I2O1+XfZwkW8H4Orb6zjymb8c0+pVZvH6d755XjQ9V1199XyRNuzay606qHhlY6DjhHzfqLoEwC8LTd+S71sBBtz82dJWAvXfCB4u9gUie7fv7SVbISm/JzxofA+74e97s95KzLtTtA7RPPku1Q3zqIv7LuK+8Rql3CQY8ZGQ4yb4/zg533HH3Eyvvz96D/81ybtIrB2H2Ef4eqxVnlHxX/4qzHOD/4qz54b3jyYw8D3tvi7OvjzUccw54mc3z5nz+W92ztu1kPDa68ntdoZ7p0m+ixgYXJv1DO2WtkOFvTwKVcJmiySDHScvnsP59KnWIzkc4Y0VtxDYH3w4/NGoMz2UwJK3sf2sZgX7IvgNuwzpNhCMfLxkJjGOMrYy1jJ6zjeAsZkYwHDQk7LfE6+EeflmOPN0NZmeh48WU0sHOY+x2t1rMATVdf2zYVx9ZB3l4e/8pwm+irg6WXXKEIPSqii4BJBKPlzMrzGrRIaUzZHMW49Z3wrFKls5R3fyc/a+clm/1yMId0ji1hqDnge/pQ+87Wtflpc7Dn7NVQI+D58rqa427oR801g5K+lnTCfr8Ufxdocot/RyHxZrd82Doc+dzgy3oRphmGJJypme+YC+ZZ0yp5z7gQNifrB1/PPZUT/dfwLF03Eoui/9ml1H+ySq0Z/7FbPBYL5+dxY6zkTxMwGelYSl3dCqBngLX69KqF7eFXv3pHbp0TfJwLP1fouzNirkmUjY8WkpzjLld6i3NpinDZms+f8YJHK84Bwttft+Ua4vTHMFs8xl9uRA2UMh3lin7PnO+NCVg+DXsU4tv1dRvR5tTvypYsRJxNcctaTRGwXlYWhQIwYTBorP2cCWrIhxCM+7+YtblGHucIc7kcsrQRIom9tt+fGxq0XlmL8IPqL5dFT+DGWs/VcdPmQmuv6fduO085y2XDN17RsUdaugyU8D8UFVQ/zRWYpPvLaNNH34pgSjlapvEXzQJKWBDes0rkYpAaA7PIkEw3BNf44jooGi279OeNf0Yaw2xDnNgKlmgJZ/OR98rqw3TdW2lbaAk14SIC3dyxj4PyukdreZ3AxxWV7cdi7Pw6/vGbYvKPaInfARFx8HQpj8hjYD/5b7XXmQ17zKP9znmT2S/zl8ea5YOucrIdGB0b6Ok30X1nUeHt5+McDGUgjDWw+F8TTbpuzcPOzupvkAsIEE7+ON6vx8nOi6DgfKqLPYhVX+MZWakoCaPK9nrCO5Gwf/zo5/Nt/3k3x94X4/3zQfxeAx5aI7VPnIGJHXIt+2WQwuDzVftjCuVf9rOaNrS2y4DvM5XnIibBSjDtrwH4/ol/lyZG4UKmHRlNivZR6UsiFyaJfTebCS3AvRAAcAAfAAXAAHHg+ByD6aFI2uip4fvKggAEDcAAc2BoHIPoQfYg+OAAOgAPgwEE4ANE/CNBb60ZhL1ZQ4AA4AA4szwGIPkQfHT44AA6AA+DAQTgA0T8I0OiYl++YEVPEFBwAB7bGAYg+RB8dPjgADoAD4MBBOADRPwjQW+tGYS9WUOAAOAAOLM8BiD5EHx0+OAAOgAPgwEE4ANE/CNDomJfvmBFTxBQcAAe2xoGm6J9Opx5/iAE4AA6AA+AAOLAPDkD00digsQMHwAFwABw4CAcg+gcBGl36Prp04AgcwQFwYA4HIPoQfXT44AA4AA6AAwfhAET/IEDP6QzxLFYW4AA4AA7sgwMQfYg+OnxwABwAB8CBg3AAon8QoNGl76NLB47AERwAB+ZwYIbov/Vf3bW/XsPf5bxgp3juL37eS3+2ony+0Du7r/7Njo0993MU5j6RT93X242+TH0O5G2Tl+J6OYs4vX31HXPOfS7KO/GesVzCfTfmCsX47atLteNaykV333BenS+pBimeAJdJuLTz8d750cK7NUZ27ZkLKl+M9km/x9TDyaLvXxRezgYtl3RO9Lu+6669nTM6aBy/iawQ/Q0UBEpy11QmDlAzaM9vb9LuXbwwfzMfTf7JWiKf47pSxVfOI48h+BvI7zxHWni3xjxnJP7yeA9c8P50/debaG7CYsfHJWoh1cdqvoRYTBP9sNoamlwm8G3HJPqXS2dWck4Iut5fj47m5Bl8V5UUw91kee6pz02wfQ8kHvKBV/OXi9/xSSKfx8sLBlb7myzyMZeK+Zga/1qd0dhTDra4Et83xD+MP4FPLbxbY7kQ8g7RXrjgeD4uB069zom8XrocmCb6PknlCqw8+fQkI5C/zm4rV2z9OTHovvqz2xoUou8djVu+qSNy7+cO0X8Nwc+oIkPFguaz4u3sqGwfsjC58e7SX7oyMATCl/gqxPkj5xX+qesivv5dl/4StjKZzMrvPQnf27k/+66W4sT+lvg0huSl53Bt6ZydPl8JQ3ftcrb5KN9hx+y5vBfHa+d7C+/WGPllsbfnW8a/XQNLK/1WvXTxmiT6JKRhxR1EsdaJTCObc9SJN4HHTrj3uvcoR52As5ifTKejxF2MxeuWHPJcHp/6kxdebijMmJ+vIfreF0c8eu4aGxkClGJXmjO8LzQYMsYqBiO++5yGw7OTpU14wkQ0R1ihPWGFNoMjIW+uMT/CXI7vPqdNTih8aYxrg+O3EweZI9vk/Ix4qvhsaJ4W3q2x6O+euRC00C+AwwJU6J3neC2PYnw0F2aIfvoRFTUBSxZfFn1aqUtRdEmuBU86RODzjxlcEeBjVQB8kOg3A7pIiCLjhVauwkVR8WPcALj3i+dMoK0N+lw815qzMiYL3sn5ZMlgbFEx2MRYS/RprIjvJnyTvD34cchH+s7S5QTnlsiPDFMakzkA0d8ij1p4t8akr3vmQqhzsbaTr1z3vJ6YMa1pMk50PEn0vcDIH1h5UaoIbJasuRG5GCXRj2Lm30EirESf3+13HEjIKSAUnGIAQmfUde4XxFLYxTPhnvivE3ib322j+zH5nGgIjL9a5MVug7/Pvk/OKcYy0Q9EYJvip3x+TJzXfg/5KQs7cSX4v6evNAxv8pxYO1Zz7BNcd7kVcRXXs/jYMXs+xx48+zD+tfBujSk+WOzt+ZbxLNTAqD+tsbrP00Q/CG0UVBbemKz1F44jk3OGu306lj/qk6LfElU7Ft8dg9YQYe9TRUQzEa6TzNqgz8VzrTkrY7kYzo372p4vkDr87iFyTyX/2uyHPTHnmjglnH1+xCY2/Z4mNQIppu7exAPKpf3nRPJ/XGzXfX8L79aY9X2/XCjw2umXX92nvInxENoWr5ncmyb6/N102Fa45/a+M5zB54TORJ+3N7w4ih0HE4D4nLouAydEONuyp/uoyNB9sRCF96YClBLN2y6aIX3eeJ+3UX6nz00QzR19CYD6eTkOBuQa+Ou/LrFxfpu478bPxJf1Y7KArSr/+Me2pQZb5kfhvXIeeQxebOu3HRGvFt6tsZPefd0ZF3St13HQdZ/Goi7FuOrcmSj6bpLwgtCVsyAvU7RcsRciZ0BUQWChd3YUftnv740rh1BYSvP5bX4d0JP5Nb0OJgkSbf/TL+vnib6LqZxT/EYiW+kTiB5w61sF6GVw0eS5/5xG9CXW0W/CffJ/qGlX8Xo0PtPfp/NS5LrCo5SP+l6ZA8vWoOm+3T8v9mqbxVv6aceMRojFof5ve8g5tnus8kUsIq0Oa40q+ztD9MsTgvCICzgADoAD4AA4sE4OQPTVymKdICF5gAs4AA6AA+DAEhyA6EP0N/r9HwrAEgUAc4BH4MCxOADRh+hD9MEBcAAcAAcOwgGI/kGARjd/rG4eeANvcAAcKHEAog/RR4cPDoAD4AA4cBAOQPQPAnSp48M1rATAAXAAHDgWByD6EH10+OAAOAAOgAMH4QBE/yBAo5s/VjcPvIE3OAAOlDgA0Yfoo8MHB8ABcAAcOAgHmqLvBvGHGIAD4AA4AA6AA/vhwP8A5n7ABJbAEhwAB8ABcKDFAYg+djSwowMOgAPgADhwEA5A9A8CdKvzwxhWBuAAOAAOHIMDEH2IPjp8cAAcAAfAgYNwAKJ/EKDRxR+jiwfOwBkcAAdaHIDoQ/TR4YMD4AA4AA4chAMQ/YMA3er8MIaVATgADoADx+AARB+ijw4fHAAHwAFw4CAc+D/E7G9Ygb2PmgAAAABJRU5ErkJggg==)"
      ]
    },
    {
      "cell_type": "code",
      "metadata": {
        "id": "He1SRgqABjux",
        "colab": {
          "base_uri": "https://localhost:8080/",
          "height": 111
        },
        "outputId": "d98430bf-efe9-4efd-86eb-829ceef6cd41"
      },
      "source": [
        "Dataframe_1[(Dataframe_1['English'] < 50) | (Dataframe_1['Intro to Data sci'] < 50) | (Dataframe_1.iloc[:,-2] < 50) | (Dataframe_1['Science'] < 50)\t]"
      ],
      "execution_count": null,
      "outputs": [
        {
          "output_type": "execute_result",
          "data": {
            "text/html": [
              "<div>\n",
              "<style scoped>\n",
              "    .dataframe tbody tr th:only-of-type {\n",
              "        vertical-align: middle;\n",
              "    }\n",
              "\n",
              "    .dataframe tbody tr th {\n",
              "        vertical-align: top;\n",
              "    }\n",
              "\n",
              "    .dataframe thead th {\n",
              "        text-align: right;\n",
              "    }\n",
              "</style>\n",
              "<table border=\"1\" class=\"dataframe\">\n",
              "  <thead>\n",
              "    <tr style=\"text-align: right;\">\n",
              "      <th></th>\n",
              "      <th>Name-Surname</th>\n",
              "      <th>English</th>\n",
              "      <th>Intro to Data sci</th>\n",
              "      <th>Science</th>\n",
              "      <th>Statistics + Math</th>\n",
              "    </tr>\n",
              "  </thead>\n",
              "  <tbody>\n",
              "    <tr>\n",
              "      <th>3</th>\n",
              "      <td>Kesha Rose</td>\n",
              "      <td>82</td>\n",
              "      <td>5.0</td>\n",
              "      <td>61</td>\n",
              "      <td>52.0</td>\n",
              "    </tr>\n",
              "    <tr>\n",
              "      <th>5</th>\n",
              "      <td>Mackled more</td>\n",
              "      <td>12</td>\n",
              "      <td>34.0</td>\n",
              "      <td>68</td>\n",
              "      <td>44.0</td>\n",
              "    </tr>\n",
              "  </tbody>\n",
              "</table>\n",
              "</div>"
            ],
            "text/plain": [
              "   Name-Surname  English  Intro to Data sci  Science  Statistics + Math\n",
              "3    Kesha Rose       82                5.0       61               52.0\n",
              "5  Mackled more       12               34.0       68               44.0"
            ]
          },
          "metadata": {
            "tags": []
          },
          "execution_count": 180
        }
      ]
    },
    {
      "cell_type": "markdown",
      "metadata": {
        "id": "fO5o5UOaCvuI"
      },
      "source": [
        "\r\n",
        "\r\n",
        "---\r\n",
        "\r\n"
      ]
    },
    {
      "cell_type": "markdown",
      "metadata": {
        "id": "yzv3j4psDCaY"
      },
      "source": [
        "<fieldset>\r\n",
        "\r\n",
        "<font size=\"6\"><font color='red'>Problem 11: </font></font>\r\n",
        "\r\n",
        "- Create a new column named 'Total', which sum up all subject scores\r\n",
        "\r\n",
        "![image.png](data:image/png;base64,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)\r\n"
      ]
    },
    {
      "cell_type": "code",
      "metadata": {
        "id": "WxtMMA_ACrzg"
      },
      "source": [
        "Dataframe_1['Total'] = Dataframe_1['English'] + Dataframe_1['Intro to Data sci'] + Dataframe_1.iloc[:,-2]  + Dataframe_1['Science'] "
      ],
      "execution_count": null,
      "outputs": []
    },
    {
      "cell_type": "code",
      "metadata": {
        "id": "P4DCwwCWDc-o",
        "colab": {
          "base_uri": "https://localhost:8080/",
          "height": 235
        },
        "outputId": "8ad4ac1d-e6d6-4577-b7e9-e85a856696d3"
      },
      "source": [
        "Dataframe_1"
      ],
      "execution_count": null,
      "outputs": [
        {
          "output_type": "execute_result",
          "data": {
            "text/html": [
              "<div>\n",
              "<style scoped>\n",
              "    .dataframe tbody tr th:only-of-type {\n",
              "        vertical-align: middle;\n",
              "    }\n",
              "\n",
              "    .dataframe tbody tr th {\n",
              "        vertical-align: top;\n",
              "    }\n",
              "\n",
              "    .dataframe thead th {\n",
              "        text-align: right;\n",
              "    }\n",
              "</style>\n",
              "<table border=\"1\" class=\"dataframe\">\n",
              "  <thead>\n",
              "    <tr style=\"text-align: right;\">\n",
              "      <th></th>\n",
              "      <th>Name-Surname</th>\n",
              "      <th>English</th>\n",
              "      <th>Intro to Data sci</th>\n",
              "      <th>Science</th>\n",
              "      <th>Statistics + Math</th>\n",
              "      <th>Total</th>\n",
              "    </tr>\n",
              "  </thead>\n",
              "  <tbody>\n",
              "    <tr>\n",
              "      <th>0</th>\n",
              "      <td>Meechoke Kaedum</td>\n",
              "      <td>75</td>\n",
              "      <td>80.0</td>\n",
              "      <td>70</td>\n",
              "      <td>79.5</td>\n",
              "      <td>295.0</td>\n",
              "    </tr>\n",
              "    <tr>\n",
              "      <th>1</th>\n",
              "      <td>Thanapon Rabbur</td>\n",
              "      <td>69</td>\n",
              "      <td>94.0</td>\n",
              "      <td>50</td>\n",
              "      <td>92.5</td>\n",
              "      <td>263.0</td>\n",
              "    </tr>\n",
              "    <tr>\n",
              "      <th>2</th>\n",
              "      <td>Lady Gaga</td>\n",
              "      <td>80</td>\n",
              "      <td>85.0</td>\n",
              "      <td>68</td>\n",
              "      <td>87.0</td>\n",
              "      <td>301.0</td>\n",
              "    </tr>\n",
              "    <tr>\n",
              "      <th>3</th>\n",
              "      <td>Kesha Rose</td>\n",
              "      <td>82</td>\n",
              "      <td>5.0</td>\n",
              "      <td>61</td>\n",
              "      <td>52.0</td>\n",
              "      <td>209.0</td>\n",
              "    </tr>\n",
              "    <tr>\n",
              "      <th>4</th>\n",
              "      <td>Bebe Rexha</td>\n",
              "      <td>51</td>\n",
              "      <td>75.0</td>\n",
              "      <td>52</td>\n",
              "      <td>47.0</td>\n",
              "      <td>230.0</td>\n",
              "    </tr>\n",
              "    <tr>\n",
              "      <th>5</th>\n",
              "      <td>Mackled more</td>\n",
              "      <td>12</td>\n",
              "      <td>34.0</td>\n",
              "      <td>68</td>\n",
              "      <td>44.0</td>\n",
              "      <td>182.0</td>\n",
              "    </tr>\n",
              "  </tbody>\n",
              "</table>\n",
              "</div>"
            ],
            "text/plain": [
              "      Name-Surname  English  ...  Statistics + Math  Total\n",
              "0  Meechoke Kaedum       75  ...               79.5  295.0\n",
              "1  Thanapon Rabbur       69  ...               92.5  263.0\n",
              "2        Lady Gaga       80  ...               87.0  301.0\n",
              "3       Kesha Rose       82  ...               52.0  209.0\n",
              "4       Bebe Rexha       51  ...               47.0  230.0\n",
              "5     Mackled more       12  ...               44.0  182.0\n",
              "\n",
              "[6 rows x 6 columns]"
            ]
          },
          "metadata": {
            "tags": []
          },
          "execution_count": 182
        }
      ]
    },
    {
      "cell_type": "markdown",
      "metadata": {
        "id": "QuMWo6xlDiGP"
      },
      "source": [
        "\r\n",
        "\r\n",
        "---\r\n",
        "\r\n"
      ]
    },
    {
      "cell_type": "markdown",
      "metadata": {
        "id": "rEEalWYLEUWn"
      },
      "source": [
        "<fieldset>\r\n",
        "\r\n",
        "<font size=\"6\"><font color='red'>Problem 12: </font></font>\r\n",
        "\r\n",
        "- Not create a new column named 'weighted total'\r\n",
        "\r\n",
        "- weight for each subject : {English: 0.1, Intro to Data sci: 0.3, Statistics + Math :0.5, Science: 0.1}\r\n",
        "\r\n",
        "- Now compute the total based on the given weights\r\n",
        "\r\n",
        "![image.png](data:image/png;base64,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)\r\n"
      ]
    },
    {
      "cell_type": "code",
      "metadata": {
        "id": "Bw4hYCxHDisg"
      },
      "source": [
        "Dataframe_1['Weighted Total'] = 0.1*Dataframe_1['English'] + 0.3*Dataframe_1['Intro to Data sci'] + 0.5*Dataframe_1.iloc[:,-2]  + 0.1*Dataframe_1['Science'] "
      ],
      "execution_count": null,
      "outputs": []
    },
    {
      "cell_type": "code",
      "metadata": {
        "id": "gAeX52l5FJbA",
        "colab": {
          "base_uri": "https://localhost:8080/",
          "height": 235
        },
        "outputId": "f59a237b-cc96-495c-b9d9-f85a28ec712a"
      },
      "source": [
        "Dataframe_1"
      ],
      "execution_count": null,
      "outputs": [
        {
          "output_type": "execute_result",
          "data": {
            "text/html": [
              "<div>\n",
              "<style scoped>\n",
              "    .dataframe tbody tr th:only-of-type {\n",
              "        vertical-align: middle;\n",
              "    }\n",
              "\n",
              "    .dataframe tbody tr th {\n",
              "        vertical-align: top;\n",
              "    }\n",
              "\n",
              "    .dataframe thead th {\n",
              "        text-align: right;\n",
              "    }\n",
              "</style>\n",
              "<table border=\"1\" class=\"dataframe\">\n",
              "  <thead>\n",
              "    <tr style=\"text-align: right;\">\n",
              "      <th></th>\n",
              "      <th>Name-Surname</th>\n",
              "      <th>English</th>\n",
              "      <th>Intro to Data sci</th>\n",
              "      <th>Science</th>\n",
              "      <th>Statistics + Math</th>\n",
              "      <th>Total</th>\n",
              "      <th>Weighted Total</th>\n",
              "    </tr>\n",
              "  </thead>\n",
              "  <tbody>\n",
              "    <tr>\n",
              "      <th>0</th>\n",
              "      <td>Meechoke Kaedum</td>\n",
              "      <td>75</td>\n",
              "      <td>80.0</td>\n",
              "      <td>70</td>\n",
              "      <td>79.5</td>\n",
              "      <td>295.0</td>\n",
              "      <td>78.25</td>\n",
              "    </tr>\n",
              "    <tr>\n",
              "      <th>1</th>\n",
              "      <td>Thanapon Rabbur</td>\n",
              "      <td>69</td>\n",
              "      <td>94.0</td>\n",
              "      <td>50</td>\n",
              "      <td>92.5</td>\n",
              "      <td>263.0</td>\n",
              "      <td>86.35</td>\n",
              "    </tr>\n",
              "    <tr>\n",
              "      <th>2</th>\n",
              "      <td>Lady Gaga</td>\n",
              "      <td>80</td>\n",
              "      <td>85.0</td>\n",
              "      <td>68</td>\n",
              "      <td>87.0</td>\n",
              "      <td>301.0</td>\n",
              "      <td>83.80</td>\n",
              "    </tr>\n",
              "    <tr>\n",
              "      <th>3</th>\n",
              "      <td>Kesha Rose</td>\n",
              "      <td>82</td>\n",
              "      <td>5.0</td>\n",
              "      <td>61</td>\n",
              "      <td>52.0</td>\n",
              "      <td>209.0</td>\n",
              "      <td>41.80</td>\n",
              "    </tr>\n",
              "    <tr>\n",
              "      <th>4</th>\n",
              "      <td>Bebe Rexha</td>\n",
              "      <td>51</td>\n",
              "      <td>75.0</td>\n",
              "      <td>52</td>\n",
              "      <td>47.0</td>\n",
              "      <td>230.0</td>\n",
              "      <td>56.30</td>\n",
              "    </tr>\n",
              "    <tr>\n",
              "      <th>5</th>\n",
              "      <td>Mackled more</td>\n",
              "      <td>12</td>\n",
              "      <td>34.0</td>\n",
              "      <td>68</td>\n",
              "      <td>44.0</td>\n",
              "      <td>182.0</td>\n",
              "      <td>40.20</td>\n",
              "    </tr>\n",
              "  </tbody>\n",
              "</table>\n",
              "</div>"
            ],
            "text/plain": [
              "      Name-Surname  English  ...  Total  Weighted Total\n",
              "0  Meechoke Kaedum       75  ...  295.0           78.25\n",
              "1  Thanapon Rabbur       69  ...  263.0           86.35\n",
              "2        Lady Gaga       80  ...  301.0           83.80\n",
              "3       Kesha Rose       82  ...  209.0           41.80\n",
              "4       Bebe Rexha       51  ...  230.0           56.30\n",
              "5     Mackled more       12  ...  182.0           40.20\n",
              "\n",
              "[6 rows x 7 columns]"
            ]
          },
          "metadata": {
            "tags": []
          },
          "execution_count": 184
        }
      ]
    },
    {
      "cell_type": "markdown",
      "metadata": {
        "id": "v2qGu3TrFTX_"
      },
      "source": [
        "<fieldset>\r\n",
        "\r\n",
        "<font size=\"6\"><font color='red'>Problem 13: </font></font>\r\n",
        "\r\n",
        "- Remove column 'Total', since we have no longer used\r\n",
        "\r\n",
        "- Create new column named 'Grade', based on the Weighted Total\r\n",
        "\r\n",
        "( If weighted Total >= 80 then A, elif weighted Total >= 75 then B+,..... elif weighted Total >= 55 then D, else: F\r\n",
        "\r\n",
        "![image.png](data:image/png;base64,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)\r\n"
      ]
    },
    {
      "cell_type": "code",
      "metadata": {
        "id": "O9cxpo25Kfdp"
      },
      "source": [
        "Dataframe_1.drop('Total',axis=1,inplace=True)"
      ],
      "execution_count": null,
      "outputs": []
    },
    {
      "cell_type": "code",
      "metadata": {
        "id": "gKu8vYk9KnRZ"
      },
      "source": [
        "#Dataframe_1.drop('Grade',axis=1,inplace=True)"
      ],
      "execution_count": null,
      "outputs": []
    },
    {
      "cell_type": "code",
      "metadata": {
        "id": "jh3WZoYyGCAI"
      },
      "source": [
        "def grade_assigner(i):\r\n",
        "  \r\n",
        "  i = int(i)\r\n",
        "\r\n",
        "  if i >= 80:\r\n",
        "    return 'A'\r\n",
        "  \r\n",
        "  elif i >= 75:\r\n",
        "    return 'B+'\r\n",
        "  \r\n",
        "  elif i >= 70:\r\n",
        "    return 'B'\r\n",
        "\r\n",
        "  elif i >= 65:\r\n",
        "    return 'C+'\r\n",
        "  \r\n",
        "  elif i >= 60:\r\n",
        "    return 'C'\r\n",
        "  \r\n",
        "  \r\n",
        "  elif i >= 55:\r\n",
        "    return 'D+'\r\n",
        "\r\n",
        "  elif i >= 50:\r\n",
        "    return 'D'\r\n",
        "\r\n",
        "  else:\r\n",
        "    return 'F'\r\n",
        "\r\n"
      ],
      "execution_count": null,
      "outputs": []
    },
    {
      "cell_type": "code",
      "metadata": {
        "id": "QYoJtVgPGyfw",
        "colab": {
          "base_uri": "https://localhost:8080/",
          "height": 235
        },
        "outputId": "be52ac61-a0b7-412f-a733-782af24784b7"
      },
      "source": [
        "Dataframe_1"
      ],
      "execution_count": null,
      "outputs": [
        {
          "output_type": "execute_result",
          "data": {
            "text/html": [
              "<div>\n",
              "<style scoped>\n",
              "    .dataframe tbody tr th:only-of-type {\n",
              "        vertical-align: middle;\n",
              "    }\n",
              "\n",
              "    .dataframe tbody tr th {\n",
              "        vertical-align: top;\n",
              "    }\n",
              "\n",
              "    .dataframe thead th {\n",
              "        text-align: right;\n",
              "    }\n",
              "</style>\n",
              "<table border=\"1\" class=\"dataframe\">\n",
              "  <thead>\n",
              "    <tr style=\"text-align: right;\">\n",
              "      <th></th>\n",
              "      <th>Name-Surname</th>\n",
              "      <th>English</th>\n",
              "      <th>Intro to Data sci</th>\n",
              "      <th>Science</th>\n",
              "      <th>Statistics + Math</th>\n",
              "      <th>Weighted Total</th>\n",
              "    </tr>\n",
              "  </thead>\n",
              "  <tbody>\n",
              "    <tr>\n",
              "      <th>0</th>\n",
              "      <td>Meechoke Kaedum</td>\n",
              "      <td>75</td>\n",
              "      <td>80.0</td>\n",
              "      <td>70</td>\n",
              "      <td>79.5</td>\n",
              "      <td>78.25</td>\n",
              "    </tr>\n",
              "    <tr>\n",
              "      <th>1</th>\n",
              "      <td>Thanapon Rabbur</td>\n",
              "      <td>69</td>\n",
              "      <td>94.0</td>\n",
              "      <td>50</td>\n",
              "      <td>92.5</td>\n",
              "      <td>86.35</td>\n",
              "    </tr>\n",
              "    <tr>\n",
              "      <th>2</th>\n",
              "      <td>Lady Gaga</td>\n",
              "      <td>80</td>\n",
              "      <td>85.0</td>\n",
              "      <td>68</td>\n",
              "      <td>87.0</td>\n",
              "      <td>83.80</td>\n",
              "    </tr>\n",
              "    <tr>\n",
              "      <th>3</th>\n",
              "      <td>Kesha Rose</td>\n",
              "      <td>82</td>\n",
              "      <td>5.0</td>\n",
              "      <td>61</td>\n",
              "      <td>52.0</td>\n",
              "      <td>41.80</td>\n",
              "    </tr>\n",
              "    <tr>\n",
              "      <th>4</th>\n",
              "      <td>Bebe Rexha</td>\n",
              "      <td>51</td>\n",
              "      <td>75.0</td>\n",
              "      <td>52</td>\n",
              "      <td>47.0</td>\n",
              "      <td>56.30</td>\n",
              "    </tr>\n",
              "    <tr>\n",
              "      <th>5</th>\n",
              "      <td>Mackled more</td>\n",
              "      <td>12</td>\n",
              "      <td>34.0</td>\n",
              "      <td>68</td>\n",
              "      <td>44.0</td>\n",
              "      <td>40.20</td>\n",
              "    </tr>\n",
              "  </tbody>\n",
              "</table>\n",
              "</div>"
            ],
            "text/plain": [
              "      Name-Surname  English  ...  Statistics + Math  Weighted Total\n",
              "0  Meechoke Kaedum       75  ...               79.5           78.25\n",
              "1  Thanapon Rabbur       69  ...               92.5           86.35\n",
              "2        Lady Gaga       80  ...               87.0           83.80\n",
              "3       Kesha Rose       82  ...               52.0           41.80\n",
              "4       Bebe Rexha       51  ...               47.0           56.30\n",
              "5     Mackled more       12  ...               44.0           40.20\n",
              "\n",
              "[6 rows x 6 columns]"
            ]
          },
          "metadata": {
            "tags": []
          },
          "execution_count": 188
        }
      ]
    },
    {
      "cell_type": "code",
      "metadata": {
        "id": "WwCHRXtVGsto"
      },
      "source": [
        "for i in range(len(Dataframe_1)):\r\n",
        "  Dataframe_1.loc[i,'Grade'] = grade_assigner(Dataframe_1.loc[i,'Weighted Total'])\r\n",
        "\r\n",
        "  i += 1"
      ],
      "execution_count": null,
      "outputs": []
    },
    {
      "cell_type": "code",
      "metadata": {
        "id": "_HeoIlrzHOvp",
        "colab": {
          "base_uri": "https://localhost:8080/",
          "height": 235
        },
        "outputId": "5021e921-30d0-4d91-c2e4-b1fe797c08c8"
      },
      "source": [
        "Dataframe_1"
      ],
      "execution_count": null,
      "outputs": [
        {
          "output_type": "execute_result",
          "data": {
            "text/html": [
              "<div>\n",
              "<style scoped>\n",
              "    .dataframe tbody tr th:only-of-type {\n",
              "        vertical-align: middle;\n",
              "    }\n",
              "\n",
              "    .dataframe tbody tr th {\n",
              "        vertical-align: top;\n",
              "    }\n",
              "\n",
              "    .dataframe thead th {\n",
              "        text-align: right;\n",
              "    }\n",
              "</style>\n",
              "<table border=\"1\" class=\"dataframe\">\n",
              "  <thead>\n",
              "    <tr style=\"text-align: right;\">\n",
              "      <th></th>\n",
              "      <th>Name-Surname</th>\n",
              "      <th>English</th>\n",
              "      <th>Intro to Data sci</th>\n",
              "      <th>Science</th>\n",
              "      <th>Statistics + Math</th>\n",
              "      <th>Weighted Total</th>\n",
              "      <th>Grade</th>\n",
              "    </tr>\n",
              "  </thead>\n",
              "  <tbody>\n",
              "    <tr>\n",
              "      <th>0</th>\n",
              "      <td>Meechoke Kaedum</td>\n",
              "      <td>75</td>\n",
              "      <td>80.0</td>\n",
              "      <td>70</td>\n",
              "      <td>79.5</td>\n",
              "      <td>78.25</td>\n",
              "      <td>B+</td>\n",
              "    </tr>\n",
              "    <tr>\n",
              "      <th>1</th>\n",
              "      <td>Thanapon Rabbur</td>\n",
              "      <td>69</td>\n",
              "      <td>94.0</td>\n",
              "      <td>50</td>\n",
              "      <td>92.5</td>\n",
              "      <td>86.35</td>\n",
              "      <td>A</td>\n",
              "    </tr>\n",
              "    <tr>\n",
              "      <th>2</th>\n",
              "      <td>Lady Gaga</td>\n",
              "      <td>80</td>\n",
              "      <td>85.0</td>\n",
              "      <td>68</td>\n",
              "      <td>87.0</td>\n",
              "      <td>83.80</td>\n",
              "      <td>A</td>\n",
              "    </tr>\n",
              "    <tr>\n",
              "      <th>3</th>\n",
              "      <td>Kesha Rose</td>\n",
              "      <td>82</td>\n",
              "      <td>5.0</td>\n",
              "      <td>61</td>\n",
              "      <td>52.0</td>\n",
              "      <td>41.80</td>\n",
              "      <td>F</td>\n",
              "    </tr>\n",
              "    <tr>\n",
              "      <th>4</th>\n",
              "      <td>Bebe Rexha</td>\n",
              "      <td>51</td>\n",
              "      <td>75.0</td>\n",
              "      <td>52</td>\n",
              "      <td>47.0</td>\n",
              "      <td>56.30</td>\n",
              "      <td>D+</td>\n",
              "    </tr>\n",
              "    <tr>\n",
              "      <th>5</th>\n",
              "      <td>Mackled more</td>\n",
              "      <td>12</td>\n",
              "      <td>34.0</td>\n",
              "      <td>68</td>\n",
              "      <td>44.0</td>\n",
              "      <td>40.20</td>\n",
              "      <td>F</td>\n",
              "    </tr>\n",
              "  </tbody>\n",
              "</table>\n",
              "</div>"
            ],
            "text/plain": [
              "      Name-Surname  English  ...  Weighted Total  Grade\n",
              "0  Meechoke Kaedum       75  ...           78.25     B+\n",
              "1  Thanapon Rabbur       69  ...           86.35      A\n",
              "2        Lady Gaga       80  ...           83.80      A\n",
              "3       Kesha Rose       82  ...           41.80      F\n",
              "4       Bebe Rexha       51  ...           56.30     D+\n",
              "5     Mackled more       12  ...           40.20      F\n",
              "\n",
              "[6 rows x 7 columns]"
            ]
          },
          "metadata": {
            "tags": []
          },
          "execution_count": 190
        }
      ]
    },
    {
      "cell_type": "markdown",
      "metadata": {
        "id": "oerhs9n_LoFh"
      },
      "source": [
        "\r\n",
        "\r\n",
        "---\r\n",
        "\r\n"
      ]
    },
    {
      "cell_type": "markdown",
      "metadata": {
        "id": "YQ8joWhGsaEV"
      },
      "source": [
        "<fieldset>\r\n",
        "\r\n",
        "<font size=\"6\"><font color='red'>Problem 14: </font></font>\r\n",
        "\r\n",
        "- same as problem 13, but could you plz make it faster\r\n",
        "\r\n",
        "(Hint: using np.vectorize)"
      ]
    },
    {
      "cell_type": "code",
      "metadata": {
        "id": "gzclMgAbsnX7"
      },
      "source": [
        "import numpy as np"
      ],
      "execution_count": null,
      "outputs": []
    },
    {
      "cell_type": "code",
      "metadata": {
        "id": "4V_gDKJWspOT"
      },
      "source": [
        "V_Grade = np.vectorize(grade_assigner)\r\n",
        "\r\n",
        "\r\n",
        "\r\n",
        "# np.vectorize will take a nested sequence of objects or the numpy arrays as input, and then return a numpy array as output as well\r\n",
        "\r\n",
        "#modify the function grade_assiner to make it able to take numpy arrays as input, and able to return an numpy as output "
      ],
      "execution_count": null,
      "outputs": []
    },
    {
      "cell_type": "code",
      "metadata": {
        "id": "A_zp0k0QsstU"
      },
      "source": [
        "Dataframe_1['Grade'] = V_Grade((Dataframe_1[\"Weighted Total\"]))"
      ],
      "execution_count": null,
      "outputs": []
    },
    {
      "cell_type": "code",
      "metadata": {
        "colab": {
          "base_uri": "https://localhost:8080/",
          "height": 235
        },
        "id": "x4U9DQ0ytkr8",
        "outputId": "bebf0f5d-4d59-4861-8e2f-4f183688f674"
      },
      "source": [
        "Dataframe_1"
      ],
      "execution_count": null,
      "outputs": [
        {
          "output_type": "execute_result",
          "data": {
            "text/html": [
              "<div>\n",
              "<style scoped>\n",
              "    .dataframe tbody tr th:only-of-type {\n",
              "        vertical-align: middle;\n",
              "    }\n",
              "\n",
              "    .dataframe tbody tr th {\n",
              "        vertical-align: top;\n",
              "    }\n",
              "\n",
              "    .dataframe thead th {\n",
              "        text-align: right;\n",
              "    }\n",
              "</style>\n",
              "<table border=\"1\" class=\"dataframe\">\n",
              "  <thead>\n",
              "    <tr style=\"text-align: right;\">\n",
              "      <th></th>\n",
              "      <th>Name-Surname</th>\n",
              "      <th>English</th>\n",
              "      <th>Intro to Data sci</th>\n",
              "      <th>Science</th>\n",
              "      <th>Statistics + Math</th>\n",
              "      <th>Weighted Total</th>\n",
              "      <th>Grade</th>\n",
              "    </tr>\n",
              "  </thead>\n",
              "  <tbody>\n",
              "    <tr>\n",
              "      <th>0</th>\n",
              "      <td>Meechoke Kaedum</td>\n",
              "      <td>75</td>\n",
              "      <td>80.0</td>\n",
              "      <td>70</td>\n",
              "      <td>79.5</td>\n",
              "      <td>78.25</td>\n",
              "      <td>B+</td>\n",
              "    </tr>\n",
              "    <tr>\n",
              "      <th>1</th>\n",
              "      <td>Thanapon Rabbur</td>\n",
              "      <td>69</td>\n",
              "      <td>94.0</td>\n",
              "      <td>50</td>\n",
              "      <td>92.5</td>\n",
              "      <td>86.35</td>\n",
              "      <td>A</td>\n",
              "    </tr>\n",
              "    <tr>\n",
              "      <th>2</th>\n",
              "      <td>Lady Gaga</td>\n",
              "      <td>80</td>\n",
              "      <td>85.0</td>\n",
              "      <td>68</td>\n",
              "      <td>87.0</td>\n",
              "      <td>83.80</td>\n",
              "      <td>A</td>\n",
              "    </tr>\n",
              "    <tr>\n",
              "      <th>3</th>\n",
              "      <td>Kesha Rose</td>\n",
              "      <td>82</td>\n",
              "      <td>5.0</td>\n",
              "      <td>61</td>\n",
              "      <td>52.0</td>\n",
              "      <td>41.80</td>\n",
              "      <td>F</td>\n",
              "    </tr>\n",
              "    <tr>\n",
              "      <th>4</th>\n",
              "      <td>Bebe Rexha</td>\n",
              "      <td>51</td>\n",
              "      <td>75.0</td>\n",
              "      <td>52</td>\n",
              "      <td>47.0</td>\n",
              "      <td>56.30</td>\n",
              "      <td>D+</td>\n",
              "    </tr>\n",
              "    <tr>\n",
              "      <th>5</th>\n",
              "      <td>Mackled more</td>\n",
              "      <td>12</td>\n",
              "      <td>34.0</td>\n",
              "      <td>68</td>\n",
              "      <td>44.0</td>\n",
              "      <td>40.20</td>\n",
              "      <td>F</td>\n",
              "    </tr>\n",
              "  </tbody>\n",
              "</table>\n",
              "</div>"
            ],
            "text/plain": [
              "      Name-Surname  English  ...  Weighted Total  Grade\n",
              "0  Meechoke Kaedum       75  ...           78.25     B+\n",
              "1  Thanapon Rabbur       69  ...           86.35      A\n",
              "2        Lady Gaga       80  ...           83.80      A\n",
              "3       Kesha Rose       82  ...           41.80      F\n",
              "4       Bebe Rexha       51  ...           56.30     D+\n",
              "5     Mackled more       12  ...           40.20      F\n",
              "\n",
              "[6 rows x 7 columns]"
            ]
          },
          "metadata": {
            "tags": []
          },
          "execution_count": 194
        }
      ]
    },
    {
      "cell_type": "markdown",
      "metadata": {
        "id": "amDYzL3cuE6V"
      },
      "source": [
        "\r\n",
        "\r\n",
        "---\r\n",
        "\r\n"
      ]
    },
    {
      "cell_type": "code",
      "metadata": {
        "colab": {
          "base_uri": "https://localhost:8080/",
          "height": 538
        },
        "id": "6FCY7YFEuFrs",
        "outputId": "afda3651-156e-4823-d4d8-bfd1c5a5f2a0"
      },
      "source": [
        "plt.figure(1)\r\n",
        "\r\n",
        "plt.plot(Dataframe_1.index,Dataframe_1['Weighted Total'])\r\n",
        "plt.xticks(rotation = 90)  #this used to rotate the x-parameter by 90 degrees\r\n",
        "plt.xlabel('Student number')\r\n",
        "plt.ylabel('Weighted Total')\r\n",
        "\r\n",
        "\r\n",
        "plt.figure(2)\r\n",
        "\r\n",
        "plt.plot(Dataframe_1.index,Dataframe_1['Grade'])\r\n",
        "plt.xlabel('Student number')\r\n",
        "plt.ylabel('Grade')\r\n",
        "plt.show()"
      ],
      "execution_count": null,
      "outputs": [
        {
          "output_type": "display_data",
          "data": {
            "image/png": "[encoded data removed]",
            "text/plain": [
              "<Figure size 432x288 with 1 Axes>"
            ]
          },
          "metadata": {
            "tags": [],
            "needs_background": "light"
          }
        },
        {
          "output_type": "display_data",
          "data": {
            "image/png": "[encoded data removed]",
            "text/plain": [
              "<Figure size 432x288 with 1 Axes>"
            ]
          },
          "metadata": {
            "tags": [],
            "needs_background": "light"
          }
        }
      ]
    },
    {
      "cell_type": "markdown",
      "metadata": {
        "id": "_CZGp_Lavv0k"
      },
      "source": [
        "\r\n",
        "\r\n",
        "---\r\n",
        "\r\n"
      ]
    },
    {
      "cell_type": "markdown",
      "metadata": {
        "id": "osIWtE7g3doA"
      },
      "source": [
        "<font size=\"6\"><font color='red'>Problem 15: </font></font>\r\n",
        "\r\n",
        "- Can you find the mode, mean, var, std, sum of 'weighted total'"
      ]
    },
    {
      "cell_type": "code",
      "metadata": {
        "colab": {
          "base_uri": "https://localhost:8080/"
        },
        "id": "w9GA0EHbvvJV",
        "outputId": "38283f5a-13fc-4d07-a45a-233aafc8d16b"
      },
      "source": [
        "Dataframe_1[\"Weighted Total\"].mean()"
      ],
      "execution_count": null,
      "outputs": [
        {
          "output_type": "execute_result",
          "data": {
            "text/plain": [
              "64.45"
            ]
          },
          "metadata": {
            "tags": []
          },
          "execution_count": 196
        }
      ]
    },
    {
      "cell_type": "code",
      "metadata": {
        "colab": {
          "base_uri": "https://localhost:8080/"
        },
        "id": "THu1_HHV4NIe",
        "outputId": "fc093f16-1750-4001-fcf4-69f19191d708"
      },
      "source": [
        "Dataframe_1[\"Weighted Total\"].mode()\r\n",
        "\r\n",
        "# There is no mode, so it prints all data"
      ],
      "execution_count": null,
      "outputs": [
        {
          "output_type": "execute_result",
          "data": {
            "text/plain": [
              "0    40.20\n",
              "1    41.80\n",
              "2    56.30\n",
              "3    78.25\n",
              "4    83.80\n",
              "5    86.35\n",
              "dtype: float64"
            ]
          },
          "metadata": {
            "tags": []
          },
          "execution_count": 197
        }
      ]
    },
    {
      "cell_type": "code",
      "metadata": {
        "colab": {
          "base_uri": "https://localhost:8080/"
        },
        "id": "kkJ_oEbq4VDF",
        "outputId": "df66c676-b196-4df0-e09e-a06cb4688a28"
      },
      "source": [
        "Dataframe_1[\"Weighted Total\"].var()"
      ],
      "execution_count": null,
      "outputs": [
        {
          "output_type": "execute_result",
          "data": {
            "text/plain": [
              "442.3959999999999"
            ]
          },
          "metadata": {
            "tags": []
          },
          "execution_count": 198
        }
      ]
    },
    {
      "cell_type": "code",
      "metadata": {
        "colab": {
          "base_uri": "https://localhost:8080/"
        },
        "id": "ne4Olmyc4dCe",
        "outputId": "d5147e38-506e-459d-ef69-f1ee769e9b2c"
      },
      "source": [
        "Dataframe_1[\"Weighted Total\"].std()"
      ],
      "execution_count": null,
      "outputs": [
        {
          "output_type": "execute_result",
          "data": {
            "text/plain": [
              "21.033211832718273"
            ]
          },
          "metadata": {
            "tags": []
          },
          "execution_count": 199
        }
      ]
    },
    {
      "cell_type": "code",
      "metadata": {
        "colab": {
          "base_uri": "https://localhost:8080/"
        },
        "id": "_bvyszeH4hBd",
        "outputId": "0750351a-543e-4088-98c4-e908f9b5a2e3"
      },
      "source": [
        "Dataframe_1[\"Weighted Total\"].sum()"
      ],
      "execution_count": null,
      "outputs": [
        {
          "output_type": "execute_result",
          "data": {
            "text/plain": [
              "386.7"
            ]
          },
          "metadata": {
            "tags": []
          },
          "execution_count": 200
        }
      ]
    },
    {
      "cell_type": "markdown",
      "metadata": {
        "id": "ulZIX8XR4tsz"
      },
      "source": [
        "\r\n",
        "\r\n",
        "---\r\n",
        "\r\n"
      ]
    },
    {
      "cell_type": "markdown",
      "metadata": {
        "id": "J1Tg_RtI4uNV"
      },
      "source": [
        "<font size=\"6\"><font color='red'>Problem 16: </font></font>\r\n",
        "\r\n",
        "- Can you sort descending the value based on the weight total column\r\n",
        "\r\n",
        "- Create new row named 'Sum' to compute all score\r\n",
        "\r\n",
        "![image.png](data:image/png;base64,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)"
      ]
    },
    {
      "cell_type": "code",
      "metadata": {
        "colab": {
          "base_uri": "https://localhost:8080/",
          "height": 235
        },
        "id": "H8ycgjVG5K7t",
        "outputId": "c69f8c8d-eef9-4552-e09c-2df39f9378ac"
      },
      "source": [
        "Dataframe_1.sort_values('Weighted Total', ascending=False)\r\n",
        "\r\n",
        "# Sort_index() is also used to asend the index from 0 to 5"
      ],
      "execution_count": null,
      "outputs": [
        {
          "output_type": "execute_result",
          "data": {
            "text/html": [
              "<div>\n",
              "<style scoped>\n",
              "    .dataframe tbody tr th:only-of-type {\n",
              "        vertical-align: middle;\n",
              "    }\n",
              "\n",
              "    .dataframe tbody tr th {\n",
              "        vertical-align: top;\n",
              "    }\n",
              "\n",
              "    .dataframe thead th {\n",
              "        text-align: right;\n",
              "    }\n",
              "</style>\n",
              "<table border=\"1\" class=\"dataframe\">\n",
              "  <thead>\n",
              "    <tr style=\"text-align: right;\">\n",
              "      <th></th>\n",
              "      <th>Name-Surname</th>\n",
              "      <th>English</th>\n",
              "      <th>Intro to Data sci</th>\n",
              "      <th>Science</th>\n",
              "      <th>Statistics + Math</th>\n",
              "      <th>Weighted Total</th>\n",
              "      <th>Grade</th>\n",
              "    </tr>\n",
              "  </thead>\n",
              "  <tbody>\n",
              "    <tr>\n",
              "      <th>1</th>\n",
              "      <td>Thanapon Rabbur</td>\n",
              "      <td>69</td>\n",
              "      <td>94.0</td>\n",
              "      <td>50</td>\n",
              "      <td>92.5</td>\n",
              "      <td>86.35</td>\n",
              "      <td>A</td>\n",
              "    </tr>\n",
              "    <tr>\n",
              "      <th>2</th>\n",
              "      <td>Lady Gaga</td>\n",
              "      <td>80</td>\n",
              "      <td>85.0</td>\n",
              "      <td>68</td>\n",
              "      <td>87.0</td>\n",
              "      <td>83.80</td>\n",
              "      <td>A</td>\n",
              "    </tr>\n",
              "    <tr>\n",
              "      <th>0</th>\n",
              "      <td>Meechoke Kaedum</td>\n",
              "      <td>75</td>\n",
              "      <td>80.0</td>\n",
              "      <td>70</td>\n",
              "      <td>79.5</td>\n",
              "      <td>78.25</td>\n",
              "      <td>B+</td>\n",
              "    </tr>\n",
              "    <tr>\n",
              "      <th>4</th>\n",
              "      <td>Bebe Rexha</td>\n",
              "      <td>51</td>\n",
              "      <td>75.0</td>\n",
              "      <td>52</td>\n",
              "      <td>47.0</td>\n",
              "      <td>56.30</td>\n",
              "      <td>D+</td>\n",
              "    </tr>\n",
              "    <tr>\n",
              "      <th>3</th>\n",
              "      <td>Kesha Rose</td>\n",
              "      <td>82</td>\n",
              "      <td>5.0</td>\n",
              "      <td>61</td>\n",
              "      <td>52.0</td>\n",
              "      <td>41.80</td>\n",
              "      <td>F</td>\n",
              "    </tr>\n",
              "    <tr>\n",
              "      <th>5</th>\n",
              "      <td>Mackled more</td>\n",
              "      <td>12</td>\n",
              "      <td>34.0</td>\n",
              "      <td>68</td>\n",
              "      <td>44.0</td>\n",
              "      <td>40.20</td>\n",
              "      <td>F</td>\n",
              "    </tr>\n",
              "  </tbody>\n",
              "</table>\n",
              "</div>"
            ],
            "text/plain": [
              "      Name-Surname  English  ...  Weighted Total  Grade\n",
              "1  Thanapon Rabbur       69  ...           86.35      A\n",
              "2        Lady Gaga       80  ...           83.80      A\n",
              "0  Meechoke Kaedum       75  ...           78.25     B+\n",
              "4       Bebe Rexha       51  ...           56.30     D+\n",
              "3       Kesha Rose       82  ...           41.80      F\n",
              "5     Mackled more       12  ...           40.20      F\n",
              "\n",
              "[6 rows x 7 columns]"
            ]
          },
          "metadata": {
            "tags": []
          },
          "execution_count": 201
        }
      ]
    },
    {
      "cell_type": "code",
      "metadata": {
        "id": "LylzPmx75Je2"
      },
      "source": [
        "Dataframe_1.loc[\"Sum\"] = Dataframe_1.sum()"
      ],
      "execution_count": null,
      "outputs": []
    },
    {
      "cell_type": "code",
      "metadata": {
        "colab": {
          "base_uri": "https://localhost:8080/",
          "height": 266
        },
        "id": "ytGwAnYy7Lj2",
        "outputId": "c8efd279-85c5-4971-9f53-8cf8ed776e21"
      },
      "source": [
        "Dataframe_1"
      ],
      "execution_count": null,
      "outputs": [
        {
          "output_type": "execute_result",
          "data": {
            "text/html": [
              "<div>\n",
              "<style scoped>\n",
              "    .dataframe tbody tr th:only-of-type {\n",
              "        vertical-align: middle;\n",
              "    }\n",
              "\n",
              "    .dataframe tbody tr th {\n",
              "        vertical-align: top;\n",
              "    }\n",
              "\n",
              "    .dataframe thead th {\n",
              "        text-align: right;\n",
              "    }\n",
              "</style>\n",
              "<table border=\"1\" class=\"dataframe\">\n",
              "  <thead>\n",
              "    <tr style=\"text-align: right;\">\n",
              "      <th></th>\n",
              "      <th>Name-Surname</th>\n",
              "      <th>English</th>\n",
              "      <th>Intro to Data sci</th>\n",
              "      <th>Science</th>\n",
              "      <th>Statistics + Math</th>\n",
              "      <th>Weighted Total</th>\n",
              "      <th>Grade</th>\n",
              "    </tr>\n",
              "  </thead>\n",
              "  <tbody>\n",
              "    <tr>\n",
              "      <th>0</th>\n",
              "      <td>Meechoke Kaedum</td>\n",
              "      <td>75</td>\n",
              "      <td>80.0</td>\n",
              "      <td>70</td>\n",
              "      <td>79.5</td>\n",
              "      <td>78.25</td>\n",
              "      <td>B+</td>\n",
              "    </tr>\n",
              "    <tr>\n",
              "      <th>1</th>\n",
              "      <td>Thanapon Rabbur</td>\n",
              "      <td>69</td>\n",
              "      <td>94.0</td>\n",
              "      <td>50</td>\n",
              "      <td>92.5</td>\n",
              "      <td>86.35</td>\n",
              "      <td>A</td>\n",
              "    </tr>\n",
              "    <tr>\n",
              "      <th>2</th>\n",
              "      <td>Lady Gaga</td>\n",
              "      <td>80</td>\n",
              "      <td>85.0</td>\n",
              "      <td>68</td>\n",
              "      <td>87.0</td>\n",
              "      <td>83.80</td>\n",
              "      <td>A</td>\n",
              "    </tr>\n",
              "    <tr>\n",
              "      <th>3</th>\n",
              "      <td>Kesha Rose</td>\n",
              "      <td>82</td>\n",
              "      <td>5.0</td>\n",
              "      <td>61</td>\n",
              "      <td>52.0</td>\n",
              "      <td>41.80</td>\n",
              "      <td>F</td>\n",
              "    </tr>\n",
              "    <tr>\n",
              "      <th>4</th>\n",
              "      <td>Bebe Rexha</td>\n",
              "      <td>51</td>\n",
              "      <td>75.0</td>\n",
              "      <td>52</td>\n",
              "      <td>47.0</td>\n",
              "      <td>56.30</td>\n",
              "      <td>D+</td>\n",
              "    </tr>\n",
              "    <tr>\n",
              "      <th>5</th>\n",
              "      <td>Mackled more</td>\n",
              "      <td>12</td>\n",
              "      <td>34.0</td>\n",
              "      <td>68</td>\n",
              "      <td>44.0</td>\n",
              "      <td>40.20</td>\n",
              "      <td>F</td>\n",
              "    </tr>\n",
              "    <tr>\n",
              "      <th>Sum</th>\n",
              "      <td>Meechoke KaedumThanapon RabburLady GagaKesha R...</td>\n",
              "      <td>369</td>\n",
              "      <td>373.0</td>\n",
              "      <td>369</td>\n",
              "      <td>402.0</td>\n",
              "      <td>386.70</td>\n",
              "      <td>B+AAFD+F</td>\n",
              "    </tr>\n",
              "  </tbody>\n",
              "</table>\n",
              "</div>"
            ],
            "text/plain": [
              "                                          Name-Surname  ...     Grade\n",
              "0                                      Meechoke Kaedum  ...        B+\n",
              "1                                      Thanapon Rabbur  ...         A\n",
              "2                                            Lady Gaga  ...         A\n",
              "3                                           Kesha Rose  ...         F\n",
              "4                                           Bebe Rexha  ...        D+\n",
              "5                                         Mackled more  ...         F\n",
              "Sum  Meechoke KaedumThanapon RabburLady GagaKesha R...  ...  B+AAFD+F\n",
              "\n",
              "[7 rows x 7 columns]"
            ]
          },
          "metadata": {
            "tags": []
          },
          "execution_count": 203
        }
      ]
    },
    {
      "cell_type": "markdown",
      "metadata": {
        "id": "QqbSmG_4B3fw"
      },
      "source": [
        "\r\n",
        "\r\n",
        "---\r\n",
        "\r\n"
      ]
    },
    {
      "cell_type": "markdown",
      "metadata": {
        "id": "9jQwyZbaB4H5"
      },
      "source": [
        "## <u>**Storyline 2**</u>: Data Science company"
      ]
    },
    {
      "cell_type": "markdown",
      "metadata": {
        "id": "hSGFzsxECXaV"
      },
      "source": [
        "<fieldset>\r\n",
        "\r\n",
        "<font size=\"6\"><font color='teal'>Problem 1: </font></font>\r\n",
        "\r\n",
        "- Import Iris_data\r\n",
        "\r\n",
        "- show the first 4 rows and the last 6 rows of the dataset AT THE SAME CELL\r\n",
        "\r\n",
        "- Change the column names to ['Sepal length','Sepal width','Petal length','Petal width','Species'] respectively\r\n",
        "\r\n",
        "- The number of row & column\r\n",
        "\r\n",
        "- print the number of instances of each species\r\n",
        "\r\n",
        "- Remove the column named 'Sepal Width'"
      ]
    },
    {
      "cell_type": "markdown",
      "metadata": {
        "id": "SaAG2rrqD7zP"
      },
      "source": [
        "![image.png](data:image/png;base64,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)\r\n",
        "\r\n"
      ]
    },
    {
      "cell_type": "markdown",
      "metadata": {
        "id": "V85t9FiQEKdx"
      },
      "source": [
        "\r\n",
        "\r\n",
        "---\r\n",
        "\r\n"
      ]
    },
    {
      "cell_type": "code",
      "metadata": {
        "id": "YIk6YzI5Cazw"
      },
      "source": [
        "import pandas as pd"
      ],
      "execution_count": null,
      "outputs": []
    },
    {
      "cell_type": "code",
      "metadata": {
        "id": "8Vmqn-2aB-GO",
        "colab": {
          "base_uri": "https://localhost:8080/",
          "height": 712
        },
        "outputId": "ceea808e-3847-4435-a549-52d8b9681408"
      },
      "source": [
        "iris_data = pd.read_csv('/content/drive/MyDrive/Data /iris.data',header=None)"
      ],
      "execution_count": null,
      "outputs": [
        {
          "output_type": "error",
          "ename": "FileNotFoundError",
          "evalue": "ignored",
          "traceback": [
            "\u001b[0;31m---------------------------------------------------------------------------\u001b[0m",
            "\u001b[0;31mFileNotFoundError\u001b[0m                         Traceback (most recent call last)",
            "\u001b[0;32m<ipython-input-2-23be79a49e78>\u001b[0m in \u001b[0;36m<module>\u001b[0;34m()\u001b[0m\n\u001b[0;32m----> 1\u001b[0;31m \u001b[0miris_data\u001b[0m \u001b[0;34m=\u001b[0m \u001b[0mpd\u001b[0m\u001b[0;34m.\u001b[0m\u001b[0mread_csv\u001b[0m\u001b[0;34m(\u001b[0m\u001b[0;34m'/content/drive/MyDrive/Data /iris.data'\u001b[0m\u001b[0;34m,\u001b[0m\u001b[0mheader\u001b[0m\u001b[0;34m=\u001b[0m\u001b[0;32mNone\u001b[0m\u001b[0;34m)\u001b[0m\u001b[0;34m\u001b[0m\u001b[0;34m\u001b[0m\u001b[0m\n\u001b[0m",
            "\u001b[0;32m/usr/local/lib/python3.7/dist-packages/pandas/io/parsers.py\u001b[0m in \u001b[0;36mread_csv\u001b[0;34m(filepath_or_buffer, sep, delimiter, header, names, index_col, usecols, squeeze, prefix, mangle_dupe_cols, dtype, engine, converters, true_values, false_values, skipinitialspace, skiprows, skipfooter, nrows, na_values, keep_default_na, na_filter, verbose, skip_blank_lines, parse_dates, infer_datetime_format, keep_date_col, date_parser, dayfirst, cache_dates, iterator, chunksize, compression, thousands, decimal, lineterminator, quotechar, quoting, doublequote, escapechar, comment, encoding, dialect, error_bad_lines, warn_bad_lines, delim_whitespace, low_memory, memory_map, float_precision)\u001b[0m\n\u001b[1;32m    686\u001b[0m     )\n\u001b[1;32m    687\u001b[0m \u001b[0;34m\u001b[0m\u001b[0m\n\u001b[0;32m--> 688\u001b[0;31m     \u001b[0;32mreturn\u001b[0m \u001b[0m_read\u001b[0m\u001b[0;34m(\u001b[0m\u001b[0mfilepath_or_buffer\u001b[0m\u001b[0;34m,\u001b[0m \u001b[0mkwds\u001b[0m\u001b[0;34m)\u001b[0m\u001b[0;34m\u001b[0m\u001b[0;34m\u001b[0m\u001b[0m\n\u001b[0m\u001b[1;32m    689\u001b[0m \u001b[0;34m\u001b[0m\u001b[0m\n\u001b[1;32m    690\u001b[0m \u001b[0;34m\u001b[0m\u001b[0m\n",
            "\u001b[0;32m/usr/local/lib/python3.7/dist-packages/pandas/io/parsers.py\u001b[0m in \u001b[0;36m_read\u001b[0;34m(filepath_or_buffer, kwds)\u001b[0m\n\u001b[1;32m    452\u001b[0m \u001b[0;34m\u001b[0m\u001b[0m\n\u001b[1;32m    453\u001b[0m     \u001b[0;31m# Create the parser.\u001b[0m\u001b[0;34m\u001b[0m\u001b[0;34m\u001b[0m\u001b[0;34m\u001b[0m\u001b[0m\n\u001b[0;32m--> 454\u001b[0;31m     \u001b[0mparser\u001b[0m \u001b[0;34m=\u001b[0m \u001b[0mTextFileReader\u001b[0m\u001b[0;34m(\u001b[0m\u001b[0mfp_or_buf\u001b[0m\u001b[0;34m,\u001b[0m \u001b[0;34m**\u001b[0m\u001b[0mkwds\u001b[0m\u001b[0;34m)\u001b[0m\u001b[0;34m\u001b[0m\u001b[0;34m\u001b[0m\u001b[0m\n\u001b[0m\u001b[1;32m    455\u001b[0m \u001b[0;34m\u001b[0m\u001b[0m\n\u001b[1;32m    456\u001b[0m     \u001b[0;32mif\u001b[0m \u001b[0mchunksize\u001b[0m \u001b[0;32mor\u001b[0m \u001b[0miterator\u001b[0m\u001b[0;34m:\u001b[0m\u001b[0;34m\u001b[0m\u001b[0;34m\u001b[0m\u001b[0m\n",
            "\u001b[0;32m/usr/local/lib/python3.7/dist-packages/pandas/io/parsers.py\u001b[0m in \u001b[0;36m__init__\u001b[0;34m(self, f, engine, **kwds)\u001b[0m\n\u001b[1;32m    946\u001b[0m             \u001b[0mself\u001b[0m\u001b[0;34m.\u001b[0m\u001b[0moptions\u001b[0m\u001b[0;34m[\u001b[0m\u001b[0;34m\"has_index_names\"\u001b[0m\u001b[0;34m]\u001b[0m \u001b[0;34m=\u001b[0m \u001b[0mkwds\u001b[0m\u001b[0;34m[\u001b[0m\u001b[0;34m\"has_index_names\"\u001b[0m\u001b[0;34m]\u001b[0m\u001b[0;34m\u001b[0m\u001b[0;34m\u001b[0m\u001b[0m\n\u001b[1;32m    947\u001b[0m \u001b[0;34m\u001b[0m\u001b[0m\n\u001b[0;32m--> 948\u001b[0;31m         \u001b[0mself\u001b[0m\u001b[0;34m.\u001b[0m\u001b[0m_make_engine\u001b[0m\u001b[0;34m(\u001b[0m\u001b[0mself\u001b[0m\u001b[0;34m.\u001b[0m\u001b[0mengine\u001b[0m\u001b[0;34m)\u001b[0m\u001b[0;34m\u001b[0m\u001b[0;34m\u001b[0m\u001b[0m\n\u001b[0m\u001b[1;32m    949\u001b[0m \u001b[0;34m\u001b[0m\u001b[0m\n\u001b[1;32m    950\u001b[0m     \u001b[0;32mdef\u001b[0m \u001b[0mclose\u001b[0m\u001b[0;34m(\u001b[0m\u001b[0mself\u001b[0m\u001b[0;34m)\u001b[0m\u001b[0;34m:\u001b[0m\u001b[0;34m\u001b[0m\u001b[0;34m\u001b[0m\u001b[0m\n",
            "\u001b[0;32m/usr/local/lib/python3.7/dist-packages/pandas/io/parsers.py\u001b[0m in \u001b[0;36m_make_engine\u001b[0;34m(self, engine)\u001b[0m\n\u001b[1;32m   1178\u001b[0m     \u001b[0;32mdef\u001b[0m \u001b[0m_make_engine\u001b[0m\u001b[0;34m(\u001b[0m\u001b[0mself\u001b[0m\u001b[0;34m,\u001b[0m \u001b[0mengine\u001b[0m\u001b[0;34m=\u001b[0m\u001b[0;34m\"c\"\u001b[0m\u001b[0;34m)\u001b[0m\u001b[0;34m:\u001b[0m\u001b[0;34m\u001b[0m\u001b[0;34m\u001b[0m\u001b[0m\n\u001b[1;32m   1179\u001b[0m         \u001b[0;32mif\u001b[0m \u001b[0mengine\u001b[0m \u001b[0;34m==\u001b[0m \u001b[0;34m\"c\"\u001b[0m\u001b[0;34m:\u001b[0m\u001b[0;34m\u001b[0m\u001b[0;34m\u001b[0m\u001b[0m\n\u001b[0;32m-> 1180\u001b[0;31m             \u001b[0mself\u001b[0m\u001b[0;34m.\u001b[0m\u001b[0m_engine\u001b[0m \u001b[0;34m=\u001b[0m \u001b[0mCParserWrapper\u001b[0m\u001b[0;34m(\u001b[0m\u001b[0mself\u001b[0m\u001b[0;34m.\u001b[0m\u001b[0mf\u001b[0m\u001b[0;34m,\u001b[0m \u001b[0;34m**\u001b[0m\u001b[0mself\u001b[0m\u001b[0;34m.\u001b[0m\u001b[0moptions\u001b[0m\u001b[0;34m)\u001b[0m\u001b[0;34m\u001b[0m\u001b[0;34m\u001b[0m\u001b[0m\n\u001b[0m\u001b[1;32m   1181\u001b[0m         \u001b[0;32melse\u001b[0m\u001b[0;34m:\u001b[0m\u001b[0;34m\u001b[0m\u001b[0;34m\u001b[0m\u001b[0m\n\u001b[1;32m   1182\u001b[0m             \u001b[0;32mif\u001b[0m \u001b[0mengine\u001b[0m \u001b[0;34m==\u001b[0m \u001b[0;34m\"python\"\u001b[0m\u001b[0;34m:\u001b[0m\u001b[0;34m\u001b[0m\u001b[0;34m\u001b[0m\u001b[0m\n",
            "\u001b[0;32m/usr/local/lib/python3.7/dist-packages/pandas/io/parsers.py\u001b[0m in \u001b[0;36m__init__\u001b[0;34m(self, src, **kwds)\u001b[0m\n\u001b[1;32m   2008\u001b[0m         \u001b[0mkwds\u001b[0m\u001b[0;34m[\u001b[0m\u001b[0;34m\"usecols\"\u001b[0m\u001b[0;34m]\u001b[0m \u001b[0;34m=\u001b[0m \u001b[0mself\u001b[0m\u001b[0;34m.\u001b[0m\u001b[0musecols\u001b[0m\u001b[0;34m\u001b[0m\u001b[0;34m\u001b[0m\u001b[0m\n\u001b[1;32m   2009\u001b[0m \u001b[0;34m\u001b[0m\u001b[0m\n\u001b[0;32m-> 2010\u001b[0;31m         \u001b[0mself\u001b[0m\u001b[0;34m.\u001b[0m\u001b[0m_reader\u001b[0m \u001b[0;34m=\u001b[0m \u001b[0mparsers\u001b[0m\u001b[0;34m.\u001b[0m\u001b[0mTextReader\u001b[0m\u001b[0;34m(\u001b[0m\u001b[0msrc\u001b[0m\u001b[0;34m,\u001b[0m \u001b[0;34m**\u001b[0m\u001b[0mkwds\u001b[0m\u001b[0;34m)\u001b[0m\u001b[0;34m\u001b[0m\u001b[0;34m\u001b[0m\u001b[0m\n\u001b[0m\u001b[1;32m   2011\u001b[0m         \u001b[0mself\u001b[0m\u001b[0;34m.\u001b[0m\u001b[0munnamed_cols\u001b[0m \u001b[0;34m=\u001b[0m \u001b[0mself\u001b[0m\u001b[0;34m.\u001b[0m\u001b[0m_reader\u001b[0m\u001b[0;34m.\u001b[0m\u001b[0munnamed_cols\u001b[0m\u001b[0;34m\u001b[0m\u001b[0;34m\u001b[0m\u001b[0m\n\u001b[1;32m   2012\u001b[0m \u001b[0;34m\u001b[0m\u001b[0m\n",
            "\u001b[0;32mpandas/_libs/parsers.pyx\u001b[0m in \u001b[0;36mpandas._libs.parsers.TextReader.__cinit__\u001b[0;34m()\u001b[0m\n",
            "\u001b[0;32mpandas/_libs/parsers.pyx\u001b[0m in \u001b[0;36mpandas._libs.parsers.TextReader._setup_parser_source\u001b[0;34m()\u001b[0m\n",
            "\u001b[0;31mFileNotFoundError\u001b[0m: [Errno 2] No such file or directory: '/content/drive/MyDrive/Data /iris.data'"
          ]
        }
      ]
    },
    {
      "cell_type": "code",
      "metadata": {
        "id": "ThuH-5TaCUgv"
      },
      "source": [
        "display(iris_data.head(4),iris_data.tail(6))"
      ],
      "execution_count": null,
      "outputs": []
    },
    {
      "cell_type": "code",
      "metadata": {
        "id": "bG14951_DKIP"
      },
      "source": [
        "iris_data.columns = ['Sepal length','Sepal width','Petal length','Petal width','Species']"
      ],
      "execution_count": null,
      "outputs": []
    },
    {
      "cell_type": "code",
      "metadata": {
        "id": "WsbfZccPEWAP"
      },
      "source": [
        "iris_data.shape"
      ],
      "execution_count": null,
      "outputs": []
    },
    {
      "cell_type": "code",
      "metadata": {
        "id": "2hHkAbKcEndg"
      },
      "source": [
        "iris_data"
      ],
      "execution_count": null,
      "outputs": []
    },
    {
      "cell_type": "code",
      "metadata": {
        "id": "LlIi7ER6EbpC"
      },
      "source": [
        "iris_data['Species'].value_counts()"
      ],
      "execution_count": null,
      "outputs": []
    },
    {
      "cell_type": "code",
      "metadata": {
        "id": "n9vTSOORErc3"
      },
      "source": [
        "iris_data.drop('Sepal width',axis=1,inplace=True)"
      ],
      "execution_count": null,
      "outputs": []
    },
    {
      "cell_type": "code",
      "metadata": {
        "id": "2OYlfuxjFBxh"
      },
      "source": [
        "iris_data"
      ],
      "execution_count": null,
      "outputs": []
    },
    {
      "cell_type": "markdown",
      "metadata": {
        "id": "xKu_F6WJFRfX"
      },
      "source": [
        "\r\n",
        "\r\n",
        "---\r\n",
        "\r\n"
      ]
    },
    {
      "cell_type": "markdown",
      "metadata": {
        "id": "SPnwt8xcFlF_"
      },
      "source": [
        "<fieldset>\r\n",
        "\r\n",
        "<font size=\"6\"><font color='teal'>Problem 2: </font></font>\r\n",
        "\r\n",
        "<fieldset>\r\n",
        "\r\n",
        "Data Cleaning\r\n",
        "\r\n",
        "- deal with Missing value (Drop the NA, Replace by mean or mode)\r\n",
        "\r\n",
        "- deal with the Outlier \r\n",
        "\r\n",
        "![image.png](data:image/png;base64,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)\r\n",
        "<br>\r\n",
        "\r\n",
        "---\r\n",
        "<br>\r\n",
        "Feature Scaling\r\n",
        "\r\n",
        "- Normalization\r\n",
        "\r\n",
        "![image.png](data:image/png;base64,iVBORw0KGgoAAAANSUhEUgAAAJoAAAC7CAYAAACdD4eEAAAUtUlEQVR4Ae1dMY7jPA/dW/xHSJv2u8N0U+0BUgTYdoABtjGyfVL5vPpBSZQeaUm2Ezt2JiwGlixZIh8fn+RsNvp1OByc/RkGa3Pg19oT2PhGYuKAEc0U/SkrmhHNiGZEs2X35yy7pmimaKZopmimaOtmwalzfd+77nQf0Keud33fudMktfpwX9fe9dcv9zGp/302bZE0e8Jhn0vnzoj28XV1fX91Xx+vQzIi9tJEewSHH0m0eeoxrmiPADzPli2JvC4O+yZaF5ZQWkb77pSW65CptDzSHyhNVMJwXy+dEUj/DD9LyzMD3LmOllAcU4zHbdKW9Yh0cl1h++BJH5f5V8Jh10TjfRMqSihnEpWWB92HyCDvhSBevz7c4ZAJGPaEoQ2JjfOvRyytZsGuYGNu8/52J+VPeZmUPocx5L3n4bBrovHLQA50JkVQHlaZTLwhqSYCnF4Gdkg0r6yk3Ey+U3iBUeqsX4AkqbbF4TWJlkiRMx2VpgTw4ePLXTEwaYxI3lTfC9GiSnUnd+quruuu7voVCJaX+/ab8p5weDGi8RLR/uijBDAvOUjIUN4v0bwfXec6+qiGEuV6dde4J+X9Gav+0C+9XQhJuRUOL0c0ApRBTstnfFEIBOPlNF5ZqbSikbr558aJdjhElWNFhBeTUoAXu8cvI2gnfD74Sjjsk2iLf3AayQQECaSEN9bF5ywv64uR8C57t8PhTYg23HcFNXg3om2Hw5sQ7eAOvAzx8oefv92lDntUrAk2bYTD+xDtnci0Q1+NaDsMyrb7uAmqeAdmRrQ7QPuJRFjbJyOaES39G/KaZDOiGdGMaGtmmI29zl6shuuv//3vf87+DIM1OICk+3U8Hp39GQZrcMCIZsn1FHExohnRjGhrSLiNuc3WwBTNFM0UzdRnG/VZA3dTNFO0PSna2V3SV2pu7vtzgUz7/HY3HvP27T5rAcd+1P9yBmDQrvAt2tv3Z2xvtR3d+QLfvhVjsm+f7vvWu8uZ6+p6vri+v7hzze6p99G/u3Fo+VPDYXg/fEtZ+7QMDhMULUzURxBCgLQxKgijIIcxAymwrMcJYORgh3oikw9SxZZG2+f3zbE/x6Ma09sefe5rROMgVeYe9Z/9RN+xzO18bePQ9KeBg1wiS/Mvh8M40WLGpeD6TK4FgIEZufoxQRlpzFY2Q+A80VmBWs812sQYx6gGPGb0t79cvIpnkmefKLC32+1xRVsIh6Y/DRyQaJKsR3dcGIdxopGhmNnRgEQ8IAEa3iz7MUENdL0xJoLqwWGCqGdG2xKxlVp8nt3Zbw3UfR6f/KdnZ9hcxUKPoes8Z+E6wKHiTwuHbFfB14VxGCWaN7RANLlXytmejW/cI0ATMJw9QLwCsH7cSHJWGQ827/PoCmO22vxYPqi0TwNlFfMWwI/q5+efQYoqJgvh0PJnFIfj0fkYA3bS3mVweCGiBYczweP+ISka1rFMhJd1D34CNrQNFboAMBGD59uMaBqHuPQX/ZF+axwCoWr+s1Asg8Mo0Y4eUNiTbbJ0DsGVWRdBaQU/tVWAG7xB6n4UEFC/NB4H5I6rHkPXhcLS+CUctJ1HF2JWWSEGc9Dz4FdlTl5FAlmh/2C8Mg7jRNPE8gMD8QaGlScSxPBjAhA0ZspI/XwAcqg4ul8EuDZOmmNqYFS/iEP6j8ppyQbQ52KxCA7KTrKhFfyEQ8Sv1df7o8a/E4dxovGyEwMY1nwgyVxwfX+Uayxr8oS2tFyJuRQA4mOKVlt5qRnOocdQto0GSPUXtnMb+o5lbudrC4eWP9qHUMekHX9Z0GOwTfE6EYcJRKMBw2Qhmx/IYAQbM0OoEM0V58A+SUFw0492jXyYy3srIHpSJ9HGQC4DsFBy9J/L6OPdOEQiMkbCnxZG6qMdtklcl8FhItEYfLuOEkcEyfBivIxoRgz4J731EsOIZkQzorHs2nU9pXkWtqZopmimaM/KNptnfcU0RTNFM0UzpVlfaZ6FsSmaKZop2rOyzeZZXzmFomHFys/94ZN3wtt+tsp+tsp+tuqdMv6n+2qKZopmivbTs/yd/DNFM0UzRXunjP/pvo4q2ipnJtHpHXwYWEVR8EAtfYLbntruIggegNbCAfvRN2nhLKvBsZDYpg9mE23qALW+d+Hw2eH98G1keRYqH6SrYzKGQ4No8YAq/1XhBc9M4iNiWgD7PtFBLBMpsY7lLdoqSdIGPeCKpx/rU4bD8yHwOaChjqQot8XjExO++NzBBYJq8pQ+P0Q7uT1zIs/Nbe1rhWjM7qu7+nPGlyEaH/RFh5y2FM33S1kYnGPH9tTWJlQFeK9SgCclSyJF5ZlIaOm77IttWCYbRX3ifH4lQ7tYXf35oe3zUku4NIgWWO+NXOiArtPp5DeeAyeEMuhMwjqWCWisY/kZbTLQJXCL91oqLHAYji8Io/pim8RXKqNvS0k8nCPYLJ/x9z5O7vRB/QttypaS3xWiZQOWJBobIIHIc4X2QBhWMLpHNuBSs482bffEulYUrxQTlrKoKOg748n7NdHmCU0//wDqyerG/3OKrqhakTDt+BjR/IH2CPa6BJ1ILJ3tdxEtBFe8DKRxh21eHBKBUOlDOY+j6+QT9i/5+MOIljfI6DiWNSjPbisFYcK92UvnkEhJyfgIbrEUFoig50wkVS9X/j49L1Uwz0f+FcbH8SrlHS6duFRmMrFSZZXavk0GYALJKAh6qdQKJwIVgpqTDueotRWIMEa0pH4l4uGcVC6ML2zW/UN9l0Tb1UcYGCQsTwC3TERUXizrAIW2vMxhe6stvmUm8mBfTZIhWcdfFvQYaFe9vBOikfFSrv0+I25aWc04cHtqY5tmXfmjgsFmHHDAPnrz3mrzCRDJxc8Vltb00xCiTX0UUkymlYg2C8CiYXWW29jvg82oohkZ3ocMa8baiGYqbN/eWDPDbOznKrUpmimaKZqpznNVZ028TdFM0UzR1swwG/u5ammKZopmimaq81zVWRPvX//995+zP8NgDQ4gcY1olmirCY0Rzci1GrlQGY1oRjQjGmaElV9772iKZopmimYq9toqhvGbpGh//tF/1cp///4sAMDvv+7GY97+ut8NZcH59dx7akNgJ5ffBIdxov3550l2+/s7SGys64BPBtYT6rf7e+tdGBPLBQL7+f65P/QclnV967ZGotSxQd+x/PNwGCeaBpAz8N+f+9d2P8bN/f0dASWSVFTNK1aaKwSDSb6ntjqZCqRhTN8Ih9lE+/33FpbRFPwGkAyovrbUR/TVWY51LJMNWMfyM9ruwID8fCMc5hGN1azvHavKXZmsFcyPG5fHAtFwLlIxXHL30fYA0VDJfzAO04kGJKstc5NJZ0TL+10jGmbpH/eP3xB72FsJ9cH+I+U3WjKayfdGOExQtLDfCR9vLEAyIqdeIrTCAYHzUknkDbbwcrmntiahwB/R741wGCeaz7rwGRoHWIBVA7F5HzfrWC4oIWY9lml8rGN5i7amvwW/fH/0HcuF/ugflrfwFefHcgODUaL5jxDSspk/tO0feeskg6p7PlqmpXKiDZrse2q7KwHfBIdRot0FXoPZNl5Brd4ALyPaGwR5D8ltRDOi3f8vPDOwM6LNAGsPyvCqNhjRjGimaK+avWb38IXHFM0UzRTNlGGoDK+KiSmaKZop2qtmr9k9VGKhaFix8s/5rYu9xdJ+Tch+Tch+TWhvWWn23K/4pmimaKZopiD3K8jesDNFM0UzRdtbVpo99ytsVdH8KWfpW7byQLCHAW8eHRic2dPBYi1b7sUC8S0fk6iCqo9fTEocDhjTB7Mlu/SJfPrAstKhYxx31YY2l04uTnMm27IPZaKxMX4iPiltwnHMhQkGk3vHy0csp74IDpZpfKxjeYu2Kf6W+nh8Y/JiudSX7nE8eh0Djk3vykQLJ9H16Tl9Ml2oM9E9kdLxi7It4J4FxyefImKKX8GPMtFUx5DReZLWgK02HqfrrsWzvPlZ6YTM2D21sb1zrzKg+iDcrAI0LqtI13UuEwbI13Wu68tEo2ev16t8rhTbSBiJrTxSkdqYkHP9pf4TiBazJjFdAjFn0tPp5DeeGmg5RpgvO4V1LJMdWMfyM9oewKHrHR74qgOMeHycTu6DyKHV++PkTh9kg1apaBepIMVMP9cgmowLjovl+/weIVqYYO56jECVytIhbXggDC4FOZv21Kbtnl7P/oRnPB5jy1CVMGUS0Bwew+pzWRUR60Bo+p9vuILRHFf3dfpyV96/zRSeEaIBEBV5LhFp7J4RTS5DixONyMXErRItigj3O5SPyA4rixackPBpDqWSpfhPIlrajIJRpcGm3ptCNFs6lUKOECarEpEA1Kj43JBkxSU4PRv65zkKS/kI2WYRLQdfgTAyiSZgm2h6cyyXS7nsbNum/Zpa1womfapgm4Ku2xUJ0hsq/Mdvv9wx+UL/YSzVOBTTNKfE2ftJbTOWzzLR/ARZ3gkIuWZrZ+fVx4iWHURn4xzJ+R20zUywRET8SAPLrfHQb9GvQBBsF88FwtSWPB/nRB7ZV8YstA3JWudBmWjwWh1+6IWzoT5QAhGdrJSl0TQmgSXnCOQOWSkkm/cScVO6ddscv7GvxyD6IAJGxEjBBrwFYeB+7a2TscfnamqX5ovk4g2/2iqhzTWyoo9YrhINO1kZA2vle/hgROPMt+uq/7huRDOCrUowVj8jmhHNiMbZYNfX3xeaopmimaKZkr2+knEMTdFM0UzROBvs+vrKZopmivYcRTsej87+DIM1OIAr0a81JrAxjbjEASOaqfhTVjEjmhHNiGbL7s9Zdk3RTNFM0UzR3lXRPr/djb5xeft2n48qAY81Ot7ZXfhbnvF6+/5MWXi+wPfhL+d0P5P0033fenc5Y9DkmDje8Rj6h28T9062yeeoj2zHOSaWH8ZhaFOw/eLOIkYlHMDG88X1PTyDdhHuAtsWRjAmzD9r6UxBfZhowdAQJCwXjPQOAwBg/Of3DUgfAJeBz4Bkoqn5IqDc7n1M/oW+3HZs2JKJXfABbJb90BYsF8aYPHdpnHCPCJh8ETYxWRnnUM99JbZNjMS42Y/pRIsB8dmSApEHkgCO3Pdj3dz3Z+xH2VQbs9HmHYZME3W293LxiphB07ZhYDTAR3ek+XmOhi2z/OdgLIQDzi2T7+hCcpAi1XGgZ263m1Q0tjFeM7YjGKnn2LaJRIsZcbsts3RSwFCmdR2M9cBxoOE+OSBBVQB8nt3ZE1ndV2OEQDDpC32BXC1bGNBZV+23roOt0+Yu2D+GA5GdkrwxN/k0SrSaUEQfphHNG0HBCI5U1QeAaQJO46FhPrNZtqXieAdxj4bP0XzeNtqnMVnk88djAXxvZ15OkmLx/izNwX2CbaO2TPWf+y2JwyDxpuFAPnm19ziWY8CqGFYFFh3ep0uManGfQLQ4kFeVZxMN5ybgZN0HXpFC7tHomRrROBByTO4fNtQ39/3N6qv76TqPN+M6mWh6Ll2nOcO9of9sTwEHmp9XiyrRYsy5n0+SeM8LAGLEcw2vo0Tzkp3UIk6QgjscsMZocV87peuc8aVr6lsBDpdkAKW+R2NVLGezXJ6Vv8kWdb9kd+mefl7XS8/wvUFfwqOm6mSfxouICf0H4+VnEhl5bnVtYhT7jhAtZg4uXalcDowglDIotemlkpycSt7UVwNXI0yhn7KrBZRXTZHNQKpkC9xTYyefS/cXwSHOXSQK2qVw8HPDR0Mprky+0L+ukHnsJkbR7xGi5cECYGHyyaQogevvocxjuTxfViPpfGnpHGafAniwxAzHTOD64Enga7Y0CbUyDjS3T5ZaQvj5NQ4Ka0HUKDCV8Qj3MkZqTPB7I6LBazdlklAzAoSDS4YHgMKeqf3B4ZBk+flMkHyvPKacb/pzdZCbJERluRsHfCus2TGDaGhTUjqMUwuj8vwziVYepAkksNr6vS9+RjRLhMI/2y2fEEY0I5oRzZba5ZVlK0xN0UzRTNG2yj6bd3klNUUzRTNFM2VZXlm2wtQUzRTNFG2r7LN5l1dSoWhYsfLr/5jKXmNoP/JiP/IifrpgLaIa0YxoRrS1ssvGff4WwRTNFM0UzZTn+cqzFuamaKZoGyuaP6xKfr9cH/A1m/146FU66EpnbTitLX0TNn3bkw+ulwdjiQO7Rg4kE4dmifmnjzn3sK0mRrUDxoD8P+XwtaqihaDIE+eaoAE45X549B6WNdF0XfYtHfWXEgBPcsMy2ebr2R8/Tjy9rTWmxyGRMiSBJnfZX+2Hqnt7+vJJdowl+oDl5E9Mvq3b2N7GtUI0znBWEQVSY8Aq6PpcSgInBbA+finQiVgMOBImHf0XfOC+RKYyQQrnXZJtxTHjcdBpjrrdVRyS6l5d112bGGAyHA5Df9jGrdtavnJbhWjD5ascpBlAt7KuSlxNAl2PSuUJK5WPwQ92F55LcxbaIAlGiZ7GmY7F6XTy+yI5tn6+5c+e2rTd5XqZaLyXipnrAel7x+rALJ11heD55/wcbcUcBiIAnJUw1nsaJ5TRxqxiRKar+zp9uSvv+ZKatsaMoPkkof1qXnpn+V4h49A/DFLLnz21oc31cploGhhFvLtAnk20AOZQSYMChZeFq/v66lw/iWi4H4rkSktgbcy4VCpSDm2qA9zCyoimiRaPU857gjuA9aoACqbrxTnHFSQHSxMT65Xl0RN06Esec95zLVKV2vI8Qxvk0k/t6A+Wt24r2T689zxF00ulVjhNtFEiBmdww5yXygx+WEpDYHBZ9W+hSakkMHnMLYkW1DSrp/Sh7uvznyslkb5XJpoPcn5L85n38P4EsxDLMshsoJ8zLW25jwDY2wmqh+TE8uHgpHrI+VtjetIlQobnHlJ2SChpU/aRMQgfycRVQPmzqzbwKdmu7pWJxoHhjfOjLwI8Ke/1aNwUPAKYlAMIwx8BFIgW+uYPkoVK8XPRbt0WEiY+K8YOysUfEsvnIrkYC/FcgRzs64TrkGgVHCr++CTYSVuNYHy/SjTuYNfHyGT4BfyMaBOUx8jyeLIZ0YxoG/+jugXgKQF4F7U0RbOEekpCGdGMaEa0d1lW3sFPUzRTNFO0d8j0d/Hx/7L1MUjEDVEoAAAAAElFTkSuQmCC)\r\n",
        "\r\n",
        "- Standardization\r\n",
        "<br>\r\n",
        "\r\n",
        "![image.png](data:image/png;base64,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)\r\n",
        "\r\n",
        "---\r\n",
        "<br>\r\n",
        "Encoding the categorical data\r\n",
        "\r\n",
        "- Label Encoder\r\n",
        "\r\n",
        "![image.png](data:image/png;base64,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)\r\n",
        "\r\n",
        "- One hot Encoder\r\n",
        "\r\n",
        "![image.png](data:image/png;base64,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)"
      ]
    },
    {
      "cell_type": "code",
      "metadata": {
        "id": "uGkYA61kFR6Q"
      },
      "source": [
        "import pandas as pd, numpy as np"
      ],
      "execution_count": null,
      "outputs": []
    },
    {
      "cell_type": "code",
      "metadata": {
        "id": "iTQ9rTI2FfS4"
      },
      "source": [
        "rawdata = {\"height\": [166,np.nan,155,np.nan,180,189,300],\r\n",
        "           \"weight\": [70, 68, 60, 64, 80,95,65]}\r\n",
        "\r\n",
        "df = pd.DataFrame(rawdata)"
      ],
      "execution_count": null,
      "outputs": []
    },
    {
      "cell_type": "code",
      "metadata": {
        "id": "iC7h6nT4FsOo"
      },
      "source": [
        "df"
      ],
      "execution_count": null,
      "outputs": []
    },
    {
      "cell_type": "code",
      "metadata": {
        "id": "NdjMxIVsGvH_"
      },
      "source": [
        "# option1\r\n",
        "\r\n",
        "df.dropna()"
      ],
      "execution_count": null,
      "outputs": []
    },
    {
      "cell_type": "code",
      "metadata": {
        "id": "CsyIlRjCNB25"
      },
      "source": [
        "# option2: fill by mean\r\n",
        "\r\n",
        "fill_data = df.replace(np.NaN, df['height'].mean())\r\n",
        "\r\n",
        "fill_data\r\n",
        "\r\n",
        "df = fill_data"
      ],
      "execution_count": null,
      "outputs": []
    },
    {
      "cell_type": "markdown",
      "metadata": {
        "id": "X--opt6eNj9V"
      },
      "source": [
        "\r\n",
        "\r\n",
        "---\r\n",
        "\r\n"
      ]
    },
    {
      "cell_type": "code",
      "metadata": {
        "id": "en5RJg9-NkYT"
      },
      "source": [
        "import seaborn as sns\r\n",
        "from scipy import stats"
      ],
      "execution_count": null,
      "outputs": []
    },
    {
      "cell_type": "code",
      "metadata": {
        "id": "KjO1DpvCPWEZ"
      },
      "source": [
        "df"
      ],
      "execution_count": null,
      "outputs": []
    },
    {
      "cell_type": "code",
      "metadata": {
        "id": "kfVe3K15OY7x"
      },
      "source": [
        "z = np.abs(stats.zscore(df.height))\r\n",
        "\r\n",
        "print(\"Z score = \", z)"
      ],
      "execution_count": null,
      "outputs": []
    },
    {
      "cell_type": "code",
      "metadata": {
        "id": "Ui0xOS1JPCPB"
      },
      "source": [
        "remove_outlier = df[z < 2]        \r\n",
        "display(remove_outlier)\r\n",
        "\r\n",
        "# You will notice that height = 300 is extremely crazy outlier, that why it disappeared"
      ],
      "execution_count": null,
      "outputs": []
    },
    {
      "cell_type": "code",
      "metadata": {
        "id": "fKtdKd4KR03S"
      },
      "source": [
        "df = remove_outlier"
      ],
      "execution_count": null,
      "outputs": []
    },
    {
      "cell_type": "code",
      "metadata": {
        "id": "I3jUxWkj0K8M"
      },
      "source": [
        "df"
      ],
      "execution_count": null,
      "outputs": []
    },
    {
      "cell_type": "markdown",
      "metadata": {
        "id": "wfbddg3ZSpp2"
      },
      "source": [
        "\r\n",
        "\r\n",
        "---\r\n",
        "\r\n"
      ]
    },
    {
      "cell_type": "code",
      "metadata": {
        "id": "nvwEwaaJS3sR"
      },
      "source": [
        "#Normalization"
      ],
      "execution_count": null,
      "outputs": []
    },
    {
      "cell_type": "markdown",
      "metadata": {
        "id": "9GapRP6TTA35"
      },
      "source": [
        "![33.PNG](data:image/png;base64,iVBORw0KGgoAAAANSUhEUgAAAWoAAABeCAYAAAAKRF7sAAAAAXNSR0IArs4c6QAAAARnQU1BAACxjwv8YQUAAAAJcEhZcwAADsMAAA7DAcdvqGQAAC70SURBVHhe7d3nty1F1S7wYw6omDGDEQNmQAHFgKIiYgbEjIACImLEiDkARsQEKkYQ5ZgVc1bMOXx5x7if7z/Rd/yaMfeYp1bX2vuc3r336vfWh2es6q6nqzqsfmrWrFnVO/71r391DQ0NDQ2riybUDQ0NDSuOJtQNDQ0NK44m1A0NDQ0rjh3/+c9/uoaGhoaG7cOQOGf0Qv3f//63J8fvEHaXU+OtAmcoPRUnI+eN4UDjLHLy9lzSGavMKRF5W82p8ebCqaWHxDmjCfXEnIycN4YDjbPIydtzSWesMqdE5G01p8abC6eWHhLnjCbUE3Myct4YDjTOIidvLzt+T1Erf0w6Yys56+Hf//734P5AlLus/Ck4Nd5cOLX0kDhnNKGemJOR88ZwoHEWOXm7zPNn//vf/9794x//2GU/ECWo5Qdq5Y9JZ2wlx3W63iFBtk/+Ru5FrXyYglPjzYVTS5fCXKIJ9cScjJw3hgONs8gZOuZvf/tb95Of/KT7whe+0H3gAx/oIf3zn/987SX41a9+1X3xi1/s8y644IJu586d3R//+MeFsnL5m5XOmJrzz3/+s7/uyy67rPvwhz/cnXfeed3nPve57sc//vGaaF911VXdl7/85e79739/D+nf/OY3C4Ie5dbOAabg1Hhz4dTSWZSH0IR6Yk5GzhvDgcZZ5JTbRPqiiy7qnvSkJ3V3v/vdu7vc5S7dbW97226fffbpnvnMZ3Zf/epXu+9///vdi170ou4e97hHn3/729++u+9979u9613v6sUrl5fL36x0xpScv/71r93nP//57hnPeEZ317vetb/Wfffdt7v1rW/dHXXUUd1nP/vZ7jvf+U535plndve5z326u93tbt0d73jHnnPWWWd1v/71r9fKzOXWzgGm4NR4c+HU0kPinNGEemJORs4bw4HGWeTkbRbgRz/60e7ggw/uDjvssO7ss8/uLrzwwl6ADzjggO76179+97CHPawXrnvf+97dy172su6tb31rd8QRR3Q3utGNemH/wQ9+UC1/s9IZU3G4MD796U93D3/4w7uHPOQh3Stf+cru4x//eG8xH3nkkd1ee+3VHXrood3RRx/di/Qpp5zSffCDH+ye8pSndDe84Q17sf7Qhz40WEftHGAKTo03F04tPSTOGU2oJ+Zk5LwxHGicRU7evvLKK3tRIkCf+cxnur/85S/9flYyIbrOda7TXfva1+5uectbdqeeemr3s5/9rHvHO97RC7Q84BaI8iCXv1npjCk48M1vfrM75phjukMOOaT72Mc+1v35z3/u9+txvO997+tuetObdte97nW7m9zkJt3znve87qc//Wn3iU98Yu1e3PjGN+5e/vKX7+L+iDpq5wCbxdkIcjm1slaBU0sPiXNGE+qJORk5bwwHGmeRE9uE6IQTTugtQa6P0oWhe0+AduzY0bsBvv71r3e//OUve+v6Wte6VneNa1yjF6crrrhil+NyfbV0xmbxM3aX8/vf/77vLehFvPe9711rsIClrddx85vfvL8X3CEsb/frWc96Vn8f7Jf/hje8YVuEWp0aFCj95Bm5nFpZq8CppYfEOaMJ9cScjJw3hgONs8iJbYNlt7jFLXo/dBYm8LLbT5CJkK4/YTeI9oIXvKB3iVzvetfrOeWAYq6vls7YLH7G7nIuv/zy7kEPelD35Cc/uR80zBzi97a3va27wQ1u0N8Lbh8+e8JA3N0jvQ4uk29/+9trx8bx+XcIYzme1Te+8Y3uuOOO657+9Kd3v/vd7xY4gVxOrb5V4NTSpTCXaEI9MScj543hQOMscmx7ubk6dPNZh/7kmSOC4cADD+yuec1r9uL0ute9rj8GdPlZmJ/85Cd7Xj4Ocn21NPFjnXOlbCZEa4jaqNWbkfeL2uBr5uLIPQscDRFXB8sZXvKSl/T73Is//OEPvZuEb1r99sWxcXz+HcJYjgb0+c9/ft+74Uc3+FtyArmcWn2rwKmlS2Eu0YR6Yk5GzhvDgcZZ5MQ2USlFKfazMPfbb79epLk/vvSlL+3CGZMm0ueff37v2xVZspm4wx3u0IfURZ253hJ5v2vm4vCylxyRHA996EP7e3Gzm92se/e7373AydsZkTclx/3kphKZYqCz7B1l5HJq9a0Cp5YuhblEE+qJORk5bwwHGmeRs+yYgMgOokScCDaXR8nJ5exOmiCy5o899theWALCAwOxnfPX40jr+i/zmW9kfwYO37zBVNb0Ax/4wD6+vOTk7YzIm5rDquayCR91adkHcjm1slaBU0sPiXNGE+qJORk5bwwHGmeRs+wYYGU/5znP6X3QhJoI1l78IeTya2nlqYew5N9A3p+xHsd21BGoXe969yFgwgs/NDcQH/aPfvSjQd5WYNk552e0O8+rBnWtd++m4tTSQ+Kc0YR6Yk5GzhvDgcZZ5JTb5UvN1yp2mjAZJDOQlvPBS8GKI47l8bn8zUpnTMEB1xGIbf5ukR0aLLHSBg//9Kc/7XIccDdAeS9wDTB+97vfXfNru3fS4s9Z635NtIljpM0SNUD4ve99r/eDR7n5nJ2bMQITcH74wx/2z6Lk2Kcs54Crbvv1ajxn9Ts3PabICyhnvXs3FaeWdo7L0IR6Yk5GzhvDgcZZ5MQ2QeB7NiWcTzqsUbPvzEAkTnvvvXf3ta99bZfjwctvcow4Yi99zsv1bVY6YwqORofLxNT4Sy+9dE10CaoZmO6F2ZrnnntuL5C5HALx5je/uW/QsogTvze96U19COTjH//4PsaaOCrfZBoDgFw1Zjy6l0IEWevnnHNO98IXvrA7/vjj+wHO0047rRds5xPn7J6bwq/hUAaeyTeeYXCItIFiM0q5hU488cT+WWoYuLZsRx0GSOXlZ6mc9e7dVJxauhTmEk2oJ+Zk5LwxHGicRY5tL70X24zEO9/5zr17Q8iZF/0tb3lL75MlTgb8fvvb3+5yPKEyYCcPNyy5QK5vs9IZm80hThqnRz/60f2U8Ec+8pG9lerFZ9Wa4OJe3Ote91qY3AOiYMSZE0zCbp/76x494QlP6AcfHXurW92qF00WOmEUr034NYruN/E8+eST+3xpEShcLQZJX/rSl+5ynzWUuKJRiLVnKErnF7/4xRrH85RvotJTn/rUvg7nqOEwPqAOsy6FWN7mNrfpTjrppF2mwLs/6927qTi1dCnMJZpQT8zJyHljONA4ixzbBMWLHSFnBIp1LWSOUIR/+lGPetSC31c324tuYI0VGt3yQK5vs9IZm82x2NRzn/vctck9Jq5Y78OLz/J1f+wXymgmZxzvut0bokuECbNj5GnciOIb3/jG3so2+5MbSePG+hZG6Fjiy9rlAxexYmxAI2G/BsQsUEL94Ac/uHeBKF8eESe+XBcXX3zxWgQNcVa/sjXEOMoTXmlwWA+JJc/doRw8ZektOEcNU1yf+7PevZuKU0uHINfQhHpiTkbOG8OBxlnk2Oav9GITICLBmiQeXBnWsQhx0mX3AsSxJlNYfIgF95rXvGbNgszI9W1WOmOzORoe1+96XXcIsvsRIYpgQkseSCRy73znO3thJ7ZcF5EnLvsRj3hE71Ii2hZuMklII5hjz/VO3GPPYP/991+z5OX5ZfWyhB/wgAf0Qm2/4wm6+89FYzakiUsm7ETZuJYAePGLX9y7YPyasEPww40C6jdYqg55hD/Ozf1Z795NxamlQ5BraEI9MScj543hQOMscmzzyXqxCZAXlKBYwvTwww/vrWuiYV0LltYll1zSCzIRYY3ZR3B0v3O5ufzNTmdsNoe4mW1JLAnipz71qX7wjQvEACIRdy+IrcWq8IXCcUdY/4P7iO85ly2fpUu8ibbjiSFLPfOUZbErA7evetWrdvF/e0bcGwSWCyQGHO13jhoT9cpjrWf3SKwCyELWEGkM9BiIugYm6vBcNbzq4KYpZ2Wud++m4tTSQ+Kc0YR6Yk5GzhvDgcZZ5MS2Li//q5eUhUxIWJBvf/vbe+G2UBPxilXydO/xuQmii12WOVU6Y7M5XAyEzzUSZvfAtbovXB/E0PomLGLXL59PV/5jH/vY3vIuy87g/mCpu8dh8QbEZN/udrfrXU1lfLZBv7C2leE887WwiM0OJfSsev5z+8rr5X+///3v3zcqBhczx7XpDajfoCXhjjy/ZVmBqTm19JA4ZzShnpiTkfPGcKBxFjmxzXrjlzaIxJfJ18r6Y5V5mQ0s6XrztRps1JVmXQ+Fp+U6pkhnbDbHtbpmjZMZfu4FC5vAefnls4xNE9eTcC/0LCyBynKVX5YdUC5LVc/lcY973C4WM7Bw+Y35p/OgrTJN04+BRpEi9jmf4HgOp59+ej9tXNlEtzwXfM9Qw8Olxe1hf1y7XpQGxPriri+uNzjr3bupOLW081uGJtQTczJy3hgONM4ip9z2YhKUUkQijyUn34uQ83I5U6czpuAEXCPXQNyLkhP3YuheDUFECFcSi9qAXs7jXyb8LHVCm0WWCJ9xxhm9BW9Al0tCY8EiVj+OZVn5za3xIQyQS0Rjw0UV5fBVC8NTBxeJgVP7XZdyWOp6EfzpjtM4R2MdZQwh7ovfofsYefG7u5xaOovyEJpQT8zJyHljONA4i5y8PZd0xipzShDWcC8RwCzGfMcmFvEdE8xcDv8zt4rjXv3qV/cuCaF0XBgGBzUYtlnKlmZlcbPIrUkiZDLq4aJSDqF+7Wtf2zcO9quLG4ZrhdAbbFSHUEJx1RoFwhfnUyLO1W/t+sdwaulSmEs0oZ6Yk5HzxnCgcRY5eXsu6YxV5mQQSwOEhJj/mzCGgPol4vZzfbCEczn81XzPXBJcLNwaBjXFTLPmCa6yDVI+7WlP66NRCLcBYr5t5YNyxHBbsIkrhZgpX114rH0+d4tksdq5ubhjWNRxrkOIc/Vbu/4xnFq6FOYSTagn5mTkvDEcaJxFTt6eSzpjlTkZXCgRI20wkhUcecSW75iAmvnIJZHLYX2LUzeRRiw1X/RjHvOYXlzl840TVAO9fOqElnUsRptgRR1mnfJxKysvf6ouUTv3u9/9erHmluGfJ/rf+ta3loo0xLn6rV3/GE4tXQpziSbUE3Myct4YDjTOIidvzyWdscqcDFapeGdCbLXALH5ElLgedNBB/fRx3FwO9wbRFSJIgA34srqJkXxl8VHzcfNTc1fgR1SJfA2D71+qgwjniBN1EXuuDiGZfOTqYIGHfxpnvWueilNLl8Jcogn1xJyMnDeGA42zyMnbc0lnrDIng3BwJ7BQy8E5QsqnbACPKNuXy3EsP7EoDbHQZozmAUzHs9hNGVe+mYYxISZzlK0OFrsyIy/q4peOOrhX8nnirHfNU3Fq6RDkGnYR6gw3I1DmrYfy5Mq8+N0uzlB6Kk5GzhvDgcZZ5OTtuaQzVpkzBptVzkawkbpw1rvmqTi19JA4ZywINWGWoQXi2Pc7JNZaPV0Mv2V+eXJlXvxuF2coPRUnI+eN4UDjLHLy9lzSGavMKRF5W82p8ebCqaVLYS7RC3WAKFuMxlKE97znPfs1E0wv5dT/yle+0ouy+EnLGka+X2E2eXWr8uQyYv92cmr8jCH+snJqnIza/ox8/DL+ZnOWYbPrmoqTt+eSzlhlTonI22pOjTcXTi09JM4Za0LNT/SRj3ykd9ALnzFKaulC8ZACx62RYIaPdV59Vv6YY47pQ16kheGIZSTkcQL5JDJi/3ZyavyMIf6ycmqc3UU+vizHM3KPDaZI598hbIST4Q+R6wvUzidjFTh5ey7pjFXmlIi8rebUeHPh1NKlMJfohZrrQtgM61hMY0ynRbDoNpE2A8miNSB8Rnyj0BfTNIXpWFqSAz9OIJ9ERuzfTk7JH3LtDPGXlVPjDEF9NU4+PnMMwFgMx1q/gfe85z0Lab9D+2ucnLamQjzDjKHzKbEKnLw9l3TGKnNKRN5Wc2q8uXBq6VKYS/RCzZ1BoK2wZSaQjChA6AsrOz6vL+YxpmOKYbSfiFupLNZKKE8uI/ZvF4dFarSY6Flnl0j5LH6+5nxsTudylnFin7qsVnbRRRf1dQkZstwmCzc4JXIduSwj2GJXxYbqxYBGskz7zftBzGpOZyjP5ASNscXYh1aOGzqfEqvAydtzSWesMqdE5G01p8abMweyKA+hF2oB6qZ0lksFghfXVM5Yu/b1r399f2DMMCLUXCMC1+fg+rAimNW0NEqEywpfYkKHBkTLdC5nGSf2CT3yFQrTY4mi3ggx3BOhtl6ymVwmCVgFDnwiKX5LBAcck2Gt4YDlLTUgGqxY9rN2L/L5lFiWF9idcvaEk7fnks5YZU6JyNtqTo03Zw6UwlxiB9EgVNwe3BnlS6o7bLonkTavniVtf6xA5nM3pnzGzCLYyMltF4cQWVnLGrcWJdfQuI58XBxTpnM5NU7AfVSXBk1Qvrr0PIjoED+Q68gc5Xlgnlc8vKG037x/GZQZ5UY66op6Yeh8SkSeSCHxr1xmDQ0Nu0Jcdy2+fBl6i1q3WiFe8DgwwMq2+AqhZoHyldrvZebq4BohSAqLY5xA7aWO/dvJcZ0+52Oaq54E90TkBTK/Vk4tHQgRtBZBrPM7VFdGrmOozMBmc5Zhd8oh0j59xKVSulkaGv5/hneCu1jQRn5nIIvyENaiPoYgXM9c/vjmmkiQIV4JJ1B7qWP/dnJEOFgExupa1sXNs5YCmV8rZyMcYv2KV7yib+z4gWOVrxry8bmcEqvKEcapAdR7CHdZQ0PD1fB9R67G/M7AkDhn9EJdexH5py0v6KUT2SEyIOeXyOWUZQVWgaMHoNHRAAkxHOIMpfeEo9dhvdxcV+aXyMfXOLCqHPfWgDSXmU8m+Q3Edrk/Ywwnb88lnbHKnBKRt9WcGm8OHB9s4HY1dpXfGRgS54ylFrXP+DDXCTUfq3n3QzwFDe3PYFmyXC0CDhs5hovC7Ef82gzJQHChLNsNyTfFdcTXk322aYgTiPMmuMpedg4QfJZzRJhYotGyjdGSLkM+j3w+egHWNTCOYJ0FKNMZG+X4tX6wNDfWkPtr6HxKrAInb88lnbHKnBKRt9WcGm/OHAhBrqEXagLEevbCsojsIwz80wSayU5sIvwuQJSE9hkwyytYlbCoymWXXdZHIBh49JVhEQzlgioB50PghLSJ1TbzUXSCbnXpOiCKFiO3mpZVtgwMarWcly8PO6/yZvkeG3+7awufcclRrjKsratc35hzP7SMIjBwXH8IN4Gz+EvwTQAyQcj57Lvvvv2SjDt37lwrP9eVkc8jcwzWHnvssf3yjaJwwCeINistMsWM1Baet7XpjFXmlIi8rebUeHPh1NKlMJfYQfjOPffc/vtnYqR9Yp34EDjRICI9WNTSUWiAcBNdIh7RIBlRji8zWNZQ119oXESZOJYo52PwibIZkdwuljv00VFC4nP3voUXVh8xJfiWSzzssMN6npmTYsLVRYCEoOWb5VghhnxFYr9jZa7MMWCqXGX4lI9zECVCKH2ZmQuItRwi7Tw0VtwpBgvwXaNlGvmlhS8KB1zWmAXyecQvCCvUUPjmne/abTaItIY0PmmUMXQ+JVaBk7fnks5YZU6JyNtqTo03F04tPSTOGTusBetLCMLU+KF93oYIsV6Jn/1APKNQIFIW7Pbds6OOOmrQEmOVcy2ItzYdXfeaMLM6xS8TY2uEKAv4bnxPTTig8yB+lky05q3GwGLiRF8ZBJcVTYzlmUhCdAmNz+8QYtfjm2v5ZgmNOeGEE3pXhHMisvmciSkr2Fq7zo9gs6DxnL8GjRBHz8N5ux6i75q4N5yzcoTi+binhs4xZaM0hHyu+UGqxzloWEFZ+XcIu8MB5asn6gwMnU+JVeDk7bmkM1aZUyLytppT482FU0sPiXPGDhanT6oTE78ExUtLZAgPtwfB4y6IQoEg+rqzqAki7oXP+UAUWZY+507AQgiIrVA164UQNfvUSVTVyQrVgIQ4mYzhs/G+o+bLDvaJR2Rli6bwXTb7ol6NA1eDOgxs5ZvFP826d6142SerDO4W9RNYlrPzkofHFXLEEUf0Fii/uf3EW6PiHrF2Y79zj9mb8txPZcR55IeUkc+1xoHGWeTk7bmkM1aZUyLytppT482FU0sPiXPGjgsuuKAXNFYzweFa4IdlTfKtWnCJ0HBZsFgJMrFjtXJfEC0CprCoNGC/ac8G7bgtdN1ZyfzV3C18yMSLqNnPPUBAfRkiBFS5/NXcFYSTBc6aFTaoXNa6AbGoE59/mICLXdQQxM1SjwFSU6Y1CHoNcRwo54lPfGIfocENpLHQU1C/2EeuEL0MZTg/ws6HztetIckx0rkuDZVrtj8eTn5IGXGukS7zA42zyMnbc0lnrDKnRORtNafGmwunlg5BrmEHdwPXAYuahWpJUwNMRJPPknuA6LFQ+YIJpG7+ne50pz7P14AVFBVm8PXyfXIzED+CZdlUom0SCNcIHquVD5hrQwxuOSlE+blrTmBZ16z9Zz/72WvlAL85XzLBP/roo9cEHxzPrcEtoiFiDUeeOrhYuF00Wn75o0WH+MX3eXoDldF7cDzrXEPGBZSt+qiLgLOq88xNyA+p3B95NQ40ziInb88lnbHKnBKRt9WcGm8unFo6BLmGHYTPzESWMXEGQkeQiA0r2leADar56q+oA3HBhJYQO36o4qhcpINBNlYnQQtXCkuTRY1H7H3bjEAagIsBPijLBK4O4q8ckRU5jyAahJRHKHMev3E0HCeddNKa2wVcq3UwDJ5qLExSYQWbsen8wk/tmqI8iy3F6oF6C7kuriHCroHiTtrIQCK43rjmoWsPNM4iJ2/PJZ2xypwSkbfVnBpvLpxaOovyEHqhRmR5cikAQQoBk+eXFUmsiGgsvhT5gVyx8violcfKNfBICA899NBe2FjpfM+48ogrEefnzf7uXCaok8gS27322mvN+o5zsbCQRkBeRKLE+eJy73D18Bm7TpCnTm4M7hQDlFwx9meU18vvTtRFdQhmz3nq4s9m2QvXU37UtQyuN665vPaMxlnk5O25pDNWmVMi8raaU+PNhVNLD4lzxtIJLxm54jKvBEEiyvzA3CW+Khx5hNtgHTcIa5j4sbq5Fogky3RI0JxsCD9LFdeAH6s4OBoHVjQ3jThpVqzYcILJ0hadYQIP37s0/zO3hoFJdTqWRc3dkWOeMwwWKpe7xSAqobYqHqs7OK7J4CsfuXvAVy3GWm8hyq3dR/s3cq8bZ5GTt+eSzlhlTonI22pOjTcXTi1dCnOJpVPIMzbCCRBUAh2DctwHkWfVPRYvq5XLxT4DhFbhY+ma3EI0iV1YsLaVIcpEuBzLl6ASwph84mIMcvq8PGtb/USVmLLiiasBTOt7EGJuFwszaTSIv+P5qPnQuX8MqmYLWr7zJOY+ReY6hARqEAh/+KAdw+1h8JWlrSFQl/PmNnIcXu0+2r+Re904i5y8PZd0xipzSkTeVnNqvLlwaukQ5BomEWrCZ5CPpUnUWLUEyspqBMxKcuecc87aICBLWFgcASeqXBYsZceIuOAj5zc3oYV1TrRxDQoSV8LoGC4RkSjcDYRffXzrIka4P4T2sbZZto4THuh8QpBNKnHeBkr5qA0WEngizCq2trQBSpEyXBnyxZAb2BTqh6uxMJHHwCz3y+GHH97P9T/uuOP6uuIe1e6j/Ru5142zyMnbc0lnrDKnRORtNafGmwunlh4S54xJhJrwCvEz6MjCNVApQsSgmvA37o2whAO2RZlwgRA/ogtxLEuWBa5sFjbrmKgfeeSRazyNgrKJo8gU4i6kjqASY6Jv5qIoF4IrgoWw5vPmL3eeyjAxRtkW+1cWoTXAGK4ZfD5x1rsGAZeP3YAlv7S6RXxoEETT5GiW2n20fyP3unEWOXl7LumMVeaUiLyt5tR4c+HU0kPinLGpQp3zWJxEz4Abi5aAnn/++Z2vnMdgYVkWS9wgngkxrFIuDu4JAhcTSQLKIJoE3EQZn9PiB1aGiBVlEEsWuAt1DIFlZXOHiBwR5hdWfZwLy5sFzfp23uAaWMXZHx7AZ+ErE5dlrUFxvs7bsc6PKyWHEdbuo/2RV+NA4yxy8vZc0hmrzCkReVvNqfHmwqmlsygPYTKhBhUQsoh4YIFmv+9QWfJxCZ3jHFNyArjKj7Jjv3rtg8yHfAxe7M/ngqO8OO8ssEPAx8HP3KG61ruP9q/HgcZZ5OTtuaQzVplTIvK2mlPjzYVTS9OHZZhEqJdxMjbKG8KYY4egvM0ucwhRR62ufB7LzmeOnBIasvxb7q+hVlfenks6Y5U5JSJvGWcInm2gll/uy3XV6psLp5YeEueMyYS6xlsFzlB6Kk5GzhvDgTlyAl5GA6/GMYxLcBtxQ0UPSG9GvD7/v3h37iTuqOg11erK23NJZ6wyp0TkLeN4ntyCxpO4/0Q+5UXY5AuNtd6QfC7LWFsnI9dVq28unFp6SJwzmlBPzMnIeWM4MFcOsTUOYdDYkgGWLjAjVQSPQVhjDJY1MKArlFKeME/hnCJ1vOC1uvL2XNIZq8wpEXk1jvEiC7KJsvIMPWchtZ675+85G18SYWUCHI7lFqwhFN9lDeS6avXNhVNLD4lzRhPqiTkZOW8MB+bI8Ycz6Cu0Uqy6jzGYeGQQNl5Yy8iKFhKb7ruWwjYt7EXURdCwxKN7XNaVt+eSzlhlTonIKzmesXkD1oT3TIm1pRZY0+ZUaHTNJxAJZfkFUWFCXwUbEPV99tmn72XFM851+K2d01w4tXQW5SE0oZ6Yk5HzxnBgbhwvnm6udb4tYBURN/br7gplNNsUvLC+BESUWV1md7K4LDsgxLIJ9dZzSkReyREKqzdkXSAuK0EBnpeelEbZs9Ugm+ugAbZipWeqx2S/SW/CcYlTlJnrqp3TXDi1dCnMJZpQT8zJyHljODA3jq6u+Hjrl+v6enkDImPErLO2dJFZXF5gMe7i7u2zDowVDfOStmVdeXsu6Yzd5dSwWXUtQxyTjyXKwl4tPezXGj9ExjP2ywdtsptn6VdvybMXiusZA3fXmWee2fOH6qqd62Zx/E/NrJYeU06NU0uHINfQhHpiTkbOG8OBuXH4l72EfJAxaBgwcBgfX/ASE20vsPXMTSDivzbL9eSTT97lu51lXXl7LumM3eXUsFl1LUMck4/VsJqAZm0dcwgIdOTpPRFmLizPOJZxkMfyNrtXj8msYXMO4jjIddXOdSzHuTp/yy2bPGftnj0pJ1Dj1NJD4pzRhHpiTkbOG8OBuXH4Kfkoh76t6aXgEgmrSpSA/QSdi4QPW2SApQj8aUMAyrry9lzSGbvL0WgRF5EVRC9+A3n/RjmxzbLM9ZaI88jn41zMzrUgW3k8a9uYhMYYuEcMGsuzVAQXlw9+WIXSfIR8bK4r15cxluN/xU9uOWaNiUXV9qScQI1TS2dRHkIT6ok5GTlvDAfmxmE1C7ErrWmwuBU/NEvL+ih5JcI88ShbaFDWlbfnks7YHY57IXxRFIVGbjNhoDcayxriPPJ5ekaiPcJ1kGFWLzeWZ8xy1vjm/4K0sQqilI+DXFeuL2Msx/30BSnXb/18vbk9KSdQ49TSpTCXaEI9MScj543hwJw5GV4QA4deXtY0/ya3R8nLqNWVt+eSztgdjpfX4Kz1ZyxWtpkQJjnU88mI86idJ+Q8vSGrXRJqK0768EiNWyLXVeON5fgfWm/IwCZL3/3dk3ICNU4tnUV5CE2oJ+Zk5LwxHPjfwtFFju9qeol1nUtOiVpdeXsu6Yzd4RAWvQ2W6BRYb9mEOI/aeULOE4InjlpjbAEzLpbM2Ug5fmu8sRz3s0zvSTmBGqeWHhLnjCbUE3Myct4YDvxv4VjA6sADD+xFWggeN0jJKVHm5ZcsgGO/P3mZtx6W1b3eS5wRHMeUfOdVnnfm1MrfnXrLdMZGOMsQx2z0WP5pz5d/2mBx+Kc3cjxO7VnGfr/l/Yz8cv9QnRq99f4rQ+XH/lodfnN9tbS6l6EJ9cScjJw3hgNz47DSrrzyyn5w0Lrf8Qf0dXeTWwi1kX8+zvJYIXlWQ4yPOUQdpiNzm4jLFvpnwJIvXLedS8DgpU+88TmK4WW9838LHbM0rTxRCgYqy9lwGeqx8qOlbkWnGAi7+OKL+/MxkSO7apwfa1QD5CMY+PzI3AlWbuSuOOWUU3qr0tK3zsu9cWy+d7X7uF2cEpGXOa7b87NCput3Xe6HXx+BDv+0QcMYMIzj8S688MJ+skv2ceOJFvFN1cMOO6w766yz+vXnjXcYgDRhxn7LElvj3vN3vOdibXn1iiTxf/Ds/eeibHXyRVtlU6SK/4tVM+N5AAE3uOqZeY4iQqzI6f/i2ZnQ41mqQ1SSPMfk+5PvUS0d70MNTagn5mTkvDEcmBPHH/e8887rP+ogftbkFpNZvIQ+0ODl9RIfdNBBC11ux1oLxCfUDHD506rDsdYBMZPRl3/4PVnmYnLNijNpwktn20ClcDCj+j7goH7f6/QBCLMd5atDXbludWlc8J07t4yPWCjbeueO07j4pFsc4/xjTfOox3K98TV666D7qIUwRTHlBIb/1rH53tXu9XZxSkRe/LpX3BncWO6LD2fYtt/1xWCxLyjFJ/hyef4P7inBDGsbRxQIsfWsCbJP+Gn0rBHvPhJrg4DurWgNz1hDoIEk6v4DeO6/Z6KxjrpFm+B4JmbBeh75a03AqFCfZ6kcUSFmVZ5xxhm9OPv/qkMvQR4e8Y/j3Z98H2tp92kZmlBPzMnIeWM4MCeOP/t+++3Xv6hgFppQLgLnJcnx0+WxXhqcQw45ZJcPL5gBJ4qAeFuX3McgfIKNQLCsWbleSMd70flHTV33Eudp6D42Ic9LWIaUOZbF7SX3QkYMNwubRc6v7sXOH8FgURJy0BNQj3NxXq6TMLP4CY1PtWmAWNqOzfeudq+3i1OizHPviJ4Zh/zQJi8ZMNRwWZPds4lnb+JL3H/A0avRiOvtRGPtfhPJ008/vU+zXrlPiL54Z/daORpY1qw6lcH6ZtUTOOU4D/8/U9odY786WMT+W/znGlfPyH/h0ksv7Y9TLo7yrEev0RXPb/akfRqiuA49LIOlxN7/0T5wn2r3OqezKA+hCfXEnIycN4YDc+Lo7u+99979iyr8jguB2OnSEiovnzyTW/wp4+UjdLqsrFnd2jzZxcp7BJjgWz/Ei8iiEcMbXW5gEfsSkJdLvQQ+n5sXnIiwhHSbY7+435gtqZHIVrPz8HUgosSid872+xV/S/SdX+zXTbauhXPQMGi41KvhIES68nj53tXu9XZxSpR5Gj9CSqQ1YESPy4AwsoTtk2c/IYvnIyRPz8a9YAXn5+PZEVL3FE+PyfNwzzWijscjulwS6iDiMfM1yvHxER/CBudjn2fINcWlwVVChB2r4Y3Zr+pkoXOheGbcbP7H/rOXX375Wvnq8h/UW3AdIfTgPtXudU77ryxDE+qJORk5bwwH5sQhylwTxNj0cDPRWDl8graF5BFLMaxig3WVCZ2XT56QMS9wfvlYodwpRJCPkfuEoOYX2K8XioiDerM/2QtO7Fm25YxJMymtS0FcvNAajijXy84vSRi4NeIYLxQri380vgbkGNad82OZs/bVg8cny5cb55TvXe1ebxenRJnHotbr0BgRPA0SH76ehQaUS8M9YPHi6R1pwD07VrZnnxs3II7cCu635+94YH3n56GB5e7SY9Hglj5mvSguE6618H8TYQ2Ac/Ss/Necu/GMMAiU438AGlOuE40zruOjDjwuGOfGxcZPHXnuU+1e53QW5SE0oZ6Yk5HzxnBgThwviz+yl9TqaHyRBJily+dLvAwI+qOzSPzZvbj8jrq4xNefNcpTB5Hlp+bP9OJ4SfmQ86CgelntGgEDQbq38XIDK9n56M46j8gjnF5KQszvaQA0jgFdd4sO6R3kbi44Ly9urocYOT/XFhad/HgJg5vvXe1ebxenROTFr+vQKGrA+O2Jr4kzehJ6RRpWLgxWLSHnqvJ83RN+bVZwbkTB8/OMlc2vrefFfcFSzzyiz+XgeRH2fO9Z+no//gMnnnhiX5588JzU6X9x8MEH9/8//5fcCOCAOvikNeoafM856uDr1vtSh/9N+NjB/cn3sZaO/0INTagn5mTkvDEcmBuHlcLfx49JUHUpvdgsEy8Ly5LbguiyoM1c04Vk7eQXD6IO+1mm/L66xAaV4gXCUTZxIJL5BYrydHflaRTybEgvtxeXNU1IssvFS2zgkcDrAofbIqDsfL7OR/ddWfzdpRhl5HtXu4/bxSkReZlD0DwPjbJn7N4Lt+TDd0/cV1asxtczlq9npcF0X6OcIXA/6JF5LuVYAnHVOFgTJgZmA8YDYqBRhFEWYfA8PE+9J64V/4N4hvna+KA9bw2NhjuXoRHSM2S1c9HlhloZuZxaekicM5pQT8zJyHljODBHjj+cPzGrJv+ZQTqs0cjHz5xA1OGl4z7g1uBbZOlmDmHgH7UYlO6vMiOfiLOQWEGsIXXzTZqZptFgERJXIpvPgWjza+omWzdbObroO3fu7M8HWPURXcDtw6okMmefffZaOfL0FPhhQ7zzvavdx+3ilIi8kuO63Od4jtnyBPcnP2P5nnPmlHAvPQ/3UEOe8xzPYte7IeL5GUtrNAgo654Iq1ckSYg9l4oxBQ09l4z9nosGJ5dDgP2PuMpyVIf69cbUr0HQw1KGX3W5P/ke1dIhyDU0oZ6Yk5HzxnCgca4WW59w8gKxqols5tjmbmEFlSFhBiH5jL3EXjQvlxeeJeglZSGxtu2LY7wwrD9ddQIv9M9LjEPQ+UoNjBkwI+KEQZfe+RECAuEcILrLGpAQjXzNtevfLk6JyJua417x+bJ4uT64HXK+RlH0T7i+cp5GkuUuT5QN/zQB5XrRKHueenkaAftY+4TXszPwHP8XDT5fu3L8hnvNOXt2Gg9uF/5tXK48/nC9LZx8bbV0FuUhNKGemJOR88ZwoHGufoG8iERTxEgM4AV0iQ3+eGlYvDnPBBYvvu4sC1oX2UAUIdBVF37lxRSjHS+Ll5K/2eg+C4o1T3BFpQhBY2kRccepU5mnnnpqf358mzHhQkSJgVACYzDLPueUr7l2/dvFKRF5W8Hh0tKD4UPOLiog4ixZYXV5/RAi65kbm/CsPG8CywVmopEGNixukRwGO/0P+Ks9Tw1slGXQ0xgK94lzye4rYw6etYaEu85/h3BrNDxn15WvrZaO/1gNTagn5mTkvDEcaJyr45xZ0ixjL5wXL/NYuoQ6LJ2cR8SJJ8vZqD5BFvkRsc8Em5Vl4JPgeumJtOgCrhb+UHXytSuD9cYFwhLz0mpAiDf3yv7779+/5Mr00hNpgq48VnhYbvmaa9e/XZwSkTc1h0gRPRYrQdSLyvkRmmmQsRRx91pkkecoUsTz4AojxvL9X8Th+yCFHpFoHY21+uK/pH7+aWMVkEP/nLPn7hmrXw+Lv9uz5YZzLE6+tlo6BLmGJtQTczJy3hgONM7VQs06YpmWAzzS1pfgt/Qylr7SCLcSYUJcCTXrLMrwopoNx5Ly4h1//PG9peRlJrgEwKQXU9cNUjnOMYTD+eg+m97Mt2myhDKIvJmRfKJEo2w88jXXrn+7OCUib2qO52YW4AEHHNBPLy/zuSsIJXENF1JAI8gCFoni/rvv+PGM/XKPOdazMeNQDyhH5vCpa8j5pkWNRB44Z8/c/4HBYLDYf4plHw0KTr62WnpInDN25JOO3yHsLqfGWwXOUHoqTkbOG8OBxvl337XkT2Y5eTFKnoEikSN8k7EvjvXnFwXCQsKR9lLaH1wvISuNbxmH9UQ4DBJ5wcX9Endd4XihnJMoAMc4N+JhvxccX5w4//jQ+eZrrl3/dnFKRN7UHPfOM9DYcV2U+dxdejzGDvKzA9vE2nNw75XjWWWO56knxALmv1ae/0Hm2McQYBjk452zOjzjqIP7xP8jzgUnX1stjb8MO4Z2NjQ0NDSsDppQNzQ0NKw4mlA3NDQ0rDiaUDc0NDSsOJpQNzQ0NKw4mlA3NDQ0rDiaUDc0NDSsMK644n+aUDc0NDSsKi655P90O3Z0TagbGhoaVhVXXfXf7rTT/m8T6oaGhobVxr+6/wejem5xTKE6YQAAAABJRU5ErkJggg==)"
      ]
    },
    {
      "cell_type": "code",
      "metadata": {
        "id": "mXgBcnXcSqsx"
      },
      "source": [
        "from sklearn.preprocessing import MinMaxScaler"
      ],
      "execution_count": null,
      "outputs": []
    },
    {
      "cell_type": "code",
      "metadata": {
        "id": "nvz_aEgDSoFB"
      },
      "source": [
        "min_max_scaler = MinMaxScaler()"
      ],
      "execution_count": null,
      "outputs": []
    },
    {
      "cell_type": "code",
      "metadata": {
        "id": "xqvphr1aSv8E"
      },
      "source": [
        "norm_data = min_max_scaler.fit_transform(df)\r\n",
        "norm_data = pd.DataFrame(norm_data,columns=['height','weight'])"
      ],
      "execution_count": null,
      "outputs": []
    },
    {
      "cell_type": "code",
      "metadata": {
        "id": "e8l_uFSbS0hJ"
      },
      "source": [
        "norm_data"
      ],
      "execution_count": null,
      "outputs": []
    },
    {
      "cell_type": "code",
      "metadata": {
        "id": "OcBeEbn3TD-B"
      },
      "source": [
        "#Standardization"
      ],
      "execution_count": null,
      "outputs": []
    },
    {
      "cell_type": "code",
      "metadata": {
        "id": "fFvkKbE_TFkZ"
      },
      "source": [
        "from sklearn.preprocessing import StandardScaler"
      ],
      "execution_count": null,
      "outputs": []
    },
    {
      "cell_type": "code",
      "metadata": {
        "id": "37iFOyX-TJSh"
      },
      "source": [
        "standard_scaler = StandardScaler()"
      ],
      "execution_count": null,
      "outputs": []
    },
    {
      "cell_type": "code",
      "metadata": {
        "id": "2ZUrB3C5TLIp"
      },
      "source": [
        "standardized_data = standard_scaler.fit_transform(df)\r\n",
        "standardized_data = pd.DataFrame(standardized_data, columns =['height','weight'])"
      ],
      "execution_count": null,
      "outputs": []
    },
    {
      "cell_type": "code",
      "metadata": {
        "id": "Alh51pvWTRIR"
      },
      "source": [
        "standardized_data"
      ],
      "execution_count": null,
      "outputs": []
    },
    {
      "cell_type": "markdown",
      "metadata": {
        "id": "7JioonyHTVsJ"
      },
      "source": [
        "\r\n",
        "\r\n",
        "---\r\n",
        "\r\n"
      ]
    },
    {
      "cell_type": "code",
      "metadata": {
        "id": "ecg5QqHfTfmr"
      },
      "source": [
        "# Label Encoder"
      ],
      "execution_count": null,
      "outputs": []
    },
    {
      "cell_type": "code",
      "metadata": {
        "id": "qUoROHuiTegJ"
      },
      "source": [
        "df['Gender'] = ['Gay','Male','Female','Queer','Gay','Female']"
      ],
      "execution_count": null,
      "outputs": []
    },
    {
      "cell_type": "code",
      "metadata": {
        "id": "sz7q2I5kTwu5"
      },
      "source": [
        "df"
      ],
      "execution_count": null,
      "outputs": []
    },
    {
      "cell_type": "code",
      "metadata": {
        "id": "sLcNJmnXTzn6"
      },
      "source": [
        "from sklearn.preprocessing import LabelEncoder"
      ],
      "execution_count": null,
      "outputs": []
    },
    {
      "cell_type": "code",
      "metadata": {
        "id": "44WECmBOT7L5"
      },
      "source": [
        "label_encoder = LabelEncoder()"
      ],
      "execution_count": null,
      "outputs": []
    },
    {
      "cell_type": "code",
      "metadata": {
        "id": "FkLjvITvT9Wq"
      },
      "source": [
        "label_data = label_encoder.fit_transform(df['Gender'])\r\n",
        "df['label_Gender'] = label_data\r\n"
      ],
      "execution_count": null,
      "outputs": []
    },
    {
      "cell_type": "code",
      "metadata": {
        "id": "OXawYCPdT_ka"
      },
      "source": [
        "display(df)"
      ],
      "execution_count": null,
      "outputs": []
    },
    {
      "cell_type": "markdown",
      "metadata": {
        "id": "zxLN0Hb3UIbv"
      },
      "source": [
        "\r\n",
        "\r\n",
        "---\r\n",
        "\r\n"
      ]
    },
    {
      "cell_type": "code",
      "metadata": {
        "id": "YiGpBlTWUJBV"
      },
      "source": [
        "# One Hot Encoder"
      ],
      "execution_count": null,
      "outputs": []
    },
    {
      "cell_type": "code",
      "metadata": {
        "id": "3Ida2UQtULX0"
      },
      "source": [
        "df.drop('label_Gender',axis=1,inplace=True)"
      ],
      "execution_count": null,
      "outputs": []
    },
    {
      "cell_type": "code",
      "metadata": {
        "id": "jfQ67vqaUVXg"
      },
      "source": [
        "df"
      ],
      "execution_count": null,
      "outputs": []
    },
    {
      "cell_type": "code",
      "metadata": {
        "id": "tpK86NTyUacr"
      },
      "source": [
        "from sklearn.preprocessing import OneHotEncoder"
      ],
      "execution_count": null,
      "outputs": []
    },
    {
      "cell_type": "code",
      "metadata": {
        "id": "wQjCEYp8UWe5"
      },
      "source": [
        "OneHot_Encoder = OneHotEncoder(handle_unknown='ignore')"
      ],
      "execution_count": null,
      "outputs": []
    },
    {
      "cell_type": "code",
      "metadata": {
        "id": "cwdO_0VZUZqK"
      },
      "source": [
        "label = OneHot_Encoder.fit_transform(df[['Gender']]).toarray()          \r\n",
        "\r\n",
        "\r\n",
        "# Warning: you must see the categories of label first! then you won't know which columns come first\r\n",
        "One_enc_df = pd.DataFrame(label ,columns= ['Gay', 'Male', 'Female','Queer'])\r\n",
        "\r\n",
        "df = df.join(One_enc_df )"
      ],
      "execution_count": null,
      "outputs": []
    },
    {
      "cell_type": "code",
      "metadata": {
        "id": "Vv3SR_flVJkC"
      },
      "source": [
        "df"
      ],
      "execution_count": null,
      "outputs": []
    },
    {
      "cell_type": "code",
      "metadata": {
        "id": "d2c_1qUaVKz1"
      },
      "source": [
        "print(OneHot_Encoder.categories_)\r\n",
        "\r\n",
        "# We must arrange the column as these orders\r\n",
        "\r\n",
        "col_gender = OneHot_Encoder.categories_\r\n"
      ],
      "execution_count": null,
      "outputs": []
    },
    {
      "cell_type": "code",
      "metadata": {
        "id": "srHYLLrhy_dc"
      },
      "source": [
        "df.drop(['Gay','Male','Female','Queer'],axis=1,inplace = True)"
      ],
      "execution_count": null,
      "outputs": []
    },
    {
      "cell_type": "code",
      "metadata": {
        "id": "wMd6_gkQVrwC"
      },
      "source": [
        "col_gender"
      ],
      "execution_count": null,
      "outputs": []
    },
    {
      "cell_type": "code",
      "metadata": {
        "id": "db6M1qDUViHK"
      },
      "source": [
        "One_enc_df = pd.DataFrame(label ,columns= ['Female', 'Gay', 'Male', 'Queer'])\r\n",
        "\r\n",
        "df = df.join(One_enc_df )"
      ],
      "execution_count": null,
      "outputs": []
    },
    {
      "cell_type": "code",
      "metadata": {
        "id": "ei9SayXRVoq0"
      },
      "source": [
        "df"
      ],
      "execution_count": null,
      "outputs": []
    },
    {
      "cell_type": "markdown",
      "metadata": {
        "id": "V5MFy6awz0Tb"
      },
      "source": [
        "\r\n",
        "\r\n",
        "---\r\n",
        "\r\n"
      ]
    },
    {
      "cell_type": "markdown",
      "metadata": {
        "id": "LdjIRKwD1DLJ"
      },
      "source": [
        "<fieldset>\r\n",
        "\r\n",
        "<font size=\"6\"><font color='teal'>Problem 3: </font></font>\r\n",
        "\r\n",
        "- You are about to create sketch the graph via coding\r\n",
        "\r\n",
        "![image.png](data:image/png;base64,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)\r\n",
        "\r\n",
        "Challenge 1: sketch this!"
      ]
    },
    {
      "cell_type": "code",
      "metadata": {
        "id": "9IrkSm0zz6Nj"
      },
      "source": [
        ""
      ],
      "execution_count": null,
      "outputs": []
    },
    {
      "cell_type": "markdown",
      "metadata": {
        "id": "3gKJykR_6C_U"
      },
      "source": [
        "\r\n",
        "\r\n",
        "---\r\n",
        "\r\n"
      ]
    },
    {
      "cell_type": "markdown",
      "metadata": {
        "id": "Um2XTaLF5rqF"
      },
      "source": [
        "![image.png](data:image/png;base64,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)\r\n",
        "\r\n",
        "Challenge 2 : sketch this"
      ]
    },
    {
      "cell_type": "code",
      "metadata": {
        "id": "NIVbO-2_66h9"
      },
      "source": [
        ""
      ],
      "execution_count": null,
      "outputs": []
    },
    {
      "cell_type": "markdown",
      "metadata": {
        "id": "4QghOjT56DnM"
      },
      "source": [
        "\r\n",
        "\r\n",
        "---\r\n",
        "\r\n"
      ]
    },
    {
      "cell_type": "markdown",
      "metadata": {
        "id": "rUzDQNmH53hF"
      },
      "source": [
        "![image.png](data:image/png;base64,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)\r\n",
        "\r\n",
        "Challenge 3 : Sketch this"
      ]
    },
    {
      "cell_type": "code",
      "metadata": {
        "id": "e5T9HUDj59Ql"
      },
      "source": [
        ""
      ],
      "execution_count": null,
      "outputs": []
    },
    {
      "cell_type": "markdown",
      "metadata": {
        "id": "EuoQ2J_-59uk"
      },
      "source": [
        "\r\n",
        "\r\n",
        "---\r\n",
        "\r\n"
      ]
    },
    {
      "cell_type": "markdown",
      "metadata": {
        "id": "ibvOMN5v6F2k"
      },
      "source": [
        "![image.png](data:image/png;base64,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)\r\n",
        "\r\n",
        "Challenge 4 : Sketch this"
      ]
    },
    {
      "cell_type": "code",
      "metadata": {
        "id": "cIJvHvX56O2Z"
      },
      "source": [
        ""
      ],
      "execution_count": null,
      "outputs": []
    },
    {
      "cell_type": "markdown",
      "metadata": {
        "id": "kx4PDsyC6PWM"
      },
      "source": [
        "\r\n",
        "\r\n",
        "---\r\n",
        "\r\n"
      ]
    },
    {
      "cell_type": "markdown",
      "metadata": {
        "id": "2p1aGBDV6R-4"
      },
      "source": [
        "![image.png](data:image/png;base64,iVBORw0KGgoAAAANSUhEUgAAAW8AAAEWCAYAAACpERYdAAAgAElEQVR4Ae19+XsVVda1Ld12GhqQBiIQwyi0omEy3xNfUEBeECI4YFAGEcEYQAKkg/AiCCSBQEJICGgCaICYmRBCov/g/p517HOpFFV1q+6te2taP9ynplPn7GHtVbt21a3zwr///W/hjzYgBogBYiBaGHjhjz/+EP5oA2KAGCAGooEBfZElefPixYs3MUAMRAgDJO8IOYsZUTQyIvqJfsoHBkjeJG9mW8QAMRBBDJC8I+i0fFzVOQazR2Ig3BggeZO8mXURA8RABDFA8o6g05gRhTsjon/on3xggORN8p6QdX3//feyatWqCfsyAeILL7wgv/zyi+pn06ZN8sUXX2TdZyZypDvn/v37AlnHx8ezlq+wsFCuXLmSdT9GmbOxXU1Njbzxxhu+ymOUjevBXqRI3hEi7zVr1sju3bufC8Yff/xRXn75Zc8E5CdxmQM51+TtF1H6aQO/ZDLaMl/k/dZbb8nx48efw5ZRFq4HS9Zm+5O8I0Tep0+flldeeeW5AFu7dq18+umnz+03O9u4jUzTT+Iy9o11krc/gU7y9seOZnzGYZvkHSHyfvLkiUyePFmamppSRD04OCh/+9vf5Pbt2/L777/LgQMHZM6cOTJ16lRZt26d4DiAqon6xIkTMmvWLHnzzTfVEiRbUFCgfi0tLWK+1e7o6FBllH/+858yffp0+eqrr1R/bW1t6nMKkGfGjBmyfft2efr0aUouO/KeP3++XLhwIdVubGxMyXrr1q3UPh1Y/f39UlpaqnTG+MuXL1c6bty4Uf7yl7/ISy+9pOQ+ePCgOhf64g4EMkE/yK77gu1wgZs9e7Y6jnIC9mm76LLJDz/8IMigca6TPdFvbW2t6g+23r9/vzrPrmxSV1cnxcXFSt5//etfcujQISWb2d7o12y7bdu2KR/AT9DrwYMHKb3QtqqqSl3UIcfOnTuV3OjH3Df8+9prryn9scQ22n3++efKnsARxoAvsf/jjz9WPv/HP/4hCxYsmGBPHOcvWBuQvCMGwg8++EC2bNmSCpxjx47JokWL1DaCeNmyZdLd3S2jo6OydetWWb9+vTqmSer999+XkZERS+JCMBoDfnh4WBHzN998o/rDdmtrq+qvvb1dbty4oUo16PvVV1+Vb7/9NiWXmYB0zRtE++6776baoeQDYrAigl27dgmICwSPX3Nzc6qdVYni5MmTAhmhO4hH2wV9f/jhh4LSAGwDogZxoZ22C/bhfFz4dK3eyZ6dnZ2K6HAhRT+ffPKJvPjii7Y1b1zgtPy4oMJ+ZntrG5htB0LV43z00UcT6thoW1JSoi7SIPV58+alyh9GX2LMKVOmqAsOdMVdHLYHBgaUHOaySUNDgyxZskSGhobU8Tt37khPT0/K/lpWLoMjcJJ3xMgbBIDMEoSBwEEGWVlZqdZBoMbMD8E2adKkFMEi0Lu6ulIBaCQuHYTGgEeAL168ONVet7FagrjfeeedVFszAWny/u233xTpgWTRD0o+OnM294v6fllZWYpMjcetyNt4HKQDGR49eqQyUWTpuDsxtsG6tgEyYWTGIHfdxsme+/btk/feey/VFhdE2Npof90PlrjbwYVW662PGe2t95ltZxzn8ePHKkt++PChGhtt6+vrU3IcPXpUVqxYobaNfeMuYenSpal2GAvBjzZYN5N3Y2OjuhDgAo07EC0bl8GRtdn2JO+IkTcciOzwzJkz8uuvvyrC6O3tVcEFgsItLshd/3ArDELSJIUMVoNA79MlA+w3BjxIFeSq2xuX9+7dUyUNlCkwJsZGWUO3MROQJm8cx4NXZLkg2L///e8TCFOfjyWIDqUO1PnxQ0lIHzeTN3SoqKhQttE2gAywUV9fnyJyEJ8+Xy+1DVASOnLkyITjTvbEHQFKFLofLJFd25E3yky4ECHbRelDlyyM9tZ9mW1nHmfatGmpOyC0NZaHLl26pO6C0Jex76+//lqV0fQYWOKigHIP1s3kjX2480D2jXIM7uLMFx5jX1zPP6mTvCNI3sj63n77bcESNWEdOEVFRXL9+vXUtt6PpSYpI1HjNhvBb9xnDHinzBvZHYhVBzQyb+NraWYCMpI3+sX5eLth5cqVlvIaZcc6CAoEq8nRTN7ILJEp6zsLnXmjBILMMV3mjawc5Iuatx7byZ5eM2/dJy6euFNCJo59Z8+enXB3gwux2XZeMu/vvvvOdeb9+uuvpzJvlF7s3jbBxQ/kbvWmk9aLS5J3KnAIBnswgIhxiz5z5kwV/NpWIAUEmX6ghQd+qCnjuBV541YfD/6QRes+jOQNYgahgZhRpsG2rnnjFhwEhvNQDwXRuSVvPChEBoqHlyBdPbZ5efHixVTJBGUCyHL16lXVHrX96urq1LkoF6DGDRmhV3l5+QQSRM0bFwyUbXCxsqp5g8BxJ6EfqDrZExcT1KJRxsKDWlzI7GreOI7351HCgY54aIwHp1iH7f/617+qkg5sjIzeTN64k9DjoJZvtjP0Qk0bNoIftF2MvkRtG3djkAP6484N28AI5MAFAg8utQ9wpwBf42IDe+Juac+ePanjuh2X9nGaa9sw845g5g1QgKRBgLr2jX3IMEE4CGAQC8orOiCtyBvnIJvCbTgCGfVNY8DjOEgK5ICxQGy6dIEHaHoclEvQj5lU9IM/q9fd8NAVJROrUgbGxQ+6IMNGO1yovvzyyxR54KKE7BVyo16NflCWgN4gRlwUjCSICwaID2964ByULqzeNrl586bK8PF2iJM9Id9//vMfJUO6t01A3iA/2BBEjDc99MNL9IPSBfqAPqdOnZogN2xnfttE313gXOhofNsEFxF9J2X2JcZEGQT6Y2mUARczPOyEjDt27FB3OHiQDHtCtg0bNjj6CrLwl18bkLwJukCCDlk7XvljwGcX8MYLFG2ZnS2jZj+SN8k77wSKW3xkx8b31aMWOGGRl+SdLMI24o7kTfLOK3njoRjKICgFGIHI9cxIiOSdmd3igDeSN8mbJEoMEAMRxADJO4JOi0PWQB2SmzHS9/74nuRN8mbWRQwQAxHEAMk7gk5j5uJP5kI70o5RxgDJm+TNrIsYIAYiiAGSdwSdFuVsgbIz2yUG/MEAyZvkzayLGCAGIogBkncEncbMxZ/MhXakHaOMAZI3yZtZFzFADEQQAyTvCDotytkCZWe2Swz4gwGSN8mbWRcxQAxEEAMk7wg6jZmLP5kL7Ug7RhkDJG+SN7MuYoAYiCAGSN4RdFqUswXKzmyXGPAHAyRvkjezLmKAGIggBhzJe/PmzWpKKMw1qK+W+JD+qlWrZO7cuWqJbX3MaYmplDD9E3+0ATFADBAD7jGAaQqtuNWRvDHTSXt7u5ooVp/82WefpeYxxHyGFRUVlh3r9noJZ+l1Lv25baIdaUdiIP4YsONOR/IGMDBxrTHzxqSzPT09ioixxLYbANkJ4OZctok/QOlj+jhuGHgwMCJ1P/fIoYa78uTpuCuetLKBHXd6Jm/MPG0cwLxtPFZdXZ0qk2DOQuMxrjNYiQFiIA4YGBv/Xe70DMsP7d2y70KHrDvWIgv2NEhhxSX1m/N5nXT+Npwx/+WMvKdMmeJKKDsB4uA86kASIgaSgYGRp+PS/mBQalvuS8UPP8n/O9ws876oSxH1q7vr5Z2j1+WL8z/L6bYH8lP3kIyOZZ51A1d23Ok582bZJBkgJRnRz0nHwODIU2m+1y/Hrv0qO07fkpJvrknhrj+zaWTVi/c1yMbjrXKg7o78eLtbfukblvHf/ceNb+S9c+fOCQ8s8QDTjZPtBHBzLtv4DwjalDYlBp5h4OHgiNR39Eplw13Z8p82+feBK6lsGkT9xoFG+aD2pnx75Z5c7uyV34aeuOI9P2xsx52Omff69etlxowZMmnSJJk5c6acOHFCBgYGZMWKFepVwZUrV4rbVwXtBPBDOfbxDIS0BW1BDNhjYHz8d7nXOyznb3XL/oudsr76hizc96w+/cquS7Kq8pp8fOaWVDf9Ktd/6Rdk4EHa1I47HcnbT4HtBPBzDPZlD1rahrZJGgZQa771YFBO3Xggn5//WcqOXJciQ30a62VHmmXXuZ9VG7TN5q2QXNnXjjtJ3hH8Z1WuQMJ+SfBRxcDQyFNp+aVfjjd1qawZ2TOyaP3Gx4K9DSrLRraNrPtu77AgC4+CviRvknQkgBqFYKKMwV7kUG9G3Rn15621N1U9WpM0lsu+uiJbatpU/Rp1bNSzo+wzkjfJO9IAjnLwUfbMyB5vbvzS91i9yYE3OvBmB97wSBH1rkvqDRC8CYI3QvBmyMDj0djhnORN8o4dqEmKmZFiGO2G+jTeica70XhH+n+OXhe8M62Jet7ndVJ6uFm9W413rPGu9chodu9Ph9EOVjKRvEneJG9iIBQYGB4dkxtdA3KiuUs++b/bsubbJsG/EDVR49+J+Jci/q2Ify3i34n4F6MVsSVhH8mbgZtY8CchwMOqY+/wqDTe6ZXDV+7Jttp2efPg1RRJg6xf239FNp1sk4MNd9R3QPA9kN9z8EeXsNrHjVwkb5I3yZsYyBkGQLhd/SNy8aff5Ov6O/L+yTZ5bf/lCUT91sGr8uH37XLk6i9y7W6f9A3Hrz7thoy9tiF5M3BzFrhewcj20a5VPx3/XTq6H8n/tT2UPT/++SGm+aYPMa2papZPz96Wk9e7pK1rUFAqod8z8zvJm+TN4CEGPGPg8ei4tN0flJrrXbLz7G15u6pZ5hrq08W762Xtdy2KxEHmIPXR8WQ8SMzXxYjkzcD1HLj5AifHySwj89tu/cOjqpyBsgbKGyhz6IeIWC758rJsPPHnh5gu3P5Nuvofsz6dB14heefByH4HE/sLB6nF0Q/GiQL+92SbLN0/8UNMyw82qgeMeNCIB469j1ifDgoHJG+SNzPvBGLAzUQBqyub5JMzt+V4c5e0/Dogj56wPh0UUVuNS/JOYOBaAYH74pvNp5sooGh3ne8TBRBPuccTyZvkzcw7RhgwTxSwwjRRwKJ9DbLh+A35KscTBZC8Sd4klhgRCwPa34DuHhyRBkwUcPle6CYKoK/99bWVPZl5kxx5gQw5BtxMFLCy8pp8FKKJAqzIhvv8JXSSd8gDl4D3F/Bhtyc+xHT74ZB83xrtiQLCbuc4yEfyJnkz8w4IA49GxtJOFPBedYt8ebFTzrVHa6KAOJBj2HUgeQcUuGEHBuXzN+PvefRErnT2SlVCJgogfvzFj5U9Sd4kb2bePmLAcqKALw0fYvrvRAHbv2+X7679Kk0xnSjAimy4z19C9528Kysrpbi4WObPny+YZX501PkfWHYC0NH+Opr29N+e+FbHz92P5EzbA9l9voMTBfh4ESRe0+PVjjszmoC4u7tbCgsL5cmTJyqbW7dundTU1DhmdnYC0HnpnUcb5c9GbicK2HuhQ87efKgmCsBX9uij/Pkoaba2486MyXvWrFkyODgo4+PjUlpaKg0NDY4AthMgaY6gvuEJcnxP+uqdPjnSeE/KT3GiAGIzPNg0+sKOOzMib3RcVVUlBQUFMm3aNNmwYYMlcVdXVwsGxm/27NmWbYxCcj2c4Im6X9xOFFD+34kCrnKiAMZqiEpDvpI3Mu6SkhLp7++XsbExKSsrk1OnTjk63E6AqBMD5Q/XBcc4UQBKG5gLkRMFhMtHjBlv/rDjzowy77Nnz8qWLVtSZF1bWyvl5eWpbSvn2Alg1Zb7vDk3qfZyM1HA/3zXIrt/7FAPGzlRAHEVxVix486MyLu1tVW9aTIyMqIIe9OmTXL48GGSd4hutaIIUieZzRMFlBy6JoW7LqUmC+BEASRmJ/xE+Ziv5A1D7NmzR4qKitSrghs3buSrgiRux4u3l+BxO1EA/ghzhRMF+GZ3Lz5i2/xdLH0nb6/OsxPAaz9snz/Q5NrWnCggPr7MNVaS3L8dd2ZUNsnEkHYCZNIXz4le0HuZKAAfa8JHm/DxJvo6er6mz/z1mR13krxZ7vCdIM0TBZRwogDfbUyC9Jcgw2xPkjdJOicE8nBwROoxUUDD3bQTBWBCge6hP/+VG+ZgoWzJIcYo+JrkTfLOirw5UQAJLQpEF0cZSd4kb9fk/eTpuNx6MCinbjyQXed+lrIjzVL0RV3qtbx5X9SpfTiGNu0PBgXnxDFwqBMvWkFjgORN8rYk16GRp5wogNiwxEbQpMXx/7xwkrwZoPLb0BO53Nkr3165Jx/U3pQ3DjSmsunCikuy7KsrsqWmTdWv6zt6BPVsBhAzT2IgWAyQvBNE3n9OFDAsP97ulq/q7sjG462yeF/DM6LGRAGHrolxooD+x87fY2cABxvAtH9y7U/yjil5413on7qH5HTbA/ni/M/yztHr8uru+hRRz/u8TkoPN0vFDz9Jbct9VZ8eGWV9mmSYXDKMmu9J3jEg70dPxqTl1wE53twln5y5Lasrm2TO588eJOLrefiKHicKIDFFjaAorz1mSd4RI+/e4VFpvNMrh6/ck2217bL84MT69Gv7r8imk21ysOGO1P3cI/geCL5bzSCgDYiBeGGA5B1S8v5zooDHcuH2b3IA9ekTrfLafsNEthWX5M2DV4UTBcQrIEmw9KdbDJC8Q0DexokC9vzYIWu/a5FiQ30aJZA1Vc3y6dnbcvJ6l7R1DQrmVHTrZLYjIRAD8cMAyTvP5A3SBfmChEHGb1c1y1xDfRqkzYkC4hdoJE/61G8MkLxzSN7miQLeOng19bYH3p/mRAEMaL8Dmv0lB1Mkb5/IW08UgAeFeGCIB4cgaP174+tG2Vp7UzhRQHKCi0RKX+cSAyRvj+TNiQIYkLkMSPZNfLnFAMnbgbzNEwXgTy34c4vOpot240NM1+Xz8z8LJwpg0LkNOrYjVvzAAMn7v+TNiQIYUH4EFPsgjvKFgUSS94SJAmra1IeXdDaNJT7MhA80VV6+J5wogMGYr2DkOMSaFwz4Tt5DQ0Oydu1aNYP8q6++Ki0tLY7vI9sJ4EUJu7aYKOBu77Ccv9Ut+y92yvrqG7LQ8CGmV3ZdkpWV1+SjM7ekuulXuf5LvyADt+uP+xlcxAAxEBYM2HFnxnNYbtq0SY4fP64I8OnTpwIyd1LWTgCnc6yOuZ8o4Cep5UQBjj6xsi/3kbSIgXBhwI47MyLvR48eSWFhoSdisBMgHVAwS8vxpi75+MwtWVV5TZBF69LHgr0N8l51i3x5sVPOtXer7BtZeLo+eTxc4KQ/6A9iwB4DdtyZEXnfvn1bli5dKsi+Fy9eLFu2bJGRkec/3F9dXS0YGL/Zs2dnRKr/e7JNkTUmCthc0ybfNNwVThRg72gGAW1DDMQLA76S982bN+XFF1+U1tZWRcgfffSR7N6925Gc7QRIBzT8KYYTBcQLjOl8zuP0NzHwDAN23JlR5t3b2zuhbNLc3CylpaU5IW868ZkTaQvaghhIHgZ8JW8AaPny5XL37l1F2Hv37pWdO3c6kve0adNSJRQI4+WH+rqX9vlqS7nox1xijfgivoAvcKfVRTujzBsdoe6NjhcsWCBlZWUyODhoOYDVoF73YRyv5+SjPeXylgXRXrRXLuMyafjKmLxz6QRz30lzill/r9u0F0nSK2a8tCe+woEvkrfDN0/SAZogDgeI0/kp3XH6kX5Mh5FsjucKX5Egb7xymI3xcnUu5fIW9LQX7ZWrWES/ScNXJMg7lw5n394IhfaivYiBcGCA5J1F2YQgDgeI6Qf6IYkYIHmTvENZkkpiMFJnXoS8YCA05L1582aZPn26zJ8/35ZMduzYIXPmzFGvJ7a3t9u282KAdG3TyXXt2jWZPHmyLFq0SP327duXF7kePnwoJSUlUlxcrH5VVVWW4+bbZm7kCsJmo6Oj6pMOCxcuVPbas2fPc/ZCm3fffVdhbNmyZXL//v3n2qTDi9fjbuSqqalR7/pqjOkPwnkdK5P24+Pj6hMYVn/CC8JeWgcnuYKyF97Lx6vT8JPdQ0o/4zE05N3U1CQgZDvyrqurkzVr1qhgunHjhiC4tCNzuUwnF4jICti5lAl99/T0KHthfXh4WObNmyednZ0TbBKEzdzIFZTNHj9+rOwzNjam8AMcGf109OhR2bZtm9p35swZReTG47laTycXyGj79u0TZM2VLOZ+KysrZf369ZYYD8pekNFJrqDsBfLu7++39ZPf8Rga8oZDkOnYkffWrVvl9OnTKcMUFRUpAjODLRfbTnIFRURmPfFHqcuXL6fsg+NB2kzLZyVX0DbDR9TwQTX9bR4t6+rVq1PfpUdmN3Xq1An21O1ytbSTKygy6u7ulhUrVkhjY6MleQdlr3RyBWWvdOTtdzxGhryR3eIbKjpwACp8IEtv53KZjrwR5Lgdx51BR0dHXmQy6gv5Zs2apTJw4/4gbQY57OQCeQdhMxAybmkLCgqkoqLiOT8hcQAxaBuiROeUSel22S7TyQUymjFjhrolxwQoKE1lO6ab8zEW7obtLrZB2SudXEHZC+SNpGDJkiWWry36HY8kbxcPLJ3IGyULfduL26K5c+fmJbB08GFsgOXcuXPPjes3WPSYbpZOcgVtM0wcgucF5gttUGSk7Wkn18DAgKC+jHbHjh1TsutzcrW8ePGilJeXqzHDRN5u5ArCXvCDvvD39fWpZA4lV6N//I7HvJE3Mi0U8fmjDYgBYoAYcI8B3z9MZbyiuFmHs9y0Yxu+LkUMEAPEwDMM2HFn3jJvOwHopGdOoi1oC2KAGDBjwI47Hcnb6h1nfPp11apVqraLpdtPwdoJYBaU2wQvMUAMAAN6rtqoL7PFsx13OpK31TvOn332mRw4cECVQLC0empvJaydAFZtuY/BSwwQA1EnbS1/tli2405H8sag5jctjO9X4w8Z2HYjnJ0Abs5lGwYyMZA8DGjyi/oyW+zacadn8sZfwY3CmLeNx/CJRgyMX6azxxv743ryApg+T67Po07aWv5sMZwz8p4yZcoEMrcT1E4Au/bcn9ygpe/pe2BAk1/Ul9ni2Y47PWfeLJswsLIFI88nhtxgIOqkreV3o6tTG9/IG7PEGx9Y4gGm08D6mJ0A+jiXDGhiYCIGdPDHYZmJb+OgN3TIRHfjOXbc6Zh542ti+KbCpEmTZObMmXLixAnBX0/xXRH8DXzlypV8VdDF3+uNjuD6RIKiPeztERfyypTA4qJ/thjPiLyzHdR4vp0AxjZctw9k2iZ5tokLeZG8s8OuHXc6Zt5+EoadAH6Owb6yAwntFy77kbwvxeKhZbZxZcedJG+WPbKuyWULTp5vfdEgeZO8ERskb5I0STpiGCB5k7xJ3hELWmaizzLRJBNYknVHDMRF/2zjmZk3CTySmXdcAhh6eA3iJOtO8n6WwJC8Sd6eycMr2eSifZIJLMm6k7xJ3pEkrFyQYFT7TDKBJVl3kjfJm+Qd8TuOJBNYknUneZO8Sd4k79A8+PJ690Py5tsmwAxr3hElMQZwPAIYfiR5P8sm3dgiLth3o6tTG5I3yTvwDNQJoHbH4hLAJG9vxA08xMX3dth2u5/kTfIOPBjcgtXYLi4BTPImeRtx7WWd5E3yJnlXBFuC8RKwaJvkC1ec9Pfqd3N7kjfJO3AyMIPSzXaSCSzJugMbcdHfDc6d2kSavOPiROjh5CSrY0nWHfZIsv5J1j1OvreKay/7SN4B3zLrQPTitDgBGPp71T3p+mvMxGGZZN9norvxHJI3yTvwLNYISLfrcSAurYNbnXU7fV4cllonL8s46A0dvOhs1ZbkTfImeQeMAavAdNoXF/LKlMDior+Tj90cI3kHHLgaiG6cZWyjz4vD0qiX2/U46K11cKuzbqfPi8NS6+RlGQe9oYMXna3akrxJ3sy8A8aAVWA67YsLeWVKYHHR38nHbo75Tt6FhYWyYMECWbRoke1/742C2QlgbGO3HhcnZgLiJOsOPCRZ/yTrHiff2/Ga2/123JnxHJYg7/7+fte3BHYCuFEgySBOsu5xCmD40Q3WjW3o+2D/VOWX/Y0+zWTdjjtJ3nm+lfbqPL8AFIZ+vOqO9mGQ2y8ZvOrv17hh6Mer7nHyfSa6G8/JCXkvXrxYlixZItXV1ZZZBfZjYPxmz55t2cYopN16GMDnlwx2Otrt92vcMPRjp6PT/jDI7ZcMTnpaHfNr3DD0Y6Vfun1hkNsPGdLpme647+Td3d2tyLivr08WLlwoTU1NjuRsJ0A6wXHcDwOGpQ83+hrbhEVuP+Qw6uV23Y9xw9KHW511u7DI7YccWicvSz/GDUMfXnS2amvHnRmXTYyD7N27Vw4dOkTydlGCMdrNzXoYwOeXDG70Nbfxa+ww9GPWLd12GGT2S4Z0ulod92vsoPux0s3LPl/Je2RkRIaHhxVZY/3111+X+vp6kjfJ2/EuyQtgddugA8/P8bVObpd+jh10X251NrYLWma/xjfqlMm6r+Td1dWlSiUolxQXF8v+/fsdiRsC2wngRhm/jBiGftzoa2wTBpn9ksGol9t1v8YOQz9uddbtwiCzXzJonbws/Ro76H686GzV1o47fSmbWA1o3mcngLmd1XbQxvdzfCv9nPb5OXbQfTnpaXcsaJn9HN9OR7v9fo4ddF92OjrtD1pmv8Z30tHNMTvuJHm7KHX45UT048ZZxjZ+jh10X0a93K4HLbOf47vVWbfzc+yg+9I6eVkGLbNf43vR2aotyTvPJG3neCvnOO2z6yeK+530tDsWRT3tZLbT0W6/XT9R3G+no9P+KOppJbOTjm6OkbxJ3o4PE61A5/c+N0A1t/FbhiD7M+uWbjtIWf0eO52uVsf9liGo/qx087KP5E3yJnkHjAEvAYu2QZFNLsb1qnuc9M9Ed+M5JO+AA1cHhNEpbtb1eXFYutHX3CYOemsdzLql29bnxWGZTler43HQGzpY6eZlH8mb5B14JucFsLptXAI4kyBOsu7wf1z011jOdEnyJnkHHgyZgDcuAUzy/sNzBhoX32eCe+M5JG+SN8k7YAwYA9LNelzIKyIJv8IAAA/CSURBVJMLF+wTF/3d+NqpDck74MDVQHRyktUxfV4cllb6pdsXB721Dul0NR/X58VhadbNzXYc9IYObnR1akPyJnkHnsk4AdTuWFwCOJMgTrLuwENc9LfDttv9JG+Sd+DB4BasxnZxCWCSN2veRlx7WSd5k7xJ3gFjwEvAom2SL1xx0t+r383tSd4BB64ORLNj0m3r8+KwTKer1fE46K11sNLPaZ8+Lw5LJz3tjsVBb+hgp5/b/SRvknfgmZxbsBrbxSWAMwniJOsODMRFfyOeM1kneZO8Aw+GTIAblwAmebPmnQn+cQ7Jm+RN8g4YA16DN8kXLtgqLvp79bu5Pck74MDVQDQ7Jt22Pi8Oy3S6Wh2Pg95aByv9nPbp8+KwdNLT7lgc9IYOdvq53U/yJnkHnsm4BauxXVwCOJMgTrLuwEBc9DfiOZN1kjfJO/BgyAS4cQlgkjdr3pngH+eQvEneJO+AMeA1eJN84YKt4qK/V7+b2/tO3vX19VJUVCRz5syRAwcOpK3r2AlgFtRqOy5OZPaV3OyLvk+u7604zcs+O+7MaALi8fFxRdpdXV3y9OlTWbhwoXR2djoSuJ0AbpQgeV+KRRbixtfmNvQ9fR91DJgx7XXbjjszIu+WlhZZvXp1iqyReafLvu0EcKNI1J1nlN+NvsY2xnOjvm7Uy+161HU2yu9WZ93OeG7U17VOXpZR11nL70Vnq7Z23JkRef/www+yZcuWFHnX1tbK9u3bU9tagOrqalVsx+AFBQWpdWyH7VdYWBg6mfJpoyTrn2TdgbEk6x8F3adNm/Yct4Jjc0remsSjsASIoyBnrmRMsv5J1h14SrL+UdY9I/LOpGySK9Lxq98oO9EPGyRZ/yTrTvKObtKWEXnjgeUrr7wixgeWHR0dkc5cGcDRBXG2Fy/6nr7PFkNBnJ8ReUPQuro6mTdvnnrrZP/+/ZEmbuiD+nwQDgjLmEnWP8m6Jx37UfZ9xuQdFtKhHN7fn6XNaDNiIPoYIHn/EX0nMhDpQ2IgeRggeZO8E10uIuklj/Ti4vPEk/fmzZtl+vTpMn/+/MSR2MOHD6WkpESKi4vVr6qqKlE2GB0dlaVLl6p/CMMGe/bsSZT+IDG8fLB48WIpLS1NnO54x3vBggWyaNGiSL4umXjybmpqkvb29kSSd09Pj9IdQTw8PKweQKf7zEFcshatx+PHjxVpjY2NybJly+TGjRuJIrHKykpZv359Ysm7v78/sv5OPHkjiO/fv59I8tYEppdlZWVy+fLlyIJZ65HJcmRkRGWgra2tidG/u7tbVqxYIY2NjSTvCJZPSd4kb0VWuIDNmjVLZeCZkF9Uz0HZALfN+HxDRUVFYogb/lq7dq2687p27VpiyRsloyVLlkTyVWGSN8lbUDoAgM+dO5co8jJecIaGhlT9P+p/NjPq5LR+8eJFKS8vV/5OKnnjzgM26uvrU889UEJ1slnYjuWNvKdOnZroDz/hX3z80QbEQHIwMKd4oRTMLJK/zpirltjOxP++fpgqkysQhM7kPJ7DV7mIAWIgahg4f6tbXt1dP+E7/NjGfq+62HFn3jJvOwG8KsL2DGRigBgIOwbeONA4gbj1t72x36vsdtxJ8o7gU2avzmd7kh0xkF8MaLK2Wnr1BcmbJO35iu8VZGyfX4KgvcNrb2beJFwSLjFADEQQA6x5R9BpzIbCmw3RN/RNPjEAAtcZOJaZPKyEvCyb8ELADI4YIAYiiAGSdwSdls8sgWMxKyUGwokBkjfJm1kXMUAMRBADJO8IOo2ZUDgzIfqFfsknBkjeJG9mXcQAMRBBDJC8I+i0fF7dORazSWIgnBggeZO8mXURA8RABDGQEXlbTRE2ODgoq1atkrlz56oltt1cse0EcHMu24QzI6BfkuUXv95bJm684caOOx2/bWI1Rdhnn30mBw4cUISNpdsP2NsJQEd6cyTtRXsFgQE//zEYhPxRHtOOOx3JGwqbpwgrKioSzH2IY1hi241h7ARwcy7bkLCIgWAxoP8paP7QEvbTN7n1jR13eibvyZMnT3CWedvoyOrq6tTHx2fPnj3hPGM7rufW+bQv7ZstBsykbdzOtm+e74zPnJH3lClTXJGynQB0nLPjaB/aJwwYYOYdHA7tuNNz5s2ySXBODEMQU4Zk+p817+D87ht579y5c8IDSzzAdBPQdgK4OZdtggMObU/bawzwbZNgsGDHnY6Z9/r162XGjBkyadIkmTlzppw4cUIGBgZkxYoV6lXBlStXCl8VDMahOqC4pP2JgXhjICPy9hMUdgL4OQb7ijeI6V/6N4kYsONOx8zbT0PZCeDnGOyLwU0MEANxw4Add5K8I/h32biBk/qQcIkBewyQvEnSrh4sM4jsg4i2oW2CwADJm+RN8iYGiIEIYoDkHUGnBXGV55jMLomBcGGA5E3yZtZFDBADEcQAyTuCTmMGlNsMiH86ya19iV9/7EvyJnkz6zJggH/39odYSNC5tyPJ2xC4BFzuARd2G/NDS8RA2DGq5SN5k7yZeRswYPykqXldBw2XJPgwYIDkbQjcMDiEMgRLDMy8g7U/8e/e/iRvkjczbwMGWPN2Tx4k2mBtRfI2BC7BGCwYw2J/vm1CHIQFi05ykLxJ3sy8iQFiIIIYIHlH0GlOV2MeY9ZIDCQDAyRvkjezLmKAGIggBkjeEXQaM6tkZFb0M/3shAGSN8mbWRcxQAxEEAMk7wg6zelqzGPM1oiBZGCA5E3yZtZFDBADEcSA7+RdWVkpxcXFMn/+fMEs86Ojo47AsBOA2YN/2QPfW/bPlsQlbRkWDNhxZ0ZzWHZ3d0thYaE8efJEEfa6deukpqaG5B3gVZ3/GCTZhIVsKIe/WPSdvGfNmiWDg4MyPj4upaWl0tDQQPIOkLz5rQ5/A4YERHuGBQO+kjeUqqqqkoKCApk2bZps2LDBkrirq6sFA+M3e/ZsyzZhMVDU5TB/Gc+4HXXdKD+JNMkY8JW8kXGXlJRIf3+/jI2NSVlZmZw6dcqRnO0ESLJT/NSdmTcJzk88sa/w4MmOOzOqeZ89e1a2bNmSIuva2lopLy9PbVs53k4Aq7bc5x04rHl7txlxRptFAQN23JkRebe2tqo3TUZGRhRhb9q0SQ4fPkzyDrDmDRDybROSURTIiDJ6w6mv5A3j79mzR4qKitSrghs3buSrggETNwPCW0DQXrRXVDDgO3l7VdxOAK/9sD2DjhggBpKEATvuzKhskonh7ATIpC+ew+AlBoiBpGDAjjtJ3ix3OD6rSEqAUE9eDMKKAZI3SZokTQwQAxHEAMk7gk4LayZAuZilEgP5wwDJm+TNrIsYIAYiiAGSdwSdxuwmf9kNbU1bhxUDkSRv/umEARXWgKJcxGa+MBA58ubfvRkc+QoOjkOshRkDkSNvfmiJARXmgKJsxGe+MBA58jZ+0tS8ni+jcRwGKDFADASNgciRNzNvBk3QQcPxicEwYCBy5M2aNwMnDIFDGYjDoDEQOHljxh0I4eU3p3iBFMycJy9Onq6W2PZyfq7bYh7PXI+RSf+UyxvOaC/aK5M4c3tOtvgCd1pdQPL2bROrwd3ug5Hcts1nO8rlLSujvWivXMZn0vBF8s7izztJA0u2gUd7kbyzxZDT+UnDF8mb5J23u5qkBZcT0bg5RnvxYueEk0iQN2ahd1IiqGOUy1tw0V60Vy5jNWn4igR559Lh7NsbodBetBcxEA4MkLyzKJsQxOEAMf1APyQRA6Eh782bN8v06dPVhMZ2jtixY4fMmTNHFixYIO3t7XkppaST69q1azJ58mRZtGiR+u3bty8vcj18+FBKSkqkuLhY/aqqqizHzbfN3MgVhM1GR0dl6dKlsnDhQmUvTKBtxhnavPvuuwpjy5Ytk/v37z/XxnxOtttu5KqpqRG8LqYxdvz48ZzLpfUaHx+XxYsXS2lp6XNjBmEvN3IFZS+8Eghugp/snlf4GY+hIe+mpiZFyPPnz38OJHBYXV2drFmzRh27ceOGILi0I3O5TCcXiMgK2LmUCX339PSkLmDDw8Myb9486ezsnGCTIGzmRq6gbPb48WNln7GxMYUf4Mjop6NHj8q2bdvUvjNnzigiNx7P1Xo6uUBG27dvnyBrrmQx91tZWSnr16+3xHhQ9oKMTnIFZS+Qd39/v62f/I7H0JA3HIJMx468t27dKqdPn04ZpqioSBGYGWy52HaSKygiMutZVlYmly9fTtkHx4O0mZbPSq6gbTYyMqKyydbW1gn2Wr16tbS0tKh9yDinTp064bjWKVdLO7mCIqPu7m5ZsWKFNDY2WpJ3UPZKJ1dQ9kpH3n7HY2TIG9ltc3NzKpgAqps3b6a2cxVQ6DcdeSPIcTuOO4OOjo68yGTUF/LNmjVLkIEb9wdpM203K7lA3kHYDISMW9qCggKpqKiYYCvIi8QBxKBtiBKdUyal22W7TCcXyGjGjBnqlnzt2rWC0lS2Y7o5H2OhPGl3sQ3KXunkCspeIG+UmJYsWSJWb774HY8kbxcPLJ3IG4Spb3txWzR37ty8BJYOPowNsJw7d+65cf0Gix7TzdJJrqBtNjQ0pJ4XmC+0QZGRtqedXAMDA4L6MtodO3ZMya7PydXy4sWLUl5ersYME3m7kSsIe8EP+sLf19enkjmUXI3+8TseI0Peft9yGI2abt2JvM3nprt1MrfPZhu1W9y6ov5n1U9QNksnl1nWfNpMj40Hy4cOHZpgt6DKAFomLK3kMh5Hlo4H5MZ9uVjftWuXzJw5U+Cbl19+WV566SXZuHHjhHGDsJcbuYz2yJe9jGNife/evc/hy+94jAx5X7p0acIDS7w5YDZYrradyLu3tzclR1tbmypf5EoOc7/vv/++fPzxx6nxzceDslk6uYKwGcofyGxhoydPnsjy5csFWZzRZkeOHJnwwHLdunUTjhvb+rXuRi48BNbjnT9/Pm8P6/WYdpl3EPbSMmFpJ1cQ9sLzCl22xPrrr78u9fX1Kb9BXr/jMTTkjSfaqOtNmjRJXfFPnDihbhFxm6gd9uGHH6ZeFcxXvTudXAAwXtdDzRtvwOgHXlrmXC1R/3/hhRdSryahlouyDewVpM3cyBWEzX766SdVj8SrXCiP6Fc6d+/eLRcuXFAYQ2kChI1aN5KDrq6uFPZy5Uc3ciHb1BjD66F37tzJuVxGfY0kGbS93MgVhL2AFXCAfhV1//79yke5jMfQkLfRKVznny6IAWKAGHDGAMnbxQNLgsgZRLQP7UMM5B8DJG+Sd15vwRnk+Q9y2jyeNid5k7xJ3sQAMRBBDJC8I+g0ZlLxzKToV/rVCwZI3iRvZl3EADEQQQyQvCPoNC9XZ7ZlNkcMxBMDJG+SN7MuYoAYiCAGSN4RdBozqXhmUvQr/eoFA5q8/z+rOfiBjfUgrwAAAABJRU5ErkJggg==)\r\n",
        "\r\n",
        "Challenge 5 : Sketch this"
      ]
    },
    {
      "cell_type": "code",
      "metadata": {
        "id": "WTrBi3on63od"
      },
      "source": [
        ""
      ],
      "execution_count": null,
      "outputs": []
    },
    {
      "cell_type": "markdown",
      "metadata": {
        "id": "wR0OC9Ar6wj8"
      },
      "source": [
        "\r\n",
        "\r\n",
        "---\r\n",
        "\r\n"
      ]
    },
    {
      "cell_type": "markdown",
      "metadata": {
        "id": "GQoFCnUr6x8_"
      },
      "source": [
        "Challenge 6 : Sketch this\r\n",
        "\r\n",
        "![image.png](data:image/png;base64,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)"
      ]
    },
    {
      "cell_type": "code",
      "metadata": {
        "id": "z6AKpeEw63P0"
      },
      "source": [
        ""
      ],
      "execution_count": null,
      "outputs": []
    },
    {
      "cell_type": "markdown",
      "metadata": {
        "id": "4HVh3alD62fo"
      },
      "source": [
        "\r\n",
        "\r\n",
        "---\r\n",
        "\r\n"
      ]
    },
    {
      "cell_type": "markdown",
      "metadata": {
        "id": "H1GmYK2c7KlV"
      },
      "source": [
        "Challenge 7 : Import Iris data and try to find the counts each species then classified by the following colors\r\n",
        "\r\n",
        "![image.png](data:image/png;base64,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)"
      ]
    },
    {
      "cell_type": "code",
      "metadata": {
        "id": "LXUS-2LA6Qwk"
      },
      "source": [
        ""
      ],
      "execution_count": null,
      "outputs": []
    },
    {
      "cell_type": "markdown",
      "metadata": {
        "id": "zvjXBgIB7g0U"
      },
      "source": [
        "\r\n",
        "\r\n",
        "---\r\n",
        "\r\n"
      ]
    },
    {
      "cell_type": "markdown",
      "metadata": {
        "id": "nE-pDPc67hlU"
      },
      "source": [
        "Challenge 8 : similar to challenge 7: but scatterplot\r\n",
        "\r\n",
        "![image.png](data:image/png;base64,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)\r\n",
        "\r\n"
      ]
    },
    {
      "cell_type": "code",
      "metadata": {
        "id": "hjDLZmPV7hQV"
      },
      "source": [
        ""
      ],
      "execution_count": null,
      "outputs": []
    },
    {
      "cell_type": "markdown",
      "metadata": {
        "id": "ssS0gDcV7wuJ"
      },
      "source": [
        "\r\n",
        "\r\n",
        "---\r\n",
        "\r\n"
      ]
    },
    {
      "cell_type": "markdown",
      "metadata": {
        "id": "9Bxu7l4M7xPX"
      },
      "source": [
        "Challenge 9: Import MNIST image and sketch this\r\n",
        "\r\n",
        "![image.png](data:image/png;base64,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)"
      ]
    },
    {
      "cell_type": "markdown",
      "metadata": {
        "id": "NV9bOhX178p2"
      },
      "source": [
        "Note: This picture is at the index5 of the MNIST dataset"
      ]
    },
    {
      "cell_type": "code",
      "metadata": {
        "id": "SSY1MfAl75Es"
      },
      "source": [
        ""
      ],
      "execution_count": null,
      "outputs": []
    },
    {
      "cell_type": "markdown",
      "metadata": {
        "id": "pEvAMwLS8Ej8"
      },
      "source": [
        "\r\n",
        "\r\n",
        "---\r\n",
        "\r\n"
      ]
    },
    {
      "cell_type": "markdown",
      "metadata": {
        "id": "HwBBRD-88GB9"
      },
      "source": [
        "![image.png](data:image/png;base64,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)\r\n",
        "\r\n",
        "Challenge 10 :Plot this (hint: using mpimage)"
      ]
    },
    {
      "cell_type": "code",
      "metadata": {
        "id": "sV8eofPW8l8_"
      },
      "source": [
        ""
      ],
      "execution_count": null,
      "outputs": []
    }
  ]
}