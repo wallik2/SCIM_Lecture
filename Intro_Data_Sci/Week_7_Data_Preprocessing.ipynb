{
  "nbformat": 4,
  "nbformat_minor": 0,
  "metadata": {
    "colab": {
      "name": "Week 7: Data Preprocessing",
      "provenance": [],
      "toc_visible": true,
      "authorship_tag": "ABX9TyNw7Q/BP+ilzad+pizj6J9N",
      "include_colab_link": true
    },
    "kernelspec": {
      "name": "python3",
      "display_name": "Python 3"
    }
  },
  "cells": [
    {
      "cell_type": "markdown",
      "metadata": {
        "id": "view-in-github",
        "colab_type": "text"
      },
      "source": [
        "<a href=\"https://colab.research.google.com/github/wallik2/University-stuff/blob/main/Intro_Data_Sci/Week_7_Data_Preprocessing.ipynb\" target=\"_parent\"><img src=\"https://colab.research.google.com/assets/colab-badge.svg\" alt=\"Open In Colab\"/></a>"
      ]
    },
    {
      "cell_type": "markdown",
      "metadata": {
        "id": "RR1naSCwsQ2Q"
      },
      "source": [
        "#Data Preprocessing"
      ]
    },
    {
      "cell_type": "markdown",
      "metadata": {
        "id": "7YnvUnLgskWY"
      },
      "source": [
        "<fieldset>\r\n",
        "\r\n",
        "<font size=\"5\">Quick Intro : </font> <br>\r\n",
        "\r\n",
        "Function: Clean the unusable data to usable\r\n",
        "\r\n",
        "\r\n",
        "\r\n",
        "---\r\n",
        "\r\n",
        "\r\n",
        "\r\n",
        "<font size=\"4\"><u>3 steps to clean the data</u></font>\r\n",
        "\r\n",
        "1. Data Cleaning\r\n",
        "2. Feature Scaling\r\n",
        "3. Encoding the categorical data"
      ]
    },
    {
      "cell_type": "markdown",
      "metadata": {
        "id": "Yf3FYGR4uhCR"
      },
      "source": [
        "## 1) Data Cleaning"
      ]
    },
    {
      "cell_type": "markdown",
      "metadata": {
        "id": "hYy-9cpcy7Xx"
      },
      "source": [
        "step1: deal with **Missing value** <br>\r\n",
        "step2: deal with the **Outlier**"
      ]
    },
    {
      "cell_type": "markdown",
      "metadata": {
        "id": "vWtUvrhmwsJB"
      },
      "source": [
        "#### I. Removing the row with missing value "
      ]
    },
    {
      "cell_type": "code",
      "metadata": {
        "id": "RxNJ2EROzgqB"
      },
      "source": [
        "#Using Dropna()"
      ],
      "execution_count": null,
      "outputs": []
    },
    {
      "cell_type": "code",
      "metadata": {
        "id": "sW5roIzsunYJ"
      },
      "source": [
        "import numpy as np\r\n",
        "import pandas as pd"
      ],
      "execution_count": null,
      "outputs": []
    },
    {
      "cell_type": "code",
      "metadata": {
        "id": "kJ_k_VAyurDp"
      },
      "source": [
        "rawdata = {\"high\": [166,np.nan,155,np.nan,180],\r\n",
        "           \"weight\": [70, 68, 60, 64, 80]}"
      ],
      "execution_count": null,
      "outputs": []
    },
    {
      "cell_type": "code",
      "metadata": {
        "id": "WMx801Bqvy_K"
      },
      "source": [
        "df = pd.DataFrame(rawdata)     #DataFrame \r\n",
        "\r\n",
        "data = df.dropna()             #DataFrame but no missing value"
      ],
      "execution_count": null,
      "outputs": []
    },
    {
      "cell_type": "code",
      "metadata": {
        "colab": {
          "base_uri": "https://localhost:8080/",
          "height": 414
        },
        "id": "XVxWLJsnukww",
        "outputId": "f30a7ce2-c860-494e-f900-405daae13287"
      },
      "source": [
        "print(\"Raw Data\")\r\n",
        "display(df)\r\n",
        "\r\n",
        "print(\"\\n\\n\\nRaw Data but no missing value\")\r\n",
        "display(data)\r\n"
      ],
      "execution_count": null,
      "outputs": [
        {
          "output_type": "stream",
          "text": [
            "Raw Data\n"
          ],
          "name": "stdout"
        },
        {
          "output_type": "display_data",
          "data": {
            "text/html": [
              "<div>\n",
              "<style scoped>\n",
              "    .dataframe tbody tr th:only-of-type {\n",
              "        vertical-align: middle;\n",
              "    }\n",
              "\n",
              "    .dataframe tbody tr th {\n",
              "        vertical-align: top;\n",
              "    }\n",
              "\n",
              "    .dataframe thead th {\n",
              "        text-align: right;\n",
              "    }\n",
              "</style>\n",
              "<table border=\"1\" class=\"dataframe\">\n",
              "  <thead>\n",
              "    <tr style=\"text-align: right;\">\n",
              "      <th></th>\n",
              "      <th>high</th>\n",
              "      <th>weight</th>\n",
              "    </tr>\n",
              "  </thead>\n",
              "  <tbody>\n",
              "    <tr>\n",
              "      <th>0</th>\n",
              "      <td>166.0</td>\n",
              "      <td>70</td>\n",
              "    </tr>\n",
              "    <tr>\n",
              "      <th>1</th>\n",
              "      <td>NaN</td>\n",
              "      <td>68</td>\n",
              "    </tr>\n",
              "    <tr>\n",
              "      <th>2</th>\n",
              "      <td>155.0</td>\n",
              "      <td>60</td>\n",
              "    </tr>\n",
              "    <tr>\n",
              "      <th>3</th>\n",
              "      <td>NaN</td>\n",
              "      <td>64</td>\n",
              "    </tr>\n",
              "    <tr>\n",
              "      <th>4</th>\n",
              "      <td>180.0</td>\n",
              "      <td>80</td>\n",
              "    </tr>\n",
              "  </tbody>\n",
              "</table>\n",
              "</div>"
            ],
            "text/plain": [
              "    high  weight\n",
              "0  166.0      70\n",
              "1    NaN      68\n",
              "2  155.0      60\n",
              "3    NaN      64\n",
              "4  180.0      80"
            ]
          },
          "metadata": {
            "tags": []
          }
        },
        {
          "output_type": "stream",
          "text": [
            "\n",
            "\n",
            "\n",
            "Raw Data but no missing value\n"
          ],
          "name": "stdout"
        },
        {
          "output_type": "display_data",
          "data": {
            "text/html": [
              "<div>\n",
              "<style scoped>\n",
              "    .dataframe tbody tr th:only-of-type {\n",
              "        vertical-align: middle;\n",
              "    }\n",
              "\n",
              "    .dataframe tbody tr th {\n",
              "        vertical-align: top;\n",
              "    }\n",
              "\n",
              "    .dataframe thead th {\n",
              "        text-align: right;\n",
              "    }\n",
              "</style>\n",
              "<table border=\"1\" class=\"dataframe\">\n",
              "  <thead>\n",
              "    <tr style=\"text-align: right;\">\n",
              "      <th></th>\n",
              "      <th>high</th>\n",
              "      <th>weight</th>\n",
              "    </tr>\n",
              "  </thead>\n",
              "  <tbody>\n",
              "    <tr>\n",
              "      <th>0</th>\n",
              "      <td>166.0</td>\n",
              "      <td>70</td>\n",
              "    </tr>\n",
              "    <tr>\n",
              "      <th>2</th>\n",
              "      <td>155.0</td>\n",
              "      <td>60</td>\n",
              "    </tr>\n",
              "    <tr>\n",
              "      <th>4</th>\n",
              "      <td>180.0</td>\n",
              "      <td>80</td>\n",
              "    </tr>\n",
              "  </tbody>\n",
              "</table>\n",
              "</div>"
            ],
            "text/plain": [
              "    high  weight\n",
              "0  166.0      70\n",
              "2  155.0      60\n",
              "4  180.0      80"
            ]
          },
          "metadata": {
            "tags": []
          }
        }
      ]
    },
    {
      "cell_type": "markdown",
      "metadata": {
        "id": "XyC0RzqXxeGS"
      },
      "source": [
        "\r\n",
        "\r\n",
        "---\r\n",
        "\r\n"
      ]
    },
    {
      "cell_type": "markdown",
      "metadata": {
        "id": "dXvjWH3Ewqia"
      },
      "source": [
        "#### II. Fill the row with missing value by mean  \r\n"
      ]
    },
    {
      "cell_type": "code",
      "metadata": {
        "id": "-DA7XvmMznXi"
      },
      "source": [
        " #Using replace()"
      ],
      "execution_count": null,
      "outputs": []
    },
    {
      "cell_type": "code",
      "metadata": {
        "id": "D0SEKJj5xmjJ"
      },
      "source": [
        "rawdata = {\"high\": [166,np.nan,155,np.nan,180],\r\n",
        "           \"weight\": [70, 68, 60, 64, 80]}"
      ],
      "execution_count": null,
      "outputs": []
    },
    {
      "cell_type": "code",
      "metadata": {
        "id": "L4yuLI4NyVpB"
      },
      "source": [
        "df = pd.DataFrame(rawdata)\r\n",
        "fill_data = df.replace(np.NaN, df['high'].mean())"
      ],
      "execution_count": null,
      "outputs": []
    },
    {
      "cell_type": "code",
      "metadata": {
        "colab": {
          "base_uri": "https://localhost:8080/",
          "height": 221
        },
        "id": "Zj8HfRjLxg_O",
        "outputId": "64e4f74e-58dd-4473-a71d-f7c269d742da"
      },
      "source": [
        "print('Filled data')\r\n",
        "\r\n",
        "display(fill_data)"
      ],
      "execution_count": null,
      "outputs": [
        {
          "output_type": "stream",
          "text": [
            "Filled data\n"
          ],
          "name": "stdout"
        },
        {
          "output_type": "display_data",
          "data": {
            "text/html": [
              "<div>\n",
              "<style scoped>\n",
              "    .dataframe tbody tr th:only-of-type {\n",
              "        vertical-align: middle;\n",
              "    }\n",
              "\n",
              "    .dataframe tbody tr th {\n",
              "        vertical-align: top;\n",
              "    }\n",
              "\n",
              "    .dataframe thead th {\n",
              "        text-align: right;\n",
              "    }\n",
              "</style>\n",
              "<table border=\"1\" class=\"dataframe\">\n",
              "  <thead>\n",
              "    <tr style=\"text-align: right;\">\n",
              "      <th></th>\n",
              "      <th>high</th>\n",
              "      <th>weight</th>\n",
              "    </tr>\n",
              "  </thead>\n",
              "  <tbody>\n",
              "    <tr>\n",
              "      <th>0</th>\n",
              "      <td>166.0</td>\n",
              "      <td>70</td>\n",
              "    </tr>\n",
              "    <tr>\n",
              "      <th>1</th>\n",
              "      <td>167.0</td>\n",
              "      <td>68</td>\n",
              "    </tr>\n",
              "    <tr>\n",
              "      <th>2</th>\n",
              "      <td>155.0</td>\n",
              "      <td>60</td>\n",
              "    </tr>\n",
              "    <tr>\n",
              "      <th>3</th>\n",
              "      <td>167.0</td>\n",
              "      <td>64</td>\n",
              "    </tr>\n",
              "    <tr>\n",
              "      <th>4</th>\n",
              "      <td>180.0</td>\n",
              "      <td>80</td>\n",
              "    </tr>\n",
              "  </tbody>\n",
              "</table>\n",
              "</div>"
            ],
            "text/plain": [
              "    high  weight\n",
              "0  166.0      70\n",
              "1  167.0      68\n",
              "2  155.0      60\n",
              "3  167.0      64\n",
              "4  180.0      80"
            ]
          },
          "metadata": {
            "tags": []
          }
        }
      ]
    },
    {
      "cell_type": "markdown",
      "metadata": {
        "id": "X3G9xMrczJaS"
      },
      "source": [
        "#### III. Deal with an Outlier  "
      ]
    },
    {
      "cell_type": "code",
      "metadata": {
        "id": "iZ_MPEFHz_5i"
      },
      "source": [
        "import seaborn as sns\r\n",
        "from scipy import stats"
      ],
      "execution_count": null,
      "outputs": []
    },
    {
      "cell_type": "code",
      "metadata": {
        "id": "Jo7JG3pNz6ai"
      },
      "source": [
        "rawdata={\"height\": [166,171,155,164,180,300],\r\n",
        "         \"weight\": [70,68,60,64,80,77]}\r\n",
        "\r\n",
        "df = pd.DataFrame(rawdata)"
      ],
      "execution_count": null,
      "outputs": []
    },
    {
      "cell_type": "code",
      "metadata": {
        "colab": {
          "base_uri": "https://localhost:8080/",
          "height": 296
        },
        "id": "rbleOwDf1WRK",
        "outputId": "664c34ed-c8e3-4f63-fa0c-319c9972e839"
      },
      "source": [
        "sns.boxplot(x= df.height)   \r\n",
        "\r\n",
        "#sns.boxplot(x= df.height)       : If you prefer X-axis boxplot\r\n"
      ],
      "execution_count": null,
      "outputs": [
        {
          "output_type": "execute_result",
          "data": {
            "text/plain": [
              "<matplotlib.axes._subplots.AxesSubplot at 0x7f68e33fbef0>"
            ]
          },
          "metadata": {
            "tags": []
          },
          "execution_count": 13
        },
        {
          "output_type": "display_data",
          "data": {
            "image/png": "[encoded data removed]",
            "text/plain": [
              "<Figure size 432x288 with 1 Axes>"
            ]
          },
          "metadata": {
            "tags": [],
            "needs_background": "light"
          }
        }
      ]
    },
    {
      "cell_type": "code",
      "metadata": {
        "id": "cQ9WIdUj1kbi",
        "colab": {
          "base_uri": "https://localhost:8080/"
        },
        "outputId": "2b6fc54a-2b6c-44c3-d167-e466b6ca01ef"
      },
      "source": [
        "z = np.abs(stats.zscore(df.height))\r\n",
        "\r\n",
        "print(\"Z score = \", z)\r\n",
        "\r\n",
        "#Z score = [0.46611801 0.36623558 0.68585935 0.50607098, 0.1864472 2.21073111]"
      ],
      "execution_count": null,
      "outputs": [
        {
          "output_type": "stream",
          "text": [
            "Z score =  [0.46611801 0.36623558 0.68585935 0.50607098 0.1864472  2.21073111]\n"
          ],
          "name": "stdout"
        }
      ]
    },
    {
      "cell_type": "code",
      "metadata": {
        "id": "BXLWEbZO7J_t"
      },
      "source": [
        ""
      ],
      "execution_count": null,
      "outputs": []
    },
    {
      "cell_type": "code",
      "metadata": {
        "colab": {
          "base_uri": "https://localhost:8080/"
        },
        "id": "RMD6eYYVzIyC",
        "outputId": "13fd70b2-8dfe-405f-9ca5-93a02201343c"
      },
      "source": [
        "remove_outlier = df[ z < 2]        # We pick the criteria to get rid outlir by should not have z < 2   (อาจารย์บอกไม่ต้องเลือก 1.96 เพราะมันจะประมวลช้ากว่า ให้เลือก 2 เลย)\r\n",
        "print(remove_outlier )"
      ],
      "execution_count": null,
      "outputs": [
        {
          "output_type": "stream",
          "text": [
            "   height  weight\n",
            "0     166      70\n",
            "1     171      68\n",
            "2     155      60\n",
            "3     164      64\n",
            "4     180      80\n"
          ],
          "name": "stdout"
        }
      ]
    },
    {
      "cell_type": "code",
      "metadata": {
        "id": "T5PoA9H40UpS"
      },
      "source": [
        "# \"high\": [166,171,155,164,180,300],\r\n",
        "\r\n",
        "# as you can see that the box plot say that the height range value should be in this range [150,180]\r\n",
        "# while There is someone who have height = 300, so we consider him as an Outlier"
      ],
      "execution_count": null,
      "outputs": []
    },
    {
      "cell_type": "markdown",
      "metadata": {
        "id": "2_kZjNgF2I-K"
      },
      "source": [
        "\r\n",
        "\r\n",
        " ---\r\n",
        "\r\n"
      ]
    },
    {
      "cell_type": "markdown",
      "metadata": {
        "id": "9iKy4yaw2J2a"
      },
      "source": [
        "## 2) Feature Scaling"
      ]
    },
    {
      "cell_type": "markdown",
      "metadata": {
        "id": "0Hudz9gt3OKp"
      },
      "source": [
        "#### I) Normalization "
      ]
    },
    {
      "cell_type": "markdown",
      "metadata": {
        "id": "Ro7EIxSa3TYi"
      },
      "source": [
        "- Range from 0 to 1\r\n",
        "- Use when the data doesn't follow Normal Distribution\r\n",
        "\r\n",
        "- This can be useful in algorithms that do not assume any distribution of the data like K-Nearest Neighbors and Neural Networks.\r\n",
        "\r\n",
        "- Sensitive to outlier (but don't worry if we rid the outliers already)"
      ]
    },
    {
      "cell_type": "markdown",
      "metadata": {
        "id": "e2VUbuLb6Ddz"
      },
      "source": [
        "![33.PNG](data:image/png;base64,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)"
      ]
    },
    {
      "cell_type": "code",
      "metadata": {
        "id": "0mebXlRN6j27"
      },
      "source": [
        "# use MinMaxScaler"
      ],
      "execution_count": null,
      "outputs": []
    },
    {
      "cell_type": "code",
      "metadata": {
        "id": "7UUN6GBd6f8r"
      },
      "source": [
        "from sklearn.preprocessing import MinMaxScaler"
      ],
      "execution_count": null,
      "outputs": []
    },
    {
      "cell_type": "code",
      "metadata": {
        "id": "8vTPNUfB6U0I"
      },
      "source": [
        "rawdata={\"high\": [166,171,155,164,180],\r\n",
        "         \"weight\": [70,68,60,64,80]}\r\n",
        "\r\n",
        "df = pd.DataFrame(rawdata)"
      ],
      "execution_count": null,
      "outputs": []
    },
    {
      "cell_type": "code",
      "metadata": {
        "id": "GatOVxAb6sbb"
      },
      "source": [
        "min_max_scaler = MinMaxScaler()"
      ],
      "execution_count": null,
      "outputs": []
    },
    {
      "cell_type": "code",
      "metadata": {
        "id": "Sp3O01_a54MK"
      },
      "source": [
        "# Normalize the Raw_data\r\n",
        "\r\n",
        "norm_data = min_max_scaler.fit_transform(df)\r\n",
        "norm_data = pd.DataFrame(norm_data,columns=['high','weight'])"
      ],
      "execution_count": null,
      "outputs": []
    },
    {
      "cell_type": "code",
      "metadata": {
        "colab": {
          "base_uri": "https://localhost:8080/",
          "height": 204
        },
        "id": "jcR6-Rhb69Gs",
        "outputId": "0eb45c0c-7fa1-479b-d3bb-3a9130067551"
      },
      "source": [
        "# Raw data _ without Normalization\r\n",
        "\r\n",
        "display(df)"
      ],
      "execution_count": null,
      "outputs": [
        {
          "output_type": "display_data",
          "data": {
            "text/html": [
              "<div>\n",
              "<style scoped>\n",
              "    .dataframe tbody tr th:only-of-type {\n",
              "        vertical-align: middle;\n",
              "    }\n",
              "\n",
              "    .dataframe tbody tr th {\n",
              "        vertical-align: top;\n",
              "    }\n",
              "\n",
              "    .dataframe thead th {\n",
              "        text-align: right;\n",
              "    }\n",
              "</style>\n",
              "<table border=\"1\" class=\"dataframe\">\n",
              "  <thead>\n",
              "    <tr style=\"text-align: right;\">\n",
              "      <th></th>\n",
              "      <th>high</th>\n",
              "      <th>weight</th>\n",
              "    </tr>\n",
              "  </thead>\n",
              "  <tbody>\n",
              "    <tr>\n",
              "      <th>0</th>\n",
              "      <td>166</td>\n",
              "      <td>70</td>\n",
              "    </tr>\n",
              "    <tr>\n",
              "      <th>1</th>\n",
              "      <td>171</td>\n",
              "      <td>68</td>\n",
              "    </tr>\n",
              "    <tr>\n",
              "      <th>2</th>\n",
              "      <td>155</td>\n",
              "      <td>60</td>\n",
              "    </tr>\n",
              "    <tr>\n",
              "      <th>3</th>\n",
              "      <td>164</td>\n",
              "      <td>64</td>\n",
              "    </tr>\n",
              "    <tr>\n",
              "      <th>4</th>\n",
              "      <td>180</td>\n",
              "      <td>80</td>\n",
              "    </tr>\n",
              "  </tbody>\n",
              "</table>\n",
              "</div>"
            ],
            "text/plain": [
              "   high  weight\n",
              "0   166      70\n",
              "1   171      68\n",
              "2   155      60\n",
              "3   164      64\n",
              "4   180      80"
            ]
          },
          "metadata": {
            "tags": []
          }
        }
      ]
    },
    {
      "cell_type": "code",
      "metadata": {
        "colab": {
          "base_uri": "https://localhost:8080/",
          "height": 204
        },
        "id": "kg-0tcaR659r",
        "outputId": "3bcf5444-f8b5-41a2-9bd4-90d7b0beab8a"
      },
      "source": [
        "# Normalized Raw data \r\n",
        "\r\n",
        "display(norm_data)"
      ],
      "execution_count": null,
      "outputs": [
        {
          "output_type": "display_data",
          "data": {
            "text/html": [
              "<div>\n",
              "<style scoped>\n",
              "    .dataframe tbody tr th:only-of-type {\n",
              "        vertical-align: middle;\n",
              "    }\n",
              "\n",
              "    .dataframe tbody tr th {\n",
              "        vertical-align: top;\n",
              "    }\n",
              "\n",
              "    .dataframe thead th {\n",
              "        text-align: right;\n",
              "    }\n",
              "</style>\n",
              "<table border=\"1\" class=\"dataframe\">\n",
              "  <thead>\n",
              "    <tr style=\"text-align: right;\">\n",
              "      <th></th>\n",
              "      <th>high</th>\n",
              "      <th>weight</th>\n",
              "    </tr>\n",
              "  </thead>\n",
              "  <tbody>\n",
              "    <tr>\n",
              "      <th>0</th>\n",
              "      <td>0.44</td>\n",
              "      <td>0.5</td>\n",
              "    </tr>\n",
              "    <tr>\n",
              "      <th>1</th>\n",
              "      <td>0.64</td>\n",
              "      <td>0.4</td>\n",
              "    </tr>\n",
              "    <tr>\n",
              "      <th>2</th>\n",
              "      <td>0.00</td>\n",
              "      <td>0.0</td>\n",
              "    </tr>\n",
              "    <tr>\n",
              "      <th>3</th>\n",
              "      <td>0.36</td>\n",
              "      <td>0.2</td>\n",
              "    </tr>\n",
              "    <tr>\n",
              "      <th>4</th>\n",
              "      <td>1.00</td>\n",
              "      <td>1.0</td>\n",
              "    </tr>\n",
              "  </tbody>\n",
              "</table>\n",
              "</div>"
            ],
            "text/plain": [
              "   high  weight\n",
              "0  0.44     0.5\n",
              "1  0.64     0.4\n",
              "2  0.00     0.0\n",
              "3  0.36     0.2\n",
              "4  1.00     1.0"
            ]
          },
          "metadata": {
            "tags": []
          }
        }
      ]
    },
    {
      "cell_type": "markdown",
      "metadata": {
        "id": "2Re1ju3t5nKL"
      },
      "source": [
        "#### II) Standardization "
      ]
    },
    {
      "cell_type": "markdown",
      "metadata": {
        "id": "M3CHA7vl44ga"
      },
      "source": [
        "- Range from -∞ to ∞\r\n",
        "- Use when the data follow Normal Distribution\r\n",
        "- However, this does not have to be necessarily true. Also, unlike normalization,\r\n",
        "standardization does not have a bounding range. So, even if you have outliers in your data,\r\n",
        "they will not be affected by standardization."
      ]
    },
    {
      "cell_type": "markdown",
      "metadata": {
        "id": "kWYvupKU7mbb"
      },
      "source": [
        "![33.PNG](data:image/png;base64,iVBORw0KGgoAAAANSUhEUgAAAk4AAACYCAYAAAASoWbuAAAAAXNSR0IArs4c6QAAAARnQU1BAACxjwv8YQUAAAAJcEhZcwAADsMAAA7DAcdvqGQAAFhASURBVHhe7d35uy1FdT5wBwSHB+cBUBFRgorKICACoihqogTFAQcEJ1BQQbiKOOI8YjQGiYoaNRpNHNE4hKhxyGjMPOev2d/nU3neS9nf2ueefe4+wz53/fA+3V1dtWro6lpvr1pVfZv//M//nBUKhUKhUCgU9o0iToVCoVAoFArrRBGnQqFQKBQKhXWiiFOhUCgUCoXCOlHEqVAoFAqFQmGdKOJUKBQKhUKhsE4UcSoUCoVCoVBYJ4o4FQqFIf7jP/5j9q//+q+FQqFwQODf/u3fhmPhFEWcCoXCEP/wD/8w+4M/+IPZjTfeWCgUCrsan/zkJ2ff+MY3Zv/0T/80HA97FHEqFApD/Nmf/dnszDPPnJ1zzjmzF7zgBYUN4vnPf35Dfz697uMXCoWtxQUXXNDGuYsvvnh2yy23DMfDHkWcCoXCEH/6p386O/vss2dvfetb23lhMXznO9/Zi5tvvrlhev7tb3979t3vfrdhJKNQKGw+vvWtb82uueaa2Yte9KLZ97///eF42KOIU6FQGMKA8lu/9Vttuu5///d/Cwvgv//7v1sb/td//VdDf+084fzIcv0///M/Q1mFQmFz8e///u+zj3/840WcCoXC/qGI08YRohRSFIKU6/7oXhGnQmH7UMSpUCgsBUWcNg4kCBmySscxJKknTNo41yFWI1mFQmFzUcSpUCgsBUWcNg4rEl/zmtfMnvWsZ81e+MIXzr7yla+05c7CP/rRj86e/exnz575zGfOXv3qV89++ctf7iVTI1mFQmFzUcSpUCgsBbuJOLEAAXKScxjFXQbItqz55S9/+eye97zn7GUve9nsH//xH1u7Ik9W8bz97W+f/c3f/M3eMo3kFAqFzUcRp0KhsBTsBuKEkCAmmQpTr1h3Nps4/fSnP20rEn/zN3+zrU7UnvJFnF75ylfO/vIv/3Jv+Ta7PIVCYT6KOBUKhaVgNxCnkBIDozo5boUzNtlf//rXZ+9617tmv/u7vzs75ZRTZu9///vbdJ2B+brrrpv93d/93V7i5FjEqVDYHhRxKhQKS8FuJE7BZhMn8j/3uc/Nrr/++tmPfvSj2fnnnz977nOf2zYV/cxnPjO74YYbZv/yL/+yt3xFnAqF7UMRp0KhsBTslqk6JEZ9DI78jGCziZM83vnOd7ZfOLAyffCDH5w97nGPm33gAx9olqcvfelLrUwhTiFPI1mFQmFzUcSpUCgsBbuBOCFIv/rVr5q/kV263/GOd7SpM47bm0lUOH3zY8qKOXnzdTr33HNne/bsabuGC0eYciziVChsD4o4FQqFpWA3EKdf/OIXs9/5nd+Zve51r5v99m//9uywww5rhAaZWgZRIaO3GgWm5C6//PK9Tun8ma688srZMcccM3vFK17RiJxw7RziBKM8VhnaZ9pGafc+fF680bGHsGmea4GC5JTPQb9P7ziS1eeZOAmbXk/jTePAVP6+QIa9wPTj9NmRHGHJbxoe9Pf7sIT3xz486POBPp8pkkY8U9I/+clPWj16WVMkv1wnfdIk332hjz9NOz0PijgVCoWlYDcQp7/6q7+a3XTTTc3KZEuA293udo24/P3f/30bMEdpFgEZ2ioO5yFKVtO9+93vbtfum6771Kc+NXvsYx87u+yyyxqREs+9fiAf5bHKUK+eGDrv6zwNc574acuE98cgcUZ5j/C3f/u3s0984hPNAiht2txx1P7Cko+8KVjHvg6jMk3DYNHnKw05rJe/93u/18o8T07Kmfs5nwdx+jL2adRtVD9x5sUTPiqPtD/4wQ/a+4D8JW0fN0j85NOXzzkkz9zzXiU8cZImyPOY3suzlFcRp0KhsBTslqk6X7pghdttbnOb2SWXXLI0i1MGYPIdKbcLL7xw9oAHPGD2qEc9qpElcZTjz//8z2dvfOMbmxL853/+518bxGEZ5dlpUKfUb6q8+r6W+7nOM+vTCqcEo/AS7jjKewTWJv3gD//wD/cSp+Qxav/c78sYRCGzqDgHijxxp3V3nMpfC0n7s5/9rK3C/PKXv9yu55Wzz2+EtJ/zxO3roeyJlzQ9pBnVLdfT8ggn1+avNoG1SCLx+7h9GvKDpHfumTumrO7lnUsdIhtcu5frpJki4eIWcSoUCvuN3UCcDMZggHzPe94zO+iggxpxysaTozSLIAoioHxMA7Eo8W+K8jcwuxfndGHK1Kd3Pspj1ZG6po7aAXHUJn/913/diIHnIVyb/fznP2/tJ41+SAmmnXLtXpTmIu0W4sQ5P8o2ZRvF7/OVn+fJimmqlfXKs3ZUB1ZM98kjWxppg0Wfb9Kx1KyHOCV+4vTnPabxgrRD4uS6j5vzPIM+zag87v/xH//x7MUvfvHsxz/+8d70fdygzy9tp831Ff1Eu2tv/UR/cc1XMeWQppehDCnH9FlPn418ijgVCoX9xm4gThkY1QdxYnGym7cBeDrYbxQGYwNvPxDLL0fI4B70cYNllWcnoVegjmkP5NHzeM5znjM755xz2u9nrr322vZsTj755Nnpp5++dzot6bQxpTltv0XaLcTpi1/84q9ZtObJSfmVg/JGYGwt8bSnPa2V/Q1veMPs4osvnp166qmzJz/5ybObb755b/kcQ6ASNpW/L0gf4oTszZOjnD3ECchIO0JfvoRN7/VQ/l7GNH3ynJYn6RexOCVdnrdpviuuuKKNQ1alIjbvfe97m7/iwx72sPbrIs9UfOmUSTldB315yYTED4QVcSoUCvuN3WJxMjCqj60Abn/72zflvBnO4QbmIHlmEM91whIHImMZ5dlpSN36+pra+tCHPjR76Utf2pTpLbfc0lYcPvzhD2++MJzqH/jAB7b9rmLBodiQXRapqQJfpN164kRO//xGcnKf1cP2EvzTWJco16c85Smz4447bva+972v9SmK/JOf/ORecqes4iI+LCPkTOWvBXmTI73f8yBOa5Uz6Ouj/VjCtHn6YeKQLSxxelKao/vOpWflETdyct+RzGl5EofFCXHiIJ6wPu40jfzA80YYPS/taNr7hBNOmJ155pmtnZ/3vOfNjj766Nl3v/vdveVQDytWWeccQ5TUzYINxFZ81irhyauIU6FQWArmEScD3Ah9nJ2CDMTq40v1tre9bXMSj3P4CCM54B55lC9/JUrfkeIH57l2/OEPf9i+mHM9jZc4/TWZFJTy7qs8qwDl1/7aLc9C2/sBsrYQpo38kuYJT3hCs04gTy94wQuagkNuTIX90R/9UdsLi38YJah98lxHbSQc4dCePf7kT/5kdtVVV7WNSSnIadsjSHnOaX/npub4pykr8sAaprwIH2Vs1eZFF13UZCoXRW9BggUC0lH6iEDk9vIDdTVNqSymtVIubfLa17529pGPfOTXygrOKf3I7KEN7CMWv7ppHPfVRdtec801jUzmXp6ZONrbPe32+c9/voX19x3JFu8v/uIv9pYrQEhYiBC/9H/1E087SdfnG/nuvf71r29HYTaNtSrVj7Glf9WrXjV7yUtesvd9kYZM7zly9YxnPKM9J/dM/Wo/U4baUrsgg6lHEadCobAU9MQpg3uPDJgZ9AJhU0W2XUiZKCVTQ4gTSwdlnEEzZc75WnIMsPaCMihTBvZlsiM4v6nAdgf9dY9LL7203Tfgm2YgI3LAlBVFR1mkfKPyrAr6dlUf7UdhUU7O9TMK9cQTT2xWCc+FIkRUxJOOpeBNb3rT7OlPf3prQwSErGDU30wFIgtIWA8ER582vUamsLe85S2zt73tbe25IrIpb19uFkrKmpIHRMhvdChvU3gIT08CWErIR9SQEnl+4Qtf2GstG0HdKe+U9c1vfnM7IizqrszKConjHEGcylJm7bdnz57Zve9979kTn/jEYd7qhYiIo08mPG3r+bCcaXdxLHzIc0ucpEGaWBJZx9Q95ST3pJNOalNuwtRLHLBVSN/Xe5kItmfvWl3IYon87Gc/29pZOu2eNhePZQ+5e+pTnzq7//3v3/LLM/vWt77VnsXv//7vN9nqkbycF3EqFAr7jfUQpxHcmyqy7ULKpD527EacKAHKQFhf7mCeHPENsAZ7+0Hd6U53aqBATQP6IgYK25L3G2+8cQj3WCNMQVCKF1xwQfOROeKII2Z3u9vd2nSELRSiEEblWRWkn2g7SiptztLhWh09l0c+8pHNX4iC1MbCE5+SY33y3CCWm2DU38igABGXHggP8orYsLSYRgL3vvrVrzbSFmXaQzkQD0DKKP3jjz++lV15hCuzo7gsUSwbyJBpo8c//vGNxEytTpEtT9Yu9VQOYGlKmdVbfxGesiq3OmifyCIn5dcG+hpijsiEOOW+o/bWX5F4VrjcC1wr14c//OH2saDvk0P2NC6rDkuO8il7yqjc2sO74Tp1ANNp/btINrkgD3kLR5IQMO9GrHpp85SFDFBGVidTqWeddVazcIkrnbq6TtmFexZkFHEqFAr7DcTJgIc4GWT6wT7IIJf7wVSRbRf6ciI3nMMpzvjKqGfiBPPkGFyBguCHc+ihh7Z9oR784Ae3L21KkbwM4iM5fRvKn2KgFCgRCoaCPfLII5svTaYgRnJWBalv+oijdlJf0yiIBQscixOCgFCx4PhBMmtI2l1bsIwgEFmVGHmj/pZ+OAXrjHZm/SE3cpJPf90DOaH0TcuZqqXEEWbWMunIRRZCovQHShox+eY3v9ksPoiUOvVtMT2m/yRf0D/iHJ54KavzPn3SBNqKb5E+mzh9fGClMcUVUhdoL/fVxz0Wt9QvaaFP455jH444slTJY5quP1f3gBxl1k/UX3/gfM8iy8okjedAdkg26D8IqufkGdzvfvebffSjH2111H6ZMk2e8lFP7VnEqVAo7DdGxAmc98ggFIgzVWTbBeVJfShMRIePE+LUlzvn88reyzHI+mo1HXDIIYfMDj744OZTQRkbxBN3JAeSX/KMXIO7r3FKxtSMqYW15KwC0l/6tuYvgyhRhJTUk570pLaKjvVB+/k5MqKAQIlPuU2JUxQ0jJ7ZqJ9CiJN9nDzHvlxk9nJ7fPrTn27WDorbe6G8LBosRMiR+6aFECPPjHL2PBHjj33sY404sTZS7Mo2zUdY+kEfroyIQpzDlXda7pxPjxB5IRcJ7+8LT7x5cRyVUd4pu7jBtNx9OEKJkCBOfbw+jmNkOwpjOTLFp135J3G+5xunjdWHtY8PmXZOm5jiNaXnyJ/KhwiLG/LFodxYNiqD9EWcCoXCfqOfqjO4ZKDJoNMjaZyPFNl2waDqa5XS4kOEOFF6/J0oz6mvkzqM5OR+rzikP/bYY9v0H+uTVT4IFeXo/kgOTJW6PJXBkUIwcFulRVm4HslYFaSuqZ9zlgAbhPIPQgg4/J5xxhnNN8XUE8sMIqLu4iMmntPI4gSj/jZt42BKnBKe8o3Suae/3Pe+923+OVdffXVT4ggfiwfCzIqJ2ERmjt4hz1I65C99p887SD+YhiFO/K/Inxcv4Y65lzo5yrd/Fkkzra97fXrlzLV2TbmT1xSj9mM1QkhYrFz3efQQ5plHtjazNQUHcY73Rx11VLP0IUH60POf//y9zt+ppzayiMCHEVlkeEdZnVgATSWO8lWvIk6FQmG/YdBnFfAFhzyxBHDMpCgMhpScawrP0aDlS0/aqSLbLlA6lpFT0gZF/kSckP12hRO2r9JeOcBIDoUgTuIhR6wJfEfuete7NkJ2+OGHt7wyFSDNFBmoHfuwHsqjjX1R+7oelWeVoE76hHqrmz5C6fER8lxYAlgBWe2e9axnNb8cbSgd5Scd0mF6FEHJvb5dp3n293pMtyPIswimaROOENu3iS8a8uZ94KxtbyF1ca1ceXfI5iytP7CKWP4+zQtGYUFIlvZCnJA98ZMH9OWcynJfWOoZQh/06ebJWAuJO5LTwxSnVZIhTlOknLl2DkgRq659vlidTLXbP8tvizwD99M/khZBQrqRbXJZMe3g76MJ+TUeJG6gzEWcCoXCUoA4+ar2pZ/9VFgIDGD2rvHVZ0AXTkEwrRt0DNRTRbZdMDAqj4FxiigmA2ePkZxpnIAFAxHjJI48+brN/kNpxyiuDPBJu5Zs8aR1VFbHPm3uJ06vPKbXOe/rs5Xo6xVoE0ovzyDXU0UI2tK0HZJFYfI36uOQt548gRz9ljLviYR2dH9eWnE8h77MuY6cPj7/HO+Dd4WFhKXDlF3v4wTO+3Q93JcXsud9M42bdImzVl0XwTw5o/D15JlyAouv54YApuzrlaFttXH6ea7zTvT9H7lmbfJBl/vaj7WKhdMYJmyaj7KIX8SpUCjsNxCn3sfJIBSl0UPcHKMIDEYHAtSV9c1XMH8n03a+klko0h6OBmZtt2j7iKtt0+7SQ9/2Cct54vXxpR/J32lIfdUFnLPkaGPTNBQbSwMClP64SHuyRFCMLA+UcPKAUfyNQHl8SPCB4pPDYmsLDCTK1LG8Us+cj+S4p3zqz3KizHmuo/g7CeqUOppm/drXvrbXUris8pOT/o2ocvz2kWe7AXkJ134sdaeddloLH8mBIk6FQmEp6H2cDFIJ7weshGeQcj1PEexGqCufGxYB1ib/wkOgWEeyzNqgvNH2ifJJWyMKae8ewnPufh8n1yP5Ow2pr/qE2NjLR/vag8eKKZYcFpxYHhZtT22S5+AYjOJvBOQjSqaYTHU7WspvOlt5p3nPK3/ua4Oe5C1S3+3CtG1T9mCUZlFErn6AWJp6t8ElvybEOn2fhZJVnHP6SA4UcSoUCktBb3EyCEU5u2fQyjnk3HEVBvZlQV3V2ZJvG/xxIGZ1sgyaso/fS99ui7RPFJD0QchT5CYsimT6nIKR/J2G1FcdAtYEFjxTPcBXxvQVMuH+RtuzbxtYRM5a0O52GLckHrxHlHG/klNefRlGcnKvf5bOl1XOzUTaOWVOXZdZfvIQHv1A29q8VDsj2llAID9xWL30lZEc2BTiJEMmzkJhWfCVoF+N+lthZyDEiVO4a19xzN1WufBtMsBQDKYiXFs+bxAbDYzCNoKpnJ0GZdQ2+rT6c17l7+SfeJavc5zXJgZw/X1RxSGuNAFlQA5/Dptk+rrW/pbFex78OPws13SWeMkTRvLnIe2/KEayFgEZUXjaNfWNpUaYe6mXsEXyFTfpkk/Ol1F+iExlzTOAlH2U90hOH2+j9d0u5DmmDTy/tMGyyk9+ZE7b1nWOaT8YyYFNIU6cHW1SVigsC5QvpTvqb4WdgZ44IU2Wx1PSdgC2xNquvByjrSzj12NlFEfY0cAoDFlmKWA9YDYH5/PgvpVJ0kXGCAbIUfhmYFoveSNGYJUdMvPoRz+6Eac73OEObT+m6UAszVTOPMhTfKAApEeaTFf5TQi/Du+T1V5WnO3Zs6c59AvjE0NZ9Ap3PWAlY9UZPZMRxFUmZRvVAchNGdYqS+oapL1Sh7RBH2ckZy30aXuM4m4U5CkrRGmn7H1d9pV37kvX13sUd6dBOUd1hlH8RZG2GKFvq+S5Vr7eX7v5L5U4cXDjXMXxqlDYX1i+S+lahjzqb4XtAYVp6bT9TpBaq2EQJ8/J8m3WDIOKeBxd73jHO86uvPLK9mFljxX/bKNEDURTxWkAQ6pYpvghgNUuOR/BIIYMUM5kGvimg6HzWCP6gXCjICeKLvkk3HFaL2GJD6YIOAb7dYopu3vc4x6tzyMW7mtnsqZy5iF5B0ikrQr4c7AykWfAtwknMutZWeav7UxrpZ3y2xLp024juOdZc8S2EefouYB7np+jfH2t6xdrlV9Zyc9RmPs9EneEefenMhbFsuT06Mu3FkZpe4zSwCjuTsOozP35/mIkd4rc69ONkI1Kl0qcfL34ismXVaGwP7Cs1r+R7Ncy6m+FrYepJqTn/PPPb6TWiiB/f3e0xNdGf5b5Uo7IAednP/1EmliFWKJMS5FjIJoqUIMX4mBVkSXZEFnCpjCQJV4/TRNQvFG+5Fo5w6doGUAeLVcfEbJpvRKeMomvXuedd17bnoDlCam0vwzSEnlTOfMgrjQhHN4fPmdAnvuIC98q5MUzVH67Naf8oF4clfPrjR7k5lw+nqF2n/dscs8zUlekLHUblZ9Mz0jZKCf76fiX2LTdC4XtgH2f7LO1KcTJSzd9KQqFjcCKGJvJFXHaelBy3/ve99qUkpUmNhVEls4+++z2awIfSKzLflXAmmBVndVAlCTlSAbrifh+m2E6j4KmHB3dHxGDKNAgihoRyPkU5EX5Jx35lLAw58LIYNXxo9hlwIZ59qtS55RlWp8g9erLqHx8jMhidbrnPe/ZpqZTl1H7zIO4KQO55IfAONcGLExHH310G/ATF1IeQAT5p6lTwsRJGzpCwvJMe3lB4ilP4Hrec3dP3zHla4XZcccd1zBt90JhO2BTXI7lRZwKOxpFnPYflBXlRiHFCmDlCF8kU2KmZViAWDpYgxAkA4R29z7zjzElx/rHl4gMMu3Qa5rGjtq9jxNywhLhaJA57LDDmiz5ShdiFSU6feZRnr7sTCFZhQbKuhbEkS5KvCdSOWoPvlPxm9pfWJWjnOTKI5hHDJShJxnOtQcLkNV1/lNmufRaBGMeQjySlmzPQJson+f0wAc+sFkHE+aYNnPNKoTsajvPUJhzMsXJMeVnldIOo+cBLIz9talU/U7aeeUH5fA8e/+oadsXClsNfVjfXLqPUxGnwjJRxGn9oNQoO5YiyonSotgpYpsCmrJBgJicrbCyJN7UDb9EPkkGA79CMRhQiBTmKJ/AACJP5yFOnpO8HJEeU3d+M3LVVVe1uEiXaTzTeZT6iBhQnAYovjmmsfxaww9Tna8F/3+jbKN8ewWfayTBuXz3F5EJ2qDPy/1pvYSJmzZLOkTOM2DB83d8YQFZUznzkDJFvrraTJBzuCXvnvt97nOfRozFc5+PUn44LI5ft/jFjKmylC91TN2Sh+fHGqntWSCnz2MKz9Az0if0nVH5p3nl3L1CYbuhL/rQ8ZFZxKmwY1HE6f8HQsN64xcerAimevipsPZoJy815cR/hbUIAQH+Ila5IUesTMiJQWCUx6IIcTKl519TfrjJikJZHnHEES1cmZVVWfg7SWcwmj7zDFBRnCBuwuZhGi9Kd5S+Hwyn6OP0aUbhU7nJU5xpvXJfmqRDUK1uY2nqf1brvrhTGUHK2p9D0oKVcp6FVXSmFjhqI7EIFL8j75ZpQUQW2eYsrgy/8Ru/0QhR6pJy53yKte5B7ofQOU/Zp3Av5e/l9nUsjNG31bx2S/g0Xq4La0Of9I76GCniVNixOFCJU6wzrBEsASwHLEbISP7/NoIXmvKjDFmaWJ0oRdaBUT7LQogTi8Vll13WHMVZmVgv+Kpccsklreym95TRJnQZrKfPXNi8gXwat8dUnvNejvMeCZsq6IRFpvPUM3H7NLnuw8hJOXr0cU2JIbcsTYiNAVkeieM4kpEy6iOOPSKbHFOIxmPyX/va1zbfLj/H5azvGbAyyhd5M3WLTHt+fIpYC6dycy7/lCHXo3LCovETrz8Go/iF/0Paq39OUyROf53+0oeN5Bf+D9rHWFoWp8KOxm4nTl5CiosPh7ryNUIwrCTidGxJPuVKobEi2R+JsmMRMN3FghO/EdajfNVvNUKcOBXzhWLd8oNU5VMnFidlt5eQsmaw3o6BWr5RGGB6U/lZXExl6mvqEEWjftrW8/FsxAEEldWOBTCy9qWAcp/Fx+BrrNROyK3wkKHIGskg2/2Q4chMOuVxjoiZNkWo5ZHpWs9GmHPEXHxA5Pz+wwIA9U14njGZ2/G8CvuG56LvIMuZkmdddm58SX/yHE1nGz/cNz2v38evrp7vvuGdMA4UcVondKr1YBR3GrYveclzfzCSu1GM5G8FdgtxYj3yFW/HaFNq2SDS3kYsM3yOkIsPf/jDbUATx/Sb+F5Ogx3CQeH2ymynIMTJFByFbbA2NaesuQYKOcpduu3oW/KMEnH0bBA6pOH000+fHXPMMc1ipq3FUV7nN954Y+uLVtKx4rzhDW9oz0ZdyIlyglG9kq82oLj4BbHAsb5RWtDLgKkMEJ52Tx1A+pRFXu7xJdLujghi/yxi4ZIGkFwrINWTYmCBSrlA3O14XoV9w3NBpPk0mgr3v7tHPOIR7YfSyJN76TeeK+vj4x73uHY/e3p5xvV89w3vShGnBZCOl8EtA+H0XFzXPYRJJ33iOEbW9Jg89wfJmzwvRZ9HypH69HEh58ssz0awSsTJ4OSrPavUrr/++jaIGZjsmm2KxLWvfcqJxUhcFiOWC1+LFBolTalFWa0CeuIUS0jf3/q6pI+BfjZ67puJvp+DMrH4UDAc0a1usy2A56Tc4jh6NqxENu+07QIfM88pMlK3vEujfA26fMz0aYSZjGmbpN0iayRHnKTTX/IH/16GvBJH+UF40uba0bX+aPdyljTO6uTmHog7Kk9h+5Hnrg9YyapvPfShD20+bRQ84uz5ieNDwdS/cQlxN/7090fyC7eiiNMC0KHUL53LAALOg/5+jsJynTBI2mm8YFSGRTEtHxgMfZUgJLFoMOGDl8ku0AbzDJpJN5K/FdhpxEmbGHgMNhQgy5E/sVuWbx8jq4f487AgUbKUkbgUs8FJ2nz5G+TI65XTqiLECaGY9nVwHUXuqM7CtkMR9+9eyqk8SB8LIGLkH3LGMc8t8Tw3vkEsTd4RaXpy0mNUL+HaSX/mqN1bq0ZI2aZy+vIrk2kZZeKnJDz9Sf9K+SIrRC/XiQ8shOrntzjq3afLcTueV2HfyPPxzIw3xiS6mPXUb32Mo55x4tmf7eqrr24fePnQEQ4j+YVb4Z0q4rRO6FA6XQattaAd0knTUSHnjhq/lyWNo7BlDU55JpHvBeEsbHD0RcJc6+V53ete15amg0HTzsq+rlPe7Rwst4s4eT6sR4glMzZ/I4To3HPPbdMZ/EC0H38RZMFARPGMZB0ICHEyxZiwnhT0fb/HdvSt/r1zrhwILT8yv0Bhebr73e/e9jxynrj6g37AOd+zTvgIo3pJb3zUn20yGT+iaVrl0X7z2keY8QUJ8n7oi6Z4vd/SREbOU8fIdJS+zy9xwX3HPk4wKk9h+5Hn49n5/ZEPAH3XeKUvI1IhSI62oTDe821Kf9AH6vnuG0WcFoAOlc6ZwScDScIDnTD3YTowZdCTNun7OMvqvH05nHthOINSblmZRVk4B+eml1ieWJyUJ2Ucyd8KLIM4qbvOrs3Vy9e0r3NTY6bI+HYgP5QP4uifZ/L0nzxTFpSpqTUDkvi+8kf5HMgIcQrR0Gf6/pxjfz563lsB+ffvo77huWbFn76hLn6BYnqVpVA8G+CZatUXEK2kn9Yv14H+p89JSy6l5V10T9v1cYO+fFNIo0z2X6IY7dzOYiwf91PPvlxJOw2b3kv79PeDPk5hZyHPxxinf+7Zs6dZnljETT1bTWkKTxx9Rz+/9tprm+VUWFDPd98o4rQA0jHBAJVBCgxy/UDX39cmGtpAmTBxhUdm0ua4rM5LVuT25QuURzn6ay+esqaMuTeSvxVYhDgpv694zrYIIodqg4XpR6ukkCMr0liJKDEWI3/pZ3HjmC0Py/hNZcaxeZRP4f8H4mSqEnEaPcedBO8X9O+E8tvTKKTG9Bf/kBNOOKFZHdVRX6SQQlKknyc/98lG1q2StC1DiJl+ioDnKI4jQpawTOu6Dsln2TS9gtAfe+yxzZpg2s+97XxPC9sPz9/Y5wPYalz9zD5vnMD1ZR/HxjR9yX3jIBIVPRSMZBduRRGnBZDONSUgrqNgDZY6IqbPauOo8wJlbNCLxSLy0m69bPdGZVgU5EHycE4pWJ2lLHYpVh5lNo2gE3BWNk2nTv3gP5K/FRgRJ+TOAKHsiBHFxpeIj4oVaZSTQQIZsnINSWJJMqBYLo8cqasBhKzILWwcq0ac9OlAX1furJJTH++IlUmHHnpo6zveCX3QlAfLU9KO5Av33nh/ECL90aaSJ510UiM8ZMgrR/3TuaM+y8LZhzki+FbhWdHHcf2QQw5p/7Y78sgj2zYVsYCNylM4MKDfcsVgSUL8jW1It01w73KXuzTLpDGPXvKRYBGAPpq+HIxkF25FEacF0BOddLDUOec6rQHYvju+THVgg5qBE8O3MaCBkZKJjHkYlWFRkKNcyJKH7UXyoD100xL8nAzMzLnKyKGZFYZTs7p46chYFpFbBPJUXu3J4VpbxmKEAJlmnEK4siNQfEhCVBHDkNvC5mAViZMjgoPcmKJGsjN14Z2x99G97nWv9m83Vkv9y7vtQ2itDwrhIU4snSxNdk/3zz7TJo457yHOQx7ykPYTXufC7nvf+zbk+vDDD9+L+9///q3NTTXr3/IcladwYEB/009Z0H1Iph+ykPpBLfLEX1OfFMcHpzg9tmOsXzUUcVoAGWx1zv5cnXVOgylrBzLC2oGMMKEbdP32wFfjGWec0QY6e8aMmD6sNSAvisgD5fSl4WvWVy4C4kvE7xjMf/ui5dtjHxvOpqwym02cyFUu/h++4lnAKF5fS6Y2kE0OjPbU0a8oMgTPfSTKAMC50X+1WMxY8vJMCluLVbY46TtIE2KEZOcdRLztc8OqwyncR4a+l6lscUbyhYeo66Pe/d56FMTq5COLBcB9YbFC5TwfYdN4jqxgWcih74/KU9j9SJ8zjUsHscSnn9NNdNHBBx/crPeUvkVB093hYbPG+t2EHU2cPMAe/UPtw6fpNgspg0bLeQZPAylWz4rDosS/BklhvUFMHO3QetZZZ7V/Uhl8k1ab9bLAACgfFpd9IfGUQdq+XcgEefiqRuwuvvji9tXBEmM60RTCYx7zmKY4wJeJKQpbFZAbgjdtj0WgPEhYvwGkL3wWLl8+FEIUF0KHWFrZp3yuTVEgTRScKYkiRzsPq0ScIO8w8AOhbPQ771PeRf3feGZqzHtsVaX3Iu/VvPdCODn6qfcOsQHTyyPkng+IHn0cyi9ywDUgevJJmUblKex+6HM+HH1YmlrWN4SB9xPBfsADHtAslxdddFH7KBU/cdKfozsK8+Hd3tHEKQ/SETEwQLiXh72VDznl0GiO/eAJBl2dFmFSTuTJ/6FYc5AEU1+sKM4TJ2nTds7J59TMt8fXKpMr648B23muObEKE8+1qSkvS8qnzJEvL6TFy4O0xc+KWRdxsm+NvMjiMEj59S9e5O0L4iE3rEDIkWlKX9R2ZEbY+HcgSNrAzsnIJt8vZTP3TkFQNBQWWdp85ONU2HlYJeKkb3knlNvRe+RdHU1deLfshXO3u92t9WPWzf69H8nXb8nu4/UQnvt5XzO+OOa8j9/LSvo+D+eOo/IUdg/SP/r+EBizWSbNdujXfRwE24pOVqcTTzyx+TcJ7/taZI/yLdyKlSBOoBMoLPIUAiUv90ZpNwN9eQIdU1mc27k3u/cCIsIZ76lPfWojOYgKMqVzuy9NOqrz1Ic85MbPUS+88MI2zecBgd2nA9fuOxfHF7OB3wsSOSkbsPggNb5WERNftJQcpcD3ikJAWhAYMpSxJzCjNgkQIWVRVySHhc2UIEdsS/i1C0sReXl+ean3JbuI02pg1YiT8UQ/1CdtQ2HbAR8s7umbebetrvSO8S8yPdbv3zSv7+adHkF+/Ki8f8YE74P2kybycp40eVccldt7DNIpo2PiTstS2D1In8j4mf6Q529hjyk503V9eOIhS1Zh0ksUfvpZj1G+hV+HttzRPk4epAdPbjpKzoXDKN1mIeXRcZN/yuNoEAQDok6K2ftK5SuRQRI0fNIHfZ28ACxYCJQpPkfwsFw7JowzNEsXh2iWpJCdtJdzZZOne6D8yIwpMk6qFIKBWBzlTJ1SzlFb9GA1onTEH93fHxRxWg2sGnHyHrB4soDGz49F2LRd/37r0943K+JMdSfc+zFP0UQJJV7SgP5sTPC+kp13LGmm6N9hH0amrE21sObmXQ/EGZWnsDugP/TPGvTVH/zgB82lwb5zRx11VPsQ1rfjoxq4tr3G8573vPYhO8qjsG9kTNjRxAnIZQVBDCh4nSX3Ruk2AzpeBrF+YBUGli9THgZeVh3m0tNOO60NzJka4wCNRPnijKwcg77OIToelDyRroT150B+yjKVS5b7yuFBOyoHZcHi5Itb+7I4cSp0z3kvY9QmW4EiTquBVSJO3i/vD2XDbwn8Mse0sulr75M+n/fc+yquKfbUN/dH8vPO9BDX+2TK3kdVpuv7d2wE98EYwHLNsswnkY+KMPd6OaPyFHYH9Nu+T+iH+qoxkpXfLIW+fPnll7ePamO6OOkb+gkXChtkVl/ZOFaCOHnoBjkFNFjoEHxhPPitfPjKoeOF2PQdGClh+fElaaUaixGfCcSJNQipYprnOG45cxo7MlKPyI78tKnzPr+kcW86+Apz3adzbgrOw+Y4aEWaF8jXyTOf+cz2deIFZDVSXkpC/AzMZEzbY6tQxGk1sGrESZ+mWDJ97egd1efVJ++Q90uY96O/l3drnvzkAWkj+fHn6xVakLg9hMtfXNfKYOsB2xtcd911ewnevspT2B2Y6oX0Hf2gX0zAHUQfy/gNSUOX1p5f+wftuuOJk0LyK2AmtzSYmZqCz4AySrcZyMDUD1KBjkq5cyD1HzM+P5bQH3/88c38j0ghfH6PgLjwdZrKyEvRD7g9hE+hDbwI2iHlytF9R3G8WL6kL7jggrbdQJYzszYJ43DOUqaMljubI/ciSht5ozbZChRxWg2sInHSt/Xx9PO+PglL/x+BnHnykweQR6H5YPH+e88oL1MnrFkswPPgPiVIjrJ4j/kS+ggzNiaPYFSewu5A36dGSH/V3+iFEKf+vvBcj/Io7Bs7mjilkxjADCBM1HyG7D/BgpMOMUq7GUjH68kEqLOBTfmQkmc/+9mNmNgXySoGplODJcLHGqWhM+CRFTnBvJcjg3EgLG3ex5uWzTWYJlTGpz/96W2/JqZdTq+W+iNRnLmtyNAhtDeylfqSNWqTrUARp9XAKhKnoL/u3x/n07iQdxBG8hOvl2WPMv6JLNHePxZdH1DaC5HyYTiFcGSLP2JksTj5KGN975VgMCpPYXeg73eedX/dY9onevTxRnkU9o0dT5yiuBXOyjFExEDiSy0DySjtZkBe/UAIyqYRDWAGNBtfIkeUvD2IzCUjJDbPM5XHiS8Oe2SFQOU655DOPb3uw9Pm07S515M85M6WBdllWzsiJXyx7D8lzCDO9wJpkr6XN2qTrUARp9XAKhGnzUbembx7jhZQsOyy8JpmMw7wI/S+GRf4Fo7AEtxP7dnq42lPe1obVzJ+9O//qDyFQmF52FTiNFL0OZ8WpI/Xw4CAlBhwWEZ8qRlohMmrlxmM5PZh60XSJo8MTDnvSQmiYSA0veXrMCvUDIy+Kllw+FEISzuNZENk9mWYIvem6foBNEh+zk0PKE+2HFBuUwi2IlBG5RUWKxP05dkOFHFaDRRxuhXTdxOMDzaeNY5lc1nvHF/DeRYnyGpZbexdRJxM1SFO+cDp3/tReQqFwvKwpcTJy+2+82lBhOXFT7ycG3AswfUbEMc4tolDwfdpoZc7ClsvIlc+/cCUMMfECdnoy+J8WrYeo7zWuh/04bk3TRv098Ttw/t70zbviWkwzXerUMRpNVDE6Vbk3XLUNo4+SkyVm7JHnPgq8V+yxUA2s53C5pv6fzaj9W6ybBtfM1XXv7vGoFF5CoXC8rCpxCkK18ssPC9+kJfeMRaO6TXwZ+IIybfJIKLQVrEhK+InXo+UJfdHle+RgU6aWIV6ecE0v3n5rzK0PagbpC1G7bYVKOK0GijidCv6jxLjlCMrr53z7Z1m5SqfJ++ZD8P+fZvCPWMSOabujIUWybz85S9vm8vGcRzEH5WnUCgsD1tOnBxl6gV37tgTpcjoyZF9TwwS/AJMM7kvvnSQAQOSZy9rGr4v9PGdk9Ffp/Fc557r/itzVZB6BeqXZ5HrtEfqvdUo4rQaKOJ0K0bvlveKy4EPQP6Pxi7tlvFx+m5Cxp+8l1/60pfaL5FYmxAom+RyDejzGZWnUCgsD5tKnKJwIecZCGRsSwH7B3FSZpLmZ2PlFwdmpmumbF9j/IU4Xfvpa77OAnKSxwjyEk++ayGyct2nT3gvN+jDp2lXEcqvzv15BvFRB9oKFHFaDRRx+nXknQoBynXerf6o/UYyQHrjk3jTcIjMnPdxCoXC8rGpxMl5P0CAl5sVyc7U/g1lmf4VV1zR5v0tj7cc3tH/dhytRGF5yp4nZPYkJ4NGj+QlHQsVQuarbC1wvgSb00H/P7lepvO+Xj36OKuIafm1s7rmetSBtgJFnFYDRZwKhcKBgE0lTpSta8q4JzuIjOXvp5xySltNYlWJjSFtHukXIAiTbQeOPvrotu9JP4fff2FNw8iWX8I5XrJmvf/9729bAayF/A+O74EG8YPe7BWloVK3yO7zkv8qI3VIHROmjo6jr92tRBGn1QDi9KQnPantjO+Dp1AoFHYjjHWMPptGnGK1oISBtclUnG0FfJlymDRl5x87fv/hSEHaNNJeJeKyHJERBe84QvIIWJv4BCBDiNG+gDA5+qO/KUTpQxp6pAwhg3Y1j8UKWVslxNqmro6ehXDXjsJssaC+I1KzFSjitBrguOzDx1J5FuRCoVDYjUCYcBz/t+z/XzkPG7Y4hWwgQfYh8Wdv+wexJtn8zV+d/dfNP9IwOqTK5pGmzBAUIIeMKabh8hRfXtIjAKxH+wJfqhyVCymK/NSjz0se9mbin+Urm7OmTST9YmVVwNEUWOUcUwc+Za7Vi6+ZacsRqdkKFHFaDXiffaSM+lmhUCjsJtCTZstwhdF42GNh4hRQgCEbcfgWlwWKI7ivVBvDsfTY70RhUqCeNIXERG5PZoT3xMY5hS8Px0UgTzIQvl5m5DoiVqYdkQ57TJ133nlNwfvlyqoh5VYP5+B5+AGwP7l7ZlNCs1Uo4rQa8M541/gjFgqFwm6H8W40Fk6xEHEKwUA++ik25+JRxqxCfIvOOuus5hDO+hTiEsIzJS6R4eheSE6uc196WxmYj5zOUU5hntKPeB2VwRSW9OSQr7zJ0xHkJY7pRjKkAzJWCcrc/+IhyD1WOPUfkZqtQBGnQqFQKKwqNmRxQjJyDxFipWHisrLOCrY3v/nNs8c85jFtfxP+QogKpc3sz/w/ZXU9eUkekHvAGmRK8K1vfevswgsvbPtArQU+VZdffnk7XnbZZW2HcuRBefs85EmZT/NGoqAv526COk4JzVahiNNqgKXY9DoLbKFQ+D/4F6gP+NE7UzgwsCGLEwhHiPgcIURW31xzzTXNedsU0aMf/ejZhz/84UZ4OCaLg8ggUohTiElkhsDAlMSAeKYD7axrZZ09oNaDL3zhC23qkPWJ/5Jy93LlFfT5HwhIfbcaRZxWAz52+CkWCoVb8fjHP75t3jx6ZwoHBhYiTrnuSQ9Hbcv4jjjiiGYJYhE655xzZscdd1wjUnbU5ZRsjydMfa2pOph3HSTf3J8HcRE7cfupvz7ceZ+GUu+vYRpnN2FKaLYKRZxWA6bEvcveWx8tqwjT0qbefbxl0UjCoA9L+DSsUOj7EzeUt7/97cN3pnBgYN3EiUUppKUnEyxIzPm2GrD1wJ49exphssTvZS972eyNb3xj28cJQzcohbzMQ+SPsNa99YKMEKcRgXA9TZN4uw19vbcSRZxWA7thA0z9vH+X+zFkdD8rb6dyCoXAwqciTgc2FiJOGVyidB0NRJi4aTHL+Szl93VnL4Qbbrhhdv311zerU7Yh2Bf56e/Le1/x14NexlTelEBMB1Lo7xf2H0WcVgO7kTipl2PGgXn3hRcKIxRxKmyIOGVgyTlCZEUd65NVda75Mdl+wGaLlvmZops6Zo9gQJNnzueRnmlnniLxekT2VM50oD1Q0Nd7K1HEaTWwG4hT3ntHdWJR8hcBH3XwyU9+sm2Q69xqYJvmCvOz3UJhClu50IVFnA5sLOTjlEGoJx4JEy/3co1AgfPE69NBlHgflnjJv78HvfJfC4k/yjcQbzrYTmX01zsd0/qthWm9twpFnFYDPXEa9bVVQPp6xiQLRF74whc2f0yrbfleAneCl770pa2+/Lqe8pSnFAoN+kP6BJcUzuFFnA5sLEyc9oUMUI5IEyuT61FcMLhRpv1ANyU6/QCYeOtBLwNGBEq8qWKfps/1/qDPcy2slW56b4RF4k7rvVUo4rQa2A3ECfp3iFuB/2b6FdMtt9zSwK0AbFdiw17uBl/5yld2DL785S+3MjnmvEcf5nwko7Bx9G3tmi4s4nRgYyHiNBqU1kI/YI3uB71SHYX3YX34WpimmYf9SbsI0g4hlhCLHHJpatM0Qt/uIwK5XozqtVNQxGk1sFt8nPp3gq+lHfT9M7O/N8VUznbCu+959GMBZCyZhu208u82lI9TYSHiNOpEhfXBYGZQQ5QyyPn65TjPsd7cudWJ/C0cAcHgN9YTqN0wKBZxWg3sBuI0RYgTy9Lo/k5EPrA8k5AlyEdXxpR+nBjJKSwHRZwKRZy2CBnYDHKc5m+66abZc5/73Lah2qmnnjo78cQT26ahxx9//OyEE06YnXLKKc0H4yc/+Ul7BtIbJMkYyV8lFHFaDRRx2hnw7oc8ZbsE40As1Z5VjiFPIzmF5aCIU6GI0xYhg56BG2HwA+Ezzzyz+Vv48S7CdOihh84e8pCHNGXFedX2/qxSGSSLOBW2ErvFx6mH92k9U3U7CYgQWLHso4sV2u9wQpKMLYiTlc3CXY/kFJaDIk6FIk5bBO1oW4bPf/7z7cXTnva9MoB/85vfnF177bWzY445pimqz3zmM+0nw1YAGQSlNSg67oavySJOq4GyOO0MeOcRIw7s7373u9tYYWm8rV58jNk3j7P7W97ylvZrK2PHSE5hOSjiVCjitIXwY0hLn4888sjZu971rvb1a+BDiign03Xnn39++5kx61LaH3lynS/PkexVQhGn1cBuIU69tWCjxKmXsS+M0u8vjAEIkS0Tjj322LYs/tvf/nYbF9TpHe94R9tfyIbDP/rRj4YyCstBEadCEactgnakgAx4Z599dhv0fEUaEBEnTuGPetSj2rSdHxLH0sQc74gw5TiSv0oo4rQa2A3ECZHJBwdMp+pGaUaYygHvZpA2Ey6+47JIVPIwTcey5N05+eST20/UjSHy+tznPtfIEytUylDYHBRxKhRx2iIY9FiZOIJz+vazyLQvnwX3WJxe/vKXN4dwxMlgaRAMWKeEjeSvEoo4rQZ2K3HiX7hR4hQS05+D9srHTp/fSNaiyPPwr09Tce9973sb+XvBC17QwuRr2v+zn/1ss0Ati7AVxijiVCjitEXwJbhnz57Zwx/+8OajgCwZ5OCnP/3p7FnPetbsiU98YvuKRLIMxiPytKzBeDtRxGk1sFuJkzrZyHBR4hSSRE6mzkOaIHkk3rIIDDnGAlN1H/rQh9rxne98Z1uFa8NLY8lb3/rW2be+9a2W70hGYXko4lQo4rRFMPB98IMfnJ1++umzq6++evbLX/6yDb4sT/6NZZruqquuarsXm7rrB2HHXgGM5K8SijitBnaLj5N3xvvn+Itf/KKtZv3CF76wMHGSPqRI+7h2zJR7whJnJGcjSPkRIyttjQ/eocc97nGzSy+9dHbzzTfPrrvuumapXma+hTGKOBWKOG0RLCXmkPqiF71o9tjHPrZtevn973+/md7POOOM5vTJ70k8A2VPlJwXcSpsNXYTcQqsQHvCE54w++IXv7jQuyQuUuLog0f7sAz7MfAHPvCBZjUWlnjLJk7IkhW58iPb9SWXXNKm91mf3vOe9/zaB9dITmE5KOJUKOK0RdCOTOqU0Mte9rKGK664ok3fvfGNb2xbEtiuwKDXf93mer3EyQBOOfhCHd3fCSjitBrYTVN1eYesQNsfHyft8qUvfamtjvUB9KAHPai10Q9+8IN2PxtULiJ7XyCLhdo0HeuSMhgb/DvtoQ996Oykk05qH2ApI4zkFJaDIk6FIk5bBIOZwQ55YnK3is5eLAY/+7NkdUziafcRcdrXgOzr9+KLL27K4fnPf357dtdcc037Iv34xz/evlrlz6zP38NeUcpk4zzWrkw7rCevjaKI02pgNxKnrKrbyHYE5GgXK9tMq7/pTW+aPfCBD2yb2PI7SpyNvDvTtIFr76NnYeEIK5drY4MPLUrcCjvW6owXMMqjsBwUcSoUcdoiZADUnga4fpBLWK6n93usd0AW1yCLIBlUY+ZHoBApvhFM/VdeeWVzVreqj2P6DTfc0BSlL3Jft6YTEbuf/exnbQWPL18Ddpxj11ueHkWcVgO7hTgFrpdBnPIe+wBhceqJ0zS/RZB0ea8cvWfeQyTNApKvfvWr7SMnz4h/JOtXCJUw6UbyC8tBEadCEactAiLEjA/a1CBngIOeKPVpMnj22MiAPAI5BmWKBDGiBPh9sIQhUAYGBOvNb35zO7djMWvWRz7ykWa5Es8O53y1KCGDO+VhqpDM/tcP07yLOK0GijjdCum9o9pFv3Zuen3ZxKl/zx3lZUNczuyeg2fiwyXjhdW6whI3aUfyC8tBEadCEactgkEtTqUGtyCDcQbCechgvJWDojIZpFmakCvkyDJum+2xTCFYyNRa4HuBZLF4UVYGedc2+kTAtIm26ftbYWegiNOtkN57mPfVuY+NBz/4wUu3OEH/7iffKYRP35+Ej+QXloMiToUiTlsEg1nIUwY3R+07PQ8SDzKYbmRA3iwoD58oX72m8igP04KmExAlBAk5+uhHP9osVZxbkanXve51s3POOaetJLSMWphpRBv4SesL+8c//nFTcvyuilhtD4o43Yq8f/17qq8fffTRSyFOfTqyg1z3Y0F/7d3Idcq1aN6FxVDEqVDEaQuRQS/oB7se8wbPxB3J3olQbnVEfpArliv/6zNFR3mZBjTVZ8qPBYt1yj41yBSfDg64r3nNa9q+V8L8hysO9X5LY1qQY3umPwvLRRGnW5F3sH8nv/71r88e8pCHLOwc7l4gro+PW265pcmwj5sVes4TBnwNHd2DxHOExMs5C3HgI0Qeya/PP0i5U7591WG70Jc55ZxXpx5TGUmznrTTtijiVFg3cbJxI4VVKOwv/FPLLukIFNJjUOcThVxRbDYpRIr8rJRy4EuCYLFgIU/S79mzp/XLF7/4xQ2XX355I2I2GeUwa0qRsiGP/FG/LqyNIk63Igq0B+IUi5O+5iOh/xjalxzxWKARHZty2t4AnvKUp7TfqVx00UVrQr/P0QraZzzjGW2PKhtjnnbaaQ3k+ejNhp/Kl/x7pOz9teOoDtuF0TNIOd0b3Q/mpe3r3Fvvgli7+/tFnArrIk5WXnkJzzrrrEJhv0FJ+JP7TTfdNOxvPQxWyBUFgwCxXtnoj++VlUQsTojW9773vba/jik/juysVPbKshKJYnv2s5/dVhHaM8vUIMvV1772tfY13q9IKtyKIk63YqR4Efr4OCFO+lCvdMVZS474+rVp7sc//vGz293udrPb3/72s/vd736zt7zlLa0/+6WKj4B9ATHKqln7wyFfRx111OyOd7zj7JBDDpk997nPbe9PyjVFSEFfdsdp+bcTKVNfZtfGh4TNw+j59Qt1yEkbaCf9w1hB92nbuAy4X8SpsC7ixBqgIxUKywKljLCM+tsyYbAz6FFOnHmRNVYpg+IrXvGK5qTO+oXIPe95z2uWK//94pdllSFCRtkeiNOBRZxuBYWpTRzJQnji4/S0pz2tTZG5B1HuybOHsCjqKGuyWEltZnnb2952doc73KH9YUBZ58mJrD5PUEaK/+c//3mz7l5wwQWzu971rrNjjjmm+Q/25csR0r8TrlzkjPLdLvT1BeVNvd0bIXH7eI4Jz7PwDBxdGyd8XPHTtLLYbAv/TPlBEafCuohTobCbYdC0PxWfEvtXsUYZOJEr04GUz/nnn9+mRF796lc3/yv3b7zxxmYV4G/Fd8uO7ZSd3alNOyKGrGMUEMVkUB7lv1NRxOlWRAmH6HimLJY2wGTd0VbCopSjiOfJ0b76ROL7ZyUlfZ/73KdZnZAdfn0sq+6PQEbSj+6F/Fig8bCHPaz1XR8RypZ4fb3029TBUfi0/NuJlDVQTtCO7kEfN/ETJ22l/jb+1RbaybWje4wErHYs1T6avL+sdT6ufHxppyJOhSJOhcI+YLCkwDIl6EuehYDlinXK1IhdnW1EyKGdr5XBt9+KASFjoTClg6AhWuRRVggWRSWfUf7bhSJOt0J6ile7eI52DzedZjrs1FNPbf0A4UaeE48iHslxrycvIA1fJ75N97jHPdq0HSsRmSExayGkYBQuPX9CZMAeasICcfQ7/lrvfe97m29h0qXNdgr6eoHy+eAxXe8d6oEA5dx98ZAgdVXHj33sY20aVDzPI+0hjilPi1JChl/4whc29wKO9vIt4lQo4lQo7CcMxvmKtVO77RSQq09/+tONPPG5sjv7G97whrkbilJsphGzoSjlbPoHwaLsKYBMp2wVKA7+O4gTJRVEaa2FkeJbFCO5wbz4fdmiYPuwECdEdiRjLZDjWSMzFCtceOGFbVsN1hzPFynu853KUIYQFtDOjsL0If40po3vdKc7zQ466KDZ2Wef3aaO+jQjpH6QsJABZWYB1ddM17nO/Txnv2nSH93L85/KBWmm9Qn68M2APFI3UEbvio8Tz8THjHcOrNR1FA7IkLg+gEAYa7L3VJ3TTuQiTz5oWKS8zz4etI8weRZxKhRxKhS2AAZlA7YpGQ7ppvcM5NnvCsF63/ve12BLhpz3EC6eQZ//lfQsYPnvYKYeloWeOPUKi5LJMejvL6JEe8U7RS+zh3sjOcqh3PPKBbbEMLWGoLqeylkLKRMSwrIEfIkcWQ+BhSLlH8mA3I+8wDXriGfM3wlxuvOd79ymihHovj4572XBvDwcWV2UvZej33CAZi1FDCIbtGXiARnIex82hTh9XZeJ1CX5eKesuvUOeR88U1akwDR6wvVhBBQpUi/t8PrXv76RXu9jSFMv38cKKxyLE3mJU8SpUMSpUNghoHQN6JSxaQGWK+TI4I8ssUxRqnZsN02ISBnY/WfQFg1ve9vb2jnLAjImnSkYyoV/xnr2vKJExHMe4mSn+CjTXukGCZMmyoXi2V/0efQYxYW+HDAqK+LK4sTS4HokZzuh3MgMImPKjr/Tve51r2apRIzVSRuLt2j5+3YAFi6WGdsYeMY9eZDPtB31T+fzIM4o32Ui5UsZ1cEHiSm3HJGjHrnXf1hI691Cor1L6ha52sE7YENefmdIE9IpXBmKOBWKOBUKKwIDN0VgEGflYIXgF8N6xXcFGfD1HZKFYPG14n9DAfDFMr1k2hDhEseXOCdn04JIxZ49e9q2DRzfhYc49coq5/218oWUuZ4qPEiaUdgi6NP3UJZYRJSjL6v7jqZTX/KSl7Sp0Gn67UbK6jmb8kNoDj744EaeWKBM5fbEN/VaBMkDkGnTVawurJbaK3FCooQFCUt4fwym+S0bfV49Ur489+nzT5sJC5AjfYHzN0tk5CBZrFWm071T9pPzPojjfhGnQhGnQmGXgOLwBY5cmWZAEpAhCpJiZMUytedLGxlCnEwBcnI2XcPBnX+NPdsoB5YZS+35ivQKSh5RRjkKl3+U61rTLIsi+fQKdCRfGZKmP09aR6TTNhSsea6ncrYLqZcy5VmydBx33HF7tyjwbJQ7bZx6jeTNQ9pS+yDG/HcQa+0SeZD2Q9Tc05+kzTU4B3ETf9HyLIKUTT49+rKm3+ujyutdYMFzHatSyuuaX5dNQ70T7mlbZOm8885re7/5PdRll13WfJzSRkWcCkWcCoUDCBQDBUNpgOmLTHFQDM95znP2blBKcSBOnG6lFR/x8iWOfCBaYKNRsH2D6T1Kab1Kbx7IkGcflvSOI/nKZ5ozinQEdWRRY6VzPZWzXZi2jbrHx+bwww9vVidTd8rOlyp1HLXFWoh8beW5er6mf9MfEod8q8/k71nLF5Fj9WKhQiYQamnStzZSnkWQsgdpM2XVf/kyvfa1r23l00f5NCGFrEr8mfTzED1HZIqz/CMf+cg2vU2eNrfiTv+3Wa8jB32rZZEw+RVxKhRxKhQKDRQDv6g4y8bHia8HxcRvyg7Xd7/73We3uc1tmiUkYBE5+eSTm/KimKZKj4K1FYMpMjtuB5SbsBFMH/L5oqzIoNiCqXxhpi1NSUbBTSEO4oQIqNtIznYh9ZqW2XQSUmoHcFsU+DeeKVjh2nnROogfovHOd76zPV9+TiFAyReBQD5M7Xr+LC4nnnhiIxOsNPY1QiBYM/t0m9mmffuoAyRPfQlBsk0EIqicfjeD8Nh/Dek0La1fQ/q8PnnKKae0vdnIco+TfP7zZ8rUVB2rVepZxKlQxKlQKAwR4mSrBMu5KSK7q5vWoDAtvz/iiCOapYn/B2WeaTzKrAcria9+y/cDq5XskN2H9WA9YOGKghwhCpTipziRNw7xo7iAOLGSsThNyxiQp/6scQH5G0GfXv4UM/mjfOdBW7N8IKfgX3S2LZjX1muhbwfTs0hAtigIWGNYlzioe27awqIDv4LxrD3/448/vk1nxfolHXLBSiW9PJRPePIEcTNt5ijuFNP2E6YMSd/LA3JYwBB758iO9tJf1cPmtfe+972b3xI5ZAC5yLl4yBWSPmqzKYo4FYo4FQqFIUKcEKSnP/3pbQNFX+i5TymZ5rj00kubkotSW8taIF2v9DaCyIgCdM1CZUqLguS3RWHnfq/0KEfESd1G5QTKmvWKRcZUFQd7xMHR9SKQTnlYbWK1UI5RvvOgrvyR+DuZsrNFgZ/6IimLyBI3z0hZTL8hGCFO7jkiH8LsdeWc9QmJOuyww5oVhg8RZ+mbb765PXd10mYsYQgMi410kOcFyZu1i2WTpUu7jNDfY8VU3qTvZTqXjxWmyiWO+Ai0+kmnn/qFknvIUsica9YkPk5IPDK5nvYs4lQo4lQoFIZALizX5uuEIFEWrEpRXpTascce25RlFKjwkfIRHqd1IKc/jkDBUnTJL6DwIMoeGWJtYg079NBDm7WKU3ziOioTrIc4yZNVRb0DVov+er2QzqotDvgsRynLKN95UE9th8g94AEPaHUkE4khb5RmBPmm7ZAbz+3JT35y+0lw2jJtFoLhaDsLxNmiAc9FnNxPGtfZmyx9IUicyEZQ+BEhlCOyCQinI0KE9PT7WDn2fS2yhcnbVOIjHvGI5rfU98vE6cukDfn06TNFnArrRRGnQqEwBHJBsYKpGSvxKEhKx9G+URQ5v5KEU0Yj5cMa4EeppuuuvvrqBv4njrZAmEK4f7Wx/CgLuZEfBZhycHLmt2SKzk93+azwnUpcUCZYD3FCCBAESpVFAnLO/2sRJF02x1Tm9SjnHsqvTOrEx4yVCGklbxFZ5KQNtQNLoi0PQpzSTuKQ7ZmxJNni4lGPelQjp8LFY8lRJ9YeBJfFD2mKVS359Ofg3DPrCfIUyLTyITJkO0++kQF9vxBXWmViAX30ox/dpubUSx1MyYXoSZdyeT6m6tRNvutpzyJOhSJOhUJhiBAnVqfTTz+9TRdFUbFCmMajyJEbYeD+SPlQfvykkCGwYWfAkjLC9ddf38gHRas8kd8rT4qVYy/lzopiOtGPd7NSLPGVCdZDnMSXX/KJjEXRy4DUYT3KuQcZyq3dtDmiGsvfIrLETdmk1/YsSZym08buaTdk1FJ803UsONqUs7h4yFJ2r0dW7CHmntVspsXECUnpkbyTD+S59Mg9MlxP0+c8cqykvOSSSxoxR5b0Wc7rnrE4ppctGlBuMkE4IFT+NcifTr3lN2q7HkWcCkWcCoXCEBQPJcH/A3miTFkUkBlWIWRKGIVDGUWxjZSPcPFMOTkGrAH99RRRwJENvSKlpDkDU+DO48TM2VdZkyZKmWXCKrW1iNM0v6Tvz3M9De/PI2ckb5rnVGYPbYAIWhbPj0hdI9P99coBz9U9bcvp3z5Ops08B/fkxdLEEnXSSSc1Aqst73//+7cpM+2HTFlth0gjdKxfptWk4fvUk7BAeQPlQGIc+7IHie8oTtJFFtm5Vl4kjm8bq5HtB/iCqZdnbP8yG7+aFlTnyEhadTENjfgJm1emHkWcCkWcCoXCEBQPCwelYlrHV71VVX5o65yVp98bJ8pspGwopGAa3l9P0afJ+QhRhjYvNE1j+oXzcsITbz3EqZebMDIoWog8yt952su5Nsh54vZtM6+NyJumB4SGRYgDM2WNNOUe9GWcyunjTa/lYWrz3HPPbWSjJ2Ox4rHe8YPiGG5/LxYlDvKsM8iKeMrH/4hVit8VmekPKQs47yGsL3ePadwpepnaGHFm+fRc9U1TdTZvNS2sv7LUWfWZcqk7IFL8oBBEzuiROSpTjyJOhSJOhUJhiBAnGx36xQtSYprIdAzn61gWgNKJ4h0pm81GFCoHbEqe75WpvpQpSnc9xGkECpoPD98rihn8P653WtYepoos80csEQ2K3BQlSxsZ2mqknFO+tKN45CFNFLt8kRsy3O/rNZKT+33ZQuQSznLISqOsnm/ui8taZyrOtgfaFFioEAx+QSmH+KbK1FO9ESd13Yw+0bcR5ByBZf1C5jxXZWdJ0u6emWeeuqW/AuJn2lYf7385M8q7RxGnQhGnQqEwRIgT5R1lFUXlPgXbh8N6FM9mQd6UIUuDqZvLL7+8WRWEBxslTurGVwZZYs066KCD2vYHptDc0x4IA+LAUd3U1pFHHtlICeKprSjmtYhE5CSOVWqm50yVIja5l/vz2lq4+z0ShkDkuWkb02+sM/yUhIuXPCDxIWTJubT6gWtO68poOgzBQ6SSrzKHtIzKugiULYh8SJlz7byPk3ZT7r5946env8R6KN0o7x5FnApFnAqFwhA9cXIdBZhjQBG5n+v1KJ9lI4pS2VhJHvawh7Xpm6yucx/2hzhRrqwZthg444wzZne6052adasnNeIgWNqNBQSZilJ2H0btk/IDWaw6z3zmM9sWC6w9iEraOXmlXiM57muLxOe3ZOWbFX4ph3jyUQdEwLRb0kRGjjlHPpxHrnJpY1N6rE7+fxi/tciBUZ03gtSvb68g5M65Y8hd7qceKbcpaG2sDVLe9ZSziFOhiFOhUBhiZHGKYuqV6RTLUpKLIIpUuU27cFS2EozvjTK7DxslTtKqL/JB2SJndk23XxCCFKUtfxsw8vfpVxsKX6t9Un6KniI3hYQ0sYrEUtKTlrT9VFbkJE7KxXrFKhTrF6Q8Nrt0zxRsnq9j6uOY+Mk3cI0oaU9yEMuUsY8zqvNGkPo5Bq5T3yD1AOcJFw9JMrXHMpjFDYm7nnIWcSoUcSoUCkOEONm/idKJYomymof1KJ9lo1egfIE4NyM2SFK/us6WBcLyy5WRrBHE1QZ+60HhsjLlH2gsLeSST0mb/nrlK1/ZVpwl3ynI6yGMfI7Opo7sDM4/B5FSJ/f7Y86l7csYWe4rC4sXsqesnL3tNp5nGSKBFCHHNunUVmS418dzXAuJI618Q1z68L49N4rUr0fC+jKr17TcuVZHU6xWAJraTfgovxGKOBWKOBUKhSEQJ8u6KVXKaQpKZBQOU2Wz2ZBnlKOyKzNrkC0TTCVFOXJqZ82x4m6RcorLMmEFmo0/EZJYnew8HZKDLCFttkWQ5zSPlLOHeMgL3yA+VCxNlvhbsZhyzwN5kZmjNMrC8mbqzDPkLH/ttdfuJTR9OZxrMxYy9erlLQp1lLava8KXgT6vHn15p2WfXquj6U8Euw8f5TdCEadCEadCoTBET5xGCmQngeKjIAPTXaxlRx11VLMAmU4SztrA4rQR4sTKxLqUn8my3mgfjuA2kzQNaJWdOCGbIznKoX1DipyzWJlW9JsWTtbyouDjLzSCMjiqk/ryrULgrCazfQQChjze5S53aT5fLE/T8hQWRxGnQhGnQqEwxKoRpxARR4Riz5497ce0LEz28XEPubFNwHe+852FiZM0VskhIPJAbFiW+FLxqdJe7iFmCNQ8+Skr6492ZlmyzQOSg4T5ZYydr8GquhzngVXtMY95zOyEE05oMpTnrne96+zggw+e3e52t5sdcsgh7V9syjsqT2ExFHEqFHEqFApDrCJxCpAkjtB2kbYCDukRZnVZiJPrkawRyDR9xprU/0A4/4970IMe1CxGdva2qzZL0VrESXoWI1N0LEacyR/60IfOHvzgBzcrmSP4957rfUFcZYBpuP8MagvlHZWnsBiKOBWKOBUKhSFWeaqONYePjz2KkAnTdcIQJ5s+LkqcECF/6vcLEmQnvkKm2Oykbd+oCy64oDmOf/CDH2ykaCRnVE4OyqbYEDOO+DfddFPbaNJ5jiN4Lj2k79O5JsumnHFUH5WpsBiKOBWKOBUKhSFWjTiFzLCsKD/n36uuuqqRGpYiU2Km6kKc5lmERkA8bO6IjMiH/BAf1pxjjjmmOWCbMrMdQcoylTMlTtAv9U868l3DvHKOZAXSheDleQofySkshiJOhSJOhUJhiJ44UdI7HT1pcOTnhOg8/OEPb9N1lvqzEF100UVtOwJx1pKjDSJPfOkQLtcsSolnU0lTbfyK7CrOUTtlGMmfIvEcEZ1M4TmGSE3TJH4gXvJ0lF79U4e15BQWQxGnQhGnQqEwxKpZnIKQCcjqOlYn01f8iVic1M39kayk1Qa/+tWvmgw/iyXHJpGm1nLfEUnxXzyO2WTLIyRmJH8E5ZaGTPK+8pWvNEdzDt3k9PUL8pzcTzmQJUvtbfDo9y99WWGUd2ExFHEqFHEqFApD7AbiZLrO0vy73/3ubVNKy/w5h9uOwP2RLHVHYpAWP4u1LxPSxGpFhrSJE9jhm1x/2+cPhcQIH8kfIeUmF9mxIvBjH/tYI0LC+/oFiS8fR9dIk5V+tiKwAjAbXiqPOKO8C4uhiFOhiFOhUBhiFYlTTzKcIw0cpK1YO/bYY2c//OEPm1WINUeckSzpAGlhbWJl+uIXv9g2vLSHk6m5EBryAVkiE3HpicxI/ggpryk1sk0r/uIXv2jXqc8UKWfyA1ORnpc6clRHnIRnKm+Ud2ExFHEqFHEqFApDrJqPE4RM9LAj9jnnnDO74x3v2H61YV+n9fg4hZDEWgPZlFJY4jlHTHqfJHEdR/LnQZof//jHbUrRVB1n9shRlhHcl2eIkSPyZGqRdYy8xFu0PIUxijgVijgVCoUhVo04KbMjgtCDBefKK6+c3fnOd5496UlP+rVVdSNIg2z0xx7CkKf+OuQl1ynLIvDLlU984hPt1yiczW2ngIx94xvfmN1www3/H+wQnuM3v/nNFlfeVgAiTq961av2TtXBKM/C4ijiVCjiVCgUhli1qTqkJec9kAZ7G9lR+9BDD52dd955jThNZQTT9D0SR17Te9OwXua+IK1pwc9//vNtCwXtHmuRcPs8TcH/imXqq1/9apvai+XLlgv8ulicMnUY4jTKu7AYijgVijgVCoUhVok4zUMIjd2+TzvttNlBBx00O/nkk9ckTtsBZWQZ44Pl9yicw63oEz4PsXKxfknrHEEKcWJx8uuXPs0o78JiKOJUKOJUKBSG2A3ECRAG9bnsssuanxPi9L3vfW9HEYkQPBanc889d/apT32qkSirAq2uU/YprJq79NJLZ5dffnmLn+nDKXFSd+E7qb6rjCJOhSJOhUJhiN1kcQKr3u5yl7u03b3jHD5Ksx1QTlaj973vfc3iZDfy6667rm1NYF8o/k/zYDoOWWJtIsMUn9/A8OVSz+wFVcRpOSjiVCjiVCgUhthNFiekwlQWaxPitOgvVzYbysK529YJ/oeHQNkbSplDekZQL88q5yxMfg2DNF188cXNX8pWCgiV+6O8C4uhiFOhiFOhUBhiN1mc1AdxePe73z079dRTmyVmpxEn5TQ19/3vf7/t4aTMHL7nlbMnTzlKz7Jmrykr6tTT6rzEGckpLIYiToUiToVCYYjdRJwQB3UyjWUfJ8edRpzmYRQfQpxglG6KIk7LQRGnQhGnQqEwBOLkVyN+lIt4rCLUw3SXqSrO0/x9WGRYZtwbpSkU1sKTn/zkIk4HOIo4FQqFIRCnM888c3bBBRcMV3WtEuxpBFaaWYnmOIpXKOwLZ511VnPcH70zhQMDRZwKhcIQVnNdc801e0lHoVB45eyKK66Yff3rXx++M4UDA0WcCoXCENlc0T/TCoXC/8F0rxWQo3emcGDgNocddtisUCgUCoVCobBv3Obwww+fFQqFQqFQKBT2hcNn/w+7W4GiTH/FUgAAAABJRU5ErkJggg==)"
      ]
    },
    {
      "cell_type": "code",
      "metadata": {
        "id": "xd-Po9Xs7urk"
      },
      "source": [
        "# use StandardScaler()"
      ],
      "execution_count": null,
      "outputs": []
    },
    {
      "cell_type": "code",
      "metadata": {
        "id": "1Jhs7kvU7zVU"
      },
      "source": [
        "from sklearn.preprocessing import StandardScaler"
      ],
      "execution_count": null,
      "outputs": []
    },
    {
      "cell_type": "code",
      "metadata": {
        "id": "wCyGhK_n73ZD"
      },
      "source": [
        "# Prepare Data\r\n",
        "rawdata={\"high\": [166,171,155,164,180],\r\n",
        "         \"weight\": [70,68,60,64,80]}\r\n",
        "\r\n",
        "df = pd.DataFrame(rawdata)"
      ],
      "execution_count": null,
      "outputs": []
    },
    {
      "cell_type": "code",
      "metadata": {
        "id": "9SG-vfYU7_67"
      },
      "source": [
        "# Making the StandardScaler\r\n",
        "\r\n",
        "standard_scaler = StandardScaler()"
      ],
      "execution_count": null,
      "outputs": []
    },
    {
      "cell_type": "code",
      "metadata": {
        "id": "p_WOieD62Ylj"
      },
      "source": [
        "standardized_data = standard_scaler.fit_transform(df)\r\n",
        "standardized_data = pd.DataFrame(standardized_data, columns =['high','weight'])"
      ],
      "execution_count": null,
      "outputs": []
    },
    {
      "cell_type": "code",
      "metadata": {
        "colab": {
          "base_uri": "https://localhost:8080/",
          "height": 204
        },
        "id": "omEAx0RI8Z3M",
        "outputId": "c7fb9e2b-b0db-42c1-dd86-bd5bba20e0bf"
      },
      "source": [
        "display(standardized_data)"
      ],
      "execution_count": null,
      "outputs": [
        {
          "output_type": "display_data",
          "data": {
            "text/html": [
              "<div>\n",
              "<style scoped>\n",
              "    .dataframe tbody tr th:only-of-type {\n",
              "        vertical-align: middle;\n",
              "    }\n",
              "\n",
              "    .dataframe tbody tr th {\n",
              "        vertical-align: top;\n",
              "    }\n",
              "\n",
              "    .dataframe thead th {\n",
              "        text-align: right;\n",
              "    }\n",
              "</style>\n",
              "<table border=\"1\" class=\"dataframe\">\n",
              "  <thead>\n",
              "    <tr style=\"text-align: right;\">\n",
              "      <th></th>\n",
              "      <th>high</th>\n",
              "      <th>weight</th>\n",
              "    </tr>\n",
              "  </thead>\n",
              "  <tbody>\n",
              "    <tr>\n",
              "      <th>0</th>\n",
              "      <td>-0.145779</td>\n",
              "      <td>0.237356</td>\n",
              "    </tr>\n",
              "    <tr>\n",
              "      <th>1</th>\n",
              "      <td>0.461633</td>\n",
              "      <td>-0.059339</td>\n",
              "    </tr>\n",
              "    <tr>\n",
              "      <th>2</th>\n",
              "      <td>-1.482085</td>\n",
              "      <td>-1.246121</td>\n",
              "    </tr>\n",
              "    <tr>\n",
              "      <th>3</th>\n",
              "      <td>-0.388744</td>\n",
              "      <td>-0.652730</td>\n",
              "    </tr>\n",
              "    <tr>\n",
              "      <th>4</th>\n",
              "      <td>1.554974</td>\n",
              "      <td>1.720833</td>\n",
              "    </tr>\n",
              "  </tbody>\n",
              "</table>\n",
              "</div>"
            ],
            "text/plain": [
              "       high    weight\n",
              "0 -0.145779  0.237356\n",
              "1  0.461633 -0.059339\n",
              "2 -1.482085 -1.246121\n",
              "3 -0.388744 -0.652730\n",
              "4  1.554974  1.720833"
            ]
          },
          "metadata": {
            "tags": []
          }
        }
      ]
    },
    {
      "cell_type": "markdown",
      "metadata": {
        "id": "03yEZ6_BsagY"
      },
      "source": [
        "## 3) Encoding the categorical data"
      ]
    },
    {
      "cell_type": "markdown",
      "metadata": {
        "id": "BRKBsDAC9knK"
      },
      "source": [
        "#### I. Label Encoder"
      ]
    },
    {
      "cell_type": "markdown",
      "metadata": {
        "id": "AfWZP1Xq-EQ8"
      },
      "source": [
        "- Suitable for Ordinal data (such as score range(from Excellent to poor)"
      ]
    },
    {
      "cell_type": "code",
      "metadata": {
        "id": "rSbV0f-_-8y8"
      },
      "source": [
        "from sklearn.preprocessing import LabelEncoder"
      ],
      "execution_count": null,
      "outputs": []
    },
    {
      "cell_type": "code",
      "metadata": {
        "id": "bhgxdYMH_Ex8"
      },
      "source": [
        "\r\n",
        "rawdata={\"country\":['india','US','Japan','US','Japan'],\r\n",
        "          \"age\": [44,34,46,35,23],\r\n",
        "          \"salary\": [72000,65000,98000,45000,34000]}\r\n",
        "\r\n",
        "\r\n",
        "df = pd.DataFrame(rawdata)          "
      ],
      "execution_count": null,
      "outputs": []
    },
    {
      "cell_type": "code",
      "metadata": {
        "id": "IRS3uvCY_QNz"
      },
      "source": [
        "label_encoder = LabelEncoder()"
      ],
      "execution_count": null,
      "outputs": []
    },
    {
      "cell_type": "code",
      "metadata": {
        "id": "Rb7rJBNs9_38"
      },
      "source": [
        "label_data = label_encoder.fit_transform(df['country'])\r\n",
        "df['label_country'] = label_data\r\n"
      ],
      "execution_count": null,
      "outputs": []
    },
    {
      "cell_type": "code",
      "metadata": {
        "colab": {
          "base_uri": "https://localhost:8080/",
          "height": 204
        },
        "id": "apQ0IPXr_eLM",
        "outputId": "5a799ff1-df3f-477d-c2af-0ee0ee4c8197"
      },
      "source": [
        "display(df)"
      ],
      "execution_count": null,
      "outputs": [
        {
          "output_type": "display_data",
          "data": {
            "text/html": [
              "<div>\n",
              "<style scoped>\n",
              "    .dataframe tbody tr th:only-of-type {\n",
              "        vertical-align: middle;\n",
              "    }\n",
              "\n",
              "    .dataframe tbody tr th {\n",
              "        vertical-align: top;\n",
              "    }\n",
              "\n",
              "    .dataframe thead th {\n",
              "        text-align: right;\n",
              "    }\n",
              "</style>\n",
              "<table border=\"1\" class=\"dataframe\">\n",
              "  <thead>\n",
              "    <tr style=\"text-align: right;\">\n",
              "      <th></th>\n",
              "      <th>country</th>\n",
              "      <th>age</th>\n",
              "      <th>salary</th>\n",
              "      <th>label_country</th>\n",
              "    </tr>\n",
              "  </thead>\n",
              "  <tbody>\n",
              "    <tr>\n",
              "      <th>0</th>\n",
              "      <td>india</td>\n",
              "      <td>44</td>\n",
              "      <td>72000</td>\n",
              "      <td>2</td>\n",
              "    </tr>\n",
              "    <tr>\n",
              "      <th>1</th>\n",
              "      <td>US</td>\n",
              "      <td>34</td>\n",
              "      <td>65000</td>\n",
              "      <td>1</td>\n",
              "    </tr>\n",
              "    <tr>\n",
              "      <th>2</th>\n",
              "      <td>Japan</td>\n",
              "      <td>46</td>\n",
              "      <td>98000</td>\n",
              "      <td>0</td>\n",
              "    </tr>\n",
              "    <tr>\n",
              "      <th>3</th>\n",
              "      <td>US</td>\n",
              "      <td>35</td>\n",
              "      <td>45000</td>\n",
              "      <td>1</td>\n",
              "    </tr>\n",
              "    <tr>\n",
              "      <th>4</th>\n",
              "      <td>Japan</td>\n",
              "      <td>23</td>\n",
              "      <td>34000</td>\n",
              "      <td>0</td>\n",
              "    </tr>\n",
              "  </tbody>\n",
              "</table>\n",
              "</div>"
            ],
            "text/plain": [
              "  country  age  salary  label_country\n",
              "0   india   44   72000              2\n",
              "1      US   34   65000              1\n",
              "2   Japan   46   98000              0\n",
              "3      US   35   45000              1\n",
              "4   Japan   23   34000              0"
            ]
          },
          "metadata": {
            "tags": []
          }
        }
      ]
    },
    {
      "cell_type": "code",
      "metadata": {
        "colab": {
          "base_uri": "https://localhost:8080/"
        },
        "id": "-Z0pBHuB_kI8",
        "outputId": "0e73e600-dc89-4dc9-d5df-caff18324ac5"
      },
      "source": [
        "# Check the class\r\n",
        "label_encoder.classes_"
      ],
      "execution_count": null,
      "outputs": [
        {
          "output_type": "execute_result",
          "data": {
            "text/plain": [
              "array(['Japan', 'US', 'india'], dtype=object)"
            ]
          },
          "metadata": {
            "tags": []
          },
          "execution_count": 36
        }
      ]
    },
    {
      "cell_type": "markdown",
      "metadata": {
        "id": "nBCbP2jR93rL"
      },
      "source": [
        "#### II. One Hot Encoder"
      ]
    },
    {
      "cell_type": "code",
      "metadata": {
        "id": "6OSH6iQwsD6x"
      },
      "source": [
        "from sklearn.preprocessing import OneHotEncoder"
      ],
      "execution_count": null,
      "outputs": []
    },
    {
      "cell_type": "code",
      "metadata": {
        "id": "B3OpDnVOtu6p"
      },
      "source": [
        "#Prepare data\r\n",
        "rawdata={\"country\": ['india','US','Japan','US','Japan'],\r\n",
        "          \"age\": [44,34,46,35,23],\r\n",
        "         \"salary\": [72000,65000,98000,45000,34000]}\r\n",
        "\r\n",
        "df = pd.DataFrame(rawdata)"
      ],
      "execution_count": null,
      "outputs": []
    },
    {
      "cell_type": "code",
      "metadata": {
        "id": "d1glMp1B9d9k"
      },
      "source": [
        "OneHot_Encoder = OneHotEncoder(handle_unknown='ignore')"
      ],
      "execution_count": null,
      "outputs": []
    },
    {
      "cell_type": "code",
      "metadata": {
        "id": "jIiiRyxhCzUJ"
      },
      "source": [
        "\r\n",
        "                                                                         \r\n",
        "label = OneHot_Encoder.fit_transform(df[['country']]).toarray()          # convert to dense matrix (array) from SPARSE MATRIX!!\r\n",
        "\r\n",
        "One_enc_df = pd.DataFrame(label ,columns= ['Japan', 'US', 'india'])\r\n",
        "\r\n",
        "df = df.join(One_enc_df )"
      ],
      "execution_count": null,
      "outputs": []
    },
    {
      "cell_type": "code",
      "metadata": {
        "colab": {
          "base_uri": "https://localhost:8080/",
          "height": 204
        },
        "id": "e_WKVHxSDD4F",
        "outputId": "693dc224-8137-4abd-f74a-1c289ff0b6b6"
      },
      "source": [
        "display(df)"
      ],
      "execution_count": null,
      "outputs": [
        {
          "output_type": "display_data",
          "data": {
            "text/html": [
              "<div>\n",
              "<style scoped>\n",
              "    .dataframe tbody tr th:only-of-type {\n",
              "        vertical-align: middle;\n",
              "    }\n",
              "\n",
              "    .dataframe tbody tr th {\n",
              "        vertical-align: top;\n",
              "    }\n",
              "\n",
              "    .dataframe thead th {\n",
              "        text-align: right;\n",
              "    }\n",
              "</style>\n",
              "<table border=\"1\" class=\"dataframe\">\n",
              "  <thead>\n",
              "    <tr style=\"text-align: right;\">\n",
              "      <th></th>\n",
              "      <th>country</th>\n",
              "      <th>age</th>\n",
              "      <th>salary</th>\n",
              "      <th>Japan</th>\n",
              "      <th>US</th>\n",
              "      <th>india</th>\n",
              "    </tr>\n",
              "  </thead>\n",
              "  <tbody>\n",
              "    <tr>\n",
              "      <th>0</th>\n",
              "      <td>india</td>\n",
              "      <td>44</td>\n",
              "      <td>72000</td>\n",
              "      <td>0.0</td>\n",
              "      <td>0.0</td>\n",
              "      <td>1.0</td>\n",
              "    </tr>\n",
              "    <tr>\n",
              "      <th>1</th>\n",
              "      <td>US</td>\n",
              "      <td>34</td>\n",
              "      <td>65000</td>\n",
              "      <td>0.0</td>\n",
              "      <td>1.0</td>\n",
              "      <td>0.0</td>\n",
              "    </tr>\n",
              "    <tr>\n",
              "      <th>2</th>\n",
              "      <td>Japan</td>\n",
              "      <td>46</td>\n",
              "      <td>98000</td>\n",
              "      <td>1.0</td>\n",
              "      <td>0.0</td>\n",
              "      <td>0.0</td>\n",
              "    </tr>\n",
              "    <tr>\n",
              "      <th>3</th>\n",
              "      <td>US</td>\n",
              "      <td>35</td>\n",
              "      <td>45000</td>\n",
              "      <td>0.0</td>\n",
              "      <td>1.0</td>\n",
              "      <td>0.0</td>\n",
              "    </tr>\n",
              "    <tr>\n",
              "      <th>4</th>\n",
              "      <td>Japan</td>\n",
              "      <td>23</td>\n",
              "      <td>34000</td>\n",
              "      <td>1.0</td>\n",
              "      <td>0.0</td>\n",
              "      <td>0.0</td>\n",
              "    </tr>\n",
              "  </tbody>\n",
              "</table>\n",
              "</div>"
            ],
            "text/plain": [
              "  country  age  salary  Japan   US  india\n",
              "0   india   44   72000    0.0  0.0    1.0\n",
              "1      US   34   65000    0.0  1.0    0.0\n",
              "2   Japan   46   98000    1.0  0.0    0.0\n",
              "3      US   35   45000    0.0  1.0    0.0\n",
              "4   Japan   23   34000    1.0  0.0    0.0"
            ]
          },
          "metadata": {
            "tags": []
          }
        }
      ]
    },
    {
      "cell_type": "code",
      "metadata": {
        "colab": {
          "base_uri": "https://localhost:8080/"
        },
        "id": "T6xbvNwHDGCk",
        "outputId": "3e4685b5-4bee-43c7-f9b1-cabb4cce4112"
      },
      "source": [
        "print(OneHot_Encoder.categories_)"
      ],
      "execution_count": null,
      "outputs": [
        {
          "output_type": "stream",
          "text": [
            "[array(['Japan', 'US', 'india'], dtype=object)]\n"
          ],
          "name": "stdout"
        }
      ]
    },
    {
      "cell_type": "markdown",
      "metadata": {
        "id": "D78f-yNCDpzs"
      },
      "source": [
        "# Application of Feature Scaling"
      ]
    },
    {
      "cell_type": "markdown",
      "metadata": {
        "id": "Mc-VdPCBFM-9"
      },
      "source": [
        "\r\n",
        "\r\n",
        "---\r\n",
        "\r\n",
        "\r\n",
        "### 1. Extracting Word from Customer Comment"
      ]
    },
    {
      "cell_type": "markdown",
      "metadata": {
        "id": "HGdyaznIFIf1"
      },
      "source": [
        "![33.PNG](data:image/png;base64,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)"
      ]
    },
    {
      "cell_type": "code",
      "metadata": {
        "id": "xICEpyQTE6yV"
      },
      "source": [
        "from sklearn.feature_extraction.text import CountVectorizer # To extract the words in a sentence"
      ],
      "execution_count": null,
      "outputs": []
    },
    {
      "cell_type": "code",
      "metadata": {
        "id": "UZHpWQgUFD_t"
      },
      "source": [
        "df = pd.DataFrame({\"Review\": ['hello, how are are you',\r\n",
        "                   'You are so lucky you ',\r\n",
        "                   'I am am am data you you'],\r\n",
        "                    \"label\": [1,0,1]})"
      ],
      "execution_count": null,
      "outputs": []
    },
    {
      "cell_type": "code",
      "metadata": {
        "id": "u6kTBfO2FbI8"
      },
      "source": [
        "# select word from the specific column\r\n",
        "textdata = df['Review']           "
      ],
      "execution_count": null,
      "outputs": []
    },
    {
      "cell_type": "code",
      "metadata": {
        "id": "Y2qhVfMhFjhd"
      },
      "source": [
        "# Making the counter\r\n",
        "cv = CountVectorizer()"
      ],
      "execution_count": null,
      "outputs": []
    },
    {
      "cell_type": "code",
      "metadata": {
        "colab": {
          "base_uri": "https://localhost:8080/"
        },
        "id": "7P0Ec45iHajO",
        "outputId": "2fbf7cb7-5bfd-459a-ed78-11f6d53320ee"
      },
      "source": [
        "X = cv.fit_transform(textdata)\r\n",
        "\r\n",
        "print(cv.get_feature_names()) #splitting words"
      ],
      "execution_count": null,
      "outputs": [
        {
          "output_type": "stream",
          "text": [
            "['am', 'are', 'data', 'hello', 'how', 'lucky', 'so', 'you']\n"
          ],
          "name": "stdout"
        }
      ]
    },
    {
      "cell_type": "code",
      "metadata": {
        "colab": {
          "base_uri": "https://localhost:8080/"
        },
        "id": "RwhY7Dy5Lx1X",
        "outputId": "a3f959da-9250-433a-9170-bae7c74b872d"
      },
      "source": [
        "# X is now a Sparse matrix (but we can't plug this type of matrix to dataframe, so we need to convert to Dense Matrix by X.array )\r\n",
        "\r\n",
        "# We can check by doing this\r\n",
        "X "
      ],
      "execution_count": null,
      "outputs": [
        {
          "output_type": "execute_result",
          "data": {
            "text/plain": [
              "<3x8 sparse matrix of type '<class 'numpy.int64'>'\n",
              "\twith 11 stored elements in Compressed Sparse Row format>"
            ]
          },
          "metadata": {
            "tags": []
          },
          "execution_count": 48
        }
      ]
    },
    {
      "cell_type": "code",
      "metadata": {
        "id": "TM8r2m1kDmv1"
      },
      "source": [
        "encode = pd.DataFrame(X.toarray() ,columns = cv.get_feature_names())       #This line takes long time since we convert from sparse Matrix to dense matrix (array)\r\n",
        "new_df = df.join(encode)"
      ],
      "execution_count": null,
      "outputs": []
    },
    {
      "cell_type": "code",
      "metadata": {
        "colab": {
          "base_uri": "https://localhost:8080/",
          "height": 142
        },
        "id": "1iZHTVsxFqv9",
        "outputId": "d8d8b0ad-a0fa-417f-9ac9-87905b90a4ce"
      },
      "source": [
        "display(new_df)"
      ],
      "execution_count": null,
      "outputs": [
        {
          "output_type": "display_data",
          "data": {
            "text/html": [
              "<div>\n",
              "<style scoped>\n",
              "    .dataframe tbody tr th:only-of-type {\n",
              "        vertical-align: middle;\n",
              "    }\n",
              "\n",
              "    .dataframe tbody tr th {\n",
              "        vertical-align: top;\n",
              "    }\n",
              "\n",
              "    .dataframe thead th {\n",
              "        text-align: right;\n",
              "    }\n",
              "</style>\n",
              "<table border=\"1\" class=\"dataframe\">\n",
              "  <thead>\n",
              "    <tr style=\"text-align: right;\">\n",
              "      <th></th>\n",
              "      <th>Review</th>\n",
              "      <th>label</th>\n",
              "      <th>am</th>\n",
              "      <th>are</th>\n",
              "      <th>data</th>\n",
              "      <th>hello</th>\n",
              "      <th>how</th>\n",
              "      <th>lucky</th>\n",
              "      <th>so</th>\n",
              "      <th>you</th>\n",
              "    </tr>\n",
              "  </thead>\n",
              "  <tbody>\n",
              "    <tr>\n",
              "      <th>0</th>\n",
              "      <td>hello, how are are you</td>\n",
              "      <td>1</td>\n",
              "      <td>0</td>\n",
              "      <td>2</td>\n",
              "      <td>0</td>\n",
              "      <td>1</td>\n",
              "      <td>1</td>\n",
              "      <td>0</td>\n",
              "      <td>0</td>\n",
              "      <td>1</td>\n",
              "    </tr>\n",
              "    <tr>\n",
              "      <th>1</th>\n",
              "      <td>You are so lucky you</td>\n",
              "      <td>0</td>\n",
              "      <td>0</td>\n",
              "      <td>1</td>\n",
              "      <td>0</td>\n",
              "      <td>0</td>\n",
              "      <td>0</td>\n",
              "      <td>1</td>\n",
              "      <td>1</td>\n",
              "      <td>2</td>\n",
              "    </tr>\n",
              "    <tr>\n",
              "      <th>2</th>\n",
              "      <td>I am am am data you you</td>\n",
              "      <td>1</td>\n",
              "      <td>3</td>\n",
              "      <td>0</td>\n",
              "      <td>1</td>\n",
              "      <td>0</td>\n",
              "      <td>0</td>\n",
              "      <td>0</td>\n",
              "      <td>0</td>\n",
              "      <td>2</td>\n",
              "    </tr>\n",
              "  </tbody>\n",
              "</table>\n",
              "</div>"
            ],
            "text/plain": [
              "                    Review  label  am  are  data  hello  how  lucky  so  you\n",
              "0   hello, how are are you      1   0    2     0      1    1      0   0    1\n",
              "1    You are so lucky you       0   0    1     0      0    0      1   1    2\n",
              "2  I am am am data you you      1   3    0     1      0    0      0   0    2"
            ]
          },
          "metadata": {
            "tags": []
          }
        }
      ]
    }
  ]
}