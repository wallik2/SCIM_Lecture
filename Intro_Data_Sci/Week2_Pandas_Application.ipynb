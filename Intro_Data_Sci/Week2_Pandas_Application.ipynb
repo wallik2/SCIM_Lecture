{
  "nbformat": 4,
  "nbformat_minor": 0,
  "metadata": {
    "colab": {
      "name": "Week2: Pandas Application",
      "provenance": [],
      "authorship_tag": "ABX9TyMYcEpFmsj7g8H3i0z2wcb5",
      "include_colab_link": true
    },
    "kernelspec": {
      "name": "python3",
      "display_name": "Python 3"
    }
  },
  "cells": [
    {
      "cell_type": "markdown",
      "metadata": {
        "id": "view-in-github",
        "colab_type": "text"
      },
      "source": [
        "<a href=\"https://colab.research.google.com/github/wallik2/SCIM_Lecture/blob/main/Intro_Data_Sci/Week2_Pandas_Application.ipynb\" target=\"_parent\"><img src=\"https://colab.research.google.com/assets/colab-badge.svg\" alt=\"Open In Colab\"/></a>"
      ]
    },
    {
      "cell_type": "markdown",
      "metadata": {
        "id": "gEWq071bs0ak"
      },
      "source": [
        "# Pandas Application"
      ]
    },
    {
      "cell_type": "code",
      "metadata": {
        "id": "mrgGAA5zJLFI"
      },
      "source": [
        "import numpy as np\r\n",
        "import pandas as pd"
      ],
      "execution_count": 2,
      "outputs": []
    },
    {
      "cell_type": "markdown",
      "metadata": {
        "id": "FwA-z9CUs5Pb"
      },
      "source": [
        "## <u>Application 1</u> : Compute the Student's Grade"
      ]
    },
    {
      "cell_type": "markdown",
      "metadata": {
        "id": "9fGjdeKMx2N6"
      },
      "source": [
        "\r\n",
        "\r\n",
        "\r\n",
        "### 1.1 ) Create the DataFrame"
      ]
    },
    {
      "cell_type": "code",
      "metadata": {
        "id": "OvGWMLbtJXTV"
      },
      "source": [
        "DF = pd.DataFrame(\r\n",
        "    [[62, 'C'],[77, 'B+'],[27, 'F'],[44, 'F'],[58, 'D+'],[76, 'B+'],[30, 'F'],\r\n",
        "     [53, 'D'],[20, 'F'],[76, 'B+'],[38, 'F'],[71, 'B'],[48, 'F'],[37, 'F'],\r\n",
        "     [52, 'D'],[57, 'D+'],[69, 'C+'],[47, 'F'],[50, 'D'],[33, 'F'],[63, 'C'],\r\n",
        "     [48, 'F'],[30, 'F'],[54, 'D'],[30, 'F'],[39, 'F'],[42, 'F'],[59, 'D+'],\r\n",
        "     [58, 'D+'],[61, 'C'],[24, 'F'],[28, 'F'],[58, 'D+'],[46, 'F'],[66, 'C+'],\r\n",
        "     [54, 'D'],[64, 'C'],[79, 'B+'],[33, 'F'],[44, 'F'],[60, 'C'],[15, 'F'],\r\n",
        "     [48, 'F'],[62, 'C'],[57, 'D+'],[46, 'F'],[51, 'D'],[50, 'D'],[27, 'F'],\r\n",
        "     [69, 'C+'],[59, 'D+'],[62, 'C'],[24, 'F'],[55, 'D+'],[58, 'D+'],[51,'D'],\r\n",
        "     [28, 'F'],[65, 'C+'],[47, 'F'],[11, 'F'],[90, 'A'],[69, 'C+'],[43, 'F'],\r\n",
        "     [75, 'B+'],[53, 'D'],[40, 'F'],[42, 'F'],[53, 'D'],[61, 'C'],[35, 'F'],\r\n",
        "     [34, 'F'],[52, 'D'],[52, 'D'],[55, 'D+'],[36, 'F'],[36, 'F'],[79, 'B+'],\r\n",
        "     [46, 'F'],[88, 'A'],[78, 'B+'],[18, 'F'],[87, 'A'],[46, 'F'],[30, 'F'],\r\n",
        "     [36, 'F'],[51, 'D'],[59, 'D+'],[16, 'F'],[64, 'C'],[54, 'D'],[42, 'F'],\r\n",
        "     [50, 'D'],[51, 'D'],[40, 'F'],[44, 'F'],[61, 'C'],[35, 'F'],[52, 'D'],\r\n",
        "     [15, 'F'],[68, 'C+']],\r\n",
        "     columns=['Total (100%)', 'Grade']\r\n",
        ")"
      ],
      "execution_count": 3,
      "outputs": []
    },
    {
      "cell_type": "code",
      "metadata": {
        "colab": {
          "base_uri": "https://localhost:8080/",
          "height": 419
        },
        "id": "luPBEy4SJius",
        "outputId": "e460e1f3-6c84-43f7-9207-67308878a069"
      },
      "source": [
        "DF"
      ],
      "execution_count": 4,
      "outputs": [
        {
          "output_type": "execute_result",
          "data": {
            "text/html": [
              "<div>\n",
              "<style scoped>\n",
              "    .dataframe tbody tr th:only-of-type {\n",
              "        vertical-align: middle;\n",
              "    }\n",
              "\n",
              "    .dataframe tbody tr th {\n",
              "        vertical-align: top;\n",
              "    }\n",
              "\n",
              "    .dataframe thead th {\n",
              "        text-align: right;\n",
              "    }\n",
              "</style>\n",
              "<table border=\"1\" class=\"dataframe\">\n",
              "  <thead>\n",
              "    <tr style=\"text-align: right;\">\n",
              "      <th></th>\n",
              "      <th>Total (100%)</th>\n",
              "      <th>Grade</th>\n",
              "    </tr>\n",
              "  </thead>\n",
              "  <tbody>\n",
              "    <tr>\n",
              "      <th>0</th>\n",
              "      <td>62</td>\n",
              "      <td>C</td>\n",
              "    </tr>\n",
              "    <tr>\n",
              "      <th>1</th>\n",
              "      <td>77</td>\n",
              "      <td>B+</td>\n",
              "    </tr>\n",
              "    <tr>\n",
              "      <th>2</th>\n",
              "      <td>27</td>\n",
              "      <td>F</td>\n",
              "    </tr>\n",
              "    <tr>\n",
              "      <th>3</th>\n",
              "      <td>44</td>\n",
              "      <td>F</td>\n",
              "    </tr>\n",
              "    <tr>\n",
              "      <th>4</th>\n",
              "      <td>58</td>\n",
              "      <td>D+</td>\n",
              "    </tr>\n",
              "    <tr>\n",
              "      <th>...</th>\n",
              "      <td>...</td>\n",
              "      <td>...</td>\n",
              "    </tr>\n",
              "    <tr>\n",
              "      <th>95</th>\n",
              "      <td>61</td>\n",
              "      <td>C</td>\n",
              "    </tr>\n",
              "    <tr>\n",
              "      <th>96</th>\n",
              "      <td>35</td>\n",
              "      <td>F</td>\n",
              "    </tr>\n",
              "    <tr>\n",
              "      <th>97</th>\n",
              "      <td>52</td>\n",
              "      <td>D</td>\n",
              "    </tr>\n",
              "    <tr>\n",
              "      <th>98</th>\n",
              "      <td>15</td>\n",
              "      <td>F</td>\n",
              "    </tr>\n",
              "    <tr>\n",
              "      <th>99</th>\n",
              "      <td>68</td>\n",
              "      <td>C+</td>\n",
              "    </tr>\n",
              "  </tbody>\n",
              "</table>\n",
              "<p>100 rows × 2 columns</p>\n",
              "</div>"
            ],
            "text/plain": [
              "    Total (100%) Grade\n",
              "0             62     C\n",
              "1             77    B+\n",
              "2             27     F\n",
              "3             44     F\n",
              "4             58    D+\n",
              "..           ...   ...\n",
              "95            61     C\n",
              "96            35     F\n",
              "97            52     D\n",
              "98            15     F\n",
              "99            68    C+\n",
              "\n",
              "[100 rows x 2 columns]"
            ]
          },
          "metadata": {
            "tags": []
          },
          "execution_count": 4
        }
      ]
    },
    {
      "cell_type": "code",
      "metadata": {
        "colab": {
          "base_uri": "https://localhost:8080/",
          "height": 419
        },
        "id": "7wLU7oloJqwU",
        "outputId": "a877b61c-4dce-4920-bb3c-7ec75f002202"
      },
      "source": [
        "DF[[\"Grade\",\"Total (100%)\"]]"
      ],
      "execution_count": 5,
      "outputs": [
        {
          "output_type": "execute_result",
          "data": {
            "text/html": [
              "<div>\n",
              "<style scoped>\n",
              "    .dataframe tbody tr th:only-of-type {\n",
              "        vertical-align: middle;\n",
              "    }\n",
              "\n",
              "    .dataframe tbody tr th {\n",
              "        vertical-align: top;\n",
              "    }\n",
              "\n",
              "    .dataframe thead th {\n",
              "        text-align: right;\n",
              "    }\n",
              "</style>\n",
              "<table border=\"1\" class=\"dataframe\">\n",
              "  <thead>\n",
              "    <tr style=\"text-align: right;\">\n",
              "      <th></th>\n",
              "      <th>Grade</th>\n",
              "      <th>Total (100%)</th>\n",
              "    </tr>\n",
              "  </thead>\n",
              "  <tbody>\n",
              "    <tr>\n",
              "      <th>0</th>\n",
              "      <td>C</td>\n",
              "      <td>62</td>\n",
              "    </tr>\n",
              "    <tr>\n",
              "      <th>1</th>\n",
              "      <td>B+</td>\n",
              "      <td>77</td>\n",
              "    </tr>\n",
              "    <tr>\n",
              "      <th>2</th>\n",
              "      <td>F</td>\n",
              "      <td>27</td>\n",
              "    </tr>\n",
              "    <tr>\n",
              "      <th>3</th>\n",
              "      <td>F</td>\n",
              "      <td>44</td>\n",
              "    </tr>\n",
              "    <tr>\n",
              "      <th>4</th>\n",
              "      <td>D+</td>\n",
              "      <td>58</td>\n",
              "    </tr>\n",
              "    <tr>\n",
              "      <th>...</th>\n",
              "      <td>...</td>\n",
              "      <td>...</td>\n",
              "    </tr>\n",
              "    <tr>\n",
              "      <th>95</th>\n",
              "      <td>C</td>\n",
              "      <td>61</td>\n",
              "    </tr>\n",
              "    <tr>\n",
              "      <th>96</th>\n",
              "      <td>F</td>\n",
              "      <td>35</td>\n",
              "    </tr>\n",
              "    <tr>\n",
              "      <th>97</th>\n",
              "      <td>D</td>\n",
              "      <td>52</td>\n",
              "    </tr>\n",
              "    <tr>\n",
              "      <th>98</th>\n",
              "      <td>F</td>\n",
              "      <td>15</td>\n",
              "    </tr>\n",
              "    <tr>\n",
              "      <th>99</th>\n",
              "      <td>C+</td>\n",
              "      <td>68</td>\n",
              "    </tr>\n",
              "  </tbody>\n",
              "</table>\n",
              "<p>100 rows × 2 columns</p>\n",
              "</div>"
            ],
            "text/plain": [
              "   Grade  Total (100%)\n",
              "0      C            62\n",
              "1     B+            77\n",
              "2      F            27\n",
              "3      F            44\n",
              "4     D+            58\n",
              "..   ...           ...\n",
              "95     C            61\n",
              "96     F            35\n",
              "97     D            52\n",
              "98     F            15\n",
              "99    C+            68\n",
              "\n",
              "[100 rows x 2 columns]"
            ]
          },
          "metadata": {
            "tags": []
          },
          "execution_count": 5
        }
      ]
    },
    {
      "cell_type": "markdown",
      "metadata": {
        "id": "H-9ATRyitTmj"
      },
      "source": [
        "Let's play some stupid stuff 🤪"
      ]
    },
    {
      "cell_type": "code",
      "metadata": {
        "id": "xJWIsRo5sBCT",
        "outputId": "59b35c88-3fd7-477c-f88b-801bbfd3ae27",
        "colab": {
          "base_uri": "https://localhost:8080/",
          "height": 419
        }
      },
      "source": [
        "#You able to recall the repetive column\r\n",
        "\r\n",
        "DF[[\"Grade\",\"Total (100%)\",\"Grade\"]]"
      ],
      "execution_count": 6,
      "outputs": [
        {
          "output_type": "execute_result",
          "data": {
            "text/html": [
              "<div>\n",
              "<style scoped>\n",
              "    .dataframe tbody tr th:only-of-type {\n",
              "        vertical-align: middle;\n",
              "    }\n",
              "\n",
              "    .dataframe tbody tr th {\n",
              "        vertical-align: top;\n",
              "    }\n",
              "\n",
              "    .dataframe thead th {\n",
              "        text-align: right;\n",
              "    }\n",
              "</style>\n",
              "<table border=\"1\" class=\"dataframe\">\n",
              "  <thead>\n",
              "    <tr style=\"text-align: right;\">\n",
              "      <th></th>\n",
              "      <th>Grade</th>\n",
              "      <th>Total (100%)</th>\n",
              "      <th>Grade</th>\n",
              "    </tr>\n",
              "  </thead>\n",
              "  <tbody>\n",
              "    <tr>\n",
              "      <th>0</th>\n",
              "      <td>C</td>\n",
              "      <td>62</td>\n",
              "      <td>C</td>\n",
              "    </tr>\n",
              "    <tr>\n",
              "      <th>1</th>\n",
              "      <td>B+</td>\n",
              "      <td>77</td>\n",
              "      <td>B+</td>\n",
              "    </tr>\n",
              "    <tr>\n",
              "      <th>2</th>\n",
              "      <td>F</td>\n",
              "      <td>27</td>\n",
              "      <td>F</td>\n",
              "    </tr>\n",
              "    <tr>\n",
              "      <th>3</th>\n",
              "      <td>F</td>\n",
              "      <td>44</td>\n",
              "      <td>F</td>\n",
              "    </tr>\n",
              "    <tr>\n",
              "      <th>4</th>\n",
              "      <td>D+</td>\n",
              "      <td>58</td>\n",
              "      <td>D+</td>\n",
              "    </tr>\n",
              "    <tr>\n",
              "      <th>...</th>\n",
              "      <td>...</td>\n",
              "      <td>...</td>\n",
              "      <td>...</td>\n",
              "    </tr>\n",
              "    <tr>\n",
              "      <th>95</th>\n",
              "      <td>C</td>\n",
              "      <td>61</td>\n",
              "      <td>C</td>\n",
              "    </tr>\n",
              "    <tr>\n",
              "      <th>96</th>\n",
              "      <td>F</td>\n",
              "      <td>35</td>\n",
              "      <td>F</td>\n",
              "    </tr>\n",
              "    <tr>\n",
              "      <th>97</th>\n",
              "      <td>D</td>\n",
              "      <td>52</td>\n",
              "      <td>D</td>\n",
              "    </tr>\n",
              "    <tr>\n",
              "      <th>98</th>\n",
              "      <td>F</td>\n",
              "      <td>15</td>\n",
              "      <td>F</td>\n",
              "    </tr>\n",
              "    <tr>\n",
              "      <th>99</th>\n",
              "      <td>C+</td>\n",
              "      <td>68</td>\n",
              "      <td>C+</td>\n",
              "    </tr>\n",
              "  </tbody>\n",
              "</table>\n",
              "<p>100 rows × 3 columns</p>\n",
              "</div>"
            ],
            "text/plain": [
              "   Grade  Total (100%) Grade\n",
              "0      C            62     C\n",
              "1     B+            77    B+\n",
              "2      F            27     F\n",
              "3      F            44     F\n",
              "4     D+            58    D+\n",
              "..   ...           ...   ...\n",
              "95     C            61     C\n",
              "96     F            35     F\n",
              "97     D            52     D\n",
              "98     F            15     F\n",
              "99    C+            68    C+\n",
              "\n",
              "[100 rows x 3 columns]"
            ]
          },
          "metadata": {
            "tags": []
          },
          "execution_count": 6
        }
      ]
    },
    {
      "cell_type": "code",
      "metadata": {
        "id": "BjwzgHRKspi7"
      },
      "source": [
        "My_index =[90,80,70,90,80,70,90,80,70]"
      ],
      "execution_count": 7,
      "outputs": []
    },
    {
      "cell_type": "code",
      "metadata": {
        "id": "CT7UkVq6ssrD",
        "outputId": "3dbffed4-49d6-467a-b0bc-5453d166622b",
        "colab": {
          "base_uri": "https://localhost:8080/",
          "height": 328
        }
      },
      "source": [
        "#You able to run the same row\r\n",
        "\r\n",
        "DF.loc[My_index]"
      ],
      "execution_count": 8,
      "outputs": [
        {
          "output_type": "execute_result",
          "data": {
            "text/html": [
              "<div>\n",
              "<style scoped>\n",
              "    .dataframe tbody tr th:only-of-type {\n",
              "        vertical-align: middle;\n",
              "    }\n",
              "\n",
              "    .dataframe tbody tr th {\n",
              "        vertical-align: top;\n",
              "    }\n",
              "\n",
              "    .dataframe thead th {\n",
              "        text-align: right;\n",
              "    }\n",
              "</style>\n",
              "<table border=\"1\" class=\"dataframe\">\n",
              "  <thead>\n",
              "    <tr style=\"text-align: right;\">\n",
              "      <th></th>\n",
              "      <th>Total (100%)</th>\n",
              "      <th>Grade</th>\n",
              "    </tr>\n",
              "  </thead>\n",
              "  <tbody>\n",
              "    <tr>\n",
              "      <th>90</th>\n",
              "      <td>42</td>\n",
              "      <td>F</td>\n",
              "    </tr>\n",
              "    <tr>\n",
              "      <th>80</th>\n",
              "      <td>18</td>\n",
              "      <td>F</td>\n",
              "    </tr>\n",
              "    <tr>\n",
              "      <th>70</th>\n",
              "      <td>34</td>\n",
              "      <td>F</td>\n",
              "    </tr>\n",
              "    <tr>\n",
              "      <th>90</th>\n",
              "      <td>42</td>\n",
              "      <td>F</td>\n",
              "    </tr>\n",
              "    <tr>\n",
              "      <th>80</th>\n",
              "      <td>18</td>\n",
              "      <td>F</td>\n",
              "    </tr>\n",
              "    <tr>\n",
              "      <th>70</th>\n",
              "      <td>34</td>\n",
              "      <td>F</td>\n",
              "    </tr>\n",
              "    <tr>\n",
              "      <th>90</th>\n",
              "      <td>42</td>\n",
              "      <td>F</td>\n",
              "    </tr>\n",
              "    <tr>\n",
              "      <th>80</th>\n",
              "      <td>18</td>\n",
              "      <td>F</td>\n",
              "    </tr>\n",
              "    <tr>\n",
              "      <th>70</th>\n",
              "      <td>34</td>\n",
              "      <td>F</td>\n",
              "    </tr>\n",
              "  </tbody>\n",
              "</table>\n",
              "</div>"
            ],
            "text/plain": [
              "    Total (100%) Grade\n",
              "90            42     F\n",
              "80            18     F\n",
              "70            34     F\n",
              "90            42     F\n",
              "80            18     F\n",
              "70            34     F\n",
              "90            42     F\n",
              "80            18     F\n",
              "70            34     F"
            ]
          },
          "metadata": {
            "tags": []
          },
          "execution_count": 8
        }
      ]
    },
    {
      "cell_type": "markdown",
      "metadata": {
        "id": "Uq3aoMOryDtK"
      },
      "source": [
        "\r\n",
        "\r\n",
        "---\r\n",
        "\r\n"
      ]
    },
    {
      "cell_type": "markdown",
      "metadata": {
        "id": "CpU-vXd6yKpy"
      },
      "source": [
        "### 1.2 ) The characteristic of the column(s)"
      ]
    },
    {
      "cell_type": "code",
      "metadata": {
        "id": "UT0Qefpot83U",
        "outputId": "7c8d14a7-feaa-41af-cde3-2ca9a6ac45eb",
        "colab": {
          "base_uri": "https://localhost:8080/",
          "height": 297
        }
      },
      "source": [
        "DF.describe()"
      ],
      "execution_count": 10,
      "outputs": [
        {
          "output_type": "execute_result",
          "data": {
            "text/html": [
              "<div>\n",
              "<style scoped>\n",
              "    .dataframe tbody tr th:only-of-type {\n",
              "        vertical-align: middle;\n",
              "    }\n",
              "\n",
              "    .dataframe tbody tr th {\n",
              "        vertical-align: top;\n",
              "    }\n",
              "\n",
              "    .dataframe thead th {\n",
              "        text-align: right;\n",
              "    }\n",
              "</style>\n",
              "<table border=\"1\" class=\"dataframe\">\n",
              "  <thead>\n",
              "    <tr style=\"text-align: right;\">\n",
              "      <th></th>\n",
              "      <th>Total (100%)</th>\n",
              "    </tr>\n",
              "  </thead>\n",
              "  <tbody>\n",
              "    <tr>\n",
              "      <th>count</th>\n",
              "      <td>100.000000</td>\n",
              "    </tr>\n",
              "    <tr>\n",
              "      <th>mean</th>\n",
              "      <td>49.860000</td>\n",
              "    </tr>\n",
              "    <tr>\n",
              "      <th>std</th>\n",
              "      <td>17.141137</td>\n",
              "    </tr>\n",
              "    <tr>\n",
              "      <th>min</th>\n",
              "      <td>11.000000</td>\n",
              "    </tr>\n",
              "    <tr>\n",
              "      <th>25%</th>\n",
              "      <td>37.750000</td>\n",
              "    </tr>\n",
              "    <tr>\n",
              "      <th>50%</th>\n",
              "      <td>51.000000</td>\n",
              "    </tr>\n",
              "    <tr>\n",
              "      <th>75%</th>\n",
              "      <td>61.000000</td>\n",
              "    </tr>\n",
              "    <tr>\n",
              "      <th>max</th>\n",
              "      <td>90.000000</td>\n",
              "    </tr>\n",
              "  </tbody>\n",
              "</table>\n",
              "</div>"
            ],
            "text/plain": [
              "       Total (100%)\n",
              "count    100.000000\n",
              "mean      49.860000\n",
              "std       17.141137\n",
              "min       11.000000\n",
              "25%       37.750000\n",
              "50%       51.000000\n",
              "75%       61.000000\n",
              "max       90.000000"
            ]
          },
          "metadata": {
            "tags": []
          },
          "execution_count": 10
        }
      ]
    },
    {
      "cell_type": "code",
      "metadata": {
        "id": "Ah127-SpuAOz",
        "outputId": "e22e71e7-bfcc-4920-a48e-62591c19b6e3",
        "colab": {
          "base_uri": "https://localhost:8080/"
        }
      },
      "source": [
        "# The characteristic of the first column (according to all rows)\r\n",
        "\r\n",
        "DF.iloc[:,0].describe()"
      ],
      "execution_count": 16,
      "outputs": [
        {
          "output_type": "execute_result",
          "data": {
            "text/plain": [
              "count    100.000000\n",
              "mean      49.860000\n",
              "std       17.141137\n",
              "min       11.000000\n",
              "25%       37.750000\n",
              "50%       51.000000\n",
              "75%       61.000000\n",
              "max       90.000000\n",
              "Name: Total (100%), dtype: float64"
            ]
          },
          "metadata": {
            "tags": []
          },
          "execution_count": 16
        }
      ]
    },
    {
      "cell_type": "code",
      "metadata": {
        "id": "WlmCOwd_uvXz",
        "outputId": "c85cff7e-9857-45e2-bece-1f7367103905",
        "colab": {
          "base_uri": "https://localhost:8080/"
        }
      },
      "source": [
        "# Characteristic of Column Grade \r\n",
        "\r\n",
        "DF.iloc[:,1].describe()"
      ],
      "execution_count": 17,
      "outputs": [
        {
          "output_type": "execute_result",
          "data": {
            "text/plain": [
              "count     100\n",
              "unique      8\n",
              "top         F\n",
              "freq       45\n",
              "Name: Grade, dtype: object"
            ]
          },
          "metadata": {
            "tags": []
          },
          "execution_count": 17
        }
      ]
    },
    {
      "cell_type": "code",
      "metadata": {
        "id": "RzAuLV8EuGmD",
        "outputId": "a878258b-e62c-43c2-c6f4-2420680adac3",
        "colab": {
          "base_uri": "https://localhost:8080/"
        }
      },
      "source": [
        "# Characteristic of Column Grade (version2)\r\n",
        "\r\n",
        "DF.Grade.describe()"
      ],
      "execution_count": 12,
      "outputs": [
        {
          "output_type": "execute_result",
          "data": {
            "text/plain": [
              "count     100\n",
              "unique      8\n",
              "top         F\n",
              "freq       45\n",
              "Name: Grade, dtype: object"
            ]
          },
          "metadata": {
            "tags": []
          },
          "execution_count": 12
        }
      ]
    },
    {
      "cell_type": "code",
      "metadata": {
        "id": "Z8YrmfVNu4Bb",
        "outputId": "8b9ed384-cfa8-4447-b551-60fc88af4c56",
        "colab": {
          "base_uri": "https://localhost:8080/"
        }
      },
      "source": [
        "X = DF.Grade.value_counts()\r\n",
        "\r\n",
        "print(\"Now X is \",type(X))        #Pandas Series\r\n",
        "X"
      ],
      "execution_count": 19,
      "outputs": [
        {
          "output_type": "stream",
          "text": [
            "Now X is  <class 'pandas.core.series.Series'>\n"
          ],
          "name": "stdout"
        },
        {
          "output_type": "execute_result",
          "data": {
            "text/plain": [
              "F     45\n",
              "D     17\n",
              "D+    11\n",
              "C     10\n",
              "B+     7\n",
              "C+     6\n",
              "A      3\n",
              "B      1\n",
              "Name: Grade, dtype: int64"
            ]
          },
          "metadata": {
            "tags": []
          },
          "execution_count": 19
        }
      ]
    },
    {
      "cell_type": "markdown",
      "metadata": {
        "id": "Bj63ww2bybSR"
      },
      "source": [
        ""
      ]
    }
  ]
}