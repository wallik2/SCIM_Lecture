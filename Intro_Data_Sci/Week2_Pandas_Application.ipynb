{
  "nbformat": 4,
  "nbformat_minor": 0,
  "metadata": {
    "colab": {
      "name": "Week2: Pandas Application",
      "provenance": [],
      "authorship_tag": "ABX9TyOfmiRMqlGaKjie8mapABBJ",
      "include_colab_link": true
    },
    "kernelspec": {
      "name": "python3",
      "display_name": "Python 3"
    }
  },
  "cells": [
    {
      "cell_type": "markdown",
      "metadata": {
        "id": "view-in-github",
        "colab_type": "text"
      },
      "source": [
        "<a href=\"https://colab.research.google.com/github/wallik2/SCIM_Lecture/blob/main/Intro_Data_Sci/Week2_Pandas_Application.ipynb\" target=\"_parent\"><img src=\"https://colab.research.google.com/assets/colab-badge.svg\" alt=\"Open In Colab\"/></a>"
      ]
    },
    {
      "cell_type": "code",
      "metadata": {
        "id": "mrgGAA5zJLFI"
      },
      "source": [
        "import numpy as np\r\n",
        "import pandas as pd"
      ],
      "execution_count": 1,
      "outputs": []
    },
    {
      "cell_type": "code",
      "metadata": {
        "id": "OvGWMLbtJXTV"
      },
      "source": [
        "DF = pd.DataFrame(\r\n",
        "    [[62, 'C'],[77, 'B+'],[27, 'F'],[44, 'F'],[58, 'D+'],[76, 'B+'],[30, 'F'],\r\n",
        "     [53, 'D'],[20, 'F'],[76, 'B+'],[38, 'F'],[71, 'B'],[48, 'F'],[37, 'F'],\r\n",
        "     [52, 'D'],[57, 'D+'],[69, 'C+'],[47, 'F'],[50, 'D'],[33, 'F'],[63, 'C'],\r\n",
        "     [48, 'F'],[30, 'F'],[54, 'D'],[30, 'F'],[39, 'F'],[42, 'F'],[59, 'D+'],\r\n",
        "     [58, 'D+'],[61, 'C'],[24, 'F'],[28, 'F'],[58, 'D+'],[46, 'F'],[66, 'C+'],\r\n",
        "     [54, 'D'],[64, 'C'],[79, 'B+'],[33, 'F'],[44, 'F'],[60, 'C'],[15, 'F'],\r\n",
        "     [48, 'F'],[62, 'C'],[57, 'D+'],[46, 'F'],[51, 'D'],[50, 'D'],[27, 'F'],\r\n",
        "     [69, 'C+'],[59, 'D+'],[62, 'C'],[24, 'F'],[55, 'D+'],[58, 'D+'],[51,'D'],\r\n",
        "     [28, 'F'],[65, 'C+'],[47, 'F'],[11, 'F'],[90, 'A'],[69, 'C+'],[43, 'F'],\r\n",
        "     [75, 'B+'],[53, 'D'],[40, 'F'],[42, 'F'],[53, 'D'],[61, 'C'],[35, 'F'],\r\n",
        "     [34, 'F'],[52, 'D'],[52, 'D'],[55, 'D+'],[36, 'F'],[36, 'F'],[79, 'B+'],\r\n",
        "     [46, 'F'],[88, 'A'],[78, 'B+'],[18, 'F'],[87, 'A'],[46, 'F'],[30, 'F'],\r\n",
        "     [36, 'F'],[51, 'D'],[59, 'D+'],[16, 'F'],[64, 'C'],[54, 'D'],[42, 'F'],\r\n",
        "     [50, 'D'],[51, 'D'],[40, 'F'],[44, 'F'],[61, 'C'],[35, 'F'],[52, 'D'],\r\n",
        "     [15, 'F'],[68, 'C+']],\r\n",
        "     columns=['Total (100%)', 'Grade']\r\n",
        ")"
      ],
      "execution_count": 3,
      "outputs": []
    },
    {
      "cell_type": "code",
      "metadata": {
        "colab": {
          "base_uri": "https://localhost:8080/",
          "height": 419
        },
        "id": "luPBEy4SJius",
        "outputId": "dc9452f8-498d-4ce5-f648-b64e04b2965a"
      },
      "source": [
        "DF"
      ],
      "execution_count": 4,
      "outputs": [
        {
          "output_type": "execute_result",
          "data": {
            "text/html": [
              "<div>\n",
              "<style scoped>\n",
              "    .dataframe tbody tr th:only-of-type {\n",
              "        vertical-align: middle;\n",
              "    }\n",
              "\n",
              "    .dataframe tbody tr th {\n",
              "        vertical-align: top;\n",
              "    }\n",
              "\n",
              "    .dataframe thead th {\n",
              "        text-align: right;\n",
              "    }\n",
              "</style>\n",
              "<table border=\"1\" class=\"dataframe\">\n",
              "  <thead>\n",
              "    <tr style=\"text-align: right;\">\n",
              "      <th></th>\n",
              "      <th>Total (100%)</th>\n",
              "      <th>Grade</th>\n",
              "    </tr>\n",
              "  </thead>\n",
              "  <tbody>\n",
              "    <tr>\n",
              "      <th>0</th>\n",
              "      <td>62</td>\n",
              "      <td>C</td>\n",
              "    </tr>\n",
              "    <tr>\n",
              "      <th>1</th>\n",
              "      <td>77</td>\n",
              "      <td>B+</td>\n",
              "    </tr>\n",
              "    <tr>\n",
              "      <th>2</th>\n",
              "      <td>27</td>\n",
              "      <td>F</td>\n",
              "    </tr>\n",
              "    <tr>\n",
              "      <th>3</th>\n",
              "      <td>44</td>\n",
              "      <td>F</td>\n",
              "    </tr>\n",
              "    <tr>\n",
              "      <th>4</th>\n",
              "      <td>58</td>\n",
              "      <td>D+</td>\n",
              "    </tr>\n",
              "    <tr>\n",
              "      <th>...</th>\n",
              "      <td>...</td>\n",
              "      <td>...</td>\n",
              "    </tr>\n",
              "    <tr>\n",
              "      <th>95</th>\n",
              "      <td>61</td>\n",
              "      <td>C</td>\n",
              "    </tr>\n",
              "    <tr>\n",
              "      <th>96</th>\n",
              "      <td>35</td>\n",
              "      <td>F</td>\n",
              "    </tr>\n",
              "    <tr>\n",
              "      <th>97</th>\n",
              "      <td>52</td>\n",
              "      <td>D</td>\n",
              "    </tr>\n",
              "    <tr>\n",
              "      <th>98</th>\n",
              "      <td>15</td>\n",
              "      <td>F</td>\n",
              "    </tr>\n",
              "    <tr>\n",
              "      <th>99</th>\n",
              "      <td>68</td>\n",
              "      <td>C+</td>\n",
              "    </tr>\n",
              "  </tbody>\n",
              "</table>\n",
              "<p>100 rows × 2 columns</p>\n",
              "</div>"
            ],
            "text/plain": [
              "    Total (100%) Grade\n",
              "0             62     C\n",
              "1             77    B+\n",
              "2             27     F\n",
              "3             44     F\n",
              "4             58    D+\n",
              "..           ...   ...\n",
              "95            61     C\n",
              "96            35     F\n",
              "97            52     D\n",
              "98            15     F\n",
              "99            68    C+\n",
              "\n",
              "[100 rows x 2 columns]"
            ]
          },
          "metadata": {
            "tags": []
          },
          "execution_count": 4
        }
      ]
    },
    {
      "cell_type": "code",
      "metadata": {
        "colab": {
          "base_uri": "https://localhost:8080/",
          "height": 419
        },
        "id": "7wLU7oloJqwU",
        "outputId": "b1ad17c7-9f92-42f2-a9de-499ac7848e6d"
      },
      "source": [
        "DF[[\"Grade\",\"Total (100%)\"]]"
      ],
      "execution_count": 5,
      "outputs": [
        {
          "output_type": "execute_result",
          "data": {
            "text/html": [
              "<div>\n",
              "<style scoped>\n",
              "    .dataframe tbody tr th:only-of-type {\n",
              "        vertical-align: middle;\n",
              "    }\n",
              "\n",
              "    .dataframe tbody tr th {\n",
              "        vertical-align: top;\n",
              "    }\n",
              "\n",
              "    .dataframe thead th {\n",
              "        text-align: right;\n",
              "    }\n",
              "</style>\n",
              "<table border=\"1\" class=\"dataframe\">\n",
              "  <thead>\n",
              "    <tr style=\"text-align: right;\">\n",
              "      <th></th>\n",
              "      <th>Grade</th>\n",
              "      <th>Total (100%)</th>\n",
              "    </tr>\n",
              "  </thead>\n",
              "  <tbody>\n",
              "    <tr>\n",
              "      <th>0</th>\n",
              "      <td>C</td>\n",
              "      <td>62</td>\n",
              "    </tr>\n",
              "    <tr>\n",
              "      <th>1</th>\n",
              "      <td>B+</td>\n",
              "      <td>77</td>\n",
              "    </tr>\n",
              "    <tr>\n",
              "      <th>2</th>\n",
              "      <td>F</td>\n",
              "      <td>27</td>\n",
              "    </tr>\n",
              "    <tr>\n",
              "      <th>3</th>\n",
              "      <td>F</td>\n",
              "      <td>44</td>\n",
              "    </tr>\n",
              "    <tr>\n",
              "      <th>4</th>\n",
              "      <td>D+</td>\n",
              "      <td>58</td>\n",
              "    </tr>\n",
              "    <tr>\n",
              "      <th>...</th>\n",
              "      <td>...</td>\n",
              "      <td>...</td>\n",
              "    </tr>\n",
              "    <tr>\n",
              "      <th>95</th>\n",
              "      <td>C</td>\n",
              "      <td>61</td>\n",
              "    </tr>\n",
              "    <tr>\n",
              "      <th>96</th>\n",
              "      <td>F</td>\n",
              "      <td>35</td>\n",
              "    </tr>\n",
              "    <tr>\n",
              "      <th>97</th>\n",
              "      <td>D</td>\n",
              "      <td>52</td>\n",
              "    </tr>\n",
              "    <tr>\n",
              "      <th>98</th>\n",
              "      <td>F</td>\n",
              "      <td>15</td>\n",
              "    </tr>\n",
              "    <tr>\n",
              "      <th>99</th>\n",
              "      <td>C+</td>\n",
              "      <td>68</td>\n",
              "    </tr>\n",
              "  </tbody>\n",
              "</table>\n",
              "<p>100 rows × 2 columns</p>\n",
              "</div>"
            ],
            "text/plain": [
              "   Grade  Total (100%)\n",
              "0      C            62\n",
              "1     B+            77\n",
              "2      F            27\n",
              "3      F            44\n",
              "4     D+            58\n",
              "..   ...           ...\n",
              "95     C            61\n",
              "96     F            35\n",
              "97     D            52\n",
              "98     F            15\n",
              "99    C+            68\n",
              "\n",
              "[100 rows x 2 columns]"
            ]
          },
          "metadata": {
            "tags": []
          },
          "execution_count": 5
        }
      ]
    }
  ]
}