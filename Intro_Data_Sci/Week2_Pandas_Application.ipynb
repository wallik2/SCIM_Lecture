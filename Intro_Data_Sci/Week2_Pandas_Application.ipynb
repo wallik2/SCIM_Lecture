{
  "nbformat": 4,
  "nbformat_minor": 0,
  "metadata": {
    "colab": {
      "name": "Week2: Pandas Application",
      "provenance": [],
      "authorship_tag": "ABX9TyOTS9rdI/P4U61XOzeArFih",
      "include_colab_link": true
    },
    "kernelspec": {
      "name": "python3",
      "display_name": "Python 3"
    },
    "accelerator": "GPU"
  },
  "cells": [
    {
      "cell_type": "markdown",
      "metadata": {
        "id": "view-in-github",
        "colab_type": "text"
      },
      "source": [
        "<a href=\"https://colab.research.google.com/github/wallik2/SCIM_Lecture/blob/main/Intro_Data_Sci/Week2_Pandas_Application.ipynb\" target=\"_parent\"><img src=\"https://colab.research.google.com/assets/colab-badge.svg\" alt=\"Open In Colab\"/></a>"
      ]
    },
    {
      "cell_type": "markdown",
      "metadata": {
        "id": "gEWq071bs0ak"
      },
      "source": [
        "# Pandas Application"
      ]
    },
    {
      "cell_type": "code",
      "metadata": {
        "id": "mrgGAA5zJLFI"
      },
      "source": [
        "import numpy as np\r\n",
        "import pandas as pd"
      ],
      "execution_count": 29,
      "outputs": []
    },
    {
      "cell_type": "markdown",
      "metadata": {
        "id": "FwA-z9CUs5Pb"
      },
      "source": [
        "## <u>Application 1</u> : Compute the Student's Grade"
      ]
    },
    {
      "cell_type": "markdown",
      "metadata": {
        "id": "9fGjdeKMx2N6"
      },
      "source": [
        "\r\n",
        "\r\n",
        "\r\n",
        "### 1.1 ) Create the DataFrame"
      ]
    },
    {
      "cell_type": "code",
      "metadata": {
        "id": "OvGWMLbtJXTV"
      },
      "source": [
        "DF = pd.DataFrame(\r\n",
        "    [[62, 'C'],[77, 'B+'],[27, 'F'],[44, 'F'],[58, 'D+'],[76, 'B+'],[30, 'F'],\r\n",
        "     [53, 'D'],[20, 'F'],[76, 'B+'],[38, 'F'],[71, 'B'],[48, 'F'],[37, 'F'],\r\n",
        "     [52, 'D'],[57, 'D+'],[69, 'C+'],[47, 'F'],[50, 'D'],[33, 'F'],[63, 'C'],\r\n",
        "     [48, 'F'],[30, 'F'],[54, 'D'],[30, 'F'],[39, 'F'],[42, 'F'],[59, 'D+'],\r\n",
        "     [58, 'D+'],[61, 'C'],[24, 'F'],[28, 'F'],[58, 'D+'],[46, 'F'],[66, 'C+'],\r\n",
        "     [54, 'D'],[64, 'C'],[79, 'B+'],[33, 'F'],[44, 'F'],[60, 'C'],[15, 'F'],\r\n",
        "     [48, 'F'],[62, 'C'],[57, 'D+'],[46, 'F'],[51, 'D'],[50, 'D'],[27, 'F'],\r\n",
        "     [69, 'C+'],[59, 'D+'],[62, 'C'],[24, 'F'],[55, 'D+'],[58, 'D+'],[51,'D'],\r\n",
        "     [28, 'F'],[65, 'C+'],[47, 'F'],[11, 'F'],[90, 'A'],[69, 'C+'],[43, 'F'],\r\n",
        "     [75, 'B+'],[53, 'D'],[40, 'F'],[42, 'F'],[53, 'D'],[61, 'C'],[35, 'F'],\r\n",
        "     [34, 'F'],[52, 'D'],[52, 'D'],[55, 'D+'],[36, 'F'],[36, 'F'],[79, 'B+'],\r\n",
        "     [46, 'F'],[88, 'A'],[78, 'B+'],[18, 'F'],[87, 'A'],[46, 'F'],[30, 'F'],\r\n",
        "     [36, 'F'],[51, 'D'],[59, 'D+'],[16, 'F'],[64, 'C'],[54, 'D'],[42, 'F'],\r\n",
        "     [50, 'D'],[51, 'D'],[40, 'F'],[44, 'F'],[61, 'C'],[35, 'F'],[52, 'D'],\r\n",
        "     [15, 'F'],[68, 'C+']],\r\n",
        "     columns=['Total (100%)', 'Grade']\r\n",
        ")"
      ],
      "execution_count": 30,
      "outputs": []
    },
    {
      "cell_type": "code",
      "metadata": {
        "colab": {
          "base_uri": "https://localhost:8080/",
          "height": 0
        },
        "id": "luPBEy4SJius",
        "outputId": "4a37bedc-b0b6-4758-8352-08f009345125"
      },
      "source": [
        "DF"
      ],
      "execution_count": 31,
      "outputs": [
        {
          "output_type": "execute_result",
          "data": {
            "text/html": [
              "<div>\n",
              "<style scoped>\n",
              "    .dataframe tbody tr th:only-of-type {\n",
              "        vertical-align: middle;\n",
              "    }\n",
              "\n",
              "    .dataframe tbody tr th {\n",
              "        vertical-align: top;\n",
              "    }\n",
              "\n",
              "    .dataframe thead th {\n",
              "        text-align: right;\n",
              "    }\n",
              "</style>\n",
              "<table border=\"1\" class=\"dataframe\">\n",
              "  <thead>\n",
              "    <tr style=\"text-align: right;\">\n",
              "      <th></th>\n",
              "      <th>Total (100%)</th>\n",
              "      <th>Grade</th>\n",
              "    </tr>\n",
              "  </thead>\n",
              "  <tbody>\n",
              "    <tr>\n",
              "      <th>0</th>\n",
              "      <td>62</td>\n",
              "      <td>C</td>\n",
              "    </tr>\n",
              "    <tr>\n",
              "      <th>1</th>\n",
              "      <td>77</td>\n",
              "      <td>B+</td>\n",
              "    </tr>\n",
              "    <tr>\n",
              "      <th>2</th>\n",
              "      <td>27</td>\n",
              "      <td>F</td>\n",
              "    </tr>\n",
              "    <tr>\n",
              "      <th>3</th>\n",
              "      <td>44</td>\n",
              "      <td>F</td>\n",
              "    </tr>\n",
              "    <tr>\n",
              "      <th>4</th>\n",
              "      <td>58</td>\n",
              "      <td>D+</td>\n",
              "    </tr>\n",
              "    <tr>\n",
              "      <th>...</th>\n",
              "      <td>...</td>\n",
              "      <td>...</td>\n",
              "    </tr>\n",
              "    <tr>\n",
              "      <th>95</th>\n",
              "      <td>61</td>\n",
              "      <td>C</td>\n",
              "    </tr>\n",
              "    <tr>\n",
              "      <th>96</th>\n",
              "      <td>35</td>\n",
              "      <td>F</td>\n",
              "    </tr>\n",
              "    <tr>\n",
              "      <th>97</th>\n",
              "      <td>52</td>\n",
              "      <td>D</td>\n",
              "    </tr>\n",
              "    <tr>\n",
              "      <th>98</th>\n",
              "      <td>15</td>\n",
              "      <td>F</td>\n",
              "    </tr>\n",
              "    <tr>\n",
              "      <th>99</th>\n",
              "      <td>68</td>\n",
              "      <td>C+</td>\n",
              "    </tr>\n",
              "  </tbody>\n",
              "</table>\n",
              "<p>100 rows × 2 columns</p>\n",
              "</div>"
            ],
            "text/plain": [
              "    Total (100%) Grade\n",
              "0             62     C\n",
              "1             77    B+\n",
              "2             27     F\n",
              "3             44     F\n",
              "4             58    D+\n",
              "..           ...   ...\n",
              "95            61     C\n",
              "96            35     F\n",
              "97            52     D\n",
              "98            15     F\n",
              "99            68    C+\n",
              "\n",
              "[100 rows x 2 columns]"
            ]
          },
          "metadata": {
            "tags": []
          },
          "execution_count": 31
        }
      ]
    },
    {
      "cell_type": "code",
      "metadata": {
        "colab": {
          "base_uri": "https://localhost:8080/",
          "height": 0
        },
        "id": "7wLU7oloJqwU",
        "outputId": "a6d44d14-1c4f-4d63-895c-78878409d648"
      },
      "source": [
        "DF[[\"Grade\",\"Total (100%)\"]]"
      ],
      "execution_count": 32,
      "outputs": [
        {
          "output_type": "execute_result",
          "data": {
            "text/html": [
              "<div>\n",
              "<style scoped>\n",
              "    .dataframe tbody tr th:only-of-type {\n",
              "        vertical-align: middle;\n",
              "    }\n",
              "\n",
              "    .dataframe tbody tr th {\n",
              "        vertical-align: top;\n",
              "    }\n",
              "\n",
              "    .dataframe thead th {\n",
              "        text-align: right;\n",
              "    }\n",
              "</style>\n",
              "<table border=\"1\" class=\"dataframe\">\n",
              "  <thead>\n",
              "    <tr style=\"text-align: right;\">\n",
              "      <th></th>\n",
              "      <th>Grade</th>\n",
              "      <th>Total (100%)</th>\n",
              "    </tr>\n",
              "  </thead>\n",
              "  <tbody>\n",
              "    <tr>\n",
              "      <th>0</th>\n",
              "      <td>C</td>\n",
              "      <td>62</td>\n",
              "    </tr>\n",
              "    <tr>\n",
              "      <th>1</th>\n",
              "      <td>B+</td>\n",
              "      <td>77</td>\n",
              "    </tr>\n",
              "    <tr>\n",
              "      <th>2</th>\n",
              "      <td>F</td>\n",
              "      <td>27</td>\n",
              "    </tr>\n",
              "    <tr>\n",
              "      <th>3</th>\n",
              "      <td>F</td>\n",
              "      <td>44</td>\n",
              "    </tr>\n",
              "    <tr>\n",
              "      <th>4</th>\n",
              "      <td>D+</td>\n",
              "      <td>58</td>\n",
              "    </tr>\n",
              "    <tr>\n",
              "      <th>...</th>\n",
              "      <td>...</td>\n",
              "      <td>...</td>\n",
              "    </tr>\n",
              "    <tr>\n",
              "      <th>95</th>\n",
              "      <td>C</td>\n",
              "      <td>61</td>\n",
              "    </tr>\n",
              "    <tr>\n",
              "      <th>96</th>\n",
              "      <td>F</td>\n",
              "      <td>35</td>\n",
              "    </tr>\n",
              "    <tr>\n",
              "      <th>97</th>\n",
              "      <td>D</td>\n",
              "      <td>52</td>\n",
              "    </tr>\n",
              "    <tr>\n",
              "      <th>98</th>\n",
              "      <td>F</td>\n",
              "      <td>15</td>\n",
              "    </tr>\n",
              "    <tr>\n",
              "      <th>99</th>\n",
              "      <td>C+</td>\n",
              "      <td>68</td>\n",
              "    </tr>\n",
              "  </tbody>\n",
              "</table>\n",
              "<p>100 rows × 2 columns</p>\n",
              "</div>"
            ],
            "text/plain": [
              "   Grade  Total (100%)\n",
              "0      C            62\n",
              "1     B+            77\n",
              "2      F            27\n",
              "3      F            44\n",
              "4     D+            58\n",
              "..   ...           ...\n",
              "95     C            61\n",
              "96     F            35\n",
              "97     D            52\n",
              "98     F            15\n",
              "99    C+            68\n",
              "\n",
              "[100 rows x 2 columns]"
            ]
          },
          "metadata": {
            "tags": []
          },
          "execution_count": 32
        }
      ]
    },
    {
      "cell_type": "markdown",
      "metadata": {
        "id": "H-9ATRyitTmj"
      },
      "source": [
        "Let's play some stupid stuff 🤪"
      ]
    },
    {
      "cell_type": "code",
      "metadata": {
        "colab": {
          "base_uri": "https://localhost:8080/",
          "height": 0
        },
        "id": "xJWIsRo5sBCT",
        "outputId": "5ea31e0b-db09-4784-ff35-8b578f29692f"
      },
      "source": [
        "#You able to recall the repetive column\r\n",
        "\r\n",
        "DF[[\"Grade\",\"Total (100%)\",\"Grade\"]]"
      ],
      "execution_count": 33,
      "outputs": [
        {
          "output_type": "execute_result",
          "data": {
            "text/html": [
              "<div>\n",
              "<style scoped>\n",
              "    .dataframe tbody tr th:only-of-type {\n",
              "        vertical-align: middle;\n",
              "    }\n",
              "\n",
              "    .dataframe tbody tr th {\n",
              "        vertical-align: top;\n",
              "    }\n",
              "\n",
              "    .dataframe thead th {\n",
              "        text-align: right;\n",
              "    }\n",
              "</style>\n",
              "<table border=\"1\" class=\"dataframe\">\n",
              "  <thead>\n",
              "    <tr style=\"text-align: right;\">\n",
              "      <th></th>\n",
              "      <th>Grade</th>\n",
              "      <th>Total (100%)</th>\n",
              "      <th>Grade</th>\n",
              "    </tr>\n",
              "  </thead>\n",
              "  <tbody>\n",
              "    <tr>\n",
              "      <th>0</th>\n",
              "      <td>C</td>\n",
              "      <td>62</td>\n",
              "      <td>C</td>\n",
              "    </tr>\n",
              "    <tr>\n",
              "      <th>1</th>\n",
              "      <td>B+</td>\n",
              "      <td>77</td>\n",
              "      <td>B+</td>\n",
              "    </tr>\n",
              "    <tr>\n",
              "      <th>2</th>\n",
              "      <td>F</td>\n",
              "      <td>27</td>\n",
              "      <td>F</td>\n",
              "    </tr>\n",
              "    <tr>\n",
              "      <th>3</th>\n",
              "      <td>F</td>\n",
              "      <td>44</td>\n",
              "      <td>F</td>\n",
              "    </tr>\n",
              "    <tr>\n",
              "      <th>4</th>\n",
              "      <td>D+</td>\n",
              "      <td>58</td>\n",
              "      <td>D+</td>\n",
              "    </tr>\n",
              "    <tr>\n",
              "      <th>...</th>\n",
              "      <td>...</td>\n",
              "      <td>...</td>\n",
              "      <td>...</td>\n",
              "    </tr>\n",
              "    <tr>\n",
              "      <th>95</th>\n",
              "      <td>C</td>\n",
              "      <td>61</td>\n",
              "      <td>C</td>\n",
              "    </tr>\n",
              "    <tr>\n",
              "      <th>96</th>\n",
              "      <td>F</td>\n",
              "      <td>35</td>\n",
              "      <td>F</td>\n",
              "    </tr>\n",
              "    <tr>\n",
              "      <th>97</th>\n",
              "      <td>D</td>\n",
              "      <td>52</td>\n",
              "      <td>D</td>\n",
              "    </tr>\n",
              "    <tr>\n",
              "      <th>98</th>\n",
              "      <td>F</td>\n",
              "      <td>15</td>\n",
              "      <td>F</td>\n",
              "    </tr>\n",
              "    <tr>\n",
              "      <th>99</th>\n",
              "      <td>C+</td>\n",
              "      <td>68</td>\n",
              "      <td>C+</td>\n",
              "    </tr>\n",
              "  </tbody>\n",
              "</table>\n",
              "<p>100 rows × 3 columns</p>\n",
              "</div>"
            ],
            "text/plain": [
              "   Grade  Total (100%) Grade\n",
              "0      C            62     C\n",
              "1     B+            77    B+\n",
              "2      F            27     F\n",
              "3      F            44     F\n",
              "4     D+            58    D+\n",
              "..   ...           ...   ...\n",
              "95     C            61     C\n",
              "96     F            35     F\n",
              "97     D            52     D\n",
              "98     F            15     F\n",
              "99    C+            68    C+\n",
              "\n",
              "[100 rows x 3 columns]"
            ]
          },
          "metadata": {
            "tags": []
          },
          "execution_count": 33
        }
      ]
    },
    {
      "cell_type": "code",
      "metadata": {
        "id": "BjwzgHRKspi7"
      },
      "source": [
        "My_index =[90,80,70,90,80,70,90,80,70]"
      ],
      "execution_count": 34,
      "outputs": []
    },
    {
      "cell_type": "code",
      "metadata": {
        "colab": {
          "base_uri": "https://localhost:8080/",
          "height": 0
        },
        "id": "CT7UkVq6ssrD",
        "outputId": "0a942af0-d67e-459b-a139-5ecdb90c4e73"
      },
      "source": [
        "#You able to run the same row\r\n",
        "\r\n",
        "DF.loc[My_index]"
      ],
      "execution_count": 35,
      "outputs": [
        {
          "output_type": "execute_result",
          "data": {
            "text/html": [
              "<div>\n",
              "<style scoped>\n",
              "    .dataframe tbody tr th:only-of-type {\n",
              "        vertical-align: middle;\n",
              "    }\n",
              "\n",
              "    .dataframe tbody tr th {\n",
              "        vertical-align: top;\n",
              "    }\n",
              "\n",
              "    .dataframe thead th {\n",
              "        text-align: right;\n",
              "    }\n",
              "</style>\n",
              "<table border=\"1\" class=\"dataframe\">\n",
              "  <thead>\n",
              "    <tr style=\"text-align: right;\">\n",
              "      <th></th>\n",
              "      <th>Total (100%)</th>\n",
              "      <th>Grade</th>\n",
              "    </tr>\n",
              "  </thead>\n",
              "  <tbody>\n",
              "    <tr>\n",
              "      <th>90</th>\n",
              "      <td>42</td>\n",
              "      <td>F</td>\n",
              "    </tr>\n",
              "    <tr>\n",
              "      <th>80</th>\n",
              "      <td>18</td>\n",
              "      <td>F</td>\n",
              "    </tr>\n",
              "    <tr>\n",
              "      <th>70</th>\n",
              "      <td>34</td>\n",
              "      <td>F</td>\n",
              "    </tr>\n",
              "    <tr>\n",
              "      <th>90</th>\n",
              "      <td>42</td>\n",
              "      <td>F</td>\n",
              "    </tr>\n",
              "    <tr>\n",
              "      <th>80</th>\n",
              "      <td>18</td>\n",
              "      <td>F</td>\n",
              "    </tr>\n",
              "    <tr>\n",
              "      <th>70</th>\n",
              "      <td>34</td>\n",
              "      <td>F</td>\n",
              "    </tr>\n",
              "    <tr>\n",
              "      <th>90</th>\n",
              "      <td>42</td>\n",
              "      <td>F</td>\n",
              "    </tr>\n",
              "    <tr>\n",
              "      <th>80</th>\n",
              "      <td>18</td>\n",
              "      <td>F</td>\n",
              "    </tr>\n",
              "    <tr>\n",
              "      <th>70</th>\n",
              "      <td>34</td>\n",
              "      <td>F</td>\n",
              "    </tr>\n",
              "  </tbody>\n",
              "</table>\n",
              "</div>"
            ],
            "text/plain": [
              "    Total (100%) Grade\n",
              "90            42     F\n",
              "80            18     F\n",
              "70            34     F\n",
              "90            42     F\n",
              "80            18     F\n",
              "70            34     F\n",
              "90            42     F\n",
              "80            18     F\n",
              "70            34     F"
            ]
          },
          "metadata": {
            "tags": []
          },
          "execution_count": 35
        }
      ]
    },
    {
      "cell_type": "markdown",
      "metadata": {
        "id": "Uq3aoMOryDtK"
      },
      "source": [
        "\r\n",
        "\r\n",
        "---\r\n",
        "\r\n"
      ]
    },
    {
      "cell_type": "markdown",
      "metadata": {
        "id": "CpU-vXd6yKpy"
      },
      "source": [
        "### 1.2 ) The characteristic of the column(s)"
      ]
    },
    {
      "cell_type": "code",
      "metadata": {
        "colab": {
          "base_uri": "https://localhost:8080/",
          "height": 297
        },
        "id": "UT0Qefpot83U",
        "outputId": "929265b5-ce68-4ec8-8fad-ee2a0e0a4e79"
      },
      "source": [
        "DF.describe()"
      ],
      "execution_count": 36,
      "outputs": [
        {
          "output_type": "execute_result",
          "data": {
            "text/html": [
              "<div>\n",
              "<style scoped>\n",
              "    .dataframe tbody tr th:only-of-type {\n",
              "        vertical-align: middle;\n",
              "    }\n",
              "\n",
              "    .dataframe tbody tr th {\n",
              "        vertical-align: top;\n",
              "    }\n",
              "\n",
              "    .dataframe thead th {\n",
              "        text-align: right;\n",
              "    }\n",
              "</style>\n",
              "<table border=\"1\" class=\"dataframe\">\n",
              "  <thead>\n",
              "    <tr style=\"text-align: right;\">\n",
              "      <th></th>\n",
              "      <th>Total (100%)</th>\n",
              "    </tr>\n",
              "  </thead>\n",
              "  <tbody>\n",
              "    <tr>\n",
              "      <th>count</th>\n",
              "      <td>100.000000</td>\n",
              "    </tr>\n",
              "    <tr>\n",
              "      <th>mean</th>\n",
              "      <td>49.860000</td>\n",
              "    </tr>\n",
              "    <tr>\n",
              "      <th>std</th>\n",
              "      <td>17.141137</td>\n",
              "    </tr>\n",
              "    <tr>\n",
              "      <th>min</th>\n",
              "      <td>11.000000</td>\n",
              "    </tr>\n",
              "    <tr>\n",
              "      <th>25%</th>\n",
              "      <td>37.750000</td>\n",
              "    </tr>\n",
              "    <tr>\n",
              "      <th>50%</th>\n",
              "      <td>51.000000</td>\n",
              "    </tr>\n",
              "    <tr>\n",
              "      <th>75%</th>\n",
              "      <td>61.000000</td>\n",
              "    </tr>\n",
              "    <tr>\n",
              "      <th>max</th>\n",
              "      <td>90.000000</td>\n",
              "    </tr>\n",
              "  </tbody>\n",
              "</table>\n",
              "</div>"
            ],
            "text/plain": [
              "       Total (100%)\n",
              "count    100.000000\n",
              "mean      49.860000\n",
              "std       17.141137\n",
              "min       11.000000\n",
              "25%       37.750000\n",
              "50%       51.000000\n",
              "75%       61.000000\n",
              "max       90.000000"
            ]
          },
          "metadata": {
            "tags": []
          },
          "execution_count": 36
        }
      ]
    },
    {
      "cell_type": "code",
      "metadata": {
        "colab": {
          "base_uri": "https://localhost:8080/"
        },
        "id": "Ah127-SpuAOz",
        "outputId": "7258c404-7df0-4ec0-f6bd-bc0d292ff4e3"
      },
      "source": [
        "# The characteristic of the first column (according to all rows)\r\n",
        "\r\n",
        "DF.iloc[:,0].describe()"
      ],
      "execution_count": 37,
      "outputs": [
        {
          "output_type": "execute_result",
          "data": {
            "text/plain": [
              "count    100.000000\n",
              "mean      49.860000\n",
              "std       17.141137\n",
              "min       11.000000\n",
              "25%       37.750000\n",
              "50%       51.000000\n",
              "75%       61.000000\n",
              "max       90.000000\n",
              "Name: Total (100%), dtype: float64"
            ]
          },
          "metadata": {
            "tags": []
          },
          "execution_count": 37
        }
      ]
    },
    {
      "cell_type": "code",
      "metadata": {
        "colab": {
          "base_uri": "https://localhost:8080/"
        },
        "id": "WlmCOwd_uvXz",
        "outputId": "8dc8865b-58d2-4e65-9c16-8dd550ce09dc"
      },
      "source": [
        "# Characteristic of Column Grade \r\n",
        "\r\n",
        "DF.iloc[:,1].describe()"
      ],
      "execution_count": 38,
      "outputs": [
        {
          "output_type": "execute_result",
          "data": {
            "text/plain": [
              "count     100\n",
              "unique      8\n",
              "top         F\n",
              "freq       45\n",
              "Name: Grade, dtype: object"
            ]
          },
          "metadata": {
            "tags": []
          },
          "execution_count": 38
        }
      ]
    },
    {
      "cell_type": "code",
      "metadata": {
        "colab": {
          "base_uri": "https://localhost:8080/"
        },
        "id": "RzAuLV8EuGmD",
        "outputId": "38e0503b-b17e-416d-cf57-43e45896a8ad"
      },
      "source": [
        "# Characteristic of Column Grade (version2)\r\n",
        "\r\n",
        "DF.Grade.describe()"
      ],
      "execution_count": 39,
      "outputs": [
        {
          "output_type": "execute_result",
          "data": {
            "text/plain": [
              "count     100\n",
              "unique      8\n",
              "top         F\n",
              "freq       45\n",
              "Name: Grade, dtype: object"
            ]
          },
          "metadata": {
            "tags": []
          },
          "execution_count": 39
        }
      ]
    },
    {
      "cell_type": "code",
      "metadata": {
        "colab": {
          "base_uri": "https://localhost:8080/"
        },
        "id": "Z8YrmfVNu4Bb",
        "outputId": "a07bc884-fd86-4177-d064-4607945b83d6"
      },
      "source": [
        "X = DF.Grade.value_counts()\r\n",
        "\r\n",
        "print(\"Now X is \",type(X))        #Pandas Series\r\n",
        "X"
      ],
      "execution_count": 40,
      "outputs": [
        {
          "output_type": "stream",
          "text": [
            "Now X is  <class 'pandas.core.series.Series'>\n"
          ],
          "name": "stdout"
        },
        {
          "output_type": "execute_result",
          "data": {
            "text/plain": [
              "F     45\n",
              "D     17\n",
              "D+    11\n",
              "C     10\n",
              "B+     7\n",
              "C+     6\n",
              "A      3\n",
              "B      1\n",
              "Name: Grade, dtype: int64"
            ]
          },
          "metadata": {
            "tags": []
          },
          "execution_count": 40
        }
      ]
    },
    {
      "cell_type": "markdown",
      "metadata": {
        "id": "Bj63ww2bybSR"
      },
      "source": [
        "\r\n",
        "\r\n",
        "---\r\n",
        "\r\n",
        "\r\n",
        "## <u>Application 2</u> : Student Grade but larger imported dataset"
      ]
    },
    {
      "cell_type": "markdown",
      "metadata": {
        "id": "Sf2GBd4fBpbm"
      },
      "source": [
        "### 2.1 ) Import Dataset"
      ]
    },
    {
      "cell_type": "markdown",
      "metadata": {
        "id": "jV20KZAjB-Je"
      },
      "source": [
        "- With Index column"
      ]
    },
    {
      "cell_type": "code",
      "metadata": {
        "id": "mko6_-n1ArS3"
      },
      "source": [
        "url = 'https://raw.githubusercontent.com/wallik2/SCIM_Lecture/main/Intro_Data_Sci/Raw_Score.csv'\r\n",
        "\r\n",
        "df = pd.read_csv(url)"
      ],
      "execution_count": 41,
      "outputs": []
    },
    {
      "cell_type": "code",
      "metadata": {
        "id": "NtndfcgSAtxv",
        "outputId": "4c339015-945b-4fcc-91c2-02bb2a15009f",
        "colab": {
          "base_uri": "https://localhost:8080/",
          "height": 204
        }
      },
      "source": [
        "df.head(5) "
      ],
      "execution_count": 42,
      "outputs": [
        {
          "output_type": "execute_result",
          "data": {
            "text/html": [
              "<div>\n",
              "<style scoped>\n",
              "    .dataframe tbody tr th:only-of-type {\n",
              "        vertical-align: middle;\n",
              "    }\n",
              "\n",
              "    .dataframe tbody tr th {\n",
              "        vertical-align: top;\n",
              "    }\n",
              "\n",
              "    .dataframe thead th {\n",
              "        text-align: right;\n",
              "    }\n",
              "</style>\n",
              "<table border=\"1\" class=\"dataframe\">\n",
              "  <thead>\n",
              "    <tr style=\"text-align: right;\">\n",
              "      <th></th>\n",
              "      <th>ID</th>\n",
              "      <th>Assignments (100)</th>\n",
              "      <th>Midterm (100)</th>\n",
              "      <th>Final (100)</th>\n",
              "      <th>Assignments (30%)</th>\n",
              "      <th>Midterm (35%)</th>\n",
              "      <th>Final (35%)</th>\n",
              "      <th>Total (100%)</th>\n",
              "      <th>Grade</th>\n",
              "    </tr>\n",
              "  </thead>\n",
              "  <tbody>\n",
              "    <tr>\n",
              "      <th>0</th>\n",
              "      <td>XX01001</td>\n",
              "      <td>86</td>\n",
              "      <td>56</td>\n",
              "      <td>60</td>\n",
              "      <td>NaN</td>\n",
              "      <td>NaN</td>\n",
              "      <td>NaN</td>\n",
              "      <td>NaN</td>\n",
              "      <td>NaN</td>\n",
              "    </tr>\n",
              "    <tr>\n",
              "      <th>1</th>\n",
              "      <td>XX01002</td>\n",
              "      <td>16</td>\n",
              "      <td>93</td>\n",
              "      <td>80</td>\n",
              "      <td>NaN</td>\n",
              "      <td>NaN</td>\n",
              "      <td>NaN</td>\n",
              "      <td>NaN</td>\n",
              "      <td>NaN</td>\n",
              "    </tr>\n",
              "    <tr>\n",
              "      <th>2</th>\n",
              "      <td>XX01003</td>\n",
              "      <td>50</td>\n",
              "      <td>46</td>\n",
              "      <td>40</td>\n",
              "      <td>NaN</td>\n",
              "      <td>NaN</td>\n",
              "      <td>NaN</td>\n",
              "      <td>NaN</td>\n",
              "      <td>NaN</td>\n",
              "    </tr>\n",
              "    <tr>\n",
              "      <th>3</th>\n",
              "      <td>XX01004</td>\n",
              "      <td>96</td>\n",
              "      <td>36</td>\n",
              "      <td>62</td>\n",
              "      <td>NaN</td>\n",
              "      <td>NaN</td>\n",
              "      <td>NaN</td>\n",
              "      <td>NaN</td>\n",
              "      <td>NaN</td>\n",
              "    </tr>\n",
              "    <tr>\n",
              "      <th>4</th>\n",
              "      <td>XX01005</td>\n",
              "      <td>13</td>\n",
              "      <td>83</td>\n",
              "      <td>0</td>\n",
              "      <td>NaN</td>\n",
              "      <td>NaN</td>\n",
              "      <td>NaN</td>\n",
              "      <td>NaN</td>\n",
              "      <td>NaN</td>\n",
              "    </tr>\n",
              "  </tbody>\n",
              "</table>\n",
              "</div>"
            ],
            "text/plain": [
              "        ID  Assignments (100)  Midterm (100)  ...  Final (35%)  Total (100%)  Grade\n",
              "0  XX01001                 86             56  ...          NaN           NaN    NaN\n",
              "1  XX01002                 16             93  ...          NaN           NaN    NaN\n",
              "2  XX01003                 50             46  ...          NaN           NaN    NaN\n",
              "3  XX01004                 96             36  ...          NaN           NaN    NaN\n",
              "4  XX01005                 13             83  ...          NaN           NaN    NaN\n",
              "\n",
              "[5 rows x 9 columns]"
            ]
          },
          "metadata": {
            "tags": []
          },
          "execution_count": 42
        }
      ]
    },
    {
      "cell_type": "markdown",
      "metadata": {
        "id": "lX2mTnt9CFLO"
      },
      "source": [
        "- Without Index column"
      ]
    },
    {
      "cell_type": "code",
      "metadata": {
        "id": "kpwHvq5cBRUO"
      },
      "source": [
        "url = 'https://raw.githubusercontent.com/wallik2/SCIM_Lecture/main/Intro_Data_Sci/Raw_Score.csv'\r\n",
        "\r\n",
        "df = pd.read_csv(url,index_col=0)"
      ],
      "execution_count": 43,
      "outputs": []
    },
    {
      "cell_type": "code",
      "metadata": {
        "id": "-P_NR67GB6rA",
        "outputId": "502ef7b6-d9c9-4495-b95f-9d97f785e69e",
        "colab": {
          "base_uri": "https://localhost:8080/",
          "height": 235
        }
      },
      "source": [
        "df.head(5)"
      ],
      "execution_count": 44,
      "outputs": [
        {
          "output_type": "execute_result",
          "data": {
            "text/html": [
              "<div>\n",
              "<style scoped>\n",
              "    .dataframe tbody tr th:only-of-type {\n",
              "        vertical-align: middle;\n",
              "    }\n",
              "\n",
              "    .dataframe tbody tr th {\n",
              "        vertical-align: top;\n",
              "    }\n",
              "\n",
              "    .dataframe thead th {\n",
              "        text-align: right;\n",
              "    }\n",
              "</style>\n",
              "<table border=\"1\" class=\"dataframe\">\n",
              "  <thead>\n",
              "    <tr style=\"text-align: right;\">\n",
              "      <th></th>\n",
              "      <th>Assignments (100)</th>\n",
              "      <th>Midterm (100)</th>\n",
              "      <th>Final (100)</th>\n",
              "      <th>Assignments (30%)</th>\n",
              "      <th>Midterm (35%)</th>\n",
              "      <th>Final (35%)</th>\n",
              "      <th>Total (100%)</th>\n",
              "      <th>Grade</th>\n",
              "    </tr>\n",
              "    <tr>\n",
              "      <th>ID</th>\n",
              "      <th></th>\n",
              "      <th></th>\n",
              "      <th></th>\n",
              "      <th></th>\n",
              "      <th></th>\n",
              "      <th></th>\n",
              "      <th></th>\n",
              "      <th></th>\n",
              "    </tr>\n",
              "  </thead>\n",
              "  <tbody>\n",
              "    <tr>\n",
              "      <th>XX01001</th>\n",
              "      <td>86</td>\n",
              "      <td>56</td>\n",
              "      <td>60</td>\n",
              "      <td>NaN</td>\n",
              "      <td>NaN</td>\n",
              "      <td>NaN</td>\n",
              "      <td>NaN</td>\n",
              "      <td>NaN</td>\n",
              "    </tr>\n",
              "    <tr>\n",
              "      <th>XX01002</th>\n",
              "      <td>16</td>\n",
              "      <td>93</td>\n",
              "      <td>80</td>\n",
              "      <td>NaN</td>\n",
              "      <td>NaN</td>\n",
              "      <td>NaN</td>\n",
              "      <td>NaN</td>\n",
              "      <td>NaN</td>\n",
              "    </tr>\n",
              "    <tr>\n",
              "      <th>XX01003</th>\n",
              "      <td>50</td>\n",
              "      <td>46</td>\n",
              "      <td>40</td>\n",
              "      <td>NaN</td>\n",
              "      <td>NaN</td>\n",
              "      <td>NaN</td>\n",
              "      <td>NaN</td>\n",
              "      <td>NaN</td>\n",
              "    </tr>\n",
              "    <tr>\n",
              "      <th>XX01004</th>\n",
              "      <td>96</td>\n",
              "      <td>36</td>\n",
              "      <td>62</td>\n",
              "      <td>NaN</td>\n",
              "      <td>NaN</td>\n",
              "      <td>NaN</td>\n",
              "      <td>NaN</td>\n",
              "      <td>NaN</td>\n",
              "    </tr>\n",
              "    <tr>\n",
              "      <th>XX01005</th>\n",
              "      <td>13</td>\n",
              "      <td>83</td>\n",
              "      <td>0</td>\n",
              "      <td>NaN</td>\n",
              "      <td>NaN</td>\n",
              "      <td>NaN</td>\n",
              "      <td>NaN</td>\n",
              "      <td>NaN</td>\n",
              "    </tr>\n",
              "  </tbody>\n",
              "</table>\n",
              "</div>"
            ],
            "text/plain": [
              "         Assignments (100)  Midterm (100)  ...  Total (100%)  Grade\n",
              "ID                                         ...                     \n",
              "XX01001                 86             56  ...           NaN    NaN\n",
              "XX01002                 16             93  ...           NaN    NaN\n",
              "XX01003                 50             46  ...           NaN    NaN\n",
              "XX01004                 96             36  ...           NaN    NaN\n",
              "XX01005                 13             83  ...           NaN    NaN\n",
              "\n",
              "[5 rows x 8 columns]"
            ]
          },
          "metadata": {
            "tags": []
          },
          "execution_count": 44
        }
      ]
    },
    {
      "cell_type": "markdown",
      "metadata": {
        "id": "SM9aOuLjCRhu"
      },
      "source": [
        "df.columns"
      ]
    },
    {
      "cell_type": "markdown",
      "metadata": {
        "id": "3wi85Gq5DG4d"
      },
      "source": [
        "\r\n",
        "\r\n",
        "---\r\n",
        "\r\n",
        "\r\n",
        "### 2.2) Characteristics of DataFrame"
      ]
    },
    {
      "cell_type": "code",
      "metadata": {
        "id": "qS_u0JhoCVd-",
        "outputId": "0742f1d2-3a06-4d3c-c239-183bfbba7299",
        "colab": {
          "base_uri": "https://localhost:8080/"
        }
      },
      "source": [
        "df.columns"
      ],
      "execution_count": 45,
      "outputs": [
        {
          "output_type": "execute_result",
          "data": {
            "text/plain": [
              "Index(['Assignments (100)', 'Midterm (100)', 'Final (100)',\n",
              "       'Assignments (30%)', 'Midterm (35%)', 'Final (35%)', 'Total (100%)',\n",
              "       'Grade'],\n",
              "      dtype='object')"
            ]
          },
          "metadata": {
            "tags": []
          },
          "execution_count": 45
        }
      ]
    },
    {
      "cell_type": "markdown",
      "metadata": {
        "id": "2oOHq8kPDUqW"
      },
      "source": [
        "> Ways to access the first column"
      ]
    },
    {
      "cell_type": "code",
      "metadata": {
        "id": "dojcPyjqCsL-",
        "outputId": "ab3f9f57-da39-40fd-c9e7-6ff32f2cb84c",
        "colab": {
          "base_uri": "https://localhost:8080/"
        }
      },
      "source": [
        "df['Assignments (100)']"
      ],
      "execution_count": 46,
      "outputs": [
        {
          "output_type": "execute_result",
          "data": {
            "text/plain": [
              "ID\n",
              "XX01001     86\n",
              "XX01002     16\n",
              "XX01003     50\n",
              "XX01004     96\n",
              "XX01005     13\n",
              "          ... \n",
              "XX03998     56\n",
              "XX03999    100\n",
              "XX04001     90\n",
              "XX04002     26\n",
              "XX04003     33\n",
              "Name: Assignments (100), Length: 3000, dtype: int64"
            ]
          },
          "metadata": {
            "tags": []
          },
          "execution_count": 46
        }
      ]
    },
    {
      "cell_type": "code",
      "metadata": {
        "id": "OorFaGA0C-Le",
        "outputId": "5dbd6841-750e-434a-f638-4158d9e60bb8",
        "colab": {
          "base_uri": "https://localhost:8080/"
        }
      },
      "source": [
        "df.iloc[:,0]\r\n",
        "\r\n",
        "#แบนี้ ตารางจะไม่สวย"
      ],
      "execution_count": 47,
      "outputs": [
        {
          "output_type": "execute_result",
          "data": {
            "text/plain": [
              "ID\n",
              "XX01001     86\n",
              "XX01002     16\n",
              "XX01003     50\n",
              "XX01004     96\n",
              "XX01005     13\n",
              "          ... \n",
              "XX03998     56\n",
              "XX03999    100\n",
              "XX04001     90\n",
              "XX04002     26\n",
              "XX04003     33\n",
              "Name: Assignments (100), Length: 3000, dtype: int64"
            ]
          },
          "metadata": {
            "tags": []
          },
          "execution_count": 47
        }
      ]
    },
    {
      "cell_type": "code",
      "metadata": {
        "id": "W8QmdV96Ccs2",
        "outputId": "25b67fd5-dc67-4110-e3c0-85bf5df149a2",
        "colab": {
          "base_uri": "https://localhost:8080/",
          "height": 450
        }
      },
      "source": [
        "df.iloc[:,[0]]\r\n",
        "\r\n",
        "#ใส่ list ให้ 0 เพิ้อให้ ได้ตารางแบบนี้"
      ],
      "execution_count": 48,
      "outputs": [
        {
          "output_type": "execute_result",
          "data": {
            "text/html": [
              "<div>\n",
              "<style scoped>\n",
              "    .dataframe tbody tr th:only-of-type {\n",
              "        vertical-align: middle;\n",
              "    }\n",
              "\n",
              "    .dataframe tbody tr th {\n",
              "        vertical-align: top;\n",
              "    }\n",
              "\n",
              "    .dataframe thead th {\n",
              "        text-align: right;\n",
              "    }\n",
              "</style>\n",
              "<table border=\"1\" class=\"dataframe\">\n",
              "  <thead>\n",
              "    <tr style=\"text-align: right;\">\n",
              "      <th></th>\n",
              "      <th>Assignments (100)</th>\n",
              "    </tr>\n",
              "    <tr>\n",
              "      <th>ID</th>\n",
              "      <th></th>\n",
              "    </tr>\n",
              "  </thead>\n",
              "  <tbody>\n",
              "    <tr>\n",
              "      <th>XX01001</th>\n",
              "      <td>86</td>\n",
              "    </tr>\n",
              "    <tr>\n",
              "      <th>XX01002</th>\n",
              "      <td>16</td>\n",
              "    </tr>\n",
              "    <tr>\n",
              "      <th>XX01003</th>\n",
              "      <td>50</td>\n",
              "    </tr>\n",
              "    <tr>\n",
              "      <th>XX01004</th>\n",
              "      <td>96</td>\n",
              "    </tr>\n",
              "    <tr>\n",
              "      <th>XX01005</th>\n",
              "      <td>13</td>\n",
              "    </tr>\n",
              "    <tr>\n",
              "      <th>...</th>\n",
              "      <td>...</td>\n",
              "    </tr>\n",
              "    <tr>\n",
              "      <th>XX03998</th>\n",
              "      <td>56</td>\n",
              "    </tr>\n",
              "    <tr>\n",
              "      <th>XX03999</th>\n",
              "      <td>100</td>\n",
              "    </tr>\n",
              "    <tr>\n",
              "      <th>XX04001</th>\n",
              "      <td>90</td>\n",
              "    </tr>\n",
              "    <tr>\n",
              "      <th>XX04002</th>\n",
              "      <td>26</td>\n",
              "    </tr>\n",
              "    <tr>\n",
              "      <th>XX04003</th>\n",
              "      <td>33</td>\n",
              "    </tr>\n",
              "  </tbody>\n",
              "</table>\n",
              "<p>3000 rows × 1 columns</p>\n",
              "</div>"
            ],
            "text/plain": [
              "         Assignments (100)\n",
              "ID                        \n",
              "XX01001                 86\n",
              "XX01002                 16\n",
              "XX01003                 50\n",
              "XX01004                 96\n",
              "XX01005                 13\n",
              "...                    ...\n",
              "XX03998                 56\n",
              "XX03999                100\n",
              "XX04001                 90\n",
              "XX04002                 26\n",
              "XX04003                 33\n",
              "\n",
              "[3000 rows x 1 columns]"
            ]
          },
          "metadata": {
            "tags": []
          },
          "execution_count": 48
        }
      ]
    },
    {
      "cell_type": "code",
      "metadata": {
        "id": "gwaC6T1XCfaN",
        "outputId": "8cbafcf7-006c-45fc-9cc4-fcb1debe0a1d",
        "colab": {
          "base_uri": "https://localhost:8080/",
          "height": 450
        }
      },
      "source": [
        "df.loc[:,['Assignments (100)']]"
      ],
      "execution_count": 49,
      "outputs": [
        {
          "output_type": "execute_result",
          "data": {
            "text/html": [
              "<div>\n",
              "<style scoped>\n",
              "    .dataframe tbody tr th:only-of-type {\n",
              "        vertical-align: middle;\n",
              "    }\n",
              "\n",
              "    .dataframe tbody tr th {\n",
              "        vertical-align: top;\n",
              "    }\n",
              "\n",
              "    .dataframe thead th {\n",
              "        text-align: right;\n",
              "    }\n",
              "</style>\n",
              "<table border=\"1\" class=\"dataframe\">\n",
              "  <thead>\n",
              "    <tr style=\"text-align: right;\">\n",
              "      <th></th>\n",
              "      <th>Assignments (100)</th>\n",
              "    </tr>\n",
              "    <tr>\n",
              "      <th>ID</th>\n",
              "      <th></th>\n",
              "    </tr>\n",
              "  </thead>\n",
              "  <tbody>\n",
              "    <tr>\n",
              "      <th>XX01001</th>\n",
              "      <td>86</td>\n",
              "    </tr>\n",
              "    <tr>\n",
              "      <th>XX01002</th>\n",
              "      <td>16</td>\n",
              "    </tr>\n",
              "    <tr>\n",
              "      <th>XX01003</th>\n",
              "      <td>50</td>\n",
              "    </tr>\n",
              "    <tr>\n",
              "      <th>XX01004</th>\n",
              "      <td>96</td>\n",
              "    </tr>\n",
              "    <tr>\n",
              "      <th>XX01005</th>\n",
              "      <td>13</td>\n",
              "    </tr>\n",
              "    <tr>\n",
              "      <th>...</th>\n",
              "      <td>...</td>\n",
              "    </tr>\n",
              "    <tr>\n",
              "      <th>XX03998</th>\n",
              "      <td>56</td>\n",
              "    </tr>\n",
              "    <tr>\n",
              "      <th>XX03999</th>\n",
              "      <td>100</td>\n",
              "    </tr>\n",
              "    <tr>\n",
              "      <th>XX04001</th>\n",
              "      <td>90</td>\n",
              "    </tr>\n",
              "    <tr>\n",
              "      <th>XX04002</th>\n",
              "      <td>26</td>\n",
              "    </tr>\n",
              "    <tr>\n",
              "      <th>XX04003</th>\n",
              "      <td>33</td>\n",
              "    </tr>\n",
              "  </tbody>\n",
              "</table>\n",
              "<p>3000 rows × 1 columns</p>\n",
              "</div>"
            ],
            "text/plain": [
              "         Assignments (100)\n",
              "ID                        \n",
              "XX01001                 86\n",
              "XX01002                 16\n",
              "XX01003                 50\n",
              "XX01004                 96\n",
              "XX01005                 13\n",
              "...                    ...\n",
              "XX03998                 56\n",
              "XX03999                100\n",
              "XX04001                 90\n",
              "XX04002                 26\n",
              "XX04003                 33\n",
              "\n",
              "[3000 rows x 1 columns]"
            ]
          },
          "metadata": {
            "tags": []
          },
          "execution_count": 49
        }
      ]
    },
    {
      "cell_type": "code",
      "metadata": {
        "id": "ad63KnOhCiWe",
        "outputId": "fd28eb98-2484-4f8e-f659-ab348e8f3171",
        "colab": {
          "base_uri": "https://localhost:8080/",
          "height": 450
        }
      },
      "source": [
        "df.iloc[:,0:1]"
      ],
      "execution_count": 50,
      "outputs": [
        {
          "output_type": "execute_result",
          "data": {
            "text/html": [
              "<div>\n",
              "<style scoped>\n",
              "    .dataframe tbody tr th:only-of-type {\n",
              "        vertical-align: middle;\n",
              "    }\n",
              "\n",
              "    .dataframe tbody tr th {\n",
              "        vertical-align: top;\n",
              "    }\n",
              "\n",
              "    .dataframe thead th {\n",
              "        text-align: right;\n",
              "    }\n",
              "</style>\n",
              "<table border=\"1\" class=\"dataframe\">\n",
              "  <thead>\n",
              "    <tr style=\"text-align: right;\">\n",
              "      <th></th>\n",
              "      <th>Assignments (100)</th>\n",
              "    </tr>\n",
              "    <tr>\n",
              "      <th>ID</th>\n",
              "      <th></th>\n",
              "    </tr>\n",
              "  </thead>\n",
              "  <tbody>\n",
              "    <tr>\n",
              "      <th>XX01001</th>\n",
              "      <td>86</td>\n",
              "    </tr>\n",
              "    <tr>\n",
              "      <th>XX01002</th>\n",
              "      <td>16</td>\n",
              "    </tr>\n",
              "    <tr>\n",
              "      <th>XX01003</th>\n",
              "      <td>50</td>\n",
              "    </tr>\n",
              "    <tr>\n",
              "      <th>XX01004</th>\n",
              "      <td>96</td>\n",
              "    </tr>\n",
              "    <tr>\n",
              "      <th>XX01005</th>\n",
              "      <td>13</td>\n",
              "    </tr>\n",
              "    <tr>\n",
              "      <th>...</th>\n",
              "      <td>...</td>\n",
              "    </tr>\n",
              "    <tr>\n",
              "      <th>XX03998</th>\n",
              "      <td>56</td>\n",
              "    </tr>\n",
              "    <tr>\n",
              "      <th>XX03999</th>\n",
              "      <td>100</td>\n",
              "    </tr>\n",
              "    <tr>\n",
              "      <th>XX04001</th>\n",
              "      <td>90</td>\n",
              "    </tr>\n",
              "    <tr>\n",
              "      <th>XX04002</th>\n",
              "      <td>26</td>\n",
              "    </tr>\n",
              "    <tr>\n",
              "      <th>XX04003</th>\n",
              "      <td>33</td>\n",
              "    </tr>\n",
              "  </tbody>\n",
              "</table>\n",
              "<p>3000 rows × 1 columns</p>\n",
              "</div>"
            ],
            "text/plain": [
              "         Assignments (100)\n",
              "ID                        \n",
              "XX01001                 86\n",
              "XX01002                 16\n",
              "XX01003                 50\n",
              "XX01004                 96\n",
              "XX01005                 13\n",
              "...                    ...\n",
              "XX03998                 56\n",
              "XX03999                100\n",
              "XX04001                 90\n",
              "XX04002                 26\n",
              "XX04003                 33\n",
              "\n",
              "[3000 rows x 1 columns]"
            ]
          },
          "metadata": {
            "tags": []
          },
          "execution_count": 50
        }
      ]
    },
    {
      "cell_type": "markdown",
      "metadata": {
        "id": "xc_Z2SZMDi7O"
      },
      "source": [
        "> Ways to access the first row"
      ]
    },
    {
      "cell_type": "code",
      "metadata": {
        "id": "tMHskPYDD0Bf",
        "outputId": "dfd81b93-815a-400e-d676-22c775848ece",
        "colab": {
          "base_uri": "https://localhost:8080/"
        }
      },
      "source": [
        "df.iloc[0]\r\n",
        "\r\n",
        "# เวอร์ชั่นไม่สวย"
      ],
      "execution_count": 51,
      "outputs": [
        {
          "output_type": "execute_result",
          "data": {
            "text/plain": [
              "Assignments (100)    86.0\n",
              "Midterm (100)        56.0\n",
              "Final (100)          60.0\n",
              "Assignments (30%)     NaN\n",
              "Midterm (35%)         NaN\n",
              "Final (35%)           NaN\n",
              "Total (100%)          NaN\n",
              "Grade                 NaN\n",
              "Name: XX01001, dtype: float64"
            ]
          },
          "metadata": {
            "tags": []
          },
          "execution_count": 51
        }
      ]
    },
    {
      "cell_type": "code",
      "metadata": {
        "id": "jAKx6rKPDtD9",
        "outputId": "c881fe4b-abf7-4bb8-cfa3-0cc272b0b5cc",
        "colab": {
          "base_uri": "https://localhost:8080/",
          "height": 111
        }
      },
      "source": [
        "df.iloc[[0]]\r\n",
        "\r\n",
        "# เวอร์ชั่นสวย"
      ],
      "execution_count": 52,
      "outputs": [
        {
          "output_type": "execute_result",
          "data": {
            "text/html": [
              "<div>\n",
              "<style scoped>\n",
              "    .dataframe tbody tr th:only-of-type {\n",
              "        vertical-align: middle;\n",
              "    }\n",
              "\n",
              "    .dataframe tbody tr th {\n",
              "        vertical-align: top;\n",
              "    }\n",
              "\n",
              "    .dataframe thead th {\n",
              "        text-align: right;\n",
              "    }\n",
              "</style>\n",
              "<table border=\"1\" class=\"dataframe\">\n",
              "  <thead>\n",
              "    <tr style=\"text-align: right;\">\n",
              "      <th></th>\n",
              "      <th>Assignments (100)</th>\n",
              "      <th>Midterm (100)</th>\n",
              "      <th>Final (100)</th>\n",
              "      <th>Assignments (30%)</th>\n",
              "      <th>Midterm (35%)</th>\n",
              "      <th>Final (35%)</th>\n",
              "      <th>Total (100%)</th>\n",
              "      <th>Grade</th>\n",
              "    </tr>\n",
              "    <tr>\n",
              "      <th>ID</th>\n",
              "      <th></th>\n",
              "      <th></th>\n",
              "      <th></th>\n",
              "      <th></th>\n",
              "      <th></th>\n",
              "      <th></th>\n",
              "      <th></th>\n",
              "      <th></th>\n",
              "    </tr>\n",
              "  </thead>\n",
              "  <tbody>\n",
              "    <tr>\n",
              "      <th>XX01001</th>\n",
              "      <td>86</td>\n",
              "      <td>56</td>\n",
              "      <td>60</td>\n",
              "      <td>NaN</td>\n",
              "      <td>NaN</td>\n",
              "      <td>NaN</td>\n",
              "      <td>NaN</td>\n",
              "      <td>NaN</td>\n",
              "    </tr>\n",
              "  </tbody>\n",
              "</table>\n",
              "</div>"
            ],
            "text/plain": [
              "         Assignments (100)  Midterm (100)  ...  Total (100%)  Grade\n",
              "ID                                         ...                     \n",
              "XX01001                 86             56  ...           NaN    NaN\n",
              "\n",
              "[1 rows x 8 columns]"
            ]
          },
          "metadata": {
            "tags": []
          },
          "execution_count": 52
        }
      ]
    },
    {
      "cell_type": "code",
      "metadata": {
        "id": "DzbLI9O8EF8W",
        "outputId": "93c16fa0-2cf4-4652-a883-06ecd89e07b1",
        "colab": {
          "base_uri": "https://localhost:8080/",
          "height": 204
        }
      },
      "source": [
        "df.iloc[0:4,0:4]"
      ],
      "execution_count": 53,
      "outputs": [
        {
          "output_type": "execute_result",
          "data": {
            "text/html": [
              "<div>\n",
              "<style scoped>\n",
              "    .dataframe tbody tr th:only-of-type {\n",
              "        vertical-align: middle;\n",
              "    }\n",
              "\n",
              "    .dataframe tbody tr th {\n",
              "        vertical-align: top;\n",
              "    }\n",
              "\n",
              "    .dataframe thead th {\n",
              "        text-align: right;\n",
              "    }\n",
              "</style>\n",
              "<table border=\"1\" class=\"dataframe\">\n",
              "  <thead>\n",
              "    <tr style=\"text-align: right;\">\n",
              "      <th></th>\n",
              "      <th>Assignments (100)</th>\n",
              "      <th>Midterm (100)</th>\n",
              "      <th>Final (100)</th>\n",
              "      <th>Assignments (30%)</th>\n",
              "    </tr>\n",
              "    <tr>\n",
              "      <th>ID</th>\n",
              "      <th></th>\n",
              "      <th></th>\n",
              "      <th></th>\n",
              "      <th></th>\n",
              "    </tr>\n",
              "  </thead>\n",
              "  <tbody>\n",
              "    <tr>\n",
              "      <th>XX01001</th>\n",
              "      <td>86</td>\n",
              "      <td>56</td>\n",
              "      <td>60</td>\n",
              "      <td>NaN</td>\n",
              "    </tr>\n",
              "    <tr>\n",
              "      <th>XX01002</th>\n",
              "      <td>16</td>\n",
              "      <td>93</td>\n",
              "      <td>80</td>\n",
              "      <td>NaN</td>\n",
              "    </tr>\n",
              "    <tr>\n",
              "      <th>XX01003</th>\n",
              "      <td>50</td>\n",
              "      <td>46</td>\n",
              "      <td>40</td>\n",
              "      <td>NaN</td>\n",
              "    </tr>\n",
              "    <tr>\n",
              "      <th>XX01004</th>\n",
              "      <td>96</td>\n",
              "      <td>36</td>\n",
              "      <td>62</td>\n",
              "      <td>NaN</td>\n",
              "    </tr>\n",
              "  </tbody>\n",
              "</table>\n",
              "</div>"
            ],
            "text/plain": [
              "         Assignments (100)  Midterm (100)  Final (100)  Assignments (30%)\n",
              "ID                                                                       \n",
              "XX01001                 86             56           60                NaN\n",
              "XX01002                 16             93           80                NaN\n",
              "XX01003                 50             46           40                NaN\n",
              "XX01004                 96             36           62                NaN"
            ]
          },
          "metadata": {
            "tags": []
          },
          "execution_count": 53
        }
      ]
    },
    {
      "cell_type": "markdown",
      "metadata": {
        "id": "1XAbseqPEk3m"
      },
      "source": [
        "> Ways to access multiple rows"
      ]
    },
    {
      "cell_type": "code",
      "metadata": {
        "id": "7UgmNkxEEkHd",
        "outputId": "0d3a6f82-a560-4c5a-9963-3b195f7b4490",
        "colab": {
          "base_uri": "https://localhost:8080/",
          "height": 390
        }
      },
      "source": [
        "#Alternative 1\r\n",
        "df.iloc[0:10]"
      ],
      "execution_count": 54,
      "outputs": [
        {
          "output_type": "execute_result",
          "data": {
            "text/html": [
              "<div>\n",
              "<style scoped>\n",
              "    .dataframe tbody tr th:only-of-type {\n",
              "        vertical-align: middle;\n",
              "    }\n",
              "\n",
              "    .dataframe tbody tr th {\n",
              "        vertical-align: top;\n",
              "    }\n",
              "\n",
              "    .dataframe thead th {\n",
              "        text-align: right;\n",
              "    }\n",
              "</style>\n",
              "<table border=\"1\" class=\"dataframe\">\n",
              "  <thead>\n",
              "    <tr style=\"text-align: right;\">\n",
              "      <th></th>\n",
              "      <th>Assignments (100)</th>\n",
              "      <th>Midterm (100)</th>\n",
              "      <th>Final (100)</th>\n",
              "      <th>Assignments (30%)</th>\n",
              "      <th>Midterm (35%)</th>\n",
              "      <th>Final (35%)</th>\n",
              "      <th>Total (100%)</th>\n",
              "      <th>Grade</th>\n",
              "    </tr>\n",
              "    <tr>\n",
              "      <th>ID</th>\n",
              "      <th></th>\n",
              "      <th></th>\n",
              "      <th></th>\n",
              "      <th></th>\n",
              "      <th></th>\n",
              "      <th></th>\n",
              "      <th></th>\n",
              "      <th></th>\n",
              "    </tr>\n",
              "  </thead>\n",
              "  <tbody>\n",
              "    <tr>\n",
              "      <th>XX01001</th>\n",
              "      <td>86</td>\n",
              "      <td>56</td>\n",
              "      <td>60</td>\n",
              "      <td>NaN</td>\n",
              "      <td>NaN</td>\n",
              "      <td>NaN</td>\n",
              "      <td>NaN</td>\n",
              "      <td>NaN</td>\n",
              "    </tr>\n",
              "    <tr>\n",
              "      <th>XX01002</th>\n",
              "      <td>16</td>\n",
              "      <td>93</td>\n",
              "      <td>80</td>\n",
              "      <td>NaN</td>\n",
              "      <td>NaN</td>\n",
              "      <td>NaN</td>\n",
              "      <td>NaN</td>\n",
              "      <td>NaN</td>\n",
              "    </tr>\n",
              "    <tr>\n",
              "      <th>XX01003</th>\n",
              "      <td>50</td>\n",
              "      <td>46</td>\n",
              "      <td>40</td>\n",
              "      <td>NaN</td>\n",
              "      <td>NaN</td>\n",
              "      <td>NaN</td>\n",
              "      <td>NaN</td>\n",
              "      <td>NaN</td>\n",
              "    </tr>\n",
              "    <tr>\n",
              "      <th>XX01004</th>\n",
              "      <td>96</td>\n",
              "      <td>36</td>\n",
              "      <td>62</td>\n",
              "      <td>NaN</td>\n",
              "      <td>NaN</td>\n",
              "      <td>NaN</td>\n",
              "      <td>NaN</td>\n",
              "      <td>NaN</td>\n",
              "    </tr>\n",
              "    <tr>\n",
              "      <th>XX01005</th>\n",
              "      <td>13</td>\n",
              "      <td>83</td>\n",
              "      <td>0</td>\n",
              "      <td>NaN</td>\n",
              "      <td>NaN</td>\n",
              "      <td>NaN</td>\n",
              "      <td>NaN</td>\n",
              "      <td>NaN</td>\n",
              "    </tr>\n",
              "    <tr>\n",
              "      <th>XX01006</th>\n",
              "      <td>70</td>\n",
              "      <td>3</td>\n",
              "      <td>40</td>\n",
              "      <td>NaN</td>\n",
              "      <td>NaN</td>\n",
              "      <td>NaN</td>\n",
              "      <td>NaN</td>\n",
              "      <td>NaN</td>\n",
              "    </tr>\n",
              "    <tr>\n",
              "      <th>XX01007</th>\n",
              "      <td>86</td>\n",
              "      <td>60</td>\n",
              "      <td>0</td>\n",
              "      <td>NaN</td>\n",
              "      <td>NaN</td>\n",
              "      <td>NaN</td>\n",
              "      <td>NaN</td>\n",
              "      <td>NaN</td>\n",
              "    </tr>\n",
              "    <tr>\n",
              "      <th>XX01008</th>\n",
              "      <td>33</td>\n",
              "      <td>36</td>\n",
              "      <td>80</td>\n",
              "      <td>NaN</td>\n",
              "      <td>NaN</td>\n",
              "      <td>NaN</td>\n",
              "      <td>NaN</td>\n",
              "      <td>NaN</td>\n",
              "    </tr>\n",
              "    <tr>\n",
              "      <th>XX01009</th>\n",
              "      <td>26</td>\n",
              "      <td>76</td>\n",
              "      <td>2</td>\n",
              "      <td>NaN</td>\n",
              "      <td>NaN</td>\n",
              "      <td>NaN</td>\n",
              "      <td>NaN</td>\n",
              "      <td>NaN</td>\n",
              "    </tr>\n",
              "    <tr>\n",
              "      <th>XX01010</th>\n",
              "      <td>26</td>\n",
              "      <td>3</td>\n",
              "      <td>25</td>\n",
              "      <td>NaN</td>\n",
              "      <td>NaN</td>\n",
              "      <td>NaN</td>\n",
              "      <td>NaN</td>\n",
              "      <td>NaN</td>\n",
              "    </tr>\n",
              "  </tbody>\n",
              "</table>\n",
              "</div>"
            ],
            "text/plain": [
              "         Assignments (100)  Midterm (100)  ...  Total (100%)  Grade\n",
              "ID                                         ...                     \n",
              "XX01001                 86             56  ...           NaN    NaN\n",
              "XX01002                 16             93  ...           NaN    NaN\n",
              "XX01003                 50             46  ...           NaN    NaN\n",
              "XX01004                 96             36  ...           NaN    NaN\n",
              "XX01005                 13             83  ...           NaN    NaN\n",
              "XX01006                 70              3  ...           NaN    NaN\n",
              "XX01007                 86             60  ...           NaN    NaN\n",
              "XX01008                 33             36  ...           NaN    NaN\n",
              "XX01009                 26             76  ...           NaN    NaN\n",
              "XX01010                 26              3  ...           NaN    NaN\n",
              "\n",
              "[10 rows x 8 columns]"
            ]
          },
          "metadata": {
            "tags": []
          },
          "execution_count": 54
        }
      ]
    },
    {
      "cell_type": "code",
      "metadata": {
        "id": "dUo7uOQJEpMe",
        "outputId": "ae99bf65-dbfb-4eeb-b263-32844d264754",
        "colab": {
          "base_uri": "https://localhost:8080/",
          "height": 390
        }
      },
      "source": [
        "#Alternative 2\r\n",
        "\r\n",
        "df.head(10)"
      ],
      "execution_count": 55,
      "outputs": [
        {
          "output_type": "execute_result",
          "data": {
            "text/html": [
              "<div>\n",
              "<style scoped>\n",
              "    .dataframe tbody tr th:only-of-type {\n",
              "        vertical-align: middle;\n",
              "    }\n",
              "\n",
              "    .dataframe tbody tr th {\n",
              "        vertical-align: top;\n",
              "    }\n",
              "\n",
              "    .dataframe thead th {\n",
              "        text-align: right;\n",
              "    }\n",
              "</style>\n",
              "<table border=\"1\" class=\"dataframe\">\n",
              "  <thead>\n",
              "    <tr style=\"text-align: right;\">\n",
              "      <th></th>\n",
              "      <th>Assignments (100)</th>\n",
              "      <th>Midterm (100)</th>\n",
              "      <th>Final (100)</th>\n",
              "      <th>Assignments (30%)</th>\n",
              "      <th>Midterm (35%)</th>\n",
              "      <th>Final (35%)</th>\n",
              "      <th>Total (100%)</th>\n",
              "      <th>Grade</th>\n",
              "    </tr>\n",
              "    <tr>\n",
              "      <th>ID</th>\n",
              "      <th></th>\n",
              "      <th></th>\n",
              "      <th></th>\n",
              "      <th></th>\n",
              "      <th></th>\n",
              "      <th></th>\n",
              "      <th></th>\n",
              "      <th></th>\n",
              "    </tr>\n",
              "  </thead>\n",
              "  <tbody>\n",
              "    <tr>\n",
              "      <th>XX01001</th>\n",
              "      <td>86</td>\n",
              "      <td>56</td>\n",
              "      <td>60</td>\n",
              "      <td>NaN</td>\n",
              "      <td>NaN</td>\n",
              "      <td>NaN</td>\n",
              "      <td>NaN</td>\n",
              "      <td>NaN</td>\n",
              "    </tr>\n",
              "    <tr>\n",
              "      <th>XX01002</th>\n",
              "      <td>16</td>\n",
              "      <td>93</td>\n",
              "      <td>80</td>\n",
              "      <td>NaN</td>\n",
              "      <td>NaN</td>\n",
              "      <td>NaN</td>\n",
              "      <td>NaN</td>\n",
              "      <td>NaN</td>\n",
              "    </tr>\n",
              "    <tr>\n",
              "      <th>XX01003</th>\n",
              "      <td>50</td>\n",
              "      <td>46</td>\n",
              "      <td>40</td>\n",
              "      <td>NaN</td>\n",
              "      <td>NaN</td>\n",
              "      <td>NaN</td>\n",
              "      <td>NaN</td>\n",
              "      <td>NaN</td>\n",
              "    </tr>\n",
              "    <tr>\n",
              "      <th>XX01004</th>\n",
              "      <td>96</td>\n",
              "      <td>36</td>\n",
              "      <td>62</td>\n",
              "      <td>NaN</td>\n",
              "      <td>NaN</td>\n",
              "      <td>NaN</td>\n",
              "      <td>NaN</td>\n",
              "      <td>NaN</td>\n",
              "    </tr>\n",
              "    <tr>\n",
              "      <th>XX01005</th>\n",
              "      <td>13</td>\n",
              "      <td>83</td>\n",
              "      <td>0</td>\n",
              "      <td>NaN</td>\n",
              "      <td>NaN</td>\n",
              "      <td>NaN</td>\n",
              "      <td>NaN</td>\n",
              "      <td>NaN</td>\n",
              "    </tr>\n",
              "    <tr>\n",
              "      <th>XX01006</th>\n",
              "      <td>70</td>\n",
              "      <td>3</td>\n",
              "      <td>40</td>\n",
              "      <td>NaN</td>\n",
              "      <td>NaN</td>\n",
              "      <td>NaN</td>\n",
              "      <td>NaN</td>\n",
              "      <td>NaN</td>\n",
              "    </tr>\n",
              "    <tr>\n",
              "      <th>XX01007</th>\n",
              "      <td>86</td>\n",
              "      <td>60</td>\n",
              "      <td>0</td>\n",
              "      <td>NaN</td>\n",
              "      <td>NaN</td>\n",
              "      <td>NaN</td>\n",
              "      <td>NaN</td>\n",
              "      <td>NaN</td>\n",
              "    </tr>\n",
              "    <tr>\n",
              "      <th>XX01008</th>\n",
              "      <td>33</td>\n",
              "      <td>36</td>\n",
              "      <td>80</td>\n",
              "      <td>NaN</td>\n",
              "      <td>NaN</td>\n",
              "      <td>NaN</td>\n",
              "      <td>NaN</td>\n",
              "      <td>NaN</td>\n",
              "    </tr>\n",
              "    <tr>\n",
              "      <th>XX01009</th>\n",
              "      <td>26</td>\n",
              "      <td>76</td>\n",
              "      <td>2</td>\n",
              "      <td>NaN</td>\n",
              "      <td>NaN</td>\n",
              "      <td>NaN</td>\n",
              "      <td>NaN</td>\n",
              "      <td>NaN</td>\n",
              "    </tr>\n",
              "    <tr>\n",
              "      <th>XX01010</th>\n",
              "      <td>26</td>\n",
              "      <td>3</td>\n",
              "      <td>25</td>\n",
              "      <td>NaN</td>\n",
              "      <td>NaN</td>\n",
              "      <td>NaN</td>\n",
              "      <td>NaN</td>\n",
              "      <td>NaN</td>\n",
              "    </tr>\n",
              "  </tbody>\n",
              "</table>\n",
              "</div>"
            ],
            "text/plain": [
              "         Assignments (100)  Midterm (100)  ...  Total (100%)  Grade\n",
              "ID                                         ...                     \n",
              "XX01001                 86             56  ...           NaN    NaN\n",
              "XX01002                 16             93  ...           NaN    NaN\n",
              "XX01003                 50             46  ...           NaN    NaN\n",
              "XX01004                 96             36  ...           NaN    NaN\n",
              "XX01005                 13             83  ...           NaN    NaN\n",
              "XX01006                 70              3  ...           NaN    NaN\n",
              "XX01007                 86             60  ...           NaN    NaN\n",
              "XX01008                 33             36  ...           NaN    NaN\n",
              "XX01009                 26             76  ...           NaN    NaN\n",
              "XX01010                 26              3  ...           NaN    NaN\n",
              "\n",
              "[10 rows x 8 columns]"
            ]
          },
          "metadata": {
            "tags": []
          },
          "execution_count": 55
        }
      ]
    },
    {
      "cell_type": "markdown",
      "metadata": {
        "id": "Cs9ySdsGE5We"
      },
      "source": [
        "\r\n",
        "\r\n",
        "---\r\n",
        "\r\n",
        "### TIPS: How to Check the CPU time"
      ]
    },
    {
      "cell_type": "code",
      "metadata": {
        "id": "TUOL2YiSFAF1",
        "outputId": "f05708a5-db30-4396-86f8-ea0bd3951841",
        "colab": {
          "base_uri": "https://localhost:8080/"
        }
      },
      "source": [
        "import time\r\n",
        "T1 = time.time()\r\n",
        "\r\n",
        "# Your process starts here\r\n",
        "for i in range(0,20000000):\r\n",
        "  i = i+2\r\n",
        "# End of process\r\n",
        "\r\n",
        "T2 = time.time()\r\n",
        "\r\n",
        "print(\"CPU Time is\", T2-T1)"
      ],
      "execution_count": 29,
      "outputs": [
        {
          "output_type": "stream",
          "text": [
            "CPU Time is 1.5499207973480225\n"
          ],
          "name": "stdout"
        }
      ]
    },
    {
      "cell_type": "markdown",
      "metadata": {
        "id": "yxn_Hmg_Fl71"
      },
      "source": [
        "when I use nothing : 1.811515153215 seconds<br>\r\n",
        "when I use GPU : 1.5499207973480225 seconds<br>\r\n",
        "when I use TPU: CPU Time is 2.274764060974121 seconds"
      ]
    },
    {
      "cell_type": "markdown",
      "metadata": {
        "id": "KOe44Om7G9E7"
      },
      "source": [
        "\r\n",
        "\r\n",
        "---\r\n",
        "\r\n",
        "\r\n",
        "TIPS2: Chop or Round number"
      ]
    },
    {
      "cell_type": "code",
      "metadata": {
        "id": "Pejxb_NxGafm",
        "outputId": "9f2df0d0-3e05-4a48-de5c-c3fcf87d46d0",
        "colab": {
          "base_uri": "https://localhost:8080/"
        }
      },
      "source": [
        "\r\n",
        "A = 12.9\r\n",
        "print(\"int(\", A ,\") \\t is \",int(A))\r\n",
        "print(\"round(\", A ,\") is \",round(A))"
      ],
      "execution_count": 39,
      "outputs": [
        {
          "output_type": "stream",
          "text": [
            "int( 12.9 ) \t is  12\n",
            "round( 12.9 ) is  13\n"
          ],
          "name": "stdout"
        }
      ]
    },
    {
      "cell_type": "markdown",
      "metadata": {
        "id": "drlbILF5IcSv"
      },
      "source": [
        "\r\n",
        "\r\n",
        "---\r\n",
        "###2.3) Let fill the blank cell with the computed grade\r\n"
      ]
    },
    {
      "cell_type": "code",
      "metadata": {
        "id": "cbsc0f7qIlPm"
      },
      "source": [
        "def Grade(Total):\r\n",
        "\r\n",
        "#for i in range(0,len(df)):\r\n",
        "  if Total >= 80:\r\n",
        "    return(\"A\")\r\n",
        "  elif Total >= 75:\r\n",
        "    return(\"B+\")\r\n",
        "  elif Total >= 70:\r\n",
        "    return(\"B\")\r\n",
        "  elif Total >= 65:\r\n",
        "    return(\"C+\")\r\n",
        "  elif Total >= 60:\r\n",
        "    return(\"C\")\r\n",
        "  elif Total >= 55:\r\n",
        "    return(\"D+\")\r\n",
        "  elif Total >= 50:\r\n",
        "    return(\"D\")\r\n",
        "  else: return(\"F\")"
      ],
      "execution_count": 41,
      "outputs": []
    },
    {
      "cell_type": "code",
      "metadata": {
        "id": "SGsNu92vJ0FF",
        "outputId": "0a716a4e-f1b2-4fb9-c17d-fd9dc4950294",
        "colab": {
          "base_uri": "https://localhost:8080/",
          "height": 35
        }
      },
      "source": [
        "Grade(79)"
      ],
      "execution_count": 42,
      "outputs": [
        {
          "output_type": "execute_result",
          "data": {
            "application/vnd.google.colaboratory.intrinsic+json": {
              "type": "string"
            },
            "text/plain": [
              "'B+'"
            ]
          },
          "metadata": {
            "tags": []
          },
          "execution_count": 42
        }
      ]
    }
  ]
}