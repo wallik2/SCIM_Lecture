{
  "nbformat": 4,
  "nbformat_minor": 0,
  "metadata": {
    "colab": {
      "name": "Self-Mock_Midterm_IntroDat",
      "provenance": [],
      "authorship_tag": "ABX9TyNrnok/EQX9kcGw/fuSLPvk",
      "include_colab_link": true
    },
    "kernelspec": {
      "name": "python3",
      "display_name": "Python 3"
    },
    "accelerator": "TPU"
  },
  "cells": [
    {
      "cell_type": "markdown",
      "metadata": {
        "id": "view-in-github",
        "colab_type": "text"
      },
      "source": [
        "<a href=\"https://colab.research.google.com/github/wallik2/University-stuff/blob/main/Intro_Data_Sci/Self_Mock_Midterm_IntroDat.ipynb\" target=\"_parent\"><img src=\"https://colab.research.google.com/assets/colab-badge.svg\" alt=\"Open In Colab\"/></a>"
      ]
    },
    {
      "cell_type": "markdown",
      "metadata": {
        "id": "Mr22cRQtVrhZ"
      },
      "source": [
        "## <u>**Storyline 1**</u>: School "
      ]
    },
    {
      "cell_type": "markdown",
      "metadata": {
        "id": "HSZWnF_FVvBI"
      },
      "source": [
        "Followed by this situation"
      ]
    },
    {
      "cell_type": "code",
      "metadata": {
        "id": "gHOvv6YNWr3o"
      },
      "source": [
        "# Basic Package Libraries\r\n",
        "\r\n",
        "import pandas as pd, numpy as np, matplotlib.pyplot as plt"
      ],
      "execution_count": null,
      "outputs": []
    },
    {
      "cell_type": "code",
      "metadata": {
        "id": "mD951fZ7V_Sg"
      },
      "source": [
        "Dataframe_1_data = {'English':[80,75,69],'Math':[45,59,90],'Science':[85,70,50]}"
      ],
      "execution_count": null,
      "outputs": []
    },
    {
      "cell_type": "code",
      "metadata": {
        "id": "q2bKFm9VUqGf"
      },
      "source": [
        "Dataframe_1 = pd.DataFrame(Dataframe_1_data)"
      ],
      "execution_count": null,
      "outputs": []
    },
    {
      "cell_type": "code",
      "metadata": {
        "colab": {
          "base_uri": "https://localhost:8080/",
          "height": 137
        },
        "id": "6_ywPGfzW-jg",
        "outputId": "00f341c5-2f24-4643-bc5e-f230b3231541"
      },
      "source": [
        "Dataframe_1"
      ],
      "execution_count": null,
      "outputs": [
        {
          "output_type": "execute_result",
          "data": {
            "text/html": [
              "<div>\n",
              "<style scoped>\n",
              "    .dataframe tbody tr th:only-of-type {\n",
              "        vertical-align: middle;\n",
              "    }\n",
              "\n",
              "    .dataframe tbody tr th {\n",
              "        vertical-align: top;\n",
              "    }\n",
              "\n",
              "    .dataframe thead th {\n",
              "        text-align: right;\n",
              "    }\n",
              "</style>\n",
              "<table border=\"1\" class=\"dataframe\">\n",
              "  <thead>\n",
              "    <tr style=\"text-align: right;\">\n",
              "      <th></th>\n",
              "      <th>English</th>\n",
              "      <th>Math</th>\n",
              "      <th>Science</th>\n",
              "    </tr>\n",
              "  </thead>\n",
              "  <tbody>\n",
              "    <tr>\n",
              "      <th>0</th>\n",
              "      <td>80</td>\n",
              "      <td>45</td>\n",
              "      <td>85</td>\n",
              "    </tr>\n",
              "    <tr>\n",
              "      <th>1</th>\n",
              "      <td>75</td>\n",
              "      <td>59</td>\n",
              "      <td>70</td>\n",
              "    </tr>\n",
              "    <tr>\n",
              "      <th>2</th>\n",
              "      <td>69</td>\n",
              "      <td>90</td>\n",
              "      <td>50</td>\n",
              "    </tr>\n",
              "  </tbody>\n",
              "</table>\n",
              "</div>"
            ],
            "text/plain": [
              "   English  Math  Science\n",
              "0       80    45       85\n",
              "1       75    59       70\n",
              "2       69    90       50"
            ]
          },
          "metadata": {
            "tags": []
          },
          "execution_count": 4
        }
      ]
    },
    {
      "cell_type": "markdown",
      "metadata": {
        "id": "bJb2M7zXXFLQ"
      },
      "source": [
        "<fieldset>\r\n",
        "\r\n",
        "<font size=\"6\"><font color='red'>Problem 1: </font></font>\r\n",
        "\r\n",
        "- The table doesn't make any sense as we don't whose scores are \r\n",
        "- so, could you please insert the new column named 'Name-Surname at the first column\r\n",
        "\r\n",
        "- The corresponding data of the new column : 1. Post Malone 2. Meechoke Kaedum 3.Thanapon Rabbur\r\n",
        "\r\n",
        "Result:\r\n",
        "\r\n",
        "![image.png](data:image/png;base64,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)"
      ]
    },
    {
      "cell_type": "markdown",
      "metadata": {
        "id": "JvpTE77happR"
      },
      "source": [
        "Solution 1:"
      ]
    },
    {
      "cell_type": "code",
      "metadata": {
        "id": "yHGMPzkaYrr5"
      },
      "source": [
        "student_name = ['Post Malone', 'Meechoke Kaedum', 'Thanapon Rabbur']"
      ],
      "execution_count": null,
      "outputs": []
    },
    {
      "cell_type": "code",
      "metadata": {
        "id": "YsiJTSUoZbRZ"
      },
      "source": [
        "student_Name = pd.DataFrame(data=student_name,columns=['Name-Surname'])\r\n",
        "\r\n",
        "#Don't forget: column='Name-Surname' is not working, It require the name to be inside of a list"
      ],
      "execution_count": null,
      "outputs": []
    },
    {
      "cell_type": "code",
      "metadata": {
        "id": "eUGdNDHvZZCu"
      },
      "source": [
        "Dataframe_1 = pd.DataFrame.join(student_Name,Dataframe_1)\r\n",
        "\r\n",
        "#Don't forget: pd.join does not exist!\r\n",
        "#Don't Forget 2: the parameter is completely different to pd.concat() since it require only 1 parameter which is in form of list of dataframe"
      ],
      "execution_count": null,
      "outputs": []
    },
    {
      "cell_type": "code",
      "metadata": {
        "colab": {
          "base_uri": "https://localhost:8080/",
          "height": 137
        },
        "id": "WyYMqb7BbFzQ",
        "outputId": "31d9f08d-241f-4c28-ab56-873e7036ed32"
      },
      "source": [
        "Dataframe_1"
      ],
      "execution_count": null,
      "outputs": [
        {
          "output_type": "execute_result",
          "data": {
            "text/html": [
              "<div>\n",
              "<style scoped>\n",
              "    .dataframe tbody tr th:only-of-type {\n",
              "        vertical-align: middle;\n",
              "    }\n",
              "\n",
              "    .dataframe tbody tr th {\n",
              "        vertical-align: top;\n",
              "    }\n",
              "\n",
              "    .dataframe thead th {\n",
              "        text-align: right;\n",
              "    }\n",
              "</style>\n",
              "<table border=\"1\" class=\"dataframe\">\n",
              "  <thead>\n",
              "    <tr style=\"text-align: right;\">\n",
              "      <th></th>\n",
              "      <th>Name-Surname</th>\n",
              "      <th>English</th>\n",
              "      <th>Math</th>\n",
              "      <th>Science</th>\n",
              "    </tr>\n",
              "  </thead>\n",
              "  <tbody>\n",
              "    <tr>\n",
              "      <th>0</th>\n",
              "      <td>Post Malone</td>\n",
              "      <td>80</td>\n",
              "      <td>45</td>\n",
              "      <td>85</td>\n",
              "    </tr>\n",
              "    <tr>\n",
              "      <th>1</th>\n",
              "      <td>Meechoke Kaedum</td>\n",
              "      <td>75</td>\n",
              "      <td>59</td>\n",
              "      <td>70</td>\n",
              "    </tr>\n",
              "    <tr>\n",
              "      <th>2</th>\n",
              "      <td>Thanapon Rabbur</td>\n",
              "      <td>69</td>\n",
              "      <td>90</td>\n",
              "      <td>50</td>\n",
              "    </tr>\n",
              "  </tbody>\n",
              "</table>\n",
              "</div>"
            ],
            "text/plain": [
              "      Name-Surname  English  Math  Science\n",
              "0      Post Malone       80    45       85\n",
              "1  Meechoke Kaedum       75    59       70\n",
              "2  Thanapon Rabbur       69    90       50"
            ]
          },
          "metadata": {
            "tags": []
          },
          "execution_count": 8
        }
      ]
    },
    {
      "cell_type": "markdown",
      "metadata": {
        "id": "p03U22Y-bovg"
      },
      "source": [
        "\r\n",
        "\r\n",
        "---\r\n",
        "\r\n"
      ]
    },
    {
      "cell_type": "markdown",
      "metadata": {
        "id": "Hthq7GgWar7o"
      },
      "source": [
        "Solution 2:"
      ]
    },
    {
      "cell_type": "code",
      "metadata": {
        "id": "cHJXXTvmdSVR"
      },
      "source": [
        "Dataframe_1_data = {'English':[80,75,69],'Math':[45,59,90],'Science':[85,70,50]}\r\n",
        "Dataframe_1 = pd.DataFrame(Dataframe_1_data)"
      ],
      "execution_count": null,
      "outputs": []
    },
    {
      "cell_type": "code",
      "metadata": {
        "id": "0ps_AH08c3ky"
      },
      "source": [
        "student_name = ['Post Malone', 'Meechoke Kaedum', 'Thanapon Rabbur']\r\n",
        "\r\n",
        "student_Name = pd.DataFrame(data=student_name,columns=['Name-Surname'])"
      ],
      "execution_count": null,
      "outputs": []
    },
    {
      "cell_type": "code",
      "metadata": {
        "id": "-EH94KySbDKJ"
      },
      "source": [
        "Dataframe_1.insert(0,'Name-Surname',student_Name)"
      ],
      "execution_count": null,
      "outputs": []
    },
    {
      "cell_type": "code",
      "metadata": {
        "colab": {
          "base_uri": "https://localhost:8080/",
          "height": 137
        },
        "id": "IwcFUgwydNNR",
        "outputId": "757355c2-3c19-4723-cf5c-e3c83a7799a3"
      },
      "source": [
        "Dataframe_1"
      ],
      "execution_count": null,
      "outputs": [
        {
          "output_type": "execute_result",
          "data": {
            "text/html": [
              "<div>\n",
              "<style scoped>\n",
              "    .dataframe tbody tr th:only-of-type {\n",
              "        vertical-align: middle;\n",
              "    }\n",
              "\n",
              "    .dataframe tbody tr th {\n",
              "        vertical-align: top;\n",
              "    }\n",
              "\n",
              "    .dataframe thead th {\n",
              "        text-align: right;\n",
              "    }\n",
              "</style>\n",
              "<table border=\"1\" class=\"dataframe\">\n",
              "  <thead>\n",
              "    <tr style=\"text-align: right;\">\n",
              "      <th></th>\n",
              "      <th>Name-Surname</th>\n",
              "      <th>English</th>\n",
              "      <th>Math</th>\n",
              "      <th>Science</th>\n",
              "    </tr>\n",
              "  </thead>\n",
              "  <tbody>\n",
              "    <tr>\n",
              "      <th>0</th>\n",
              "      <td>Post Malone</td>\n",
              "      <td>80</td>\n",
              "      <td>45</td>\n",
              "      <td>85</td>\n",
              "    </tr>\n",
              "    <tr>\n",
              "      <th>1</th>\n",
              "      <td>Meechoke Kaedum</td>\n",
              "      <td>75</td>\n",
              "      <td>59</td>\n",
              "      <td>70</td>\n",
              "    </tr>\n",
              "    <tr>\n",
              "      <th>2</th>\n",
              "      <td>Thanapon Rabbur</td>\n",
              "      <td>69</td>\n",
              "      <td>90</td>\n",
              "      <td>50</td>\n",
              "    </tr>\n",
              "  </tbody>\n",
              "</table>\n",
              "</div>"
            ],
            "text/plain": [
              "      Name-Surname  English  Math  Science\n",
              "0      Post Malone       80    45       85\n",
              "1  Meechoke Kaedum       75    59       70\n",
              "2  Thanapon Rabbur       69    90       50"
            ]
          },
          "metadata": {
            "tags": []
          },
          "execution_count": 12
        }
      ]
    },
    {
      "cell_type": "markdown",
      "metadata": {
        "id": "azaa4Upsar2I"
      },
      "source": [
        "\r\n",
        "\r\n",
        "---\r\n",
        "\r\n"
      ]
    },
    {
      "cell_type": "markdown",
      "metadata": {
        "id": "E8GKbS0LdlFO"
      },
      "source": [
        "<fieldset>\r\n",
        "\r\n",
        "<font size=\"6\"><font color='red'>Problem 2: </font></font>\r\n",
        "\r\n",
        "- There are 2 new subjects added, which including 'Computer' & 'Statistics', and It should be placed at between English & Science column\r\n",
        "\r\n",
        "- Sadly, Post Malone didn't take the exam of those subjects yet, so we may leave it blank\r\n",
        "\r\n",
        "- The corresponding data: {'Meechoke Kaedum':[80,100], 'Thanapon Rabbur' : [94,95]}\r\n",
        "\r\n",
        "result: ![image.png](data:image/png;base64,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)"
      ]
    },
    {
      "cell_type": "markdown",
      "metadata": {
        "id": "Y3Y9r82ThkLa"
      },
      "source": [
        "Solution 1:"
      ]
    },
    {
      "cell_type": "code",
      "metadata": {
        "id": "lOEBbsVndh4J"
      },
      "source": [
        "data = [[np.NaN,np.NaN],[80,100], [94,95]]"
      ],
      "execution_count": null,
      "outputs": []
    },
    {
      "cell_type": "code",
      "metadata": {
        "id": "0ZGs14oVfGyR"
      },
      "source": [
        "k_data = pd.DataFrame(data,columns=['Computer','Statistics'])"
      ],
      "execution_count": null,
      "outputs": []
    },
    {
      "cell_type": "code",
      "metadata": {
        "colab": {
          "base_uri": "https://localhost:8080/"
        },
        "id": "Ny1ABdlNhLl6",
        "outputId": "fec20985-e823-428e-e75e-5093c5614d62"
      },
      "source": [
        "k_data['Computer']"
      ],
      "execution_count": null,
      "outputs": [
        {
          "output_type": "execute_result",
          "data": {
            "text/plain": [
              "0     NaN\n",
              "1    80.0\n",
              "2    94.0\n",
              "Name: Computer, dtype: float64"
            ]
          },
          "metadata": {
            "tags": []
          },
          "execution_count": 15
        }
      ]
    },
    {
      "cell_type": "code",
      "metadata": {
        "id": "W6wapcoefCVC"
      },
      "source": [
        "Dataframe_1.insert(2,'Computer',k_data['Computer'])\r\n",
        "\r\n",
        "Dataframe_1.insert(3,'Statistics',k_data['Statistics'])"
      ],
      "execution_count": null,
      "outputs": []
    },
    {
      "cell_type": "code",
      "metadata": {
        "colab": {
          "base_uri": "https://localhost:8080/",
          "height": 137
        },
        "id": "7O10lVY0hcOq",
        "outputId": "9c17067f-f331-4f40-ddad-d65e97f891b1"
      },
      "source": [
        "Dataframe_1"
      ],
      "execution_count": null,
      "outputs": [
        {
          "output_type": "execute_result",
          "data": {
            "text/html": [
              "<div>\n",
              "<style scoped>\n",
              "    .dataframe tbody tr th:only-of-type {\n",
              "        vertical-align: middle;\n",
              "    }\n",
              "\n",
              "    .dataframe tbody tr th {\n",
              "        vertical-align: top;\n",
              "    }\n",
              "\n",
              "    .dataframe thead th {\n",
              "        text-align: right;\n",
              "    }\n",
              "</style>\n",
              "<table border=\"1\" class=\"dataframe\">\n",
              "  <thead>\n",
              "    <tr style=\"text-align: right;\">\n",
              "      <th></th>\n",
              "      <th>Name-Surname</th>\n",
              "      <th>English</th>\n",
              "      <th>Computer</th>\n",
              "      <th>Statistics</th>\n",
              "      <th>Math</th>\n",
              "      <th>Science</th>\n",
              "    </tr>\n",
              "  </thead>\n",
              "  <tbody>\n",
              "    <tr>\n",
              "      <th>0</th>\n",
              "      <td>Post Malone</td>\n",
              "      <td>80</td>\n",
              "      <td>NaN</td>\n",
              "      <td>NaN</td>\n",
              "      <td>45</td>\n",
              "      <td>85</td>\n",
              "    </tr>\n",
              "    <tr>\n",
              "      <th>1</th>\n",
              "      <td>Meechoke Kaedum</td>\n",
              "      <td>75</td>\n",
              "      <td>80.0</td>\n",
              "      <td>100.0</td>\n",
              "      <td>59</td>\n",
              "      <td>70</td>\n",
              "    </tr>\n",
              "    <tr>\n",
              "      <th>2</th>\n",
              "      <td>Thanapon Rabbur</td>\n",
              "      <td>69</td>\n",
              "      <td>94.0</td>\n",
              "      <td>95.0</td>\n",
              "      <td>90</td>\n",
              "      <td>50</td>\n",
              "    </tr>\n",
              "  </tbody>\n",
              "</table>\n",
              "</div>"
            ],
            "text/plain": [
              "      Name-Surname  English  Computer  Statistics  Math  Science\n",
              "0      Post Malone       80       NaN         NaN    45       85\n",
              "1  Meechoke Kaedum       75      80.0       100.0    59       70\n",
              "2  Thanapon Rabbur       69      94.0        95.0    90       50"
            ]
          },
          "metadata": {
            "tags": []
          },
          "execution_count": 17
        }
      ]
    },
    {
      "cell_type": "markdown",
      "metadata": {
        "id": "ZXGM6-8VhmTq"
      },
      "source": [
        "\r\n",
        "\r\n",
        "---\r\n",
        "\r\n"
      ]
    },
    {
      "cell_type": "markdown",
      "metadata": {
        "id": "vmCbGdhYjnsM"
      },
      "source": [
        "<fieldset>\r\n",
        "\r\n",
        "<font size=\"6\"><font color='red'>Problem 3: </font></font>\r\n",
        "\r\n",
        "- Post Malone took the Statistics exam yet, the score he got is 88\r\n",
        "\r\n",
        "![image.png](data:image/png;base64,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)"
      ]
    },
    {
      "cell_type": "code",
      "metadata": {
        "colab": {
          "base_uri": "https://localhost:8080/",
          "height": 137
        },
        "id": "CI8GFFE7hm2J",
        "outputId": "5f0b291c-d0d1-4dca-e36c-6c84965e6933"
      },
      "source": [
        "Dataframe_1.loc[0,'Statistics'] = 88\r\n",
        "\r\n",
        "Dataframe_1"
      ],
      "execution_count": null,
      "outputs": [
        {
          "output_type": "execute_result",
          "data": {
            "text/html": [
              "<div>\n",
              "<style scoped>\n",
              "    .dataframe tbody tr th:only-of-type {\n",
              "        vertical-align: middle;\n",
              "    }\n",
              "\n",
              "    .dataframe tbody tr th {\n",
              "        vertical-align: top;\n",
              "    }\n",
              "\n",
              "    .dataframe thead th {\n",
              "        text-align: right;\n",
              "    }\n",
              "</style>\n",
              "<table border=\"1\" class=\"dataframe\">\n",
              "  <thead>\n",
              "    <tr style=\"text-align: right;\">\n",
              "      <th></th>\n",
              "      <th>Name-Surname</th>\n",
              "      <th>English</th>\n",
              "      <th>Computer</th>\n",
              "      <th>Statistics</th>\n",
              "      <th>Math</th>\n",
              "      <th>Science</th>\n",
              "    </tr>\n",
              "  </thead>\n",
              "  <tbody>\n",
              "    <tr>\n",
              "      <th>0</th>\n",
              "      <td>Post Malone</td>\n",
              "      <td>80</td>\n",
              "      <td>NaN</td>\n",
              "      <td>88.0</td>\n",
              "      <td>45</td>\n",
              "      <td>85</td>\n",
              "    </tr>\n",
              "    <tr>\n",
              "      <th>1</th>\n",
              "      <td>Meechoke Kaedum</td>\n",
              "      <td>75</td>\n",
              "      <td>80.0</td>\n",
              "      <td>100.0</td>\n",
              "      <td>59</td>\n",
              "      <td>70</td>\n",
              "    </tr>\n",
              "    <tr>\n",
              "      <th>2</th>\n",
              "      <td>Thanapon Rabbur</td>\n",
              "      <td>69</td>\n",
              "      <td>94.0</td>\n",
              "      <td>95.0</td>\n",
              "      <td>90</td>\n",
              "      <td>50</td>\n",
              "    </tr>\n",
              "  </tbody>\n",
              "</table>\n",
              "</div>"
            ],
            "text/plain": [
              "      Name-Surname  English  Computer  Statistics  Math  Science\n",
              "0      Post Malone       80       NaN        88.0    45       85\n",
              "1  Meechoke Kaedum       75      80.0       100.0    59       70\n",
              "2  Thanapon Rabbur       69      94.0        95.0    90       50"
            ]
          },
          "metadata": {
            "tags": []
          },
          "execution_count": 18
        }
      ]
    },
    {
      "cell_type": "markdown",
      "metadata": {
        "id": "3GKXY7LUkkVy"
      },
      "source": [
        "\r\n",
        "\r\n",
        "---\r\n",
        "\r\n"
      ]
    },
    {
      "cell_type": "markdown",
      "metadata": {
        "id": "y_6RR7KBkpWa"
      },
      "source": [
        "<fieldset>\r\n",
        "\r\n",
        "<font size=\"6\"><font color='red'>Problem 4: </font></font>\r\n",
        "\r\n",
        "- There are 5 new students and here's the score of them\r\n",
        "\r\n",
        "  ['Lady Gaga' : 'English':80 ,'Computer':85, 'Statistics':100,'Math': 74, 'Science': 68]\r\n",
        "\r\n",
        "  ['Kesha Rose' : 'English':82 ,'Computer':5, 'Statistics':50,'Math': 54, 'Science': 61]\r\n",
        "\r\n",
        "  ['Bebe Rexha' : 'English':51 ,'Computer':75, 'Statistics':80,'Math': 14, 'Science': 52]\r\n",
        "\r\n",
        "  ['Lady Lala' : 'English':74 ,'Computer':85, 'Statistics':100,'Math': 74, 'Science': 68]\r\n",
        "\r\n",
        "  ['Mackled more' : 'English':12 ,'Computer':34, 'Statistics':41,'Math': 47, 'Science': 68]\r\n",
        "\r\n",
        "- Could you plz append these students to the dataframe\r\n",
        "\r\n",
        "Result : ![image.png](data:image/png;base64,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)"
      ]
    },
    {
      "cell_type": "code",
      "metadata": {
        "id": "BtatCV4Nkk3r"
      },
      "source": [
        "New_student = {'Name-Surname':['Lady Gaga', 'Kesha Rose', 'Bebe Rexha', 'Lady Lala', 'Mackled more'],\r\n",
        "               'English':[80,82,51,74,12],\r\n",
        "               'Computer':[85,5,75,85,34],\r\n",
        "               'Statistics':[100,50,80,100,41],\r\n",
        "               'Math':[74,54,14,74,47],\r\n",
        "               'Science':[68,61,52,68,68]}\r\n",
        "\r\n",
        "New_student = pd.DataFrame(New_student)"
      ],
      "execution_count": null,
      "outputs": []
    },
    {
      "cell_type": "code",
      "metadata": {
        "colab": {
          "base_uri": "https://localhost:8080/",
          "height": 197
        },
        "id": "PdgFAij9m0EL",
        "outputId": "bf85f754-762e-44a1-9015-d4bac437c2db"
      },
      "source": [
        "New_student"
      ],
      "execution_count": null,
      "outputs": [
        {
          "output_type": "execute_result",
          "data": {
            "text/html": [
              "<div>\n",
              "<style scoped>\n",
              "    .dataframe tbody tr th:only-of-type {\n",
              "        vertical-align: middle;\n",
              "    }\n",
              "\n",
              "    .dataframe tbody tr th {\n",
              "        vertical-align: top;\n",
              "    }\n",
              "\n",
              "    .dataframe thead th {\n",
              "        text-align: right;\n",
              "    }\n",
              "</style>\n",
              "<table border=\"1\" class=\"dataframe\">\n",
              "  <thead>\n",
              "    <tr style=\"text-align: right;\">\n",
              "      <th></th>\n",
              "      <th>Name-Surname</th>\n",
              "      <th>English</th>\n",
              "      <th>Computer</th>\n",
              "      <th>Statistics</th>\n",
              "      <th>Math</th>\n",
              "      <th>Science</th>\n",
              "    </tr>\n",
              "  </thead>\n",
              "  <tbody>\n",
              "    <tr>\n",
              "      <th>0</th>\n",
              "      <td>Lady Gaga</td>\n",
              "      <td>80</td>\n",
              "      <td>85</td>\n",
              "      <td>100</td>\n",
              "      <td>74</td>\n",
              "      <td>68</td>\n",
              "    </tr>\n",
              "    <tr>\n",
              "      <th>1</th>\n",
              "      <td>Kesha Rose</td>\n",
              "      <td>82</td>\n",
              "      <td>5</td>\n",
              "      <td>50</td>\n",
              "      <td>54</td>\n",
              "      <td>61</td>\n",
              "    </tr>\n",
              "    <tr>\n",
              "      <th>2</th>\n",
              "      <td>Bebe Rexha</td>\n",
              "      <td>51</td>\n",
              "      <td>75</td>\n",
              "      <td>80</td>\n",
              "      <td>14</td>\n",
              "      <td>52</td>\n",
              "    </tr>\n",
              "    <tr>\n",
              "      <th>3</th>\n",
              "      <td>Lady Lala</td>\n",
              "      <td>74</td>\n",
              "      <td>85</td>\n",
              "      <td>100</td>\n",
              "      <td>74</td>\n",
              "      <td>68</td>\n",
              "    </tr>\n",
              "    <tr>\n",
              "      <th>4</th>\n",
              "      <td>Mackled more</td>\n",
              "      <td>12</td>\n",
              "      <td>34</td>\n",
              "      <td>41</td>\n",
              "      <td>47</td>\n",
              "      <td>68</td>\n",
              "    </tr>\n",
              "  </tbody>\n",
              "</table>\n",
              "</div>"
            ],
            "text/plain": [
              "   Name-Surname  English  Computer  Statistics  Math  Science\n",
              "0     Lady Gaga       80        85         100    74       68\n",
              "1    Kesha Rose       82         5          50    54       61\n",
              "2    Bebe Rexha       51        75          80    14       52\n",
              "3     Lady Lala       74        85         100    74       68\n",
              "4  Mackled more       12        34          41    47       68"
            ]
          },
          "metadata": {
            "tags": []
          },
          "execution_count": 20
        }
      ]
    },
    {
      "cell_type": "code",
      "metadata": {
        "id": "uMzRf8R2m5Hj"
      },
      "source": [
        "Dataframe_1 = pd.concat([Dataframe_1,New_student])\r\n",
        "\r\n",
        "Dataframe_1.reset_index(inplace=True)"
      ],
      "execution_count": null,
      "outputs": []
    },
    {
      "cell_type": "code",
      "metadata": {
        "colab": {
          "base_uri": "https://localhost:8080/",
          "height": 287
        },
        "id": "Rc5hBC_knUgF",
        "outputId": "c103a8d6-a582-44f3-e5f8-ab0cf7212bbe"
      },
      "source": [
        "Dataframe_1"
      ],
      "execution_count": null,
      "outputs": [
        {
          "output_type": "execute_result",
          "data": {
            "text/html": [
              "<div>\n",
              "<style scoped>\n",
              "    .dataframe tbody tr th:only-of-type {\n",
              "        vertical-align: middle;\n",
              "    }\n",
              "\n",
              "    .dataframe tbody tr th {\n",
              "        vertical-align: top;\n",
              "    }\n",
              "\n",
              "    .dataframe thead th {\n",
              "        text-align: right;\n",
              "    }\n",
              "</style>\n",
              "<table border=\"1\" class=\"dataframe\">\n",
              "  <thead>\n",
              "    <tr style=\"text-align: right;\">\n",
              "      <th></th>\n",
              "      <th>index</th>\n",
              "      <th>Name-Surname</th>\n",
              "      <th>English</th>\n",
              "      <th>Computer</th>\n",
              "      <th>Statistics</th>\n",
              "      <th>Math</th>\n",
              "      <th>Science</th>\n",
              "    </tr>\n",
              "  </thead>\n",
              "  <tbody>\n",
              "    <tr>\n",
              "      <th>0</th>\n",
              "      <td>0</td>\n",
              "      <td>Post Malone</td>\n",
              "      <td>80</td>\n",
              "      <td>NaN</td>\n",
              "      <td>88.0</td>\n",
              "      <td>45</td>\n",
              "      <td>85</td>\n",
              "    </tr>\n",
              "    <tr>\n",
              "      <th>1</th>\n",
              "      <td>1</td>\n",
              "      <td>Meechoke Kaedum</td>\n",
              "      <td>75</td>\n",
              "      <td>80.0</td>\n",
              "      <td>100.0</td>\n",
              "      <td>59</td>\n",
              "      <td>70</td>\n",
              "    </tr>\n",
              "    <tr>\n",
              "      <th>2</th>\n",
              "      <td>2</td>\n",
              "      <td>Thanapon Rabbur</td>\n",
              "      <td>69</td>\n",
              "      <td>94.0</td>\n",
              "      <td>95.0</td>\n",
              "      <td>90</td>\n",
              "      <td>50</td>\n",
              "    </tr>\n",
              "    <tr>\n",
              "      <th>3</th>\n",
              "      <td>0</td>\n",
              "      <td>Lady Gaga</td>\n",
              "      <td>80</td>\n",
              "      <td>85.0</td>\n",
              "      <td>100.0</td>\n",
              "      <td>74</td>\n",
              "      <td>68</td>\n",
              "    </tr>\n",
              "    <tr>\n",
              "      <th>4</th>\n",
              "      <td>1</td>\n",
              "      <td>Kesha Rose</td>\n",
              "      <td>82</td>\n",
              "      <td>5.0</td>\n",
              "      <td>50.0</td>\n",
              "      <td>54</td>\n",
              "      <td>61</td>\n",
              "    </tr>\n",
              "    <tr>\n",
              "      <th>5</th>\n",
              "      <td>2</td>\n",
              "      <td>Bebe Rexha</td>\n",
              "      <td>51</td>\n",
              "      <td>75.0</td>\n",
              "      <td>80.0</td>\n",
              "      <td>14</td>\n",
              "      <td>52</td>\n",
              "    </tr>\n",
              "    <tr>\n",
              "      <th>6</th>\n",
              "      <td>3</td>\n",
              "      <td>Lady Lala</td>\n",
              "      <td>74</td>\n",
              "      <td>85.0</td>\n",
              "      <td>100.0</td>\n",
              "      <td>74</td>\n",
              "      <td>68</td>\n",
              "    </tr>\n",
              "    <tr>\n",
              "      <th>7</th>\n",
              "      <td>4</td>\n",
              "      <td>Mackled more</td>\n",
              "      <td>12</td>\n",
              "      <td>34.0</td>\n",
              "      <td>41.0</td>\n",
              "      <td>47</td>\n",
              "      <td>68</td>\n",
              "    </tr>\n",
              "  </tbody>\n",
              "</table>\n",
              "</div>"
            ],
            "text/plain": [
              "   index     Name-Surname  English  Computer  Statistics  Math  Science\n",
              "0      0      Post Malone       80       NaN        88.0    45       85\n",
              "1      1  Meechoke Kaedum       75      80.0       100.0    59       70\n",
              "2      2  Thanapon Rabbur       69      94.0        95.0    90       50\n",
              "3      0        Lady Gaga       80      85.0       100.0    74       68\n",
              "4      1       Kesha Rose       82       5.0        50.0    54       61\n",
              "5      2       Bebe Rexha       51      75.0        80.0    14       52\n",
              "6      3        Lady Lala       74      85.0       100.0    74       68\n",
              "7      4     Mackled more       12      34.0        41.0    47       68"
            ]
          },
          "metadata": {
            "tags": []
          },
          "execution_count": 22
        }
      ]
    },
    {
      "cell_type": "code",
      "metadata": {
        "id": "hvanc2Gxn9VT"
      },
      "source": [
        "# Don't forget to drop column Name-Surname\r\n",
        "\r\n",
        "Dataframe_1.drop(['index'], axis=1, inplace=True)\r\n",
        "\r\n",
        "#Don't forget: .drop(axis=1) will remove the column ..... inplace=True to replace the dataframe"
      ],
      "execution_count": null,
      "outputs": []
    },
    {
      "cell_type": "code",
      "metadata": {
        "colab": {
          "base_uri": "https://localhost:8080/",
          "height": 287
        },
        "id": "U_n1hDGwo4b0",
        "outputId": "a8e8264c-9d76-4423-e791-f2899aaf33ef"
      },
      "source": [
        "Dataframe_1"
      ],
      "execution_count": null,
      "outputs": [
        {
          "output_type": "execute_result",
          "data": {
            "text/html": [
              "<div>\n",
              "<style scoped>\n",
              "    .dataframe tbody tr th:only-of-type {\n",
              "        vertical-align: middle;\n",
              "    }\n",
              "\n",
              "    .dataframe tbody tr th {\n",
              "        vertical-align: top;\n",
              "    }\n",
              "\n",
              "    .dataframe thead th {\n",
              "        text-align: right;\n",
              "    }\n",
              "</style>\n",
              "<table border=\"1\" class=\"dataframe\">\n",
              "  <thead>\n",
              "    <tr style=\"text-align: right;\">\n",
              "      <th></th>\n",
              "      <th>Name-Surname</th>\n",
              "      <th>English</th>\n",
              "      <th>Computer</th>\n",
              "      <th>Statistics</th>\n",
              "      <th>Math</th>\n",
              "      <th>Science</th>\n",
              "    </tr>\n",
              "  </thead>\n",
              "  <tbody>\n",
              "    <tr>\n",
              "      <th>0</th>\n",
              "      <td>Post Malone</td>\n",
              "      <td>80</td>\n",
              "      <td>NaN</td>\n",
              "      <td>88.0</td>\n",
              "      <td>45</td>\n",
              "      <td>85</td>\n",
              "    </tr>\n",
              "    <tr>\n",
              "      <th>1</th>\n",
              "      <td>Meechoke Kaedum</td>\n",
              "      <td>75</td>\n",
              "      <td>80.0</td>\n",
              "      <td>100.0</td>\n",
              "      <td>59</td>\n",
              "      <td>70</td>\n",
              "    </tr>\n",
              "    <tr>\n",
              "      <th>2</th>\n",
              "      <td>Thanapon Rabbur</td>\n",
              "      <td>69</td>\n",
              "      <td>94.0</td>\n",
              "      <td>95.0</td>\n",
              "      <td>90</td>\n",
              "      <td>50</td>\n",
              "    </tr>\n",
              "    <tr>\n",
              "      <th>3</th>\n",
              "      <td>Lady Gaga</td>\n",
              "      <td>80</td>\n",
              "      <td>85.0</td>\n",
              "      <td>100.0</td>\n",
              "      <td>74</td>\n",
              "      <td>68</td>\n",
              "    </tr>\n",
              "    <tr>\n",
              "      <th>4</th>\n",
              "      <td>Kesha Rose</td>\n",
              "      <td>82</td>\n",
              "      <td>5.0</td>\n",
              "      <td>50.0</td>\n",
              "      <td>54</td>\n",
              "      <td>61</td>\n",
              "    </tr>\n",
              "    <tr>\n",
              "      <th>5</th>\n",
              "      <td>Bebe Rexha</td>\n",
              "      <td>51</td>\n",
              "      <td>75.0</td>\n",
              "      <td>80.0</td>\n",
              "      <td>14</td>\n",
              "      <td>52</td>\n",
              "    </tr>\n",
              "    <tr>\n",
              "      <th>6</th>\n",
              "      <td>Lady Lala</td>\n",
              "      <td>74</td>\n",
              "      <td>85.0</td>\n",
              "      <td>100.0</td>\n",
              "      <td>74</td>\n",
              "      <td>68</td>\n",
              "    </tr>\n",
              "    <tr>\n",
              "      <th>7</th>\n",
              "      <td>Mackled more</td>\n",
              "      <td>12</td>\n",
              "      <td>34.0</td>\n",
              "      <td>41.0</td>\n",
              "      <td>47</td>\n",
              "      <td>68</td>\n",
              "    </tr>\n",
              "  </tbody>\n",
              "</table>\n",
              "</div>"
            ],
            "text/plain": [
              "      Name-Surname  English  Computer  Statistics  Math  Science\n",
              "0      Post Malone       80       NaN        88.0    45       85\n",
              "1  Meechoke Kaedum       75      80.0       100.0    59       70\n",
              "2  Thanapon Rabbur       69      94.0        95.0    90       50\n",
              "3        Lady Gaga       80      85.0       100.0    74       68\n",
              "4       Kesha Rose       82       5.0        50.0    54       61\n",
              "5       Bebe Rexha       51      75.0        80.0    14       52\n",
              "6        Lady Lala       74      85.0       100.0    74       68\n",
              "7     Mackled more       12      34.0        41.0    47       68"
            ]
          },
          "metadata": {
            "tags": []
          },
          "execution_count": 24
        }
      ]
    },
    {
      "cell_type": "markdown",
      "metadata": {
        "id": "xqj9iiz5pCsz"
      },
      "source": [
        "\r\n",
        "\r\n",
        "---\r\n",
        "\r\n"
      ]
    },
    {
      "cell_type": "markdown",
      "metadata": {
        "id": "2DSv04EUpulD"
      },
      "source": [
        "<fieldset>\r\n",
        "\r\n",
        "<font size=\"6\"><font color='red'>Problem 5: </font></font>\r\n",
        "\r\n",
        "- Lady lala has kicked out, so can you remove her from the dataframe"
      ]
    },
    {
      "cell_type": "code",
      "metadata": {
        "id": "PUPgK_x3pDJT"
      },
      "source": [
        "Dataframe_1.drop(6, axis=0, inplace=True)"
      ],
      "execution_count": null,
      "outputs": []
    },
    {
      "cell_type": "code",
      "metadata": {
        "colab": {
          "base_uri": "https://localhost:8080/",
          "height": 257
        },
        "id": "te23fktAqg-k",
        "outputId": "6cd9fa21-1769-4c36-d293-795c0b75401c"
      },
      "source": [
        "Dataframe_1"
      ],
      "execution_count": null,
      "outputs": [
        {
          "output_type": "execute_result",
          "data": {
            "text/html": [
              "<div>\n",
              "<style scoped>\n",
              "    .dataframe tbody tr th:only-of-type {\n",
              "        vertical-align: middle;\n",
              "    }\n",
              "\n",
              "    .dataframe tbody tr th {\n",
              "        vertical-align: top;\n",
              "    }\n",
              "\n",
              "    .dataframe thead th {\n",
              "        text-align: right;\n",
              "    }\n",
              "</style>\n",
              "<table border=\"1\" class=\"dataframe\">\n",
              "  <thead>\n",
              "    <tr style=\"text-align: right;\">\n",
              "      <th></th>\n",
              "      <th>Name-Surname</th>\n",
              "      <th>English</th>\n",
              "      <th>Computer</th>\n",
              "      <th>Statistics</th>\n",
              "      <th>Math</th>\n",
              "      <th>Science</th>\n",
              "    </tr>\n",
              "  </thead>\n",
              "  <tbody>\n",
              "    <tr>\n",
              "      <th>0</th>\n",
              "      <td>Post Malone</td>\n",
              "      <td>80</td>\n",
              "      <td>NaN</td>\n",
              "      <td>88.0</td>\n",
              "      <td>45</td>\n",
              "      <td>85</td>\n",
              "    </tr>\n",
              "    <tr>\n",
              "      <th>1</th>\n",
              "      <td>Meechoke Kaedum</td>\n",
              "      <td>75</td>\n",
              "      <td>80.0</td>\n",
              "      <td>100.0</td>\n",
              "      <td>59</td>\n",
              "      <td>70</td>\n",
              "    </tr>\n",
              "    <tr>\n",
              "      <th>2</th>\n",
              "      <td>Thanapon Rabbur</td>\n",
              "      <td>69</td>\n",
              "      <td>94.0</td>\n",
              "      <td>95.0</td>\n",
              "      <td>90</td>\n",
              "      <td>50</td>\n",
              "    </tr>\n",
              "    <tr>\n",
              "      <th>3</th>\n",
              "      <td>Lady Gaga</td>\n",
              "      <td>80</td>\n",
              "      <td>85.0</td>\n",
              "      <td>100.0</td>\n",
              "      <td>74</td>\n",
              "      <td>68</td>\n",
              "    </tr>\n",
              "    <tr>\n",
              "      <th>4</th>\n",
              "      <td>Kesha Rose</td>\n",
              "      <td>82</td>\n",
              "      <td>5.0</td>\n",
              "      <td>50.0</td>\n",
              "      <td>54</td>\n",
              "      <td>61</td>\n",
              "    </tr>\n",
              "    <tr>\n",
              "      <th>5</th>\n",
              "      <td>Bebe Rexha</td>\n",
              "      <td>51</td>\n",
              "      <td>75.0</td>\n",
              "      <td>80.0</td>\n",
              "      <td>14</td>\n",
              "      <td>52</td>\n",
              "    </tr>\n",
              "    <tr>\n",
              "      <th>7</th>\n",
              "      <td>Mackled more</td>\n",
              "      <td>12</td>\n",
              "      <td>34.0</td>\n",
              "      <td>41.0</td>\n",
              "      <td>47</td>\n",
              "      <td>68</td>\n",
              "    </tr>\n",
              "  </tbody>\n",
              "</table>\n",
              "</div>"
            ],
            "text/plain": [
              "      Name-Surname  English  Computer  Statistics  Math  Science\n",
              "0      Post Malone       80       NaN        88.0    45       85\n",
              "1  Meechoke Kaedum       75      80.0       100.0    59       70\n",
              "2  Thanapon Rabbur       69      94.0        95.0    90       50\n",
              "3        Lady Gaga       80      85.0       100.0    74       68\n",
              "4       Kesha Rose       82       5.0        50.0    54       61\n",
              "5       Bebe Rexha       51      75.0        80.0    14       52\n",
              "7     Mackled more       12      34.0        41.0    47       68"
            ]
          },
          "metadata": {
            "tags": []
          },
          "execution_count": 26
        }
      ]
    },
    {
      "cell_type": "code",
      "metadata": {
        "id": "ybXY7vnBsyR7"
      },
      "source": [
        "Dataframe_1.reset_index(inplace=True)\r\n",
        "\r\n",
        "Dataframe_1.drop(['index'], axis=1, inplace=True)"
      ],
      "execution_count": null,
      "outputs": []
    },
    {
      "cell_type": "code",
      "metadata": {
        "colab": {
          "base_uri": "https://localhost:8080/",
          "height": 257
        },
        "id": "0szuAkkxs8er",
        "outputId": "d2ab4d95-ae15-44d6-9ca3-b28199ac5ba8"
      },
      "source": [
        "Dataframe_1"
      ],
      "execution_count": null,
      "outputs": [
        {
          "output_type": "execute_result",
          "data": {
            "text/html": [
              "<div>\n",
              "<style scoped>\n",
              "    .dataframe tbody tr th:only-of-type {\n",
              "        vertical-align: middle;\n",
              "    }\n",
              "\n",
              "    .dataframe tbody tr th {\n",
              "        vertical-align: top;\n",
              "    }\n",
              "\n",
              "    .dataframe thead th {\n",
              "        text-align: right;\n",
              "    }\n",
              "</style>\n",
              "<table border=\"1\" class=\"dataframe\">\n",
              "  <thead>\n",
              "    <tr style=\"text-align: right;\">\n",
              "      <th></th>\n",
              "      <th>Name-Surname</th>\n",
              "      <th>English</th>\n",
              "      <th>Computer</th>\n",
              "      <th>Statistics</th>\n",
              "      <th>Math</th>\n",
              "      <th>Science</th>\n",
              "    </tr>\n",
              "  </thead>\n",
              "  <tbody>\n",
              "    <tr>\n",
              "      <th>0</th>\n",
              "      <td>Post Malone</td>\n",
              "      <td>80</td>\n",
              "      <td>NaN</td>\n",
              "      <td>88.0</td>\n",
              "      <td>45</td>\n",
              "      <td>85</td>\n",
              "    </tr>\n",
              "    <tr>\n",
              "      <th>1</th>\n",
              "      <td>Meechoke Kaedum</td>\n",
              "      <td>75</td>\n",
              "      <td>80.0</td>\n",
              "      <td>100.0</td>\n",
              "      <td>59</td>\n",
              "      <td>70</td>\n",
              "    </tr>\n",
              "    <tr>\n",
              "      <th>2</th>\n",
              "      <td>Thanapon Rabbur</td>\n",
              "      <td>69</td>\n",
              "      <td>94.0</td>\n",
              "      <td>95.0</td>\n",
              "      <td>90</td>\n",
              "      <td>50</td>\n",
              "    </tr>\n",
              "    <tr>\n",
              "      <th>3</th>\n",
              "      <td>Lady Gaga</td>\n",
              "      <td>80</td>\n",
              "      <td>85.0</td>\n",
              "      <td>100.0</td>\n",
              "      <td>74</td>\n",
              "      <td>68</td>\n",
              "    </tr>\n",
              "    <tr>\n",
              "      <th>4</th>\n",
              "      <td>Kesha Rose</td>\n",
              "      <td>82</td>\n",
              "      <td>5.0</td>\n",
              "      <td>50.0</td>\n",
              "      <td>54</td>\n",
              "      <td>61</td>\n",
              "    </tr>\n",
              "    <tr>\n",
              "      <th>5</th>\n",
              "      <td>Bebe Rexha</td>\n",
              "      <td>51</td>\n",
              "      <td>75.0</td>\n",
              "      <td>80.0</td>\n",
              "      <td>14</td>\n",
              "      <td>52</td>\n",
              "    </tr>\n",
              "    <tr>\n",
              "      <th>6</th>\n",
              "      <td>Mackled more</td>\n",
              "      <td>12</td>\n",
              "      <td>34.0</td>\n",
              "      <td>41.0</td>\n",
              "      <td>47</td>\n",
              "      <td>68</td>\n",
              "    </tr>\n",
              "  </tbody>\n",
              "</table>\n",
              "</div>"
            ],
            "text/plain": [
              "      Name-Surname  English  Computer  Statistics  Math  Science\n",
              "0      Post Malone       80       NaN        88.0    45       85\n",
              "1  Meechoke Kaedum       75      80.0       100.0    59       70\n",
              "2  Thanapon Rabbur       69      94.0        95.0    90       50\n",
              "3        Lady Gaga       80      85.0       100.0    74       68\n",
              "4       Kesha Rose       82       5.0        50.0    54       61\n",
              "5       Bebe Rexha       51      75.0        80.0    14       52\n",
              "6     Mackled more       12      34.0        41.0    47       68"
            ]
          },
          "metadata": {
            "tags": []
          },
          "execution_count": 28
        }
      ]
    },
    {
      "cell_type": "markdown",
      "metadata": {
        "id": "sUzZhqlKsB9c"
      },
      "source": [
        "\r\n",
        "\r\n",
        "---\r\n",
        "\r\n"
      ]
    },
    {
      "cell_type": "markdown",
      "metadata": {
        "id": "LnpHb4t0sEFD"
      },
      "source": [
        "<fieldset>\r\n",
        "\r\n",
        "<font size=\"6\"><font color='red'>Problem 6: </font></font>\r\n",
        "\r\n",
        "- Computer column name has been renamed to 'Intro to Data sci'\r\n",
        "\r\n",
        "![image.png](data:image/png;base64,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)"
      ]
    },
    {
      "cell_type": "code",
      "metadata": {
        "id": "OzbNqBhHsVJm"
      },
      "source": [
        "Dataframe_1.Computer.name = 'Intro to Data sci'"
      ],
      "execution_count": null,
      "outputs": []
    },
    {
      "cell_type": "code",
      "metadata": {
        "id": "EsKlysryuGlt"
      },
      "source": [
        "Dataframe_1.rename(columns = {'Computer':'Intro to Data sci'}, inplace = True)"
      ],
      "execution_count": null,
      "outputs": []
    },
    {
      "cell_type": "code",
      "metadata": {
        "colab": {
          "base_uri": "https://localhost:8080/",
          "height": 257
        },
        "id": "UCaipWv9txXU",
        "outputId": "acb0fc2c-d5a1-4e05-ea3e-53ae99bca948"
      },
      "source": [
        "Dataframe_1"
      ],
      "execution_count": null,
      "outputs": [
        {
          "output_type": "execute_result",
          "data": {
            "text/html": [
              "<div>\n",
              "<style scoped>\n",
              "    .dataframe tbody tr th:only-of-type {\n",
              "        vertical-align: middle;\n",
              "    }\n",
              "\n",
              "    .dataframe tbody tr th {\n",
              "        vertical-align: top;\n",
              "    }\n",
              "\n",
              "    .dataframe thead th {\n",
              "        text-align: right;\n",
              "    }\n",
              "</style>\n",
              "<table border=\"1\" class=\"dataframe\">\n",
              "  <thead>\n",
              "    <tr style=\"text-align: right;\">\n",
              "      <th></th>\n",
              "      <th>Name-Surname</th>\n",
              "      <th>English</th>\n",
              "      <th>Intro to Data sci</th>\n",
              "      <th>Statistics</th>\n",
              "      <th>Math</th>\n",
              "      <th>Science</th>\n",
              "    </tr>\n",
              "  </thead>\n",
              "  <tbody>\n",
              "    <tr>\n",
              "      <th>0</th>\n",
              "      <td>Post Malone</td>\n",
              "      <td>80</td>\n",
              "      <td>NaN</td>\n",
              "      <td>88.0</td>\n",
              "      <td>45</td>\n",
              "      <td>85</td>\n",
              "    </tr>\n",
              "    <tr>\n",
              "      <th>1</th>\n",
              "      <td>Meechoke Kaedum</td>\n",
              "      <td>75</td>\n",
              "      <td>80.0</td>\n",
              "      <td>100.0</td>\n",
              "      <td>59</td>\n",
              "      <td>70</td>\n",
              "    </tr>\n",
              "    <tr>\n",
              "      <th>2</th>\n",
              "      <td>Thanapon Rabbur</td>\n",
              "      <td>69</td>\n",
              "      <td>94.0</td>\n",
              "      <td>95.0</td>\n",
              "      <td>90</td>\n",
              "      <td>50</td>\n",
              "    </tr>\n",
              "    <tr>\n",
              "      <th>3</th>\n",
              "      <td>Lady Gaga</td>\n",
              "      <td>80</td>\n",
              "      <td>85.0</td>\n",
              "      <td>100.0</td>\n",
              "      <td>74</td>\n",
              "      <td>68</td>\n",
              "    </tr>\n",
              "    <tr>\n",
              "      <th>4</th>\n",
              "      <td>Kesha Rose</td>\n",
              "      <td>82</td>\n",
              "      <td>5.0</td>\n",
              "      <td>50.0</td>\n",
              "      <td>54</td>\n",
              "      <td>61</td>\n",
              "    </tr>\n",
              "    <tr>\n",
              "      <th>5</th>\n",
              "      <td>Bebe Rexha</td>\n",
              "      <td>51</td>\n",
              "      <td>75.0</td>\n",
              "      <td>80.0</td>\n",
              "      <td>14</td>\n",
              "      <td>52</td>\n",
              "    </tr>\n",
              "    <tr>\n",
              "      <th>6</th>\n",
              "      <td>Mackled more</td>\n",
              "      <td>12</td>\n",
              "      <td>34.0</td>\n",
              "      <td>41.0</td>\n",
              "      <td>47</td>\n",
              "      <td>68</td>\n",
              "    </tr>\n",
              "  </tbody>\n",
              "</table>\n",
              "</div>"
            ],
            "text/plain": [
              "      Name-Surname  English  Intro to Data sci  Statistics  Math  Science\n",
              "0      Post Malone       80                NaN        88.0    45       85\n",
              "1  Meechoke Kaedum       75               80.0       100.0    59       70\n",
              "2  Thanapon Rabbur       69               94.0        95.0    90       50\n",
              "3        Lady Gaga       80               85.0       100.0    74       68\n",
              "4       Kesha Rose       82                5.0        50.0    54       61\n",
              "5       Bebe Rexha       51               75.0        80.0    14       52\n",
              "6     Mackled more       12               34.0        41.0    47       68"
            ]
          },
          "metadata": {
            "tags": []
          },
          "execution_count": 31
        }
      ]
    },
    {
      "cell_type": "markdown",
      "metadata": {
        "id": "0ypNa9m5udzk"
      },
      "source": [
        "\r\n",
        "\r\n",
        "---\r\n",
        "\r\n"
      ]
    },
    {
      "cell_type": "markdown",
      "metadata": {
        "id": "ne2Q6afFujIj"
      },
      "source": [
        "<fieldset>\r\n",
        "\r\n",
        "<font size=\"6\"><font color='red'>Problem 7: </font></font>\r\n",
        "\r\n",
        "- Suppose, they want to combine 'Statistics' and 'Math' into 'Statistics + Math' and then divided by 2\r\n",
        "\r\n",
        "![image.png](data:image/png;base64,iVBORw0KGgoAAAANSUhEUgAAAhkAAADfCAYAAABbNMELAAAgAElEQVR4Ae2dS7Lqug6GzyzuEOgykN1bY6DBAKhaTYoBQCvjzS1bli3Jj7zIIgl/49QiceJY0if5twP7/Hc6nXr8Bx+AATAABsAAGAAD72bgv3d3iP4AKRgAA2AADIABMOAYgMjATg52ssAAGAADYAAMrMIARAbAWgUsrGKwigEDYAAMgAGIDIgMiAwwAAbAABgAA6swAJEBsFYBCysYrGDAABgAA2AAIgMiAyIDDIABMAAGwMAqDEBkAKxVwFplBXO5913Xhf/u/aUQu8vdtZfb8jH962/Pru+et/5foa/8eqxKju+TvTOxwvj/3fpn1/XP27/91IpF+byCDxeN59RPq2vbqlPHFBk8GcXJI0Bzv3wkSf7dnmJy7PruQ+P42wni0t+jIGgLg6njIn+WhcS0ZHx/Mcli7XwwMt5077O//fuLIvFe28nvHGf3d4IdIV/vl7+we+gZ7/RL6EvkgbRxbrzb980Z/8A9mxYZ7GOuB1x3+Lgd77IvB/wxUzDQs0SOjKwLrj5Oq2ttm6fW26XXH1tkdF1PSR2gmRDUpY6N92+qgP4lfCHZV/A5Jeu4IhLjUCwM6xST02lev+WCt1bM5o2x5k9bBOl4pNA4aI5Yn1jfzY333Pvs89Pxe1lI/a7Fruw3jJ1rfRBEY3czy75cwR8HZXxMrA8sMp79022F+0kuQCM/i9UFrzRdUXje735r0EF691vvYpswgMJb9mO2DwliFjsyOU79yYCngPdtbiJlZc62BFX7vPW3MD43nrhCMmOMK0p3/nnv784n7vp7ePVgd3uiX5ZO4g2R4cf47G838fojipFUNNjPyr7TqSc/mfEpu02b9KG3jyc/LibJL9FfRVFi4le9hvuVr2GYwRu9opHjUGPPVzreXhenWEAFk9a2GM/6WGnyE88JMa8xNIbzbEJVq1/BcHiW71PYI2MdX19lfuG41W2jopczFG1zMTP9sn2cq34sI/zYLrA8Bsti/vxoe8gBNQ7vr9CHGXfzPjt+e29ob7PANhAr7Kdkt26XE3tmQ8zvodil+jbuFSax5evZ/eJrA9Xwms8CQ9YfgUs1X4h6ubQusD8Uh6p+VHypxpmzpOOX8sOfr80RjRyICyT2x+hXz/W4Hlhk3PuLD5BzfAhgCfQQRBf8VCgJXJdUHg53XyiIERJxX0q6kqNNgZVjMH0QiDIJnFAisGQbg0VJH2yzRcUDLNrEsxhAmrSo/3jO3qcSoWRf7Zyx20HLYwxj4WNpG33mZEpxkD7W1+jnl9pSXPW1MqEormHMMkaz7Bd+j/eHc1EQ5s+SfsjtffbPO4mWZI99Tt6n7Ed/tvcG3yhxkCbEyH20R/syjYnP18eS2SnY1GPkvtzfyngL48n6l9eMeJbOBTmGiZ+Z81CwrQ+b44xjzv04dF8+/rwP7ech39L9WmQ07rEMRVvG+S8ff+s+Gtv9duufflJ99reL+w5JmnCTrfmYy74M1zVyNfXZGptsCzHgyVvVmHxctn8aJ9dF6teekzlIn3kxYvpv5ID2vblvYhzZhmOLDC5M97B65MCa5HcrAlcAvIP9NQHcS1g1P2/9xX6vwhQOCnhaHdqCwiKFVh8BFhNsBXxo04lNcEmY8uKbEiSudNzk7vsTgsLZ6YuBS0aTAJwILApmwRX6ZJ/LPhp268ShPqwP9DUykcu7HCo2ajw2iRpjluMf/Gz7dWO05/JnqfiLZ/D4a0xJ/2g2tG846emvHQ9dm48hH6fuh+7Ln6vvYxsik3ISMDyk/sMYmUf3dwyToT//LHO9H6c5l54nbBm4xt7TOla2C/5yX3O8gu+k3aPuq41f+zHjKGOTx8F/aTySM65neV/uHjn+0mTP/cq/8p5UR4d3ENx97hmC51jXXP/adstEOQaiL5+HYWwiBq14N9uCAKM8CPNAOFf2JfmIxilFRsEuz4uo8XEXQttTz4FKDBbmwsFFBk86AVoHSQhoTBhR4LzzPUjkbBd0H9woMsYmjEwe/ZlgCa83xLMdmAp40ybB1QW9AFAJLt+fADD6QoiMdyRRnBwbiWlsU3arJCxPKnS9TLjk4+E2ufWrfReL42I/2H7d+Oy53D/KD9GPhgtxPmN50hfE7HjIh/kY8nFKFvmzZvKk86wVb2ePaS/3WR4vX1v8G/r1Bd3HdFwf9SKcOCs+T8Ym+xyeHXOzFlc7xtz/eYz0uOrj5zG4HJC1zD5T98d5EWtmI2baL2HsYvLT7fY5dFwff+F6Xy/IFn+fqmtyd9rdm9tZ9qW9Lo/BGDta19Bzy/NA6T66XtY8O0btG++LyJq8Vn7W93Cc+esDpXHMOXd4kREd50B3AKqCFhw+YieDdgLS9yLmONvdQ8EPCa4ULCdkaFPj1DCMBoiLrFOi/nNNZLAfZOHRz5xubyMxjW0y0WOhyIp0Gk+ecOPavA1KZNqEa4y5MZ7cN7ZfNz57Ln+W9IPss3Y+sh1XGnmfsh/92Y4n+DDEJk4oJla6j+T3IpOhyOnxhzHKSa74DDO+cM2onQwVK+0TGov4DpO6luzxtkSfJhtrto87H8Yh+tV+4eeUxysLf/k+vj/UGPEcO778fuPrzCc0psiEb8/tsc/hY81GGie327+T/C9ERuqHxna/GLsKDOW+cOMz9/HOzOLFR7KdfML1dtiXNE4pMnguKbOsfa7tob5K94XrZG5mLCQbkr/b575AZPCKgQUCO5JWtP5d3hiR4ZzNkMZtTB30ktM5oLQ9ZlcQCRTXTmNZIjLMGPmLP67g+LHXRIZIrGgbv89rA1Symc6FxBH9xS+GBT/y9qBK9CACkr84biKOss9QTHM/p10QSjiKt+83FmCdfHHSXlBMiuPw/Y15lvFZGIfyj016668pYzc863gkf/H5eqw1x9rHjh9pF3/hlwtsgT2OjxyfZNn6wBznMdB5att58sw4cZxN8acah64zuU+sX9Kz1Pjsq17/DOnPdF99/Ob60r95IX0d6qGOW4kH22/ws2Uy9je3ljTua4qMRj2MsTI2jM7Vxphi3+kaFVNfvyT/7jozDiXQk+8tR1nMA690nrm3tSevpZwDUWCJGpvakj2tWmDbjikyCkG2huN4HjDr+i0kgyjslJw2Ibc4doxpXTbgX/gXDOyRAYgMCJKP/ANl5WQJal6IDFLkEBllf6Howi9gAAxsmwGIDIiMDYkMs71Z3FbcdkKh4CE+YAAMgIHEAEQGRMa2RAbigXiAATAABg7DAEQGYD4MzFg9pNUDfAFfgAEwsAUGIDIgMiAywAAYAANgAAyswgBEBsBaBawtKGiMASs5MAAGwMBnGYDIgMiAyAADYAAMgAEwsAoDEBkAaxWwsHr47OoB/of/wQAY2AIDXmT873//6/EffAAGwAAYAANgAAxMYWBIyHiRcT6fe/wHH4ABMAAGwAAYAANTGIDIgICCgAQDYAAMgAEwsAoDEBkAaxWwpihdXIuVERgAA2DgmAxAZEBkQGSAATAABsAAGFiFAYgMgLUKWFiVHHNVgrgirmAADExhACIDIgMiAwyAATAABsDAKgxAZACsVcCaonRxLVZGYAAMgIFjMvAGkXHtH/5/ud31Xffqf3+O6SiXANeHs9H+t6LNP7/9yz3v9dv/GDH08/uisTyuAyLhp/99df3r92fguuPGbUzxUrE1PpVtj+t3+2mML7d1TahPJqbnM+XFcDyX3g9etsWDi4ecs7peM9Bqk7HU17l54Ug1Vta8TuXOdLsXigxKVJ4EaWCP/momxO1BJmEZ/9nbpxx+7mmyX2CzFxIVoRLaXi/bHvzuBIgZT+5riIzcJzrmPoZRyFESxYJxffRdF+IrPx+U8SFf7a+di2I5h/QEo7kgW5feX+oT5z7HUaidXDdV/W21mZj5+xbU/Q3Xj2Y9nGH3MpHhHygUnC/CVhma4GzYuUPgl0QGq+LhYlXxg4LcXBMC+ngIH3v/ucL36N15iAzjsxl82bjKY/l5/Op3+ZiGWET7WB8H0fh6mR1BmlCG83bp/WPHiev+hOnWJNlqs3XFzXVxYXKs2OmaF3bwWZTNsHuZyLCiwgfJTojHCYB1PiUFFSEuVvE1hn3NEXzDr1voerqXztmV1rk/M/Q2sO74caXXNxz8sP3L/cfVdzgfV+b2tY+5//V40Csa/1pIK3Vvvz8/RtzsJ+4l5U7xsbtA9ng/Nv5JAbeFeBPHnJ9BLMTXhkZkmPxM4n3k/ZuwFTwOca5zXfur1Wb79dfG2qn7sdfu7Vj7gfknG+fYvUhk+Ad2YueCE/Wgzi+JDPJBaTudihgVq1JBC/d4nxUEhitaLDL8O8R0jRuHmwTleHTw5WQoP4fXO1GBy8IbxsuvBli0hFj6/uN9us+9JVFxvEEw6+8VkZ0sIN19zudSsBX7woSzoe//iCLpY8zCWcZWfua843wbc/+xJpkjM8110tfOsGDi/G61WZ/I+/3CLtbGg7BQrIeF7yWOsBsiY8KEkIHlIeVipCd9D2UsalTEittro0QG9U3J4IoePdOPpyjocvFAEyONQ06SSTzkbal/U4Sdz5xtIwCzybnFY29ntEX6IbfbXSv9t0V7MCZZ6IVI4F08nzN5bKPffN5yXs+4f0JNic/EPX8iTH29kwtjEetWm44TsZN2u+yx5G9/n4fq4VS7F4kMP9HIgIWdjKMW4TTplsAh0JTtUWS46wOI/LqBJ7WRIoNVtpzc1Xj8s/iXL6/+FX9RIselC6ZLnHEig+5Lr2L4ObwqLPljL+dynxDXzjbpuxRDFWNMDn8yOegiP4UtE99Qox5Xii2vYn0uxdx89a/4S7lx988f3xRbcO1SP6d6x75MOd5qG3yuqvXc9x7/Gt55QRl3uI1NI+xeJjKsqAgTHSfuYGB2VqDVpF4Ye9ZeDQAF0k9WI0UGvzqRXwJNz0uJQj6Xx7XPBEtKLHkdtdn+jxnXdlI5HyRRQT46ph9M8Sjwvc98zuNLzD/6xyu86rU5qI5H3H8YXx2VAWGXq8m8wPNxEzndahuKcXaveObQvZtqz3lPi66CTSPsXiYyeHUeguYnpZri2ZQjC84aMb406Vbudw6P9hO8tLVkAyfAVgXN9OvbeLcg9BdXWPL1jHxWeJURf7dNbTxRJlHhnkXjojZ9nZtQpL36vtCmktWMfYQ/tzJpeTujLSVfhhio+O7X3q34/W/GYXPPxS3EmHdhfZ6l75ZRHSu/LqExm/t3xPrf+HzLuWF4UDndapM2metUHZXX7fNzvR7Os3uhyHBOpAdXfyFxoASUk24tWf1kHLddxT+iFQpZfOUQv0vRKFhKZMhXGwSvGo9PlvAaQ/3yhPpnkeHGTUU0XSsLZ3ZdHKe5L4qpfSaSjl+KgY+PsNn6C7sYe4u3LYxh/CFfOJ4yJx5XeY/8LGw392uexHUHqn/HsbE1Z9Xa3HkWni6+8rpj/dpOivC8Hk63+w0iAwl1nORDLBFLMAAGwAAYeB8DEBlYaWz8i3vvgx2FA74EA2AADPwtAxAZEBkQGWAADIABMAAGVmEAIgNgrQIWVgt/u1qAv+FvMAAGtsgARAZEBkQGGAADYAAMgIFVGIDIAFirgLVFRY0xYaUHBsAAGPhbBiAyIDIgMsAAGAADYAAMrMIARAbAWgUsrBb+drUAf8PfYAAMbJEBiAyIDIgMMAAGwAAYAAOrMACRAbBWAWuLihpjwkoPDIABMPC3DIwSGUMXof3UwwfwARgAA2AADICBaQz8B4dNcxj8BX+BATAABsAAGBjHAETGaZyjABT8BAbAABgAA2BgGgMQGRAZeBUEBsAAGAADYGAVBiAyANYqYEHtT1P78Bf8BQbAwBEZgMiAyIDIAANgAAyAATCwCgMQGQBrFbCOqMhhE1aaYAAMgIFpDIwWGf9uz77rnv3t37QHZAH5d+ufXdd3z1v/z0zw9Iyu7+6XVSa+y31e33Pvk7YX+2BfvNXeS3/vuv5+WRgnExtpy74+kz86x5z6795fvI15+/P2bxX+9uW3nfHDueRjbOqUbCvUHRkXn6eBE+TQzhg4nfo4h6hc7/qY05e7qANcA0p2HrUu5HZRXUy+eHcOjBAZ//rbkwu0Sd45E5FP+Gf/fNq+xHPeOukmgIoT/Qgb5t6XFS9lFwU7wj9iHLK/+mfqFwUyxV37ijiLfvc8pgTT19b6wPlt+UkzTxMNx1TGW34uxNBPQOE++fltuVl4JvpeV9DLOAaxGWuja6uJzq+pCyYnpL/k5wWcDogMVj1OFDihYYXBjKQJwbvfhbr0Brhn3Xt3/vg7GRTYdezUBXdbk8EMXhbAXbLdT0CysLQKzZufXRoPzr2BCV9TRG2Sx/Kzi2cj3noxQTkaJySwsK4YWMW/uhZmuX9yMRbcyDE0ODlSzlqfrJEDI0QGKXv/8DeKjIsNoju+X3ptJIsc2kmxCU9jCrssapfgRP3wllloo75v1Z0ZWgGF/sREpMbki5YQSOGYtpwqwJ7CeOQ4RP8RWucDHnMnnuHgbz1H3ne/p9cl/jyv6LiPMMbQdvOvwZJ/pU+tv+M4ZTLu6rMuOs4eH3PDzv7tfMPEveO4qsJpc8AeRzvNis5PQCYH47Xf5t992qs44FxXdbcuJL+jLth6uE4ODIiMBBdNPvVJdHRh9pOlm/icgak/17+b1NKEbgz296XrNUD62lqbtcEfM3Sq+FB/vNMQx2TGcPI2iO8/qD6S75xvuA8/tk5M/LFwaX/4FVe8zsCgnqPbqP8wJnVdSWSkIqru4/Gyb+IYtU2jY76R+zUXZAsxEYSlE3gHs3lvMZo/3pCzLoZSNLockDGN9ceyTPdLYe3YiK/VNsLwfP9Ye49+rOui95uvh7Zel2P8DXUhr4fr5MAHRQZNvJTUaYLlyZhW7noyTkmfOyNtg1JbqTjEvkPBkE62bXKS923PZ/8UoihCKwtYWP3IQsVFwffhdynCqydZCAsFjCb9YL8tlPI5VkhI4WPbpEiybeZY+oZt2PffEhd0Lk1K9vjohfgg9nmu7eRRyR2IjB2+9pjBqalnXLuorvLuN+1q53OFrQP2eMZ4CjWex/SZv2STtp3OyfnLzVv6mum2f1Rk+IC7ydYBESbrONl7SMQKk18j+MmZVKp8tZC+IVtQsCHAse9MZBQcLiAlgZCLAwUsj8++5pDPZpESiqIOXgA59OO+GNuFnYzWc3xbTegIGzzIXy0ykpBtJrX12eaKw/Qkb9p7APtqOeDzy8bTHkf7bQ2wx/D7njjyTAws5LKd6MhCIdZVbgrXtvrZTFupHlrm7fE8Wz8qMni3Qn4JNAqB6orDGUrGS8WVEqDumNh3CLQsTrYt28kQ4iY+14GnJvh6EMr9p9c/8nneFgl16znyOm+XEFm27ZtFhvVFLdlbvq7dg/MfXR3LPKY6IGqArSON+LocTcK/VWPqeZ7qEK75nC9E/Fu5Keth6zrX1uDmc3YuYKxSD9fIgc+KjCAW5K9W0mRsQaHJk4uALSz+vjDhF9uyL5WGL/2xSFBOp2fzNnoaU4Ct9l0JD63YthXgqj7CeX+O+/LPZ9ERns9t8hWIu1c9R/uFxEoYg7qOf0MenqHstXYZ3wg7dplQ/KWvbGUjBJm30fjyAHbvNV6Txm04pxzQuUR1w9YUU6RlTsjP4OCjInISCzGPOf4ixp4TfgWva7x+xvHrgp8js3po5oE35cCHRUY+menJmIIdX4sYp9Akza9UGB6CSrUFIaH7zp/tHc+vPVh88Jcg47MNnKHA8RhZBGlo0xc/9Xm2z42dhYWz59nfLu4fLROJ0nqObHve+/szCR3ph+ftlr5sawEyx1ao6XGLxN1JAbaxT/ZwDPg97Tr/EFx63v58t4uxe365Foi8cXyq/JD/CKCLvb5W5kvcsdwJ47uI01/40sdbx5V9U6vx9OpE3nPsulCvh2GuCvPgO3JgtMjgIOEvJgkwAAbAABgAA2BgDAMQGX+hrPGMnW23oniMKR64BpyAATAwxABEBgQABAAYAANgAAyAgVUYgMgAWKuANaRu0Y4VEBgAA2Dg+AxAZEBkQGSAATAABsAAGFiFAYgMgLUKWFihHH+FghgjxmAADAwxAJEBkQGRAQbAABgAA2BgFQYgMgDWKmANqVu0YwUEBsAAGDg+AxAZEBkQGWAADIABMAAGVmEAIgNgrQIWVijHX6EgxogxGAADQwx4kXE+n3v8Bx+AATAABsAAGAADUxiAyICAgoAEA2AADIABMLAKAxAZAGsVsKYoXVyLlREYAANg4JgMQGRAZEBkgAEwAAbAABhYhQGIDIC1ClhYlRxzVYK4Iq5gAAxMYQAiAyIDIgMMgAEwAAbAwCoMQGQArFXAmqJ0cS1WRmAADICBYzKwWGRcH13fdem/x3UtR/30v6/0HPlM9/n1e/Xtr9+f40yaP7/9S/g22fzqf39G+NnfX7m21faFwuvn95U4fv32P9EHmrtD8RVtHMHS3q+9PlJ8u0d/LdpDsW7FWNa79WrdF8Sj6P8/srvBgoxv11Vqpx/7tX+Y2tziZl8Cqm2b9NGYHFgmMkKwonPD8ZgHL3N6qRiUzv0RtGslTEUI+CCribBiZ+V+7/tW21r2bLVfz20qKN6/j6sXq9rXxNj6fFfiuVX/bX1cnvWuj3Fz8S7kDwvNWM+sXZ6TIFDkZ3sdjre70Guw4OMvuCAeKoLU91Np23v8W7ZJ7uXnhs3LRIbtOASwCwV6mZBoFdqSoCida/WxgzbvzzT5RX/WzhfjUbjfXTe2D9vnAY+dkChPLKTo4+TkbHeJtTrfO2BzRxzYyeN8drXC5oWL9at/vWosnHspPqkPIVx25I9YR75wzONYCPnXqpGuDghBciifNmybkwNvFRmk/Lo/KMIlQcHnfsU2llSa1J5eOXBbuO/xEK8muM3BNnDfr3iegc4HhLfU4sQ09DwxwdQgt+f9sXiVxM/i637TVnGcTMe0xVcyYrL19z36R3hNpibgXRYtYVs2/kJbIwEPVWgyXwgud9ZWnli0QHC5+riG3Cy+crVt9ni//vkmbsewEP3BNTLWwRRj3w/X2Z3lQ7SvMu66bZZ5e5z8I5/xPpHhA0IT3foTT8k4OtfF963hOICgHSfvX3ofr4gKz4uigyYrmuDbz5PBqe02ePES+6b+os9lYnBM+Npw7K8dbGO7HDhisg33RbFSAVXZselrnG2v/vcqvv/C/mKBaY8jY+Wk2o/tXzJ+Jww7ISrCcWTYMe1jTLkUzytuTZ6daWejfO2X+FX5Zyc2D7EgbNJ1VtunFpBuIRlrhL5uj7Wgbtu8HHiPyOAJ68+cXSoG+TnvrKLazCd9WSym3Ke2zj3AbhckH0tS0Hlb9XnSr7wj4v/KnRYDtR9DEAjh/ihAQmH0Yx5sa4kM2WaeL5J0HwlGLKQiQfFJcQ3t3u+v/tfvCjX8vzv79x6/ceP3+cc59PgVXxJ38Wae89xMDFObzSVZN9K148aE6z/jpzoLaTx0DXORzlPMbI2wx/b6PR1bW+QxfZ6aA28QGaYIF7aW3p9MZKxO8PycmryDgqXXJfLd6/vuo50HNwGRT2Qw5osMCTr1q+0O74q5gL5e/Yu/Fe2FhLz/3PtxOOE1qU3YU7jv/fH9y6QUtrFAiGIxH0eKY962bz98kz0i5i7WcSGS14IUU9tmj7/Jf0eyVbAQ8r8tMCq2N2pGYqhyL9edrf6Ntlnm7XHZvoUigx7CE/eon1W+xZEl4/JzSWTYNnksP5OTptyXClT4UqDfSs/7TJNT3paeZ4JUmtD9ObH1a6+Rx/Jz8Ht81qQ2kYiF+/adRBQPKQj9lzsr25/Rf2/h2MQbff7NrxIEwz6eLNDl3yg8UozctUngF7hB/P4mfu/0s2DB1TESGDN2Kt1EXKkZ+66PYV4Lts3JgWUiwyucv/oeRkp2/jJmSnjX1pq8qS0KgjBuun/Zfc3vgEToaJIefp60sf4LEJUIPkmS6KCiGXYvQlu0W17bags7MdG/wV9+Ivb36d2RvSdREoA5RyqpvB+OZfveYzdq/J5ZnjhMLVATVl4LVP8+/qEf+Vn1YXIYbdsSHi0WRue3WHT5+Mr6vvf4D9gmuZefG5wvEhk0oYlfNfBKoLAKUMnaGNC460rFID/nx8dj8Q4JY31cxc/RFt4nf5USRQWBpvzD42iKIQNodUInEFg5y+c8rgISvn/qr0uiomd/0Tvso4oMxxwJN7aX/o0MYjH4OrCtdjwWc2zijf5Wm5BUfE2epppja4GLvRaVOtcQv+S7/fiixoKMbfoVIi/gLAu6LsSF3CFyuG2b9NOYerhIZOwRsPeN2Rak/STZ+3wAm+FLMAAGwAAYqDMAkTFbeUJkILHqiQXfwDdgAAyAgXMPkQGRsdoWNRIMRRYMgAEw8N0MQGTMFhnfDQ4KB+IPBsAAGAADQwxAZEBkYCcDDIABMAAGwMAqDEBkAKxVwBpSt2jHCggMgAEwcHwGIDIgMiAywAAYAANgAAyswgBEBsBaBSysUI6/QkGMEWMwAAaGGIDIgMiAyAADYAAMgAEwsAoDEBkAaxWwhtQt2rECAgNgAAwcn4FRImPoIrSfBv/BEfgIPgIDYAAMgAEwoBn4Dw7RDoE/4A8wAAbAABgAA+9hACLj9B5HAkj4EQyAATAABsCAZgAiAyIDr4LAABgAA2AADKzCAEQGwFoFLKh5rebhD/gDDICBb2QAIgMiAyIDDIABMAAGwMAqDEBkAKxVwPpGxQ6bsVIFA2AADGgGBkXGv9uz77ou/Pfsb/90B9/kUO+L563/t1SYXO591937y4x+dDy6vnvHeGaMY29xv9yZ4a7v7hclrGTb/fK9fO8tpmq8/279s1Knspxp5B5YOAD/FRZyDqgmPG//VD1gro7MgvKFmUOk3bZWsm+m/G2LDA6WL8r/+tvTBWXe5DhlUFu91gfGBGTWWGeKDAq+9n/p3KwxHVho6Lhd+nvX9bGwyFjIzwf2x/H4oJiyQJ0JQqEAABklSURBVKQCmvLE5UiMdyuuMv7yc+setBUn6M8x1mZBjasVY9kmPx8h3t6etGHg55Cw8GrWypm2t0WG6ZQmtDQ4FTBz7RHbdAAWKP450Bowkn91UqXzC8Z3sFjKJHL+kcfy8+lEQponK/hyJwz5xZCoS+p4fEzBwk7i3apPKvan/mSP473tunlkFpxtNdGt7da1cm49nCAywk7GO1byMdD7gnpIZPgAVbZsZdv9Hl6X+ARIK67WJGeDXw847zjx64G8f3r99ezv96d43dK6b19xsr7RcZPFhWxOCWeP92239cNxj2VMT30ebyFAqrXHxt4eg4V98NNiIcVQM5LOk4029vbYXr+nY+0fG1Ptl/a19t7a8UiRQQ/79vf/OgAGLLfTIASYEgVq54KApddO9DmunDPRwc8YD7kfY/zOgb5Pj1/HtHVfDZ5dnfcxcMJLTjjG/2GXI4kO9j/+bj/WFEsvoCP/vJJlwU1/Y74pwQEWth/jsXlYYSHGe2jyPDILzvZnf7uI7zCJecszUKyVY32fXzdSZNCNfiLqur6cpHnnx4FW2G8DEsGV9gfIQ7FTgsNdL0SHnNzlZ+076k9NfhGEUEBlYY1jomSi+/I+/POK9sj7pF37/Oz9H+2UfqDPkmd3rfJz9OU+bdccHdQGL85FXRL5RbkmhKVvE8cxvmDhEKy0WOBYSz74nPp7ZBaotqcFMdnKX/Cs18r5tWOSyKD3W/m38w8Bp4Ks7ND6pGxXTM/+6b4k6yd+CqKauOSOhfjsAiwnPOlXH/yikDDvzZT4oHHQswku2b+yp3pf2RdybNv+nNudRJ6NjT3eu+3fMX7Fsc/jVhxrbfa8Pf4OX247l4djMIYFf02llpL9Nvb2eHgc2/Vjqx622ubbPEtkqAlzxOS8XYdPc1wOcLrfigB5LD97XyglTQDfLy7A8vsTqe90T2kFJkWGTQZ5LD9T38ke22aPzVh2FfN24rjYJJ7JbinEjsLuke1IHDOnLX7rMQYL7L/9/h1mocVGsvu4LBT4d/OR3+lt18q5NaQtMsLqlouwnyzVO+0UlLkD2NN9OcDJfu8b3pIPW3a8BWW3bMmPSVD4ft0XRvn+yiRu73O+i/eKXRP93DSJ6vETUPRMAq92355iVBqrik34BYm2NcRCib8U21KfOLch/xS3yEmQa+Y5X1LuqTjK+MvPlXxU9+KabfyUtcECxcvVvfJiTcVTxl9+PkCcdU5o0dWslTNtb4sMOYn5X02MCM7MgagAb7SPOKHHX5CIL5KxsAhi4eL+ETMhGuS9z/u9f8pdi3Avi7mmLzzw8otsJiay/X5RP9fkX6/Qr0vu/U2OsXnfhiaUWWwEEcVxM1ulJN5ELGc9Y+8+2vn4Jb9mEpG5p7/4m084YGHnHLjcbbDQ/kmrrqVHZkHlhKqH7VrZnJsqdXNQZMzpFPdMTdS82P2FDz1oCrCp48b1fxEnPAOcgQEwsFcGIDIq6utPA+qUt9j1WOvZTpmn3RJ6XZKOkcRr+R39gi0wAAa+lQGIjA+LDNqS09t0q8EoX+m4VwfYxdjGe+QPM7gab7ALfIGBr2cAIgNJ8PVJgEkWq0wwAAbAwDoMQGRAZEBkgAEwAAbAABhYhQGIDIC1ClhYFayzKoBf4VcwAAb2xABEBkQGRAYYAANgAAyAgVUYgMgAWKuAtSeljbFiZQgGwAAYWIcBiAyIDIgMMAAGwAAYAAOrMACRAbBWAQurgnVWBfAr/AoGwMCeGPAi43w+9/gPPgADYAAMgAEwAAamMDAkeCAyILAgMMEAGAADYAAMzGIAIgPgzAJnipLFtVj5gAEwAAa+kwGIDIgMiAwwAAbAABgAA6swAJEBsFYBC6uW71y1IO6IOxgAA5IBiAyIDIgMMAAGwAAYAAOrMACRAbBWAUsqWXzGygYMgAEw8J0MvE9k/Pz2L/e/B3/99j8Hnrh/fl8FG6/9Y5HtP/3vq+tfvz/LJnyOgRuL+u/V//58J+BjC9v1IXz2uKY4WJ/KtgNzPtZvR7jO57TKl0d/rcRWcvK4Iqf2GP9WvGV8u65dN+W1R2NB+ag4p9OcNcbut4mM6PDigI6TjLnIIGd3iyafd4qMPDF8bA4elyXFTseUBCMJPvqcEkm2HYfpJb47wr0uP0YJ/Ouj77ogQOTniiA5gm+OaEMt3roOnHuaaCuCU8Zffj4CC96eNI/4+UPNb2HO67o+1cZ6PXyPyJCrvYNPZhbE90zg64qMs49PguaIhWOJTTaJ7LHsu9Umr8PnetHZlm8o98YUSx378fdty969xGWtcU6IW6NuHpkFZ1tVdPNc/3j43fsxefMGkUFB616vr3tdUle64fVJ2IKVgfBw8tZsFGTkw9fvL7128e1SQQcf8328mrKquZYU9jyD4vvT4qM8Pkp41aaU7VoF4W/61cLR7l7oMXgfHMh2TIAu3joHyj7hHOVXmvZYc1LuA9d83i9j433u64szG3t7vOc4t+vf+efaX/2r94HrxNy0XGTErRV66Nd8JyPabYEywMkJ3t0ThcW5dxMWKUa6J27FnsNxmMz8JBgnNtO/CGYtKfzEGJ+r4VBCqTq+sHUY+2iMQY5nT599PN33MhoTThBnUjR+vmha/nA8KSZKcNP3csrxJeZlW8pf+HySzz9ZF0bHm+qzrNfJxiOz4OaHV/97Dd+xdAvRWPcl53oeSb6R19DnhSKDnE3fR/gikRF2AF6vQgA8xHIXQoiJMJHJQkXBySft+oqZ/FzcziokEH0BVIzHj0EcnwUsA+NT43bXFuHLIWsBuIU2LcLyWNAYA99R7O3Pzi34enNj8MwLYWmP44R45Inli1i28bXHId60+BJcRA6cr47Mgp3Hydb8O4di3lC+yVlaJDJ0IOzg8odtrsAMOKc0XrKZv/BSmHg8tOKXCvyKgycn004Tdz6xKZGh7nn1TtzURYZMDBqfvNaPX4kDA4t6lrGTbYl/pVjZa7yN/Y4J7wNpWyHOM9gp8YRzW+Mmz0WKkT1vj7dmB8YzLrfyOOp5reRHe489Lt2zl3Nj6qGzpXBdpSYuEBnkWP1TSZ5cZYHei3PHjTObpMPuQVzlF3YyarATzM5XOaRJZNg2eyzG7Z8tRQa/V2SxUJ9A4/gFKHZ8pWtqtu3nfCFZlMigdinU9mObYEPEFeNv+YXyq8S6y8nEQf06+Lfl36216Timmtce53FZ0P7wLLt6qBamzjeFulmpMQtEhg0CPTQfjL1u38eZyDjzT514cqcgpWKUJqns3hg8e094H+h3P6gtblf5CVAWO+HPksiI42Php+GQSVUfn/1ORut9pRhPBbqtFWEv6GISSX/Lz/uza2t+3uJ4LPMyH7LxSvEpP++E88yeLxx3M94+plzHB/Jdxl9+PoBPtY/yuYk40vNIiy2IjIlQ6AAwiGEyil8aDIKLXyvwq5JzmJz5fLw+D2TayeDdh7BL9Lj6L4xG0SHHXxEZrDqjAPTX8a6TTir/3Gx8ZKduY9HCPtjzX45f8rFPGuUn9lfhezgyBvic/iGznfiChAXHV+aDy2N5rPO3tNvRKrZo20aNqMVb1zfmgXeBv4sF5SMxfyWGPyIytgFQcgLGA1+AATAABsAAGPgkA2/cyUAgPxlIPBv8gQEwAAbAwNYYgMjYyZbu1sDBeFDMwAAYAANgYIgBiAyIjN29Qx+CGu0ofGAADICBbTAAkQGRAZEBBsAAGAADYGAVBiAyANYqYGEVsY1VBOKAOIABMPBJBiAyIDIgMsAAGAADYAAMrMIARAbAWgWsTypnPBsrNzAABsDANhiAyIDIgMgAA2AADIABMLAKAxAZAGsVsLCK2MYqAnFAHMAAGPgkA6NExtBFaD/18AF8AAbAABgAA2BgGgP/wWHTHAZ/wV9gAAyAATAABsYxAJFxGucoAAU/gQEwAAbAABiYxgBEBkQGXgWBATAABsAAGFiFAYgMgLUKWFD709Q+/AV/gQEwcEQGIDIgMiAywAAYAANgAAyswgBEBsBaBawjKnLYhJUmGAADYGAaA8Mi43Lvu65T/90v0x6ym6D8u/VPY6uz/Xn7N2Ii/tffnmOvbfivMoaue/a3f437BsXSm8Y3+JwlY1zr3kt/N3HNY0r+OSzbu4zbOB7+3Z6qPnG94hjn7ff+UvHH5Z5qHVgY5//t1ndd83IOKNbMibXjuCw06qGdf+6XEXNfm5NBkUGBWTrBtQdhg/uxY+9gY2tw+nDB0UDPtqE0htOp98A/b/2/SnEcft6bxjf7+R9kwPu0PrGcTuQbNzkNx/mDduzR958Ys18YpXi73KlNJCpv5H3y8ydswDMXT24sKqqxb8VYtsnPR4hLtR6S+Eg1kI6r/hvpiwGRwcU3JaxKypEP2c09xQl+7OQ89rqBSao4hlN/qp0fHYM3jW/08wbs/Mt+XJGoCTTv167v7ne/25ESbEPj/0tf7f5ZtlAS92Pi6oV8XLmNv2839W33sZ2Sk46DZ/+s7i5bTnTfh2ahVQ8NI9oP2kdjuR8QGRQI3n4c/+pg3mDGDnq160oTeeGcdzxvv5ui9Lzd0ta8mdjK9xlfFZ7n7bXn/TFv7abdF3qGEIVehbt2FhlifJ24TqzmKd6yzYzRgLhaPN70HL+iiXEytvy79Bf/GqpddLZuI8ZHcfWxVnlHk83wq0bOD341ao8NN29iE3Fbx6+uDt4v9RjmnMhx2Pvssbx2f5+b9dBw7eeTWu0019ZYbosMnsjCQ/zgjrylzPaygAh/5SpIwynho8/puxPhWPouFj95n4HUiokQSB/seL+ZEM12XgJDXsfjY/FQGF+EqTG+kWDVgPvEee8PGdPoR+l76St5Hp8/EbN5zyzEsJDTMp/Tc4h52ea4WbpVnPoHR3/mCxdzn+O1OlbgRNW1Y7Mwrh7y7vnyV8htkaEcnx7axcnoYIlTnOAJSCo2OXynuPVEbco3cfJv3Wd8WCiK2c5CfCbfa/unMfv7YqzoGlk0kxjhfvivtJnP7fWvjYs9ZruGCg9fh79/NlnY+jN0HPNNxMifSzt9Pl+LX6K2OUTfg5L5slm7h/zyVe0ujhxvimkWwxInykdHZoFsS/OUPebcCXNInD/4/PS/00TG6X0P3mTCFkXGqU+7F8F+uSr2n93uQAFo359ra91ngpaNge6VicI7SiQ++JWJXnXRNbxr4Z6Rj0+JDJ943FfrXaYZr0rOnbQViwz5Wa5kN8noHv39R2P2zA8WxTwPKM72vD3eCdt/5OvN5obL7chAOYbDnNj77PHBWMjqYZivoh+X2TtNZPAq+00P3xyo2QRPzvVQiu238kRUADEGj9rK95kAlsYQ/B7vd/0Wt/xDX6EP96WnVsIlkWHHbo/NGPdeyIr+g8jYXD5O4mwss/VcdPmQxHz9un376WC5bBjxNS1bBLbrYCmeX8WCqof5orbknynn2iLDT5Ip8Wh1zFtRB4S1NMGHXQguPklwkP0eaiFAuvhlSipSPMnX7zN+LI4h7KbEvs2EqESILLbyOnlejN0LRj1W2lJOcZ8C1PaulT5wdteSyF5n4mKK2fbs/PbxuvjltcnmHdUwucMn/ObrXWiTnxH7xT8n/Uy+5DWP8j/nJBufjL/8vHsWbJ2T9dDMA2+ytS0yTjy58Tb68i+BZMF8kyFv6TdM1vY1BAsFfoZWy1ywGGjx6w2z21C+TxQ554uKyODJMe5gmLGSCAqQyOf6BHFJxePjb8+Hf3uDd6X8dSHO9wv9uxzctqUYzRoLJVKMa9Eum3wmLrOeiz44Z1b/W80bW8PkBONiLo9DToSVcNw5ROyPIzKqnHwTC5V6aOaUWC/lfDIjFwZFxurFYcagMSZMXmAADIABMAAGts8ARAZEzk5XKdtPLhRAxAgMgIFvZwAiAyIDIgMMgAEwAAbAwCoMQGQArFXA+nb1DvuxggUDYAAMnHqIDIgMiAwwAAbAABgAA6swAJEBsFYBCwoeqzgwAAbAABiAyIDIgMgAA2AADIABMLAKAxAZAGsVsLCCwQoGDIABMAAGIDIgMiAywAAYAANgAAyswgBEBsBaBSysYLCCAQNgAAyAAS8yzudzj//gAzAABsAAGAADYGAKA0NCEiIDAgsCEwyAATAABsDALAYgMgDOLHCmKFlci5UPGAADYOA7GYDIgMiAyAADYAAMgAEwsAoDEBkAaxWwsGr5zlUL4o64gwEwIBmAyIDIgMgAA2AADIABMLAKAxAZAGsVsKSSxWesbMAAGAAD38nAG0TGT//76vquC/89rjuctK79w4//0V+t6Lg+yLbXb/9j28Ye+z4KfZ/Jd6/fn4k+m3vfd0I+vriRXx9X4aef3/7FbLu/u+Rb2DOW2YNd9/P7SjWqK+Wi89FwXl0fqdYpTg7mr/E5s2e2WvFutZHNR2ZB5YuZ+6TdY+rhYpHhHxgGwQPbX/I5kfHqX6+ut2OPDjWOnpSEEBkTRdQnChcVFSeWEwMkPu3xdFH4CXvwzJijJv9kzYrXnM89169qfGU/8jMExg7yO8+HVrxbbZ4ZGX/5+QgseHte/e8P+cznS1hceb/EuZDqYzVfgi+WiYywyht6iEzkbX4mkfF4vMxK1U08r96fj47NYR20qQrhsFou9z33vhljP0LSDNnAuxWPh9/RSqIi95dMuHJs8ntw3cZ8UszHtNCo1TMde8rBFiuI+8birupAK96tNrLpyCw428blwLnXfijHe5nI8MkqV37lh2w/2Qiq36vbGhdbqW7yef32V7fVKkSGd2zcQk+Kz9nJCti/PuJ7VFGj4kT9WbHgxlHZjuWJ0LW/Hv3jVQaBgv4rXmE5e2S/wj51XsTRP+vRP8LWMBdSZfeRXhv8XPurV+3kJ7a3xO2YpCrdh3PbqQ2lGLpzj6vNRzlm22aP5bX4vHXeW/FutZFdNvb2eM/xb9fA0k5Gq146fy0SGTShhpV+mBxrCmjb0DnHOrFAsLDTnH3OHuVYJxhYPJyNklNiQrTF8xZGeSw/n/uzn+hZwJg2319DZHhbHOh0XxeFEwFEMSr1GZ4XBI2MpfLBiHfX2453rQi0E4xiIsSYWhnV+sT5zbAQ8qaL+RFi43j3OW1yQsWX2rg2OJvcZCRzZDN2qnGDvywurXi32qJfj8xCmAv9gjsseMV8531Zy6PoH83cG0RG+jIciY49FmEWGbQTISdhV1T0BCsdSLDxl19c0eHPCmwfFPrOhy5Koqj5iV3uMogi5ttYcLjni/tMYO0Y9LG4r9VnpU0W2LOzycJnxqJ8sIu2lsigtmJ8d2Gb5PbLP4d8pHfOLic4t0R+ZDGlNpkDEBl75KgV71abtPXILIQ6F2s72cp1z88npk3PadJP9HmRyPATjfyinJ+cKhNtlrT5YD43KSWRESdPbwtN+kpksI1+54aEAwWAglF0eFB+r5f7hrsUEuKecE38lQ6/NnGvJXybvE8IEONXLSrEboq/zj5P9inaMpERwOMxxb/y/i3Fc+5YyE45kRCTwf4jvSIy3Hwu9+bGasl9gnWXWzGu4nzmH9tmj5eMB/f+GX+teLfaFA829vZ4z/Es1MA4/7Ta6jYvExlhwo0TK0/AMWnrD/4zqBQctfE45/Fqhj7LL4FKkdGaxG1btDEGqTHpe99VJu1s0q9Dbcegj8V9rT4rbfnkW/PnXs8Xkih8byUyPoqnvdr/LeNOcfb5EUVz+j5UEh7JJ+7axAHl0vFzItkf69mOc6AV71abtf24LBS4dvOX371IeRP9Iea2eM7wsUxk8Dv/sH1yhNclzlEMGxeQTGTwdpGfjMXOjXF4vE+dl4ESk372CoSuo6JG18XCF56bCl4qBH7sQuTp48bz/BjldzJYdFHf0ZYAkO+X/WCgqsG2/fMyNs5u4/fD2Jl42X5M3jBWlX/85eySoJf5UXiu7Ed+Bhe7/Akr53epjrbbznp3+WAs6Fqvc0LX/XH1caHIEIU4rAZ4Yt5X8XKTi5hUDTTK6SwsnL2FX574a+PKKBSyUn/+tYkO4Nn82iOKCl/EaAKk1yn0y49ScmhR0dg5yfoU36XJdjKo4Pq+rW2HKrBGZMhYR7sp7rP/YbZD+aswEW/UPp2XItfVeEv5qK+VObDPWrefmK0/h9h4S9/YNjNHiMWo/rd1ZB/7/azyRSxaWXzF1/qqrWzvG0RGueP1AcFz4WMwAAbAABgAA1tmACJDrWQA65ZhxdjAJxgAA2BgXwxAZEBk7PR96r4SDYUR8QIDYOAbGYDIgMiAyAADYAAMgAEwsAoDEBkAaxWwvlGxw2asVMEAGAADmgGIDIgMiAwwAAbAABgAA6swAJEBsFYBC2peq3n4A/4AA2DgGxmAyIDIgMgAA2AADIABMLAKAxAZAGsVsL5RscNmrFTBABgAA5oBiAyIDIgMMAAGwAAYAAOrMDBKZAxdhPZTDx/AB2AADIABMAAGpjHwHxw2zWHwF/wFBsAAGAADYGAcAxAZp3GOAlDwExgAA2AADICBaQxAZEBk4FUQGAADYAAMgIFVGIDIAFirgAW1P03tw1/wFxgAA0dkACIDIgMiAwyAATAABsDAKgxAZACsVcA6oiKHTVhpggEwAAamMQCRAZEBkQEGwAAYAANgYBUG/g95SG9EeY5waAAAAABJRU5ErkJggg==)"
      ]
    },
    {
      "cell_type": "code",
      "metadata": {
        "colab": {
          "base_uri": "https://localhost:8080/",
          "height": 257
        },
        "id": "a7kycfu6ueS8",
        "outputId": "5949b5f0-3c73-4669-e09d-6389903c0c04"
      },
      "source": [
        "Dataframe_1"
      ],
      "execution_count": null,
      "outputs": [
        {
          "output_type": "execute_result",
          "data": {
            "text/html": [
              "<div>\n",
              "<style scoped>\n",
              "    .dataframe tbody tr th:only-of-type {\n",
              "        vertical-align: middle;\n",
              "    }\n",
              "\n",
              "    .dataframe tbody tr th {\n",
              "        vertical-align: top;\n",
              "    }\n",
              "\n",
              "    .dataframe thead th {\n",
              "        text-align: right;\n",
              "    }\n",
              "</style>\n",
              "<table border=\"1\" class=\"dataframe\">\n",
              "  <thead>\n",
              "    <tr style=\"text-align: right;\">\n",
              "      <th></th>\n",
              "      <th>Name-Surname</th>\n",
              "      <th>English</th>\n",
              "      <th>Intro to Data sci</th>\n",
              "      <th>Statistics</th>\n",
              "      <th>Math</th>\n",
              "      <th>Science</th>\n",
              "    </tr>\n",
              "  </thead>\n",
              "  <tbody>\n",
              "    <tr>\n",
              "      <th>0</th>\n",
              "      <td>Post Malone</td>\n",
              "      <td>80</td>\n",
              "      <td>NaN</td>\n",
              "      <td>88.0</td>\n",
              "      <td>45</td>\n",
              "      <td>85</td>\n",
              "    </tr>\n",
              "    <tr>\n",
              "      <th>1</th>\n",
              "      <td>Meechoke Kaedum</td>\n",
              "      <td>75</td>\n",
              "      <td>80.0</td>\n",
              "      <td>100.0</td>\n",
              "      <td>59</td>\n",
              "      <td>70</td>\n",
              "    </tr>\n",
              "    <tr>\n",
              "      <th>2</th>\n",
              "      <td>Thanapon Rabbur</td>\n",
              "      <td>69</td>\n",
              "      <td>94.0</td>\n",
              "      <td>95.0</td>\n",
              "      <td>90</td>\n",
              "      <td>50</td>\n",
              "    </tr>\n",
              "    <tr>\n",
              "      <th>3</th>\n",
              "      <td>Lady Gaga</td>\n",
              "      <td>80</td>\n",
              "      <td>85.0</td>\n",
              "      <td>100.0</td>\n",
              "      <td>74</td>\n",
              "      <td>68</td>\n",
              "    </tr>\n",
              "    <tr>\n",
              "      <th>4</th>\n",
              "      <td>Kesha Rose</td>\n",
              "      <td>82</td>\n",
              "      <td>5.0</td>\n",
              "      <td>50.0</td>\n",
              "      <td>54</td>\n",
              "      <td>61</td>\n",
              "    </tr>\n",
              "    <tr>\n",
              "      <th>5</th>\n",
              "      <td>Bebe Rexha</td>\n",
              "      <td>51</td>\n",
              "      <td>75.0</td>\n",
              "      <td>80.0</td>\n",
              "      <td>14</td>\n",
              "      <td>52</td>\n",
              "    </tr>\n",
              "    <tr>\n",
              "      <th>6</th>\n",
              "      <td>Mackled more</td>\n",
              "      <td>12</td>\n",
              "      <td>34.0</td>\n",
              "      <td>41.0</td>\n",
              "      <td>47</td>\n",
              "      <td>68</td>\n",
              "    </tr>\n",
              "  </tbody>\n",
              "</table>\n",
              "</div>"
            ],
            "text/plain": [
              "      Name-Surname  English  Intro to Data sci  Statistics  Math  Science\n",
              "0      Post Malone       80                NaN        88.0    45       85\n",
              "1  Meechoke Kaedum       75               80.0       100.0    59       70\n",
              "2  Thanapon Rabbur       69               94.0        95.0    90       50\n",
              "3        Lady Gaga       80               85.0       100.0    74       68\n",
              "4       Kesha Rose       82                5.0        50.0    54       61\n",
              "5       Bebe Rexha       51               75.0        80.0    14       52\n",
              "6     Mackled more       12               34.0        41.0    47       68"
            ]
          },
          "metadata": {
            "tags": []
          },
          "execution_count": 32
        }
      ]
    },
    {
      "cell_type": "code",
      "metadata": {
        "id": "sWXkRsekvAYM"
      },
      "source": [
        "Dataframe_1['Statistics + Math'] = (Dataframe_1['Statistics'] + Dataframe_1['Math'])/2"
      ],
      "execution_count": null,
      "outputs": []
    },
    {
      "cell_type": "code",
      "metadata": {
        "colab": {
          "base_uri": "https://localhost:8080/",
          "height": 257
        },
        "id": "fJf4EIg1vrus",
        "outputId": "13b90460-d48e-4b0e-d592-c4c30cdc1297"
      },
      "source": [
        "Dataframe_1"
      ],
      "execution_count": null,
      "outputs": [
        {
          "output_type": "execute_result",
          "data": {
            "text/html": [
              "<div>\n",
              "<style scoped>\n",
              "    .dataframe tbody tr th:only-of-type {\n",
              "        vertical-align: middle;\n",
              "    }\n",
              "\n",
              "    .dataframe tbody tr th {\n",
              "        vertical-align: top;\n",
              "    }\n",
              "\n",
              "    .dataframe thead th {\n",
              "        text-align: right;\n",
              "    }\n",
              "</style>\n",
              "<table border=\"1\" class=\"dataframe\">\n",
              "  <thead>\n",
              "    <tr style=\"text-align: right;\">\n",
              "      <th></th>\n",
              "      <th>Name-Surname</th>\n",
              "      <th>English</th>\n",
              "      <th>Intro to Data sci</th>\n",
              "      <th>Statistics</th>\n",
              "      <th>Math</th>\n",
              "      <th>Science</th>\n",
              "      <th>Statistics + Math</th>\n",
              "    </tr>\n",
              "  </thead>\n",
              "  <tbody>\n",
              "    <tr>\n",
              "      <th>0</th>\n",
              "      <td>Post Malone</td>\n",
              "      <td>80</td>\n",
              "      <td>NaN</td>\n",
              "      <td>88.0</td>\n",
              "      <td>45</td>\n",
              "      <td>85</td>\n",
              "      <td>66.5</td>\n",
              "    </tr>\n",
              "    <tr>\n",
              "      <th>1</th>\n",
              "      <td>Meechoke Kaedum</td>\n",
              "      <td>75</td>\n",
              "      <td>80.0</td>\n",
              "      <td>100.0</td>\n",
              "      <td>59</td>\n",
              "      <td>70</td>\n",
              "      <td>79.5</td>\n",
              "    </tr>\n",
              "    <tr>\n",
              "      <th>2</th>\n",
              "      <td>Thanapon Rabbur</td>\n",
              "      <td>69</td>\n",
              "      <td>94.0</td>\n",
              "      <td>95.0</td>\n",
              "      <td>90</td>\n",
              "      <td>50</td>\n",
              "      <td>92.5</td>\n",
              "    </tr>\n",
              "    <tr>\n",
              "      <th>3</th>\n",
              "      <td>Lady Gaga</td>\n",
              "      <td>80</td>\n",
              "      <td>85.0</td>\n",
              "      <td>100.0</td>\n",
              "      <td>74</td>\n",
              "      <td>68</td>\n",
              "      <td>87.0</td>\n",
              "    </tr>\n",
              "    <tr>\n",
              "      <th>4</th>\n",
              "      <td>Kesha Rose</td>\n",
              "      <td>82</td>\n",
              "      <td>5.0</td>\n",
              "      <td>50.0</td>\n",
              "      <td>54</td>\n",
              "      <td>61</td>\n",
              "      <td>52.0</td>\n",
              "    </tr>\n",
              "    <tr>\n",
              "      <th>5</th>\n",
              "      <td>Bebe Rexha</td>\n",
              "      <td>51</td>\n",
              "      <td>75.0</td>\n",
              "      <td>80.0</td>\n",
              "      <td>14</td>\n",
              "      <td>52</td>\n",
              "      <td>47.0</td>\n",
              "    </tr>\n",
              "    <tr>\n",
              "      <th>6</th>\n",
              "      <td>Mackled more</td>\n",
              "      <td>12</td>\n",
              "      <td>34.0</td>\n",
              "      <td>41.0</td>\n",
              "      <td>47</td>\n",
              "      <td>68</td>\n",
              "      <td>44.0</td>\n",
              "    </tr>\n",
              "  </tbody>\n",
              "</table>\n",
              "</div>"
            ],
            "text/plain": [
              "      Name-Surname  English  ...  Science  Statistics + Math\n",
              "0      Post Malone       80  ...       85               66.5\n",
              "1  Meechoke Kaedum       75  ...       70               79.5\n",
              "2  Thanapon Rabbur       69  ...       50               92.5\n",
              "3        Lady Gaga       80  ...       68               87.0\n",
              "4       Kesha Rose       82  ...       61               52.0\n",
              "5       Bebe Rexha       51  ...       52               47.0\n",
              "6     Mackled more       12  ...       68               44.0\n",
              "\n",
              "[7 rows x 7 columns]"
            ]
          },
          "metadata": {
            "tags": []
          },
          "execution_count": 34
        }
      ]
    },
    {
      "cell_type": "code",
      "metadata": {
        "id": "50kEhzoxwCos"
      },
      "source": [
        "Dataframe_1.drop(['Statistics','Math'],axis=1,inplace=True)"
      ],
      "execution_count": null,
      "outputs": []
    },
    {
      "cell_type": "code",
      "metadata": {
        "colab": {
          "base_uri": "https://localhost:8080/",
          "height": 257
        },
        "id": "GQWexOdww4fL",
        "outputId": "4e8d19b4-d9b8-46ae-b7cf-f87e329891b5"
      },
      "source": [
        "Dataframe_1"
      ],
      "execution_count": null,
      "outputs": [
        {
          "output_type": "execute_result",
          "data": {
            "text/html": [
              "<div>\n",
              "<style scoped>\n",
              "    .dataframe tbody tr th:only-of-type {\n",
              "        vertical-align: middle;\n",
              "    }\n",
              "\n",
              "    .dataframe tbody tr th {\n",
              "        vertical-align: top;\n",
              "    }\n",
              "\n",
              "    .dataframe thead th {\n",
              "        text-align: right;\n",
              "    }\n",
              "</style>\n",
              "<table border=\"1\" class=\"dataframe\">\n",
              "  <thead>\n",
              "    <tr style=\"text-align: right;\">\n",
              "      <th></th>\n",
              "      <th>Name-Surname</th>\n",
              "      <th>English</th>\n",
              "      <th>Intro to Data sci</th>\n",
              "      <th>Science</th>\n",
              "      <th>Statistics + Math</th>\n",
              "    </tr>\n",
              "  </thead>\n",
              "  <tbody>\n",
              "    <tr>\n",
              "      <th>0</th>\n",
              "      <td>Post Malone</td>\n",
              "      <td>80</td>\n",
              "      <td>NaN</td>\n",
              "      <td>85</td>\n",
              "      <td>66.5</td>\n",
              "    </tr>\n",
              "    <tr>\n",
              "      <th>1</th>\n",
              "      <td>Meechoke Kaedum</td>\n",
              "      <td>75</td>\n",
              "      <td>80.0</td>\n",
              "      <td>70</td>\n",
              "      <td>79.5</td>\n",
              "    </tr>\n",
              "    <tr>\n",
              "      <th>2</th>\n",
              "      <td>Thanapon Rabbur</td>\n",
              "      <td>69</td>\n",
              "      <td>94.0</td>\n",
              "      <td>50</td>\n",
              "      <td>92.5</td>\n",
              "    </tr>\n",
              "    <tr>\n",
              "      <th>3</th>\n",
              "      <td>Lady Gaga</td>\n",
              "      <td>80</td>\n",
              "      <td>85.0</td>\n",
              "      <td>68</td>\n",
              "      <td>87.0</td>\n",
              "    </tr>\n",
              "    <tr>\n",
              "      <th>4</th>\n",
              "      <td>Kesha Rose</td>\n",
              "      <td>82</td>\n",
              "      <td>5.0</td>\n",
              "      <td>61</td>\n",
              "      <td>52.0</td>\n",
              "    </tr>\n",
              "    <tr>\n",
              "      <th>5</th>\n",
              "      <td>Bebe Rexha</td>\n",
              "      <td>51</td>\n",
              "      <td>75.0</td>\n",
              "      <td>52</td>\n",
              "      <td>47.0</td>\n",
              "    </tr>\n",
              "    <tr>\n",
              "      <th>6</th>\n",
              "      <td>Mackled more</td>\n",
              "      <td>12</td>\n",
              "      <td>34.0</td>\n",
              "      <td>68</td>\n",
              "      <td>44.0</td>\n",
              "    </tr>\n",
              "  </tbody>\n",
              "</table>\n",
              "</div>"
            ],
            "text/plain": [
              "      Name-Surname  English  Intro to Data sci  Science  Statistics + Math\n",
              "0      Post Malone       80                NaN       85               66.5\n",
              "1  Meechoke Kaedum       75               80.0       70               79.5\n",
              "2  Thanapon Rabbur       69               94.0       50               92.5\n",
              "3        Lady Gaga       80               85.0       68               87.0\n",
              "4       Kesha Rose       82                5.0       61               52.0\n",
              "5       Bebe Rexha       51               75.0       52               47.0\n",
              "6     Mackled more       12               34.0       68               44.0"
            ]
          },
          "metadata": {
            "tags": []
          },
          "execution_count": 36
        }
      ]
    },
    {
      "cell_type": "code",
      "metadata": {
        "id": "db3KC6Tj-7Ev"
      },
      "source": [
        "# Let swapping the column"
      ],
      "execution_count": null,
      "outputs": []
    },
    {
      "cell_type": "code",
      "metadata": {
        "id": "halfh8ky-bNH"
      },
      "source": [
        "#Dataframe_1['Science'], Dataframe_1['Statistics + Math'] = Dataframe_1['Statistics + Math'], Dataframe_1['Science']\r\n",
        "\r\n"
      ],
      "execution_count": null,
      "outputs": []
    },
    {
      "cell_type": "code",
      "metadata": {
        "id": "jlsKUqxfxX1M"
      },
      "source": [
        "#change column name\r\n",
        "\r\n",
        "#Dataframe_1.columns.values[[-2,-1]] = ['Statistics + Math','Science']"
      ],
      "execution_count": null,
      "outputs": []
    },
    {
      "cell_type": "code",
      "metadata": {
        "id": "bonSiOGo-DLn",
        "colab": {
          "base_uri": "https://localhost:8080/",
          "height": 257
        },
        "outputId": "578e86f8-75d3-4124-96ed-0491fa08501c"
      },
      "source": [
        "Dataframe_1"
      ],
      "execution_count": null,
      "outputs": [
        {
          "output_type": "execute_result",
          "data": {
            "text/html": [
              "<div>\n",
              "<style scoped>\n",
              "    .dataframe tbody tr th:only-of-type {\n",
              "        vertical-align: middle;\n",
              "    }\n",
              "\n",
              "    .dataframe tbody tr th {\n",
              "        vertical-align: top;\n",
              "    }\n",
              "\n",
              "    .dataframe thead th {\n",
              "        text-align: right;\n",
              "    }\n",
              "</style>\n",
              "<table border=\"1\" class=\"dataframe\">\n",
              "  <thead>\n",
              "    <tr style=\"text-align: right;\">\n",
              "      <th></th>\n",
              "      <th>Name-Surname</th>\n",
              "      <th>English</th>\n",
              "      <th>Intro to Data sci</th>\n",
              "      <th>Science</th>\n",
              "      <th>Statistics + Math</th>\n",
              "    </tr>\n",
              "  </thead>\n",
              "  <tbody>\n",
              "    <tr>\n",
              "      <th>0</th>\n",
              "      <td>Post Malone</td>\n",
              "      <td>80</td>\n",
              "      <td>NaN</td>\n",
              "      <td>85</td>\n",
              "      <td>66.5</td>\n",
              "    </tr>\n",
              "    <tr>\n",
              "      <th>1</th>\n",
              "      <td>Meechoke Kaedum</td>\n",
              "      <td>75</td>\n",
              "      <td>80.0</td>\n",
              "      <td>70</td>\n",
              "      <td>79.5</td>\n",
              "    </tr>\n",
              "    <tr>\n",
              "      <th>2</th>\n",
              "      <td>Thanapon Rabbur</td>\n",
              "      <td>69</td>\n",
              "      <td>94.0</td>\n",
              "      <td>50</td>\n",
              "      <td>92.5</td>\n",
              "    </tr>\n",
              "    <tr>\n",
              "      <th>3</th>\n",
              "      <td>Lady Gaga</td>\n",
              "      <td>80</td>\n",
              "      <td>85.0</td>\n",
              "      <td>68</td>\n",
              "      <td>87.0</td>\n",
              "    </tr>\n",
              "    <tr>\n",
              "      <th>4</th>\n",
              "      <td>Kesha Rose</td>\n",
              "      <td>82</td>\n",
              "      <td>5.0</td>\n",
              "      <td>61</td>\n",
              "      <td>52.0</td>\n",
              "    </tr>\n",
              "    <tr>\n",
              "      <th>5</th>\n",
              "      <td>Bebe Rexha</td>\n",
              "      <td>51</td>\n",
              "      <td>75.0</td>\n",
              "      <td>52</td>\n",
              "      <td>47.0</td>\n",
              "    </tr>\n",
              "    <tr>\n",
              "      <th>6</th>\n",
              "      <td>Mackled more</td>\n",
              "      <td>12</td>\n",
              "      <td>34.0</td>\n",
              "      <td>68</td>\n",
              "      <td>44.0</td>\n",
              "    </tr>\n",
              "  </tbody>\n",
              "</table>\n",
              "</div>"
            ],
            "text/plain": [
              "      Name-Surname  English  Intro to Data sci  Science  Statistics + Math\n",
              "0      Post Malone       80                NaN       85               66.5\n",
              "1  Meechoke Kaedum       75               80.0       70               79.5\n",
              "2  Thanapon Rabbur       69               94.0       50               92.5\n",
              "3        Lady Gaga       80               85.0       68               87.0\n",
              "4       Kesha Rose       82                5.0       61               52.0\n",
              "5       Bebe Rexha       51               75.0       52               47.0\n",
              "6     Mackled more       12               34.0       68               44.0"
            ]
          },
          "metadata": {
            "tags": []
          },
          "execution_count": 40
        }
      ]
    },
    {
      "cell_type": "code",
      "metadata": {
        "id": "N8NR1b9uy20k",
        "colab": {
          "base_uri": "https://localhost:8080/",
          "height": 257
        },
        "outputId": "3cd7c1ac-0e34-4184-9f03-0f889ba676f5"
      },
      "source": [
        "Dataframe_1[['Science','English']]\r\n",
        "\r\n",
        "#Don't Forget : When you want to slicing the 2 columns, don't forget to put [] inside as a parameter\r\n",
        "# Dataframe_1['Science','Statistics + Math'] is not working"
      ],
      "execution_count": null,
      "outputs": [
        {
          "output_type": "execute_result",
          "data": {
            "text/html": [
              "<div>\n",
              "<style scoped>\n",
              "    .dataframe tbody tr th:only-of-type {\n",
              "        vertical-align: middle;\n",
              "    }\n",
              "\n",
              "    .dataframe tbody tr th {\n",
              "        vertical-align: top;\n",
              "    }\n",
              "\n",
              "    .dataframe thead th {\n",
              "        text-align: right;\n",
              "    }\n",
              "</style>\n",
              "<table border=\"1\" class=\"dataframe\">\n",
              "  <thead>\n",
              "    <tr style=\"text-align: right;\">\n",
              "      <th></th>\n",
              "      <th>Science</th>\n",
              "      <th>English</th>\n",
              "    </tr>\n",
              "  </thead>\n",
              "  <tbody>\n",
              "    <tr>\n",
              "      <th>0</th>\n",
              "      <td>85</td>\n",
              "      <td>80</td>\n",
              "    </tr>\n",
              "    <tr>\n",
              "      <th>1</th>\n",
              "      <td>70</td>\n",
              "      <td>75</td>\n",
              "    </tr>\n",
              "    <tr>\n",
              "      <th>2</th>\n",
              "      <td>50</td>\n",
              "      <td>69</td>\n",
              "    </tr>\n",
              "    <tr>\n",
              "      <th>3</th>\n",
              "      <td>68</td>\n",
              "      <td>80</td>\n",
              "    </tr>\n",
              "    <tr>\n",
              "      <th>4</th>\n",
              "      <td>61</td>\n",
              "      <td>82</td>\n",
              "    </tr>\n",
              "    <tr>\n",
              "      <th>5</th>\n",
              "      <td>52</td>\n",
              "      <td>51</td>\n",
              "    </tr>\n",
              "    <tr>\n",
              "      <th>6</th>\n",
              "      <td>68</td>\n",
              "      <td>12</td>\n",
              "    </tr>\n",
              "  </tbody>\n",
              "</table>\n",
              "</div>"
            ],
            "text/plain": [
              "   Science  English\n",
              "0       85       80\n",
              "1       70       75\n",
              "2       50       69\n",
              "3       68       80\n",
              "4       61       82\n",
              "5       52       51\n",
              "6       68       12"
            ]
          },
          "metadata": {
            "tags": []
          },
          "execution_count": 41
        }
      ]
    },
    {
      "cell_type": "markdown",
      "metadata": {
        "id": "a0YneCjj3AZ9"
      },
      "source": [
        "\r\n",
        "\r\n",
        "---\r\n",
        "\r\n"
      ]
    },
    {
      "cell_type": "markdown",
      "metadata": {
        "id": "roIedzSD--9v"
      },
      "source": [
        "<fieldset>\r\n",
        "\r\n",
        "<font size=\"6\"><font color='red'>Problem 8: </font></font>\r\n",
        "\r\n",
        "- This school is perfectionist, let's remove the row that have NaN value\r\n",
        "\r\n",
        "![image.png](data:image/png;base64,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)"
      ]
    },
    {
      "cell_type": "code",
      "metadata": {
        "id": "6vaB73ao0Cm1"
      },
      "source": [
        "#Dataframe_1"
      ],
      "execution_count": null,
      "outputs": []
    },
    {
      "cell_type": "code",
      "metadata": {
        "id": "mvf46NBR_7Ow"
      },
      "source": [
        "Dataframe_1.dropna(inplace=True)"
      ],
      "execution_count": null,
      "outputs": []
    },
    {
      "cell_type": "code",
      "metadata": {
        "id": "Jl6qWeugADGn",
        "colab": {
          "base_uri": "https://localhost:8080/",
          "height": 227
        },
        "outputId": "33811452-9507-4d49-bea3-4d649abf3ee1"
      },
      "source": [
        "Dataframe_1"
      ],
      "execution_count": null,
      "outputs": [
        {
          "output_type": "execute_result",
          "data": {
            "text/html": [
              "<div>\n",
              "<style scoped>\n",
              "    .dataframe tbody tr th:only-of-type {\n",
              "        vertical-align: middle;\n",
              "    }\n",
              "\n",
              "    .dataframe tbody tr th {\n",
              "        vertical-align: top;\n",
              "    }\n",
              "\n",
              "    .dataframe thead th {\n",
              "        text-align: right;\n",
              "    }\n",
              "</style>\n",
              "<table border=\"1\" class=\"dataframe\">\n",
              "  <thead>\n",
              "    <tr style=\"text-align: right;\">\n",
              "      <th></th>\n",
              "      <th>Name-Surname</th>\n",
              "      <th>English</th>\n",
              "      <th>Intro to Data sci</th>\n",
              "      <th>Science</th>\n",
              "      <th>Statistics + Math</th>\n",
              "    </tr>\n",
              "  </thead>\n",
              "  <tbody>\n",
              "    <tr>\n",
              "      <th>1</th>\n",
              "      <td>Meechoke Kaedum</td>\n",
              "      <td>75</td>\n",
              "      <td>80.0</td>\n",
              "      <td>70</td>\n",
              "      <td>79.5</td>\n",
              "    </tr>\n",
              "    <tr>\n",
              "      <th>2</th>\n",
              "      <td>Thanapon Rabbur</td>\n",
              "      <td>69</td>\n",
              "      <td>94.0</td>\n",
              "      <td>50</td>\n",
              "      <td>92.5</td>\n",
              "    </tr>\n",
              "    <tr>\n",
              "      <th>3</th>\n",
              "      <td>Lady Gaga</td>\n",
              "      <td>80</td>\n",
              "      <td>85.0</td>\n",
              "      <td>68</td>\n",
              "      <td>87.0</td>\n",
              "    </tr>\n",
              "    <tr>\n",
              "      <th>4</th>\n",
              "      <td>Kesha Rose</td>\n",
              "      <td>82</td>\n",
              "      <td>5.0</td>\n",
              "      <td>61</td>\n",
              "      <td>52.0</td>\n",
              "    </tr>\n",
              "    <tr>\n",
              "      <th>5</th>\n",
              "      <td>Bebe Rexha</td>\n",
              "      <td>51</td>\n",
              "      <td>75.0</td>\n",
              "      <td>52</td>\n",
              "      <td>47.0</td>\n",
              "    </tr>\n",
              "    <tr>\n",
              "      <th>6</th>\n",
              "      <td>Mackled more</td>\n",
              "      <td>12</td>\n",
              "      <td>34.0</td>\n",
              "      <td>68</td>\n",
              "      <td>44.0</td>\n",
              "    </tr>\n",
              "  </tbody>\n",
              "</table>\n",
              "</div>"
            ],
            "text/plain": [
              "      Name-Surname  English  Intro to Data sci  Science  Statistics + Math\n",
              "1  Meechoke Kaedum       75               80.0       70               79.5\n",
              "2  Thanapon Rabbur       69               94.0       50               92.5\n",
              "3        Lady Gaga       80               85.0       68               87.0\n",
              "4       Kesha Rose       82                5.0       61               52.0\n",
              "5       Bebe Rexha       51               75.0       52               47.0\n",
              "6     Mackled more       12               34.0       68               44.0"
            ]
          },
          "metadata": {
            "tags": []
          },
          "execution_count": 44
        }
      ]
    },
    {
      "cell_type": "code",
      "metadata": {
        "id": "lyrQaTpPAGF_"
      },
      "source": [
        "# Post Malone was kicked for the reason of the perfectionist school"
      ],
      "execution_count": null,
      "outputs": []
    },
    {
      "cell_type": "code",
      "metadata": {
        "id": "13jWzYFmIYwo",
        "colab": {
          "base_uri": "https://localhost:8080/",
          "height": 227
        },
        "outputId": "9fabf7ed-2620-498b-aefc-7b110147e3ed"
      },
      "source": [
        "Dataframe_1"
      ],
      "execution_count": null,
      "outputs": [
        {
          "output_type": "execute_result",
          "data": {
            "text/html": [
              "<div>\n",
              "<style scoped>\n",
              "    .dataframe tbody tr th:only-of-type {\n",
              "        vertical-align: middle;\n",
              "    }\n",
              "\n",
              "    .dataframe tbody tr th {\n",
              "        vertical-align: top;\n",
              "    }\n",
              "\n",
              "    .dataframe thead th {\n",
              "        text-align: right;\n",
              "    }\n",
              "</style>\n",
              "<table border=\"1\" class=\"dataframe\">\n",
              "  <thead>\n",
              "    <tr style=\"text-align: right;\">\n",
              "      <th></th>\n",
              "      <th>Name-Surname</th>\n",
              "      <th>English</th>\n",
              "      <th>Intro to Data sci</th>\n",
              "      <th>Science</th>\n",
              "      <th>Statistics + Math</th>\n",
              "    </tr>\n",
              "  </thead>\n",
              "  <tbody>\n",
              "    <tr>\n",
              "      <th>1</th>\n",
              "      <td>Meechoke Kaedum</td>\n",
              "      <td>75</td>\n",
              "      <td>80.0</td>\n",
              "      <td>70</td>\n",
              "      <td>79.5</td>\n",
              "    </tr>\n",
              "    <tr>\n",
              "      <th>2</th>\n",
              "      <td>Thanapon Rabbur</td>\n",
              "      <td>69</td>\n",
              "      <td>94.0</td>\n",
              "      <td>50</td>\n",
              "      <td>92.5</td>\n",
              "    </tr>\n",
              "    <tr>\n",
              "      <th>3</th>\n",
              "      <td>Lady Gaga</td>\n",
              "      <td>80</td>\n",
              "      <td>85.0</td>\n",
              "      <td>68</td>\n",
              "      <td>87.0</td>\n",
              "    </tr>\n",
              "    <tr>\n",
              "      <th>4</th>\n",
              "      <td>Kesha Rose</td>\n",
              "      <td>82</td>\n",
              "      <td>5.0</td>\n",
              "      <td>61</td>\n",
              "      <td>52.0</td>\n",
              "    </tr>\n",
              "    <tr>\n",
              "      <th>5</th>\n",
              "      <td>Bebe Rexha</td>\n",
              "      <td>51</td>\n",
              "      <td>75.0</td>\n",
              "      <td>52</td>\n",
              "      <td>47.0</td>\n",
              "    </tr>\n",
              "    <tr>\n",
              "      <th>6</th>\n",
              "      <td>Mackled more</td>\n",
              "      <td>12</td>\n",
              "      <td>34.0</td>\n",
              "      <td>68</td>\n",
              "      <td>44.0</td>\n",
              "    </tr>\n",
              "  </tbody>\n",
              "</table>\n",
              "</div>"
            ],
            "text/plain": [
              "      Name-Surname  English  Intro to Data sci  Science  Statistics + Math\n",
              "1  Meechoke Kaedum       75               80.0       70               79.5\n",
              "2  Thanapon Rabbur       69               94.0       50               92.5\n",
              "3        Lady Gaga       80               85.0       68               87.0\n",
              "4       Kesha Rose       82                5.0       61               52.0\n",
              "5       Bebe Rexha       51               75.0       52               47.0\n",
              "6     Mackled more       12               34.0       68               44.0"
            ]
          },
          "metadata": {
            "tags": []
          },
          "execution_count": 46
        }
      ]
    },
    {
      "cell_type": "code",
      "metadata": {
        "id": "NfKI1v88ILpQ",
        "colab": {
          "base_uri": "https://localhost:8080/",
          "height": 227
        },
        "outputId": "bcbdc0d2-116d-48b5-e582-665c26eb21ef"
      },
      "source": [
        "Dataframe_1.reset_index(inplace=True)\r\n",
        "\r\n",
        "Dataframe_1.drop('index',axis=1, inplace=True)\r\n",
        "\r\n",
        "Dataframe_1"
      ],
      "execution_count": null,
      "outputs": [
        {
          "output_type": "execute_result",
          "data": {
            "text/html": [
              "<div>\n",
              "<style scoped>\n",
              "    .dataframe tbody tr th:only-of-type {\n",
              "        vertical-align: middle;\n",
              "    }\n",
              "\n",
              "    .dataframe tbody tr th {\n",
              "        vertical-align: top;\n",
              "    }\n",
              "\n",
              "    .dataframe thead th {\n",
              "        text-align: right;\n",
              "    }\n",
              "</style>\n",
              "<table border=\"1\" class=\"dataframe\">\n",
              "  <thead>\n",
              "    <tr style=\"text-align: right;\">\n",
              "      <th></th>\n",
              "      <th>Name-Surname</th>\n",
              "      <th>English</th>\n",
              "      <th>Intro to Data sci</th>\n",
              "      <th>Science</th>\n",
              "      <th>Statistics + Math</th>\n",
              "    </tr>\n",
              "  </thead>\n",
              "  <tbody>\n",
              "    <tr>\n",
              "      <th>0</th>\n",
              "      <td>Meechoke Kaedum</td>\n",
              "      <td>75</td>\n",
              "      <td>80.0</td>\n",
              "      <td>70</td>\n",
              "      <td>79.5</td>\n",
              "    </tr>\n",
              "    <tr>\n",
              "      <th>1</th>\n",
              "      <td>Thanapon Rabbur</td>\n",
              "      <td>69</td>\n",
              "      <td>94.0</td>\n",
              "      <td>50</td>\n",
              "      <td>92.5</td>\n",
              "    </tr>\n",
              "    <tr>\n",
              "      <th>2</th>\n",
              "      <td>Lady Gaga</td>\n",
              "      <td>80</td>\n",
              "      <td>85.0</td>\n",
              "      <td>68</td>\n",
              "      <td>87.0</td>\n",
              "    </tr>\n",
              "    <tr>\n",
              "      <th>3</th>\n",
              "      <td>Kesha Rose</td>\n",
              "      <td>82</td>\n",
              "      <td>5.0</td>\n",
              "      <td>61</td>\n",
              "      <td>52.0</td>\n",
              "    </tr>\n",
              "    <tr>\n",
              "      <th>4</th>\n",
              "      <td>Bebe Rexha</td>\n",
              "      <td>51</td>\n",
              "      <td>75.0</td>\n",
              "      <td>52</td>\n",
              "      <td>47.0</td>\n",
              "    </tr>\n",
              "    <tr>\n",
              "      <th>5</th>\n",
              "      <td>Mackled more</td>\n",
              "      <td>12</td>\n",
              "      <td>34.0</td>\n",
              "      <td>68</td>\n",
              "      <td>44.0</td>\n",
              "    </tr>\n",
              "  </tbody>\n",
              "</table>\n",
              "</div>"
            ],
            "text/plain": [
              "      Name-Surname  English  Intro to Data sci  Science  Statistics + Math\n",
              "0  Meechoke Kaedum       75               80.0       70               79.5\n",
              "1  Thanapon Rabbur       69               94.0       50               92.5\n",
              "2        Lady Gaga       80               85.0       68               87.0\n",
              "3       Kesha Rose       82                5.0       61               52.0\n",
              "4       Bebe Rexha       51               75.0       52               47.0\n",
              "5     Mackled more       12               34.0       68               44.0"
            ]
          },
          "metadata": {
            "tags": []
          },
          "execution_count": 47
        }
      ]
    },
    {
      "cell_type": "markdown",
      "metadata": {
        "id": "DHTHbEbcAKgf"
      },
      "source": [
        "\r\n",
        "\r\n",
        "---\r\n",
        "\r\n"
      ]
    },
    {
      "cell_type": "markdown",
      "metadata": {
        "id": "UqSkQZqJAQdn"
      },
      "source": [
        "<fieldset>\r\n",
        "\r\n",
        "<font size=\"6\"><font color='red'>Problem 9: </font></font>\r\n",
        "\r\n",
        "- We are interesting at the student who has the score of English and Intro to Data sci more than or equal 80\r\n",
        "\r\n",
        "- Could you plz print out which student(s) has those condition\r\n",
        "\r\n",
        "![image.png](data:image/png;base64,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)"
      ]
    },
    {
      "cell_type": "code",
      "metadata": {
        "id": "T2XP13AbAK-3",
        "colab": {
          "base_uri": "https://localhost:8080/",
          "height": 77
        },
        "outputId": "f7d96f0c-e636-46b1-ef1c-4010a166a0ba"
      },
      "source": [
        "Dataframe_1[(Dataframe_1['English'] >= 80) & (Dataframe_1['Intro to Data sci'] >= 80)]\r\n",
        "\r\n",
        "# Don't forget: the condition requires Tuple to wrap up\r\n",
        "\r\n",
        "# This doesn't work: Dataframe_1[Dataframe_1['English'] >= 80 & Dataframe_1['Intro to Data sci'] >= 80]\r\n"
      ],
      "execution_count": null,
      "outputs": [
        {
          "output_type": "execute_result",
          "data": {
            "text/html": [
              "<div>\n",
              "<style scoped>\n",
              "    .dataframe tbody tr th:only-of-type {\n",
              "        vertical-align: middle;\n",
              "    }\n",
              "\n",
              "    .dataframe tbody tr th {\n",
              "        vertical-align: top;\n",
              "    }\n",
              "\n",
              "    .dataframe thead th {\n",
              "        text-align: right;\n",
              "    }\n",
              "</style>\n",
              "<table border=\"1\" class=\"dataframe\">\n",
              "  <thead>\n",
              "    <tr style=\"text-align: right;\">\n",
              "      <th></th>\n",
              "      <th>Name-Surname</th>\n",
              "      <th>English</th>\n",
              "      <th>Intro to Data sci</th>\n",
              "      <th>Science</th>\n",
              "      <th>Statistics + Math</th>\n",
              "    </tr>\n",
              "  </thead>\n",
              "  <tbody>\n",
              "    <tr>\n",
              "      <th>2</th>\n",
              "      <td>Lady Gaga</td>\n",
              "      <td>80</td>\n",
              "      <td>85.0</td>\n",
              "      <td>68</td>\n",
              "      <td>87.0</td>\n",
              "    </tr>\n",
              "  </tbody>\n",
              "</table>\n",
              "</div>"
            ],
            "text/plain": [
              "  Name-Surname  English  Intro to Data sci  Science  Statistics + Math\n",
              "2    Lady Gaga       80               85.0       68               87.0"
            ]
          },
          "metadata": {
            "tags": []
          },
          "execution_count": 48
        }
      ]
    },
    {
      "cell_type": "markdown",
      "metadata": {
        "id": "7_SwaGuVBekg"
      },
      "source": [
        "\r\n",
        "\r\n",
        "---\r\n",
        "\r\n"
      ]
    },
    {
      "cell_type": "markdown",
      "metadata": {
        "id": "Yj0qXULJBsXP"
      },
      "source": [
        "<fieldset>\r\n",
        "\r\n",
        "<font size=\"6\"><font color='red'>Problem 10: </font></font>\r\n",
        "\r\n",
        "- We want to punish the student who has any subject's score lower than 50\r\n",
        "\r\n",
        "- Could you plz print out which student(s) has those condition\r\n",
        "\r\n",
        "![image.png](data:image/png;base64,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)"
      ]
    },
    {
      "cell_type": "code",
      "metadata": {
        "id": "He1SRgqABjux",
        "colab": {
          "base_uri": "https://localhost:8080/",
          "height": 107
        },
        "outputId": "2848be00-42d5-45b6-a5dc-8d1e52b6cbb9"
      },
      "source": [
        "Dataframe_1[(Dataframe_1['English'] < 50) | (Dataframe_1['Intro to Data sci'] < 50) | (Dataframe_1.iloc[:,-2] < 50) | (Dataframe_1['Science'] < 50)\t]"
      ],
      "execution_count": null,
      "outputs": [
        {
          "output_type": "execute_result",
          "data": {
            "text/html": [
              "<div>\n",
              "<style scoped>\n",
              "    .dataframe tbody tr th:only-of-type {\n",
              "        vertical-align: middle;\n",
              "    }\n",
              "\n",
              "    .dataframe tbody tr th {\n",
              "        vertical-align: top;\n",
              "    }\n",
              "\n",
              "    .dataframe thead th {\n",
              "        text-align: right;\n",
              "    }\n",
              "</style>\n",
              "<table border=\"1\" class=\"dataframe\">\n",
              "  <thead>\n",
              "    <tr style=\"text-align: right;\">\n",
              "      <th></th>\n",
              "      <th>Name-Surname</th>\n",
              "      <th>English</th>\n",
              "      <th>Intro to Data sci</th>\n",
              "      <th>Science</th>\n",
              "      <th>Statistics + Math</th>\n",
              "    </tr>\n",
              "  </thead>\n",
              "  <tbody>\n",
              "    <tr>\n",
              "      <th>3</th>\n",
              "      <td>Kesha Rose</td>\n",
              "      <td>82</td>\n",
              "      <td>5.0</td>\n",
              "      <td>61</td>\n",
              "      <td>52.0</td>\n",
              "    </tr>\n",
              "    <tr>\n",
              "      <th>5</th>\n",
              "      <td>Mackled more</td>\n",
              "      <td>12</td>\n",
              "      <td>34.0</td>\n",
              "      <td>68</td>\n",
              "      <td>44.0</td>\n",
              "    </tr>\n",
              "  </tbody>\n",
              "</table>\n",
              "</div>"
            ],
            "text/plain": [
              "   Name-Surname  English  Intro to Data sci  Science  Statistics + Math\n",
              "3    Kesha Rose       82                5.0       61               52.0\n",
              "5  Mackled more       12               34.0       68               44.0"
            ]
          },
          "metadata": {
            "tags": []
          },
          "execution_count": 49
        }
      ]
    },
    {
      "cell_type": "markdown",
      "metadata": {
        "id": "fO5o5UOaCvuI"
      },
      "source": [
        "\r\n",
        "\r\n",
        "---\r\n",
        "\r\n"
      ]
    },
    {
      "cell_type": "markdown",
      "metadata": {
        "id": "yzv3j4psDCaY"
      },
      "source": [
        "<fieldset>\r\n",
        "\r\n",
        "<font size=\"6\"><font color='red'>Problem 11: </font></font>\r\n",
        "\r\n",
        "- Create a new column named 'Total', which sum up all subject scores\r\n",
        "\r\n",
        "![image.png](data:image/png;base64,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)\r\n"
      ]
    },
    {
      "cell_type": "code",
      "metadata": {
        "id": "WxtMMA_ACrzg"
      },
      "source": [
        "Dataframe_1['Total'] = Dataframe_1['English'] + Dataframe_1['Intro to Data sci'] + Dataframe_1.iloc[:,-2]  + Dataframe_1['Science'] "
      ],
      "execution_count": null,
      "outputs": []
    },
    {
      "cell_type": "code",
      "metadata": {
        "id": "P4DCwwCWDc-o",
        "colab": {
          "base_uri": "https://localhost:8080/",
          "height": 227
        },
        "outputId": "61814de2-adee-42b4-f736-59cfbb008104"
      },
      "source": [
        "Dataframe_1"
      ],
      "execution_count": null,
      "outputs": [
        {
          "output_type": "execute_result",
          "data": {
            "text/html": [
              "<div>\n",
              "<style scoped>\n",
              "    .dataframe tbody tr th:only-of-type {\n",
              "        vertical-align: middle;\n",
              "    }\n",
              "\n",
              "    .dataframe tbody tr th {\n",
              "        vertical-align: top;\n",
              "    }\n",
              "\n",
              "    .dataframe thead th {\n",
              "        text-align: right;\n",
              "    }\n",
              "</style>\n",
              "<table border=\"1\" class=\"dataframe\">\n",
              "  <thead>\n",
              "    <tr style=\"text-align: right;\">\n",
              "      <th></th>\n",
              "      <th>Name-Surname</th>\n",
              "      <th>English</th>\n",
              "      <th>Intro to Data sci</th>\n",
              "      <th>Science</th>\n",
              "      <th>Statistics + Math</th>\n",
              "      <th>Total</th>\n",
              "    </tr>\n",
              "  </thead>\n",
              "  <tbody>\n",
              "    <tr>\n",
              "      <th>0</th>\n",
              "      <td>Meechoke Kaedum</td>\n",
              "      <td>75</td>\n",
              "      <td>80.0</td>\n",
              "      <td>70</td>\n",
              "      <td>79.5</td>\n",
              "      <td>295.0</td>\n",
              "    </tr>\n",
              "    <tr>\n",
              "      <th>1</th>\n",
              "      <td>Thanapon Rabbur</td>\n",
              "      <td>69</td>\n",
              "      <td>94.0</td>\n",
              "      <td>50</td>\n",
              "      <td>92.5</td>\n",
              "      <td>263.0</td>\n",
              "    </tr>\n",
              "    <tr>\n",
              "      <th>2</th>\n",
              "      <td>Lady Gaga</td>\n",
              "      <td>80</td>\n",
              "      <td>85.0</td>\n",
              "      <td>68</td>\n",
              "      <td>87.0</td>\n",
              "      <td>301.0</td>\n",
              "    </tr>\n",
              "    <tr>\n",
              "      <th>3</th>\n",
              "      <td>Kesha Rose</td>\n",
              "      <td>82</td>\n",
              "      <td>5.0</td>\n",
              "      <td>61</td>\n",
              "      <td>52.0</td>\n",
              "      <td>209.0</td>\n",
              "    </tr>\n",
              "    <tr>\n",
              "      <th>4</th>\n",
              "      <td>Bebe Rexha</td>\n",
              "      <td>51</td>\n",
              "      <td>75.0</td>\n",
              "      <td>52</td>\n",
              "      <td>47.0</td>\n",
              "      <td>230.0</td>\n",
              "    </tr>\n",
              "    <tr>\n",
              "      <th>5</th>\n",
              "      <td>Mackled more</td>\n",
              "      <td>12</td>\n",
              "      <td>34.0</td>\n",
              "      <td>68</td>\n",
              "      <td>44.0</td>\n",
              "      <td>182.0</td>\n",
              "    </tr>\n",
              "  </tbody>\n",
              "</table>\n",
              "</div>"
            ],
            "text/plain": [
              "      Name-Surname  English  ...  Statistics + Math  Total\n",
              "0  Meechoke Kaedum       75  ...               79.5  295.0\n",
              "1  Thanapon Rabbur       69  ...               92.5  263.0\n",
              "2        Lady Gaga       80  ...               87.0  301.0\n",
              "3       Kesha Rose       82  ...               52.0  209.0\n",
              "4       Bebe Rexha       51  ...               47.0  230.0\n",
              "5     Mackled more       12  ...               44.0  182.0\n",
              "\n",
              "[6 rows x 6 columns]"
            ]
          },
          "metadata": {
            "tags": []
          },
          "execution_count": 51
        }
      ]
    },
    {
      "cell_type": "markdown",
      "metadata": {
        "id": "QuMWo6xlDiGP"
      },
      "source": [
        "\r\n",
        "\r\n",
        "---\r\n",
        "\r\n"
      ]
    },
    {
      "cell_type": "markdown",
      "metadata": {
        "id": "rEEalWYLEUWn"
      },
      "source": [
        "<fieldset>\r\n",
        "\r\n",
        "<font size=\"6\"><font color='red'>Problem 12: </font></font>\r\n",
        "\r\n",
        "- Not create a new column named 'weighted total'\r\n",
        "\r\n",
        "- weight for each subject : {English: 0.1, Intro to Data sci: 0.3, Statistics + Math :0.5, Science: 0.1}\r\n",
        "\r\n",
        "- Now compute the total based on the given weights\r\n",
        "\r\n",
        "![image.png](data:image/png;base64,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)\r\n"
      ]
    },
    {
      "cell_type": "code",
      "metadata": {
        "id": "Bw4hYCxHDisg"
      },
      "source": [
        "Dataframe_1['Weighted Total'] = 0.1*Dataframe_1['English'] + 0.3*Dataframe_1['Intro to Data sci'] + 0.5*Dataframe_1.iloc[:,-2]  + 0.1*Dataframe_1['Science'] "
      ],
      "execution_count": null,
      "outputs": []
    },
    {
      "cell_type": "code",
      "metadata": {
        "id": "gAeX52l5FJbA",
        "colab": {
          "base_uri": "https://localhost:8080/",
          "height": 227
        },
        "outputId": "7525b1f9-dd8c-4d40-d3da-8c09c2913307"
      },
      "source": [
        "Dataframe_1"
      ],
      "execution_count": null,
      "outputs": [
        {
          "output_type": "execute_result",
          "data": {
            "text/html": [
              "<div>\n",
              "<style scoped>\n",
              "    .dataframe tbody tr th:only-of-type {\n",
              "        vertical-align: middle;\n",
              "    }\n",
              "\n",
              "    .dataframe tbody tr th {\n",
              "        vertical-align: top;\n",
              "    }\n",
              "\n",
              "    .dataframe thead th {\n",
              "        text-align: right;\n",
              "    }\n",
              "</style>\n",
              "<table border=\"1\" class=\"dataframe\">\n",
              "  <thead>\n",
              "    <tr style=\"text-align: right;\">\n",
              "      <th></th>\n",
              "      <th>Name-Surname</th>\n",
              "      <th>English</th>\n",
              "      <th>Intro to Data sci</th>\n",
              "      <th>Science</th>\n",
              "      <th>Statistics + Math</th>\n",
              "      <th>Total</th>\n",
              "      <th>Weighted Total</th>\n",
              "    </tr>\n",
              "  </thead>\n",
              "  <tbody>\n",
              "    <tr>\n",
              "      <th>0</th>\n",
              "      <td>Meechoke Kaedum</td>\n",
              "      <td>75</td>\n",
              "      <td>80.0</td>\n",
              "      <td>70</td>\n",
              "      <td>79.5</td>\n",
              "      <td>295.0</td>\n",
              "      <td>78.25</td>\n",
              "    </tr>\n",
              "    <tr>\n",
              "      <th>1</th>\n",
              "      <td>Thanapon Rabbur</td>\n",
              "      <td>69</td>\n",
              "      <td>94.0</td>\n",
              "      <td>50</td>\n",
              "      <td>92.5</td>\n",
              "      <td>263.0</td>\n",
              "      <td>86.35</td>\n",
              "    </tr>\n",
              "    <tr>\n",
              "      <th>2</th>\n",
              "      <td>Lady Gaga</td>\n",
              "      <td>80</td>\n",
              "      <td>85.0</td>\n",
              "      <td>68</td>\n",
              "      <td>87.0</td>\n",
              "      <td>301.0</td>\n",
              "      <td>83.80</td>\n",
              "    </tr>\n",
              "    <tr>\n",
              "      <th>3</th>\n",
              "      <td>Kesha Rose</td>\n",
              "      <td>82</td>\n",
              "      <td>5.0</td>\n",
              "      <td>61</td>\n",
              "      <td>52.0</td>\n",
              "      <td>209.0</td>\n",
              "      <td>41.80</td>\n",
              "    </tr>\n",
              "    <tr>\n",
              "      <th>4</th>\n",
              "      <td>Bebe Rexha</td>\n",
              "      <td>51</td>\n",
              "      <td>75.0</td>\n",
              "      <td>52</td>\n",
              "      <td>47.0</td>\n",
              "      <td>230.0</td>\n",
              "      <td>56.30</td>\n",
              "    </tr>\n",
              "    <tr>\n",
              "      <th>5</th>\n",
              "      <td>Mackled more</td>\n",
              "      <td>12</td>\n",
              "      <td>34.0</td>\n",
              "      <td>68</td>\n",
              "      <td>44.0</td>\n",
              "      <td>182.0</td>\n",
              "      <td>40.20</td>\n",
              "    </tr>\n",
              "  </tbody>\n",
              "</table>\n",
              "</div>"
            ],
            "text/plain": [
              "      Name-Surname  English  ...  Total  Weighted Total\n",
              "0  Meechoke Kaedum       75  ...  295.0           78.25\n",
              "1  Thanapon Rabbur       69  ...  263.0           86.35\n",
              "2        Lady Gaga       80  ...  301.0           83.80\n",
              "3       Kesha Rose       82  ...  209.0           41.80\n",
              "4       Bebe Rexha       51  ...  230.0           56.30\n",
              "5     Mackled more       12  ...  182.0           40.20\n",
              "\n",
              "[6 rows x 7 columns]"
            ]
          },
          "metadata": {
            "tags": []
          },
          "execution_count": 53
        }
      ]
    },
    {
      "cell_type": "markdown",
      "metadata": {
        "id": "v2qGu3TrFTX_"
      },
      "source": [
        "<fieldset>\r\n",
        "\r\n",
        "<font size=\"6\"><font color='red'>Problem 13: </font></font>\r\n",
        "\r\n",
        "- Remove column 'Total', since we have no longer used\r\n",
        "\r\n",
        "- Create new column named 'Grade', based on the Weighted Total\r\n",
        "\r\n",
        "( If weighted Total >= 80 then A, elif weighted Total >= 75 then B+,..... elif weighted Total >= 55 then D, else: F\r\n",
        "\r\n",
        "![image.png](data:image/png;base64,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)\r\n"
      ]
    },
    {
      "cell_type": "code",
      "metadata": {
        "id": "O9cxpo25Kfdp"
      },
      "source": [
        "Dataframe_1.drop('Total',axis=1,inplace=True)"
      ],
      "execution_count": null,
      "outputs": []
    },
    {
      "cell_type": "code",
      "metadata": {
        "id": "gKu8vYk9KnRZ"
      },
      "source": [
        "Dataframe_1.drop('Grade',axis=1,inplace=True)"
      ],
      "execution_count": null,
      "outputs": []
    },
    {
      "cell_type": "code",
      "metadata": {
        "id": "jh3WZoYyGCAI"
      },
      "source": [
        "def grade_assigner(i):\r\n",
        "  \r\n",
        "  i = int(i)\r\n",
        "\r\n",
        "  if i >= 80:\r\n",
        "    return 'A'\r\n",
        "  \r\n",
        "  elif i >= 75:\r\n",
        "    return 'B+'\r\n",
        "  \r\n",
        "  elif i >= 70:\r\n",
        "    return 'B'\r\n",
        "\r\n",
        "  elif i >= 65:\r\n",
        "    return 'C+'\r\n",
        "  \r\n",
        "  elif i >= 60:\r\n",
        "    return 'C'\r\n",
        "  \r\n",
        "  \r\n",
        "  elif i >= 55:\r\n",
        "    return 'D+'\r\n",
        "\r\n",
        "  elif i >= 50:\r\n",
        "    return 'D'\r\n",
        "\r\n",
        "  else:\r\n",
        "    return 'F'\r\n",
        "\r\n"
      ],
      "execution_count": null,
      "outputs": []
    },
    {
      "cell_type": "code",
      "metadata": {
        "id": "QYoJtVgPGyfw",
        "colab": {
          "base_uri": "https://localhost:8080/",
          "height": 227
        },
        "outputId": "eab3a69f-b5e6-4eab-fd9d-08c1ce911006"
      },
      "source": [
        "Dataframe_1"
      ],
      "execution_count": null,
      "outputs": [
        {
          "output_type": "execute_result",
          "data": {
            "text/html": [
              "<div>\n",
              "<style scoped>\n",
              "    .dataframe tbody tr th:only-of-type {\n",
              "        vertical-align: middle;\n",
              "    }\n",
              "\n",
              "    .dataframe tbody tr th {\n",
              "        vertical-align: top;\n",
              "    }\n",
              "\n",
              "    .dataframe thead th {\n",
              "        text-align: right;\n",
              "    }\n",
              "</style>\n",
              "<table border=\"1\" class=\"dataframe\">\n",
              "  <thead>\n",
              "    <tr style=\"text-align: right;\">\n",
              "      <th></th>\n",
              "      <th>Name-Surname</th>\n",
              "      <th>English</th>\n",
              "      <th>Intro to Data sci</th>\n",
              "      <th>Science</th>\n",
              "      <th>Statistics + Math</th>\n",
              "      <th>Weighted Total</th>\n",
              "    </tr>\n",
              "  </thead>\n",
              "  <tbody>\n",
              "    <tr>\n",
              "      <th>0</th>\n",
              "      <td>Meechoke Kaedum</td>\n",
              "      <td>75</td>\n",
              "      <td>80.0</td>\n",
              "      <td>70</td>\n",
              "      <td>79.5</td>\n",
              "      <td>78.25</td>\n",
              "    </tr>\n",
              "    <tr>\n",
              "      <th>1</th>\n",
              "      <td>Thanapon Rabbur</td>\n",
              "      <td>69</td>\n",
              "      <td>94.0</td>\n",
              "      <td>50</td>\n",
              "      <td>92.5</td>\n",
              "      <td>86.35</td>\n",
              "    </tr>\n",
              "    <tr>\n",
              "      <th>2</th>\n",
              "      <td>Lady Gaga</td>\n",
              "      <td>80</td>\n",
              "      <td>85.0</td>\n",
              "      <td>68</td>\n",
              "      <td>87.0</td>\n",
              "      <td>83.80</td>\n",
              "    </tr>\n",
              "    <tr>\n",
              "      <th>3</th>\n",
              "      <td>Kesha Rose</td>\n",
              "      <td>82</td>\n",
              "      <td>5.0</td>\n",
              "      <td>61</td>\n",
              "      <td>52.0</td>\n",
              "      <td>41.80</td>\n",
              "    </tr>\n",
              "    <tr>\n",
              "      <th>4</th>\n",
              "      <td>Bebe Rexha</td>\n",
              "      <td>51</td>\n",
              "      <td>75.0</td>\n",
              "      <td>52</td>\n",
              "      <td>47.0</td>\n",
              "      <td>56.30</td>\n",
              "    </tr>\n",
              "    <tr>\n",
              "      <th>5</th>\n",
              "      <td>Mackled more</td>\n",
              "      <td>12</td>\n",
              "      <td>34.0</td>\n",
              "      <td>68</td>\n",
              "      <td>44.0</td>\n",
              "      <td>40.20</td>\n",
              "    </tr>\n",
              "  </tbody>\n",
              "</table>\n",
              "</div>"
            ],
            "text/plain": [
              "      Name-Surname  English  ...  Statistics + Math  Weighted Total\n",
              "0  Meechoke Kaedum       75  ...               79.5           78.25\n",
              "1  Thanapon Rabbur       69  ...               92.5           86.35\n",
              "2        Lady Gaga       80  ...               87.0           83.80\n",
              "3       Kesha Rose       82  ...               52.0           41.80\n",
              "4       Bebe Rexha       51  ...               47.0           56.30\n",
              "5     Mackled more       12  ...               44.0           40.20\n",
              "\n",
              "[6 rows x 6 columns]"
            ]
          },
          "metadata": {
            "tags": []
          },
          "execution_count": 77
        }
      ]
    },
    {
      "cell_type": "code",
      "metadata": {
        "id": "WwCHRXtVGsto"
      },
      "source": [
        "for i in range(len(Dataframe_1)):\r\n",
        "  Dataframe_1.loc[i,'Grade'] = grade_assigner(Dataframe_1.loc[i,'Weighted Total'])\r\n",
        "\r\n",
        "  i += 1"
      ],
      "execution_count": null,
      "outputs": []
    },
    {
      "cell_type": "code",
      "metadata": {
        "id": "_HeoIlrzHOvp",
        "colab": {
          "base_uri": "https://localhost:8080/",
          "height": 227
        },
        "outputId": "697aa8b1-980a-41a5-8ba0-a1aa6b537cae"
      },
      "source": [
        "Dataframe_1"
      ],
      "execution_count": null,
      "outputs": [
        {
          "output_type": "execute_result",
          "data": {
            "text/html": [
              "<div>\n",
              "<style scoped>\n",
              "    .dataframe tbody tr th:only-of-type {\n",
              "        vertical-align: middle;\n",
              "    }\n",
              "\n",
              "    .dataframe tbody tr th {\n",
              "        vertical-align: top;\n",
              "    }\n",
              "\n",
              "    .dataframe thead th {\n",
              "        text-align: right;\n",
              "    }\n",
              "</style>\n",
              "<table border=\"1\" class=\"dataframe\">\n",
              "  <thead>\n",
              "    <tr style=\"text-align: right;\">\n",
              "      <th></th>\n",
              "      <th>Name-Surname</th>\n",
              "      <th>English</th>\n",
              "      <th>Intro to Data sci</th>\n",
              "      <th>Science</th>\n",
              "      <th>Statistics + Math</th>\n",
              "      <th>Weighted Total</th>\n",
              "    </tr>\n",
              "  </thead>\n",
              "  <tbody>\n",
              "    <tr>\n",
              "      <th>0</th>\n",
              "      <td>Meechoke Kaedum</td>\n",
              "      <td>75</td>\n",
              "      <td>80.0</td>\n",
              "      <td>70</td>\n",
              "      <td>79.5</td>\n",
              "      <td>78.25</td>\n",
              "    </tr>\n",
              "    <tr>\n",
              "      <th>1</th>\n",
              "      <td>Thanapon Rabbur</td>\n",
              "      <td>69</td>\n",
              "      <td>94.0</td>\n",
              "      <td>50</td>\n",
              "      <td>92.5</td>\n",
              "      <td>86.35</td>\n",
              "    </tr>\n",
              "    <tr>\n",
              "      <th>2</th>\n",
              "      <td>Lady Gaga</td>\n",
              "      <td>80</td>\n",
              "      <td>85.0</td>\n",
              "      <td>68</td>\n",
              "      <td>87.0</td>\n",
              "      <td>83.80</td>\n",
              "    </tr>\n",
              "    <tr>\n",
              "      <th>3</th>\n",
              "      <td>Kesha Rose</td>\n",
              "      <td>82</td>\n",
              "      <td>5.0</td>\n",
              "      <td>61</td>\n",
              "      <td>52.0</td>\n",
              "      <td>41.80</td>\n",
              "    </tr>\n",
              "    <tr>\n",
              "      <th>4</th>\n",
              "      <td>Bebe Rexha</td>\n",
              "      <td>51</td>\n",
              "      <td>75.0</td>\n",
              "      <td>52</td>\n",
              "      <td>47.0</td>\n",
              "      <td>56.30</td>\n",
              "    </tr>\n",
              "    <tr>\n",
              "      <th>5</th>\n",
              "      <td>Mackled more</td>\n",
              "      <td>12</td>\n",
              "      <td>34.0</td>\n",
              "      <td>68</td>\n",
              "      <td>44.0</td>\n",
              "      <td>40.20</td>\n",
              "    </tr>\n",
              "  </tbody>\n",
              "</table>\n",
              "</div>"
            ],
            "text/plain": [
              "      Name-Surname  English  ...  Statistics + Math  Weighted Total\n",
              "0  Meechoke Kaedum       75  ...               79.5           78.25\n",
              "1  Thanapon Rabbur       69  ...               92.5           86.35\n",
              "2        Lady Gaga       80  ...               87.0           83.80\n",
              "3       Kesha Rose       82  ...               52.0           41.80\n",
              "4       Bebe Rexha       51  ...               47.0           56.30\n",
              "5     Mackled more       12  ...               44.0           40.20\n",
              "\n",
              "[6 rows x 6 columns]"
            ]
          },
          "metadata": {
            "tags": []
          },
          "execution_count": 61
        }
      ]
    },
    {
      "cell_type": "markdown",
      "metadata": {
        "id": "oerhs9n_LoFh"
      },
      "source": [
        "\r\n",
        "\r\n",
        "---\r\n",
        "\r\n"
      ]
    },
    {
      "cell_type": "markdown",
      "metadata": {
        "id": "YQ8joWhGsaEV"
      },
      "source": [
        "<fieldset>\r\n",
        "\r\n",
        "<font size=\"6\"><font color='red'>Problem 14: </font></font>\r\n",
        "\r\n",
        "- same as problem 13, but could you plz make it faster\r\n",
        "\r\n",
        "(Hint: using np.vectorize)"
      ]
    },
    {
      "cell_type": "code",
      "metadata": {
        "id": "gzclMgAbsnX7"
      },
      "source": [
        "import numpy as np"
      ],
      "execution_count": null,
      "outputs": []
    },
    {
      "cell_type": "code",
      "metadata": {
        "id": "4V_gDKJWspOT"
      },
      "source": [
        "V_Grade = np.vectorize(grade_assigner)\r\n",
        "\r\n",
        "\r\n",
        "\r\n",
        "# np.vectorize will take a nested sequence of objects or the numpy arrays as input, and then return a numpy array as output as well\r\n",
        "\r\n",
        "#modify the function grade_assiner to make it able to take numpy arrays as input, and able to return an numpy as output "
      ],
      "execution_count": null,
      "outputs": []
    },
    {
      "cell_type": "code",
      "metadata": {
        "id": "A_zp0k0QsstU"
      },
      "source": [
        "Dataframe_1['Grade'] = V_Grade((Dataframe_1[\"Weighted Total\"]))"
      ],
      "execution_count": null,
      "outputs": []
    },
    {
      "cell_type": "code",
      "metadata": {
        "colab": {
          "base_uri": "https://localhost:8080/",
          "height": 227
        },
        "id": "x4U9DQ0ytkr8",
        "outputId": "813b6fa7-20a8-424e-89e9-eea785f11d5f"
      },
      "source": [
        "Dataframe_1"
      ],
      "execution_count": null,
      "outputs": [
        {
          "output_type": "execute_result",
          "data": {
            "text/html": [
              "<div>\n",
              "<style scoped>\n",
              "    .dataframe tbody tr th:only-of-type {\n",
              "        vertical-align: middle;\n",
              "    }\n",
              "\n",
              "    .dataframe tbody tr th {\n",
              "        vertical-align: top;\n",
              "    }\n",
              "\n",
              "    .dataframe thead th {\n",
              "        text-align: right;\n",
              "    }\n",
              "</style>\n",
              "<table border=\"1\" class=\"dataframe\">\n",
              "  <thead>\n",
              "    <tr style=\"text-align: right;\">\n",
              "      <th></th>\n",
              "      <th>Name-Surname</th>\n",
              "      <th>English</th>\n",
              "      <th>Intro to Data sci</th>\n",
              "      <th>Science</th>\n",
              "      <th>Statistics + Math</th>\n",
              "      <th>Weighted Total</th>\n",
              "      <th>Grade</th>\n",
              "    </tr>\n",
              "  </thead>\n",
              "  <tbody>\n",
              "    <tr>\n",
              "      <th>0</th>\n",
              "      <td>Meechoke Kaedum</td>\n",
              "      <td>75</td>\n",
              "      <td>80.0</td>\n",
              "      <td>70</td>\n",
              "      <td>79.5</td>\n",
              "      <td>78.25</td>\n",
              "      <td>B+</td>\n",
              "    </tr>\n",
              "    <tr>\n",
              "      <th>1</th>\n",
              "      <td>Thanapon Rabbur</td>\n",
              "      <td>69</td>\n",
              "      <td>94.0</td>\n",
              "      <td>50</td>\n",
              "      <td>92.5</td>\n",
              "      <td>86.35</td>\n",
              "      <td>A</td>\n",
              "    </tr>\n",
              "    <tr>\n",
              "      <th>2</th>\n",
              "      <td>Lady Gaga</td>\n",
              "      <td>80</td>\n",
              "      <td>85.0</td>\n",
              "      <td>68</td>\n",
              "      <td>87.0</td>\n",
              "      <td>83.80</td>\n",
              "      <td>A</td>\n",
              "    </tr>\n",
              "    <tr>\n",
              "      <th>3</th>\n",
              "      <td>Kesha Rose</td>\n",
              "      <td>82</td>\n",
              "      <td>5.0</td>\n",
              "      <td>61</td>\n",
              "      <td>52.0</td>\n",
              "      <td>41.80</td>\n",
              "      <td>F</td>\n",
              "    </tr>\n",
              "    <tr>\n",
              "      <th>4</th>\n",
              "      <td>Bebe Rexha</td>\n",
              "      <td>51</td>\n",
              "      <td>75.0</td>\n",
              "      <td>52</td>\n",
              "      <td>47.0</td>\n",
              "      <td>56.30</td>\n",
              "      <td>D+</td>\n",
              "    </tr>\n",
              "    <tr>\n",
              "      <th>5</th>\n",
              "      <td>Mackled more</td>\n",
              "      <td>12</td>\n",
              "      <td>34.0</td>\n",
              "      <td>68</td>\n",
              "      <td>44.0</td>\n",
              "      <td>40.20</td>\n",
              "      <td>F</td>\n",
              "    </tr>\n",
              "  </tbody>\n",
              "</table>\n",
              "</div>"
            ],
            "text/plain": [
              "      Name-Surname  English  ...  Weighted Total  Grade\n",
              "0  Meechoke Kaedum       75  ...           78.25     B+\n",
              "1  Thanapon Rabbur       69  ...           86.35      A\n",
              "2        Lady Gaga       80  ...           83.80      A\n",
              "3       Kesha Rose       82  ...           41.80      F\n",
              "4       Bebe Rexha       51  ...           56.30     D+\n",
              "5     Mackled more       12  ...           40.20      F\n",
              "\n",
              "[6 rows x 7 columns]"
            ]
          },
          "metadata": {
            "tags": []
          },
          "execution_count": 75
        }
      ]
    },
    {
      "cell_type": "markdown",
      "metadata": {
        "id": "amDYzL3cuE6V"
      },
      "source": [
        "\r\n",
        "\r\n",
        "---\r\n",
        "\r\n"
      ]
    },
    {
      "cell_type": "code",
      "metadata": {
        "colab": {
          "base_uri": "https://localhost:8080/",
          "height": 537
        },
        "id": "6FCY7YFEuFrs",
        "outputId": "dbeacd0c-c4e9-44f1-bf2b-0590fab5bc3c"
      },
      "source": [
        "plt.figure(1)\r\n",
        "\r\n",
        "plt.plot(Dataframe_1.index,Dataframe_1['Weighted Total'])\r\n",
        "plt.xticks(rotation = 90)  #this used to rotate the x-parameter by 90 degrees\r\n",
        "plt.xlabel('Student number')\r\n",
        "plt.ylabel('Weighted Total')\r\n",
        "\r\n",
        "\r\n",
        "plt.figure(2)\r\n",
        "\r\n",
        "plt.plot(Dataframe_1.index,Dataframe_1['Grade'])\r\n",
        "plt.xlabel('Student number')\r\n",
        "plt.ylabel('Grade')\r\n",
        "plt.show()"
      ],
      "execution_count": null,
      "outputs": [
        {
          "output_type": "display_data",
          "data": {
            "image/png": "[encoded data removed]",
            "text/plain": [
              "<Figure size 432x288 with 1 Axes>"
            ]
          },
          "metadata": {
            "tags": [],
            "needs_background": "light"
          }
        },
        {
          "output_type": "display_data",
          "data": {
            "image/png": "[encoded data removed]",
            "text/plain": [
              "<Figure size 432x288 with 1 Axes>"
            ]
          },
          "metadata": {
            "tags": [],
            "needs_background": "light"
          }
        }
      ]
    },
    {
      "cell_type": "markdown",
      "metadata": {
        "id": "_CZGp_Lavv0k"
      },
      "source": [
        "\r\n",
        "\r\n",
        "---\r\n",
        "\r\n"
      ]
    },
    {
      "cell_type": "markdown",
      "metadata": {
        "id": "osIWtE7g3doA"
      },
      "source": [
        "<font size=\"6\"><font color='red'>Problem 15: </font></font>\r\n",
        "\r\n",
        "- Can you find the mode, mean, var, std, sum of 'weighted total'"
      ]
    },
    {
      "cell_type": "code",
      "metadata": {
        "colab": {
          "base_uri": "https://localhost:8080/"
        },
        "id": "w9GA0EHbvvJV",
        "outputId": "f174ba73-04bc-49da-9350-3ae9983f5a97"
      },
      "source": [
        "Dataframe_1[\"Weighted Total\"].mean()"
      ],
      "execution_count": null,
      "outputs": [
        {
          "output_type": "execute_result",
          "data": {
            "text/plain": [
              "64.45"
            ]
          },
          "metadata": {
            "tags": []
          },
          "execution_count": 98
        }
      ]
    },
    {
      "cell_type": "code",
      "metadata": {
        "colab": {
          "base_uri": "https://localhost:8080/"
        },
        "id": "THu1_HHV4NIe",
        "outputId": "12de5500-ec48-429a-de71-35ea52d8e6b8"
      },
      "source": [
        "Dataframe_1[\"Weighted Total\"].mode()\r\n",
        "\r\n",
        "# There is no mode, so it prints all data"
      ],
      "execution_count": null,
      "outputs": [
        {
          "output_type": "execute_result",
          "data": {
            "text/plain": [
              "0    40.20\n",
              "1    41.80\n",
              "2    56.30\n",
              "3    78.25\n",
              "4    83.80\n",
              "5    86.35\n",
              "dtype: float64"
            ]
          },
          "metadata": {
            "tags": []
          },
          "execution_count": 99
        }
      ]
    },
    {
      "cell_type": "code",
      "metadata": {
        "colab": {
          "base_uri": "https://localhost:8080/"
        },
        "id": "kkJ_oEbq4VDF",
        "outputId": "c935a2e9-3cfd-41e1-8851-d54d48894cb9"
      },
      "source": [
        "Dataframe_1[\"Weighted Total\"].var()"
      ],
      "execution_count": null,
      "outputs": [
        {
          "output_type": "execute_result",
          "data": {
            "text/plain": [
              "442.3959999999999"
            ]
          },
          "metadata": {
            "tags": []
          },
          "execution_count": 100
        }
      ]
    },
    {
      "cell_type": "code",
      "metadata": {
        "colab": {
          "base_uri": "https://localhost:8080/"
        },
        "id": "ne4Olmyc4dCe",
        "outputId": "2f568a75-8ea1-4e1a-d966-6495786244aa"
      },
      "source": [
        "Dataframe_1[\"Weighted Total\"].std()"
      ],
      "execution_count": null,
      "outputs": [
        {
          "output_type": "execute_result",
          "data": {
            "text/plain": [
              "21.033211832718273"
            ]
          },
          "metadata": {
            "tags": []
          },
          "execution_count": 101
        }
      ]
    },
    {
      "cell_type": "code",
      "metadata": {
        "colab": {
          "base_uri": "https://localhost:8080/"
        },
        "id": "_bvyszeH4hBd",
        "outputId": "91401c38-3fdd-41cd-c429-e83fb9cd9091"
      },
      "source": [
        "Dataframe_1[\"Weighted Total\"].sum()"
      ],
      "execution_count": null,
      "outputs": [
        {
          "output_type": "execute_result",
          "data": {
            "text/plain": [
              "386.7"
            ]
          },
          "metadata": {
            "tags": []
          },
          "execution_count": 102
        }
      ]
    },
    {
      "cell_type": "markdown",
      "metadata": {
        "id": "ulZIX8XR4tsz"
      },
      "source": [
        "\r\n",
        "\r\n",
        "---\r\n",
        "\r\n"
      ]
    },
    {
      "cell_type": "markdown",
      "metadata": {
        "id": "J1Tg_RtI4uNV"
      },
      "source": [
        "<font size=\"6\"><font color='red'>Problem 16: </font></font>\r\n",
        "\r\n",
        "- Can you sort descending the value based on the weight total column\r\n",
        "\r\n",
        "- Create new row named 'Sum' to compute all score\r\n",
        "\r\n",
        "![image.png](data:image/png;base64,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)"
      ]
    },
    {
      "cell_type": "code",
      "metadata": {
        "colab": {
          "base_uri": "https://localhost:8080/",
          "height": 227
        },
        "id": "H8ycgjVG5K7t",
        "outputId": "e8e58a07-53cb-481b-9cea-ed395f303d54"
      },
      "source": [
        "Dataframe_1.sort_values('Weighted Total', ascending=False)\r\n",
        "\r\n",
        "# Sort_index() is also used to asend the index from 0 to 5"
      ],
      "execution_count": null,
      "outputs": [
        {
          "output_type": "execute_result",
          "data": {
            "text/html": [
              "<div>\n",
              "<style scoped>\n",
              "    .dataframe tbody tr th:only-of-type {\n",
              "        vertical-align: middle;\n",
              "    }\n",
              "\n",
              "    .dataframe tbody tr th {\n",
              "        vertical-align: top;\n",
              "    }\n",
              "\n",
              "    .dataframe thead th {\n",
              "        text-align: right;\n",
              "    }\n",
              "</style>\n",
              "<table border=\"1\" class=\"dataframe\">\n",
              "  <thead>\n",
              "    <tr style=\"text-align: right;\">\n",
              "      <th></th>\n",
              "      <th>Name-Surname</th>\n",
              "      <th>English</th>\n",
              "      <th>Intro to Data sci</th>\n",
              "      <th>Science</th>\n",
              "      <th>Statistics + Math</th>\n",
              "      <th>Weighted Total</th>\n",
              "      <th>Grade</th>\n",
              "    </tr>\n",
              "  </thead>\n",
              "  <tbody>\n",
              "    <tr>\n",
              "      <th>1</th>\n",
              "      <td>Thanapon Rabbur</td>\n",
              "      <td>69</td>\n",
              "      <td>94.0</td>\n",
              "      <td>50</td>\n",
              "      <td>92.5</td>\n",
              "      <td>86.35</td>\n",
              "      <td>A</td>\n",
              "    </tr>\n",
              "    <tr>\n",
              "      <th>2</th>\n",
              "      <td>Lady Gaga</td>\n",
              "      <td>80</td>\n",
              "      <td>85.0</td>\n",
              "      <td>68</td>\n",
              "      <td>87.0</td>\n",
              "      <td>83.80</td>\n",
              "      <td>A</td>\n",
              "    </tr>\n",
              "    <tr>\n",
              "      <th>0</th>\n",
              "      <td>Meechoke Kaedum</td>\n",
              "      <td>75</td>\n",
              "      <td>80.0</td>\n",
              "      <td>70</td>\n",
              "      <td>79.5</td>\n",
              "      <td>78.25</td>\n",
              "      <td>B+</td>\n",
              "    </tr>\n",
              "    <tr>\n",
              "      <th>4</th>\n",
              "      <td>Bebe Rexha</td>\n",
              "      <td>51</td>\n",
              "      <td>75.0</td>\n",
              "      <td>52</td>\n",
              "      <td>47.0</td>\n",
              "      <td>56.30</td>\n",
              "      <td>D+</td>\n",
              "    </tr>\n",
              "    <tr>\n",
              "      <th>3</th>\n",
              "      <td>Kesha Rose</td>\n",
              "      <td>82</td>\n",
              "      <td>5.0</td>\n",
              "      <td>61</td>\n",
              "      <td>52.0</td>\n",
              "      <td>41.80</td>\n",
              "      <td>F</td>\n",
              "    </tr>\n",
              "    <tr>\n",
              "      <th>5</th>\n",
              "      <td>Mackled more</td>\n",
              "      <td>12</td>\n",
              "      <td>34.0</td>\n",
              "      <td>68</td>\n",
              "      <td>44.0</td>\n",
              "      <td>40.20</td>\n",
              "      <td>F</td>\n",
              "    </tr>\n",
              "  </tbody>\n",
              "</table>\n",
              "</div>"
            ],
            "text/plain": [
              "      Name-Surname  English  ...  Weighted Total  Grade\n",
              "1  Thanapon Rabbur       69  ...           86.35      A\n",
              "2        Lady Gaga       80  ...           83.80      A\n",
              "0  Meechoke Kaedum       75  ...           78.25     B+\n",
              "4       Bebe Rexha       51  ...           56.30     D+\n",
              "3       Kesha Rose       82  ...           41.80      F\n",
              "5     Mackled more       12  ...           40.20      F\n",
              "\n",
              "[6 rows x 7 columns]"
            ]
          },
          "metadata": {
            "tags": []
          },
          "execution_count": 103
        }
      ]
    },
    {
      "cell_type": "code",
      "metadata": {
        "id": "LylzPmx75Je2"
      },
      "source": [
        "Dataframe_1.loc[\"Sum\"] = Dataframe_1.sum()"
      ],
      "execution_count": null,
      "outputs": []
    },
    {
      "cell_type": "code",
      "metadata": {
        "colab": {
          "base_uri": "https://localhost:8080/",
          "height": 257
        },
        "id": "ytGwAnYy7Lj2",
        "outputId": "01929d86-cead-4a4d-c889-e7be68cfd74a"
      },
      "source": [
        "Dataframe_1"
      ],
      "execution_count": null,
      "outputs": [
        {
          "output_type": "execute_result",
          "data": {
            "text/html": [
              "<div>\n",
              "<style scoped>\n",
              "    .dataframe tbody tr th:only-of-type {\n",
              "        vertical-align: middle;\n",
              "    }\n",
              "\n",
              "    .dataframe tbody tr th {\n",
              "        vertical-align: top;\n",
              "    }\n",
              "\n",
              "    .dataframe thead th {\n",
              "        text-align: right;\n",
              "    }\n",
              "</style>\n",
              "<table border=\"1\" class=\"dataframe\">\n",
              "  <thead>\n",
              "    <tr style=\"text-align: right;\">\n",
              "      <th></th>\n",
              "      <th>Name-Surname</th>\n",
              "      <th>English</th>\n",
              "      <th>Intro to Data sci</th>\n",
              "      <th>Science</th>\n",
              "      <th>Statistics + Math</th>\n",
              "      <th>Weighted Total</th>\n",
              "      <th>Grade</th>\n",
              "    </tr>\n",
              "  </thead>\n",
              "  <tbody>\n",
              "    <tr>\n",
              "      <th>0</th>\n",
              "      <td>Meechoke Kaedum</td>\n",
              "      <td>75.0</td>\n",
              "      <td>80.0</td>\n",
              "      <td>70.0</td>\n",
              "      <td>79.5</td>\n",
              "      <td>78.25</td>\n",
              "      <td>B+</td>\n",
              "    </tr>\n",
              "    <tr>\n",
              "      <th>1</th>\n",
              "      <td>Thanapon Rabbur</td>\n",
              "      <td>69.0</td>\n",
              "      <td>94.0</td>\n",
              "      <td>50.0</td>\n",
              "      <td>92.5</td>\n",
              "      <td>86.35</td>\n",
              "      <td>A</td>\n",
              "    </tr>\n",
              "    <tr>\n",
              "      <th>2</th>\n",
              "      <td>Lady Gaga</td>\n",
              "      <td>80.0</td>\n",
              "      <td>85.0</td>\n",
              "      <td>68.0</td>\n",
              "      <td>87.0</td>\n",
              "      <td>83.80</td>\n",
              "      <td>A</td>\n",
              "    </tr>\n",
              "    <tr>\n",
              "      <th>3</th>\n",
              "      <td>Kesha Rose</td>\n",
              "      <td>82.0</td>\n",
              "      <td>5.0</td>\n",
              "      <td>61.0</td>\n",
              "      <td>52.0</td>\n",
              "      <td>41.80</td>\n",
              "      <td>F</td>\n",
              "    </tr>\n",
              "    <tr>\n",
              "      <th>4</th>\n",
              "      <td>Bebe Rexha</td>\n",
              "      <td>51.0</td>\n",
              "      <td>75.0</td>\n",
              "      <td>52.0</td>\n",
              "      <td>47.0</td>\n",
              "      <td>56.30</td>\n",
              "      <td>D+</td>\n",
              "    </tr>\n",
              "    <tr>\n",
              "      <th>5</th>\n",
              "      <td>Mackled more</td>\n",
              "      <td>12.0</td>\n",
              "      <td>34.0</td>\n",
              "      <td>68.0</td>\n",
              "      <td>44.0</td>\n",
              "      <td>40.20</td>\n",
              "      <td>F</td>\n",
              "    </tr>\n",
              "    <tr>\n",
              "      <th>Sum</th>\n",
              "      <td>Meechoke KaedumThanapon RabburLady GagaKesha R...</td>\n",
              "      <td>369.0</td>\n",
              "      <td>373.0</td>\n",
              "      <td>369.0</td>\n",
              "      <td>402.0</td>\n",
              "      <td>386.70</td>\n",
              "      <td>B+AAFD+F</td>\n",
              "    </tr>\n",
              "  </tbody>\n",
              "</table>\n",
              "</div>"
            ],
            "text/plain": [
              "                                          Name-Surname  ...     Grade\n",
              "0                                      Meechoke Kaedum  ...        B+\n",
              "1                                      Thanapon Rabbur  ...         A\n",
              "2                                            Lady Gaga  ...         A\n",
              "3                                           Kesha Rose  ...         F\n",
              "4                                           Bebe Rexha  ...        D+\n",
              "5                                         Mackled more  ...         F\n",
              "Sum  Meechoke KaedumThanapon RabburLady GagaKesha R...  ...  B+AAFD+F\n",
              "\n",
              "[7 rows x 7 columns]"
            ]
          },
          "metadata": {
            "tags": []
          },
          "execution_count": 113
        }
      ]
    },
    {
      "cell_type": "markdown",
      "metadata": {
        "id": "QqbSmG_4B3fw"
      },
      "source": [
        "\r\n",
        "\r\n",
        "---\r\n",
        "\r\n"
      ]
    },
    {
      "cell_type": "markdown",
      "metadata": {
        "id": "9jQwyZbaB4H5"
      },
      "source": [
        "## <u>**Storyline 2**</u>: Data Science company"
      ]
    },
    {
      "cell_type": "code",
      "metadata": {
        "id": "8Vmqn-2aB-GO"
      },
      "source": [
        ""
      ],
      "execution_count": null,
      "outputs": []
    }
  ]
}